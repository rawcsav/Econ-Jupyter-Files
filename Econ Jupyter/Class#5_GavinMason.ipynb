{
 "cells": [
  {
   "cell_type": "markdown",
   "id": "139a3ba9-eb9d-4faa-8a9d-31d980e9e23e",
   "metadata": {
    "tags": []
   },
   "source": [
    "# Question 1\n",
    "The dataset *ps2q1.dta* contains data on 177 chief executive officers and can be used to examine the effects of firm performance on CEO salary. \n",
    "\n",
    "\n",
    "* Estimate a model relating the CEO's annual salary, the dependent variable, to firm sales, the independent variable.  \n",
    "\n",
    "$$salary_i= \\alpha_0 + \\alpha_1sales_i + u_i$$\n",
    "\n",
    "What is your estimate of the intercept and the slope? Don't forget the units, which you can find using the \"describe\" command.  Interpret these estimates, providing an intuitive description that a person who has not taken econometrics can understand.  Does your result make economic sense?"
   ]
  },
  {
   "cell_type": "code",
   "execution_count": 9,
   "id": "04442459-df4b-44fd-98d1-007d7da05120",
   "metadata": {},
   "outputs": [],
   "source": [
    "# Import packages here \n",
    "#import wooldridge as woo\n",
    "import numpy as np \n",
    "import pandas as pd\n",
    "import matplotlib.pyplot as plt\n",
    "import seaborn as sns\n",
    "import statsmodels.formula.api as smf"
   ]
  },
  {
   "cell_type": "code",
   "execution_count": 11,
   "id": "d6c8c21b-a864-4444-b205-0a9096c430d0",
   "metadata": {},
   "outputs": [
    {
     "data": {
      "text/html": [
       "<table class=\"simpletable\">\n",
       "<caption>OLS Regression Results</caption>\n",
       "<tr>\n",
       "  <th>Dep. Variable:</th>         <td>salary</td>      <th>  R-squared:         </th> <td>   0.438</td>\n",
       "</tr>\n",
       "<tr>\n",
       "  <th>Model:</th>                   <td>OLS</td>       <th>  Adj. R-squared:    </th> <td>   0.435</td>\n",
       "</tr>\n",
       "<tr>\n",
       "  <th>Method:</th>             <td>Least Squares</td>  <th>  F-statistic:       </th> <td>   136.6</td>\n",
       "</tr>\n",
       "<tr>\n",
       "  <th>Date:</th>             <td>Fri, 23 Sep 2022</td> <th>  Prob (F-statistic):</th> <td>1.08e-23</td>\n",
       "</tr>\n",
       "<tr>\n",
       "  <th>Time:</th>                 <td>13:25:18</td>     <th>  Log-Likelihood:    </th> <td> -1456.2</td>\n",
       "</tr>\n",
       "<tr>\n",
       "  <th>No. Observations:</th>      <td>   177</td>      <th>  AIC:               </th> <td>   2916.</td>\n",
       "</tr>\n",
       "<tr>\n",
       "  <th>Df Residuals:</th>          <td>   175</td>      <th>  BIC:               </th> <td>   2923.</td>\n",
       "</tr>\n",
       "<tr>\n",
       "  <th>Df Model:</th>              <td>     1</td>      <th>                     </th>     <td> </td>   \n",
       "</tr>\n",
       "<tr>\n",
       "  <th>Covariance Type:</th>      <td>nonrobust</td>    <th>                     </th>     <td> </td>   \n",
       "</tr>\n",
       "</table>\n",
       "<table class=\"simpletable\">\n",
       "<tr>\n",
       "      <td></td>         <th>coef</th>     <th>std err</th>      <th>t</th>      <th>P>|t|</th>  <th>[0.025</th>    <th>0.975]</th>  \n",
       "</tr>\n",
       "<tr>\n",
       "  <th>Intercept</th> <td>  474.2893</td> <td>   79.154</td> <td>    5.992</td> <td> 0.000</td> <td>  318.071</td> <td>  630.508</td>\n",
       "</tr>\n",
       "<tr>\n",
       "  <th>sales</th>     <td>    0.1317</td> <td>    0.011</td> <td>   11.687</td> <td> 0.000</td> <td>    0.109</td> <td>    0.154</td>\n",
       "</tr>\n",
       "</table>\n",
       "<table class=\"simpletable\">\n",
       "<tr>\n",
       "  <th>Omnibus:</th>       <td>187.510</td> <th>  Durbin-Watson:     </th> <td>   2.086</td>\n",
       "</tr>\n",
       "<tr>\n",
       "  <th>Prob(Omnibus):</th> <td> 0.000</td>  <th>  Jarque-Bera (JB):  </th> <td>8601.497</td>\n",
       "</tr>\n",
       "<tr>\n",
       "  <th>Skew:</th>          <td> 3.774</td>  <th>  Prob(JB):          </th> <td>    0.00</td>\n",
       "</tr>\n",
       "<tr>\n",
       "  <th>Kurtosis:</th>      <td>36.307</td>  <th>  Cond. No.          </th> <td>8.12e+03</td>\n",
       "</tr>\n",
       "</table><br/><br/>Notes:<br/>[1] Standard Errors assume that the covariance matrix of the errors is correctly specified.<br/>[2] The condition number is large, 8.12e+03. This might indicate that there are<br/>strong multicollinearity or other numerical problems."
      ],
      "text/plain": [
       "<class 'statsmodels.iolib.summary.Summary'>\n",
       "\"\"\"\n",
       "                            OLS Regression Results                            \n",
       "==============================================================================\n",
       "Dep. Variable:                 salary   R-squared:                       0.438\n",
       "Model:                            OLS   Adj. R-squared:                  0.435\n",
       "Method:                 Least Squares   F-statistic:                     136.6\n",
       "Date:                Fri, 23 Sep 2022   Prob (F-statistic):           1.08e-23\n",
       "Time:                        13:25:18   Log-Likelihood:                -1456.2\n",
       "No. Observations:                 177   AIC:                             2916.\n",
       "Df Residuals:                     175   BIC:                             2923.\n",
       "Df Model:                           1                                         \n",
       "Covariance Type:            nonrobust                                         \n",
       "==============================================================================\n",
       "                 coef    std err          t      P>|t|      [0.025      0.975]\n",
       "------------------------------------------------------------------------------\n",
       "Intercept    474.2893     79.154      5.992      0.000     318.071     630.508\n",
       "sales          0.1317      0.011     11.687      0.000       0.109       0.154\n",
       "==============================================================================\n",
       "Omnibus:                      187.510   Durbin-Watson:                   2.086\n",
       "Prob(Omnibus):                  0.000   Jarque-Bera (JB):             8601.497\n",
       "Skew:                           3.774   Prob(JB):                         0.00\n",
       "Kurtosis:                      36.307   Cond. No.                     8.12e+03\n",
       "==============================================================================\n",
       "\n",
       "Notes:\n",
       "[1] Standard Errors assume that the covariance matrix of the errors is correctly specified.\n",
       "[2] The condition number is large, 8.12e+03. This might indicate that there are\n",
       "strong multicollinearity or other numerical problems.\n",
       "\"\"\""
      ]
     },
     "execution_count": 11,
     "metadata": {},
     "output_type": "execute_result"
    }
   ],
   "source": [
    "ps2q1 = pd.read_stata(\"/Users/gavinmason/Downloads/ps2q1.dta\")\n",
    "\n",
    "model1 = smf.ols(formula = \"salary ~ sales\", data=ps2q1).fit()\n",
    "model1.summary()"
   ]
  },
  {
   "cell_type": "code",
   "execution_count": 12,
   "id": "732a82bc",
   "metadata": {},
   "outputs": [
    {
     "data": {
      "text/plain": [
       "Intercept    474.289322\n",
       "sales          0.131721\n",
       "dtype: float64"
      ]
     },
     "execution_count": 12,
     "metadata": {},
     "output_type": "execute_result"
    }
   ],
   "source": [
    "model1.params"
   ]
  },
  {
   "cell_type": "code",
   "execution_count": 18,
   "id": "569fdb1d",
   "metadata": {},
   "outputs": [
    {
     "data": {
      "text/html": [
       "<div>\n",
       "<style scoped>\n",
       "    .dataframe tbody tr th:only-of-type {\n",
       "        vertical-align: middle;\n",
       "    }\n",
       "\n",
       "    .dataframe tbody tr th {\n",
       "        vertical-align: top;\n",
       "    }\n",
       "\n",
       "    .dataframe thead th {\n",
       "        text-align: right;\n",
       "    }\n",
       "</style>\n",
       "<table border=\"1\" class=\"dataframe\">\n",
       "  <thead>\n",
       "    <tr style=\"text-align: right;\">\n",
       "      <th></th>\n",
       "      <th>salary</th>\n",
       "      <th>sales</th>\n",
       "    </tr>\n",
       "  </thead>\n",
       "  <tbody>\n",
       "    <tr>\n",
       "      <th>count</th>\n",
       "      <td>177.000</td>\n",
       "      <td>177.000</td>\n",
       "    </tr>\n",
       "    <tr>\n",
       "      <th>mean</th>\n",
       "      <td>939.192</td>\n",
       "      <td>3529.463</td>\n",
       "    </tr>\n",
       "    <tr>\n",
       "      <th>std</th>\n",
       "      <td>1211.342</td>\n",
       "      <td>6088.654</td>\n",
       "    </tr>\n",
       "  </tbody>\n",
       "</table>\n",
       "</div>"
      ],
      "text/plain": [
       "         salary     sales\n",
       "count   177.000   177.000\n",
       "mean    939.192  3529.463\n",
       "std    1211.342  6088.654"
      ]
     },
     "execution_count": 18,
     "metadata": {},
     "output_type": "execute_result"
    }
   ],
   "source": [
    "round(ps2q1[[\"salary\", \"sales\"]].describe().loc[[\"count\",\"mean\",\"std\"]],3)"
   ]
  },
  {
   "cell_type": "code",
   "execution_count": 23,
   "id": "a1f62fdd",
   "metadata": {},
   "outputs": [
    {
     "data": {
      "image/png": "[encoded data removed]",
      "text/plain": [
       "<Figure size 864x576 with 1 Axes>"
      ]
     },
     "metadata": {
      "needs_background": "light"
     },
     "output_type": "display_data"
    }
   ],
   "source": [
    "ps2q1[\"model1yhat\"] = model1.predict()\n",
    "plt.rcParams[\"figure.figsize\"] = [12,8]\n",
    "sns.regplot(x=\"sales\",y=\"salary\",data=ps2q1, line_kws={\"color\":\"green\"}, ci=None);\n",
    "plt.legend([\"Sample Regression\", \"Population regression\",\"Data\"],loc=\"upper left\");"
   ]
  },
  {
   "cell_type": "markdown",
   "id": "ff1c10c6-a5f2-43b1-a454-89812256e5f0",
   "metadata": {},
   "source": [
    "* Calculate the mean of $salary$ and $sales$. Use these values to prove that the predicted regression line estimated in regression (1) goes through the means of $salary$ and $sales$. "
   ]
  },
  {
   "cell_type": "markdown",
   "id": "faa23edc-2b9b-4f24-b6d0-e1b7ab2d6340",
   "metadata": {},
   "source": [
    "It appears as sales increase the marginal change to CEO salaries is smaller than predicted by\n",
    "this OLS model. This may be the result of an outlier with \\\\$15,000,000 salary with \\\\$50,000 in\n",
    "sales.\n",
    "\n",
    "*  The data entry expert contacts you very concerned about the data they gave you. They realized there was a typo. Replace the value of salary to be 2500 if salary is equal to 15000. Estimate regression (1) with this change. Save the predicted values of salary (). Show a graph with the scatter plot of  salary and sales and the predicted regression line of question 1.1 and question 1.4. Discuss these results. "
   ]
  },
  {
   "cell_type": "code",
   "execution_count": 24,
   "id": "c6c2b688",
   "metadata": {},
   "outputs": [
    {
     "data": {
      "text/html": [
       "<table class=\"simpletable\">\n",
       "<caption>OLS Regression Results</caption>\n",
       "<tr>\n",
       "  <th>Dep. Variable:</th>         <td>salary</td>      <th>  R-squared:         </th> <td>   0.127</td>\n",
       "</tr>\n",
       "<tr>\n",
       "  <th>Model:</th>                   <td>OLS</td>       <th>  Adj. R-squared:    </th> <td>   0.122</td>\n",
       "</tr>\n",
       "<tr>\n",
       "  <th>Method:</th>             <td>Least Squares</td>  <th>  F-statistic:       </th> <td>   25.47</td>\n",
       "</tr>\n",
       "<tr>\n",
       "  <th>Date:</th>             <td>Fri, 23 Sep 2022</td> <th>  Prob (F-statistic):</th> <td>1.12e-06</td>\n",
       "</tr>\n",
       "<tr>\n",
       "  <th>Time:</th>                 <td>13:52:54</td>     <th>  Log-Likelihood:    </th> <td> -1369.1</td>\n",
       "</tr>\n",
       "<tr>\n",
       "  <th>No. Observations:</th>      <td>   177</td>      <th>  AIC:               </th> <td>   2742.</td>\n",
       "</tr>\n",
       "<tr>\n",
       "  <th>Df Residuals:</th>          <td>   175</td>      <th>  BIC:               </th> <td>   2749.</td>\n",
       "</tr>\n",
       "<tr>\n",
       "  <th>Df Model:</th>              <td>     1</td>      <th>                     </th>     <td> </td>   \n",
       "</tr>\n",
       "<tr>\n",
       "  <th>Covariance Type:</th>      <td>nonrobust</td>    <th>                     </th>     <td> </td>   \n",
       "</tr>\n",
       "</table>\n",
       "<table class=\"simpletable\">\n",
       "<tr>\n",
       "      <td></td>         <th>coef</th>     <th>std err</th>      <th>t</th>      <th>P>|t|</th>  <th>[0.025</th>    <th>0.975]</th>  \n",
       "</tr>\n",
       "<tr>\n",
       "  <th>Intercept</th> <td>  728.0573</td> <td>   50.254</td> <td>   14.488</td> <td> 0.000</td> <td>  628.875</td> <td>  827.239</td>\n",
       "</tr>\n",
       "<tr>\n",
       "  <th>sales</th>     <td>    0.0432</td> <td>    0.009</td> <td>    5.046</td> <td> 0.000</td> <td>    0.026</td> <td>    0.060</td>\n",
       "</tr>\n",
       "</table>\n",
       "<table class=\"simpletable\">\n",
       "<tr>\n",
       "  <th>Omnibus:</th>       <td>173.721</td> <th>  Durbin-Watson:     </th> <td>   2.130</td>\n",
       "</tr>\n",
       "<tr>\n",
       "  <th>Prob(Omnibus):</th> <td> 0.000</td>  <th>  Jarque-Bera (JB):  </th> <td>4423.232</td>\n",
       "</tr>\n",
       "<tr>\n",
       "  <th>Skew:</th>          <td> 3.594</td>  <th>  Prob(JB):          </th> <td>    0.00</td>\n",
       "</tr>\n",
       "<tr>\n",
       "  <th>Kurtosis:</th>      <td>26.411</td>  <th>  Cond. No.          </th> <td>7.05e+03</td>\n",
       "</tr>\n",
       "</table><br/><br/>Notes:<br/>[1] Standard Errors assume that the covariance matrix of the errors is correctly specified.<br/>[2] The condition number is large, 7.05e+03. This might indicate that there are<br/>strong multicollinearity or other numerical problems."
      ],
      "text/plain": [
       "<class 'statsmodels.iolib.summary.Summary'>\n",
       "\"\"\"\n",
       "                            OLS Regression Results                            \n",
       "==============================================================================\n",
       "Dep. Variable:                 salary   R-squared:                       0.127\n",
       "Model:                            OLS   Adj. R-squared:                  0.122\n",
       "Method:                 Least Squares   F-statistic:                     25.47\n",
       "Date:                Fri, 23 Sep 2022   Prob (F-statistic):           1.12e-06\n",
       "Time:                        13:52:54   Log-Likelihood:                -1369.1\n",
       "No. Observations:                 177   AIC:                             2742.\n",
       "Df Residuals:                     175   BIC:                             2749.\n",
       "Df Model:                           1                                         \n",
       "Covariance Type:            nonrobust                                         \n",
       "==============================================================================\n",
       "                 coef    std err          t      P>|t|      [0.025      0.975]\n",
       "------------------------------------------------------------------------------\n",
       "Intercept    728.0573     50.254     14.488      0.000     628.875     827.239\n",
       "sales          0.0432      0.009      5.046      0.000       0.026       0.060\n",
       "==============================================================================\n",
       "Omnibus:                      173.721   Durbin-Watson:                   2.130\n",
       "Prob(Omnibus):                  0.000   Jarque-Bera (JB):             4423.232\n",
       "Skew:                           3.594   Prob(JB):                         0.00\n",
       "Kurtosis:                      26.411   Cond. No.                     7.05e+03\n",
       "==============================================================================\n",
       "\n",
       "Notes:\n",
       "[1] Standard Errors assume that the covariance matrix of the errors is correctly specified.\n",
       "[2] The condition number is large, 7.05e+03. This might indicate that there are\n",
       "strong multicollinearity or other numerical problems.\n",
       "\"\"\""
      ]
     },
     "execution_count": 24,
     "metadata": {},
     "output_type": "execute_result"
    }
   ],
   "source": [
    "ps2q1.loc[ps2q1[\"salary\"]==15000]=2500\n",
    "model2 = smf.ols(formula = \"salary ~ sales\", data=ps2q1).fit()\n",
    "model2.summary()"
   ]
  },
  {
   "cell_type": "markdown",
   "id": "498d1d44-101a-4719-89e9-ae3f241e8db5",
   "metadata": {},
   "source": [
    "A colleague presented a histogram displaying the distribution of salary and argued that no one could draw any conclusions from a regression using this variable. He correctly points out that regression lines fit through data better when the data is spread across the range of the variable’s possible values. Your colleague wants to use the natural **log of salary**  and the natural **log ofsales** in the model as this function can help to spread out the values of salary and sales. Create the natural logarithm of salary, lnsalary, and the natural logarithm of sales, lnsales. Draw the histograms of salary, lnsalary, sales, and lnsales. Discuss whether you think your colleague’s method of spreading the data worked.\n",
    "Estimate the following model: \n",
    "\n",
    "$lnsalaryi=\\gamma_0+\\gamma_1lnsalesi+vi$"
   ]
  },
  {
   "cell_type": "code",
   "execution_count": 63,
   "id": "fabb41f8-4a16-4cc6-83f6-69703be8e8b1",
   "metadata": {},
   "outputs": [
    {
     "data": {
      "image/png": "[encoded data removed]",
      "text/plain": [
       "<Figure size 864x576 with 4 Axes>"
      ]
     },
     "metadata": {
      "needs_background": "light"
     },
     "output_type": "display_data"
    }
   ],
   "source": [
    "ps2q1[\"lnsales\"]=np.log(ps2q1.sales)\n",
    "ps2q1[\"lnsalary\"]=np.log(ps2q1.salary)\n",
    "\n",
    "\n",
    "\n",
    "#define grid of plots\n",
    "fig, axs = plt.subplots(nrows=2, ncols=2)\n",
    "\n",
    "#create histograms\n",
    "axs[0,0].hist(ps2q1[\"sales\"], edgecolor='gray');\n",
    "axs[0,1].hist(ps2q1[\"lnsales\"], edgecolor='gray', color=\"green\");\n",
    "#create histograms\n",
    "axs[1,0].hist(ps2q1[\"salary\"], edgecolor='gray');\n",
    "axs[1,1].hist(ps2q1[\"lnsalary\"], edgecolor='gray', color=\"green\");\n",
    "\n",
    "#add title to each histogram\n",
    "axs[0,0].set_title('Sales');\n",
    "axs[0,1].set_title('Log-Transformed Sales');\n",
    "\n",
    "#add title to each histogram\n",
    "axs[1,0].set_title('Salary');\n",
    "axs[1,1].set_title('Log-Transformed Salary');"
   ]
  },
  {
   "cell_type": "code",
   "execution_count": null,
   "id": "41178a76-014e-41df-8755-eb6671cab4a6",
   "metadata": {},
   "outputs": [],
   "source": []
  }
 ],
 "metadata": {
  "kernelspec": {
   "display_name": "Python 3 (ipykernel)",
   "language": "python",
   "name": "python3"
  },
  "language_info": {
   "codemirror_mode": {
    "name": "ipython",
    "version": 3
   },
   "file_extension": ".py",
   "mimetype": "text/x-python",
   "name": "python",
   "nbconvert_exporter": "python",
   "pygments_lexer": "ipython3",
   "version": "3.9.7"
  }
 },
 "nbformat": 4,
 "nbformat_minor": 5
}
