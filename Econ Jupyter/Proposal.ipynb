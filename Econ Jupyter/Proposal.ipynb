{
 "cells": [
  {
   "cell_type": "markdown",
   "id": "50e1de6d-5bea-4d98-8135-da9b4205ea44",
   "metadata": {
    "id": "bA5ajAmk7XH6"
   },
   "source": [
    "<h1 style=\"text-align: center;\" markdown=\"1\"> Car Features' Effects on Gas Mileage </h1>\n",
    "\n",
    "<h2 style=\"text-align: center;\" markdown=\"1\"> ECON320 Lab </h2>\n",
    "\n",
    "<h3 style=\"text-align: center;\" markdown=\"1\"> Jay Chen, Gavin Mason, Jessica Min, Hung Ngo </h3>"
   ]
  },
  {
   "cell_type": "markdown",
   "id": "6610e670-550c-4156-968d-430a220667c8",
   "metadata": {},
   "source": [
    "## Package Setup"
   ]
  },
  {
   "cell_type": "code",
   "execution_count": 2,
   "id": "6456472d-4698-4427-ab94-d62c6769825e",
   "metadata": {},
   "outputs": [],
   "source": [
    "#load packages\n",
    "import scipy.stats as stats\n",
    "from IPython.core.display import HTML\n",
    "import numpy as np \n",
    "import pandas as pd\n",
    "import matplotlib.pyplot as plt\n",
    "import seaborn as sns\n",
    "import statsmodels.formula.api as smf\n",
    "from scipy.optimize import minimize\n",
    "from datetime import datetime\n",
    "import plotly as plty\n",
    "from stargazer.stargazer import Stargazer"
   ]
  },
  {
   "cell_type": "markdown",
   "id": "34ec7c8b-2931-4a6a-a4cf-9b300df0312e",
   "metadata": {
    "tags": []
   },
   "source": [
    "## Table of Contents\n",
    "* [Introduction and Motivation](#anchor1)\n",
    "* [Data and Decriptive Statistics](#anchor2)\n",
    "* [Methodology and Empirical Model](#anchor3)\n",
    "* [References](#anchor4)"
   ]
  },
  {
   "cell_type": "markdown",
   "id": "316bfd5c-2622-46f2-9789-e9afa772451e",
   "metadata": {},
   "source": [
    "## Introduction and Motivation<a class=\"anchor\" id=\"anchor1\"></a>"
   ]
  },
  {
   "cell_type": "markdown",
   "id": "d8f48106-230e-463f-a872-421cc29d8982",
   "metadata": {},
   "source": [
    "### Research question: What specific production factors of a vehicle have the largest overall impact on the miles per gallon rate?"
   ]
  },
  {
   "cell_type": "markdown",
   "id": "5f27efb7-44cc-490c-816a-f2c45587537f",
   "metadata": {},
   "source": [
    "According to the Environmental Protection Agency (EPA), the tailpipe Carbon-Dioxide emissions exerted by the combustion of a single gallon of gasoline is measured at 8,887 grams of CO2/gallon. The total emissions of automobiles and trucks was recorded by the EPA as accounting for half of the emissions that serve as ozone precursors, VOCs and NOx, and up to 90% of total CO emissions in urban areas. Due to the fact that 95% of the world's transportation relies on the burning of fossil fuels, it’s no surprise that the transportation sector as a whole accounts for 14% of global CO2 emissions and 27% of US CO2 emissions. "
   ]
  },
  {
   "cell_type": "markdown",
   "id": "f09181da-e7eb-472f-8f4d-fbdb8279d4c4",
   "metadata": {},
   "source": [
    "Carbon Dioxide is relevant to measure as it plays the most important role out of all greenhouse gasses: an assortment of naturally occurring gaseous elements that rest in the atmosphere. These gasses serve an integral purpose through the “greenhouse effect”, a warming component of global temperatures as the gasses absorb heat radiated from the Earth’s surface and then redistribute it across all directions. Without Carbon Dioxide, Earth’s greenhouse effect would be too weak to maintain an average global temperature above freezing. However, increased atmospheric CO2 can have equally disastrous effects on the climate as a higher average global temperature directly equates to increased extinction rates, natural disasters, and decreased agricultural production. "
   ]
  },
  {
   "cell_type": "markdown",
   "id": "364005ff-c920-45c6-8e25-958f0b39dc72",
   "metadata": {},
   "source": [
    "![alternative text](graph1.jpg)"
   ]
  },
  {
   "cell_type": "markdown",
   "id": "5d398354-bfa9-4029-b80e-6c97ca2630bf",
   "metadata": {},
   "source": [
    "Signed in 2015 by 196 parties, the Paris Agreement aims to limit global warming through the reduction of overall greenhouse gas emissions with the hopes of reaching global peaking of emissions as soon as possible to achieve a climate neutral world by the mid 21st century. With the transportation industry being the second highest emitter of global CO2 emissions, and with cars and trucks accounting 75% of all transportation sector emissions, it's important to research what contributes the most to these emissions and what factors can limit them. To date, human caused emissions are responsible for increasing atmospheric CO2 density by 50%. "
   ]
  },
  {
   "cell_type": "markdown",
   "id": "750e7fd1-f2ef-4424-9b21-5fe4b05ef43b",
   "metadata": {},
   "source": [
    "Automobile mile per gallon (mpg) data serves as an excellent indicator for a specific car model’s effect on CO2 emissions, as a higher mpg vehicle will have lower emissions as it burns fossil fuels at lower rates. Our project aims to promote a cleaner and more stable climate as we will be analyzing what specific mechanical and contextual variables have the most pronounced effect on mpg rates. Determining what production factors play the largest roles in fuel-efficiency will give an indication as to the manner in which future vehicle manufacturing trends should head. "
   ]
  },
  {
   "cell_type": "markdown",
   "id": "3450fd78-bf7b-4ed9-82be-282396a38f34",
   "metadata": {},
   "source": [
    "![alternative text](graph2.jpg)"
   ]
  },
  {
   "cell_type": "markdown",
   "id": "e37b8407-1d48-4c94-994e-5ec6e7aff5a0",
   "metadata": {},
   "source": [
    "## Data and Descriptive Statistics<a class=\"anchor\" id=\"anchor2\"></a>"
   ]
  },
  {
   "cell_type": "markdown",
   "id": "9caeb8c5-7b56-45f9-be97-16ff45ceba68",
   "metadata": {},
   "source": [
    "We will be using a dataset sourced from University of California Irvine's Machine Learning Depository database. The dataset consists of 398 total observations, 8 variables, and one column of strings that are unique to each observation. Out of these 8 variables, the dependent variable will be vehicle city-cycle MPG, with 7 independent variables based on each car model: cylinders (multi-valued discrete), displacement (continuous), horsepower (continuous), weight in lbs (continuous), acceleration (continuous), model year in the 1900s (multi-valued discrete), and country of origin (multi-valued discrete). "
   ]
  },
  {
   "cell_type": "markdown",
   "id": "e182aebf-d443-4d72-8c7c-1c8eeed3a34c",
   "metadata": {},
   "source": [
    "The dataset consists only of a population of cars manufactured between 1970-1982. Ever since the EPA began a more intense surveillance of vehicular emissions, it's true that cars have seen a slight but steady decline in terms of their overall emissions.  However, this dataset will still hold as relevant to contemporary vehicles due to the nature of our research question. Since we are analyzing a research question of what mechanical or geographical components have the largest effect on a vehicle's city-cycle MPG, the fact that cars have shown trends towards increased efficiency is mostly irrelevant to our focus. "
   ]
  },
  {
   "cell_type": "code",
   "execution_count": 7,
   "id": "e8c141e4-a03b-4dcd-9740-ad0b7cb8965a",
   "metadata": {},
   "outputs": [
    {
     "name": "stdout",
     "output_type": "stream",
     "text": [
      "<class 'pandas.core.frame.DataFrame'>\n",
      "RangeIndex: 398 entries, 0 to 397\n",
      "Data columns (total 9 columns):\n",
      " #   Column        Non-Null Count  Dtype  \n",
      "---  ------        --------------  -----  \n",
      " 0   mpg           398 non-null    float64\n",
      " 1   cylinders     398 non-null    int64  \n",
      " 2   displacement  398 non-null    float64\n",
      " 3   horsepower    398 non-null    int64  \n",
      " 4   weight        398 non-null    int64  \n",
      " 5   acceleration  398 non-null    float64\n",
      " 6   modelyear     398 non-null    int64  \n",
      " 7   origin        398 non-null    int64  \n",
      " 8   name          398 non-null    object \n",
      "dtypes: float64(3), int64(5), object(1)\n",
      "memory usage: 28.1+ KB\n"
     ]
    }
   ],
   "source": [
    "# import data and load into DataFrame\n",
    "data = pd.read_excel('AutoDataClean.xlsx')\n",
    "# let's see if our the attributes of our data have their predicted type\n",
    "data.info()"
   ]
  },
  {
   "cell_type": "markdown",
   "id": "de223a51-dc4c-46dd-ac2f-09e04e3a0883",
   "metadata": {},
   "source": [
    "### Cleaning up the data -- \"origin\" and \"name\""
   ]
  },
  {
   "cell_type": "code",
   "execution_count": 8,
   "id": "3d9960bc-4590-4b97-9b3f-47cd9881c3f8",
   "metadata": {},
   "outputs": [
    {
     "data": {
      "application/com.datacamp.data-table.v1+json": {
       "table": {
        "data": [
         {
          "acceleration": 398,
          "cylinders": 398,
          "displacement": 398,
          "horsepower": 398,
          "index": "count",
          "modelyear": 398,
          "mpg": 398,
          "weight": 398
         },
         {
          "acceleration": 15.568,
          "cylinders": 5.455,
          "displacement": 193.426,
          "horsepower": 104.171,
          "index": "mean",
          "modelyear": 76.01,
          "mpg": 23.515,
          "weight": 2970.425
         },
         {
          "acceleration": 2.758,
          "cylinders": 1.701,
          "displacement": 104.27,
          "horsepower": 38.363,
          "index": "std",
          "modelyear": 3.698,
          "mpg": 7.816,
          "weight": 846.842
         },
         {
          "acceleration": 8,
          "cylinders": 3,
          "displacement": 68,
          "horsepower": 46,
          "index": "min",
          "modelyear": 70,
          "mpg": 9,
          "weight": 1613
         },
         {
          "acceleration": 13.825,
          "cylinders": 4,
          "displacement": 104.25,
          "horsepower": 75,
          "index": "25%",
          "modelyear": 73,
          "mpg": 17.5,
          "weight": 2223.75
         },
         {
          "acceleration": 15.5,
          "cylinders": 4,
          "displacement": 148.5,
          "horsepower": 92.5,
          "index": "50%",
          "modelyear": 76,
          "mpg": 23,
          "weight": 2803.5
         },
         {
          "acceleration": 17.175,
          "cylinders": 8,
          "displacement": 262,
          "horsepower": 125,
          "index": "75%",
          "modelyear": 79,
          "mpg": 29,
          "weight": 3608
         },
         {
          "acceleration": 24.8,
          "cylinders": 8,
          "displacement": 455,
          "horsepower": 230,
          "index": "max",
          "modelyear": 82,
          "mpg": 46.6,
          "weight": 5140
         }
        ],
        "schema": {
         "fields": [
          {
           "name": "index",
           "type": "string"
          },
          {
           "name": "mpg",
           "type": "number"
          },
          {
           "name": "cylinders",
           "type": "number"
          },
          {
           "name": "displacement",
           "type": "number"
          },
          {
           "name": "horsepower",
           "type": "number"
          },
          {
           "name": "weight",
           "type": "number"
          },
          {
           "name": "acceleration",
           "type": "number"
          },
          {
           "name": "modelyear",
           "type": "number"
          }
         ],
         "pandas_version": "1.4.0",
         "primaryKey": [
          "index"
         ]
        }
       },
       "total_rows": 8,
       "truncation_type": null
      },
      "text/html": [
       "<div>\n",
       "<style scoped>\n",
       "    .dataframe tbody tr th:only-of-type {\n",
       "        vertical-align: middle;\n",
       "    }\n",
       "\n",
       "    .dataframe tbody tr th {\n",
       "        vertical-align: top;\n",
       "    }\n",
       "\n",
       "    .dataframe thead th {\n",
       "        text-align: right;\n",
       "    }\n",
       "</style>\n",
       "<table border=\"1\" class=\"dataframe\">\n",
       "  <thead>\n",
       "    <tr style=\"text-align: right;\">\n",
       "      <th></th>\n",
       "      <th>mpg</th>\n",
       "      <th>cylinders</th>\n",
       "      <th>displacement</th>\n",
       "      <th>horsepower</th>\n",
       "      <th>weight</th>\n",
       "      <th>acceleration</th>\n",
       "      <th>modelyear</th>\n",
       "    </tr>\n",
       "  </thead>\n",
       "  <tbody>\n",
       "    <tr>\n",
       "      <th>count</th>\n",
       "      <td>398.000</td>\n",
       "      <td>398.000</td>\n",
       "      <td>398.000</td>\n",
       "      <td>398.000</td>\n",
       "      <td>398.000</td>\n",
       "      <td>398.000</td>\n",
       "      <td>398.000</td>\n",
       "    </tr>\n",
       "    <tr>\n",
       "      <th>mean</th>\n",
       "      <td>23.515</td>\n",
       "      <td>5.455</td>\n",
       "      <td>193.426</td>\n",
       "      <td>104.171</td>\n",
       "      <td>2970.425</td>\n",
       "      <td>15.568</td>\n",
       "      <td>76.010</td>\n",
       "    </tr>\n",
       "    <tr>\n",
       "      <th>std</th>\n",
       "      <td>7.816</td>\n",
       "      <td>1.701</td>\n",
       "      <td>104.270</td>\n",
       "      <td>38.363</td>\n",
       "      <td>846.842</td>\n",
       "      <td>2.758</td>\n",
       "      <td>3.698</td>\n",
       "    </tr>\n",
       "    <tr>\n",
       "      <th>min</th>\n",
       "      <td>9.000</td>\n",
       "      <td>3.000</td>\n",
       "      <td>68.000</td>\n",
       "      <td>46.000</td>\n",
       "      <td>1613.000</td>\n",
       "      <td>8.000</td>\n",
       "      <td>70.000</td>\n",
       "    </tr>\n",
       "    <tr>\n",
       "      <th>25%</th>\n",
       "      <td>17.500</td>\n",
       "      <td>4.000</td>\n",
       "      <td>104.250</td>\n",
       "      <td>75.000</td>\n",
       "      <td>2223.750</td>\n",
       "      <td>13.825</td>\n",
       "      <td>73.000</td>\n",
       "    </tr>\n",
       "    <tr>\n",
       "      <th>50%</th>\n",
       "      <td>23.000</td>\n",
       "      <td>4.000</td>\n",
       "      <td>148.500</td>\n",
       "      <td>92.500</td>\n",
       "      <td>2803.500</td>\n",
       "      <td>15.500</td>\n",
       "      <td>76.000</td>\n",
       "    </tr>\n",
       "    <tr>\n",
       "      <th>75%</th>\n",
       "      <td>29.000</td>\n",
       "      <td>8.000</td>\n",
       "      <td>262.000</td>\n",
       "      <td>125.000</td>\n",
       "      <td>3608.000</td>\n",
       "      <td>17.175</td>\n",
       "      <td>79.000</td>\n",
       "    </tr>\n",
       "    <tr>\n",
       "      <th>max</th>\n",
       "      <td>46.600</td>\n",
       "      <td>8.000</td>\n",
       "      <td>455.000</td>\n",
       "      <td>230.000</td>\n",
       "      <td>5140.000</td>\n",
       "      <td>24.800</td>\n",
       "      <td>82.000</td>\n",
       "    </tr>\n",
       "  </tbody>\n",
       "</table>\n",
       "</div>"
      ],
      "text/plain": [
       "           mpg  cylinders  displacement  horsepower    weight  acceleration  \\\n",
       "count  398.000    398.000       398.000     398.000   398.000       398.000   \n",
       "mean    23.515      5.455       193.426     104.171  2970.425        15.568   \n",
       "std      7.816      1.701       104.270      38.363   846.842         2.758   \n",
       "min      9.000      3.000        68.000      46.000  1613.000         8.000   \n",
       "25%     17.500      4.000       104.250      75.000  2223.750        13.825   \n",
       "50%     23.000      4.000       148.500      92.500  2803.500        15.500   \n",
       "75%     29.000      8.000       262.000     125.000  3608.000        17.175   \n",
       "max     46.600      8.000       455.000     230.000  5140.000        24.800   \n",
       "\n",
       "       modelyear  \n",
       "count    398.000  \n",
       "mean      76.010  \n",
       "std        3.698  \n",
       "min       70.000  \n",
       "25%       73.000  \n",
       "50%       76.000  \n",
       "75%       79.000  \n",
       "max       82.000  "
      ]
     },
     "execution_count": 8,
     "metadata": {},
     "output_type": "execute_result"
    }
   ],
   "source": [
    "# the car model is the only outlier, and we can truthfully drop it from our data as we are only concerned with the specific, quantitative variables\n",
    "data = data.drop('name',axis=1)\n",
    "# let's do the same with variable \"origin\" \n",
    "data = data.drop('origin',axis=1)\n",
    "# visualising summary statistics across measurable variables\n",
    "data.describe().round(3)"
   ]
  },
  {
   "cell_type": "code",
   "execution_count": 9,
   "id": "688ee0e0-9bc6-41e4-980c-6590c00139fc",
   "metadata": {},
   "outputs": [
    {
     "data": {
      "image/png": "[encoded data removed]",
      "text/plain": [
       "<Figure size 1200x700 with 9 Axes>"
      ]
     },
     "metadata": {},
     "output_type": "display_data"
    }
   ],
   "source": [
    "# let's better visualize the frequency of these attributes\n",
    "data.hist(figsize=(12,7),bins=20)\n",
    "plt.show()"
   ]
  },
  {
   "cell_type": "markdown",
   "id": "fc332231-df09-4d77-9936-4657de45c24a",
   "metadata": {},
   "source": [
    "## Methodology and Empirical Model<a class=\"anchor\" id=\"anchor3\"></a>"
   ]
  },
  {
   "cell_type": "markdown",
   "id": "b430f5f4-66e8-466e-8835-f90e2fc5e72d",
   "metadata": {},
   "source": [
    "Our population model is:\n",
    "$$\\begin{equation}\n",
    "mpg = b_0 + b_1*cy + b_2*dis + b_3*hor + b_4*we + b_5*acc + b_6*my + u\n",
    "\\end{equation}\n",
    "$$"
   ]
  },
  {
   "cell_type": "markdown",
   "id": "59d81f7b-c820-4aaa-93e1-a2691928f87d",
   "metadata": {},
   "source": [
    "Whereas our estimation model:\n",
    "$$\\begin{equation}\n",
    "mpg = \\widehat{b_0} + \\widehat{b_1}*cy + \\widehat{b_2}*dis + \\widehat{b_3}*hor + \\widehat{b_4}*we + \\widehat{b_5}*acc + \\widehat{b_6}*my\n",
    "\\end{equation}\n",
    "$$"
   ]
  },
  {
   "cell_type": "markdown",
   "id": "9ba65db5-8241-412d-a2e6-da97c29e22d9",
   "metadata": {},
   "source": [
    "Where \n",
    "mpg: miles per gallon,\n",
    " cy: cylinders,\n",
    " dis: displacement, \n",
    " hor: horsepower, \n",
    " we: weight, \n",
    " acc: acceleration, \n",
    " my: model year,\n"
   ]
  },
  {
   "cell_type": "markdown",
   "id": "9c90549e-2910-49a6-b73f-ba50cf3d8f26",
   "metadata": {},
   "source": [
    "To deal with the greenhouse effect, we want to have higher miles per gallon which will lessen the amount of emitted greenhouse gases. Through our model, we will explore what significantly impacts the miles per gallon (mpg) among our six independent variables. Thus, we can suggest alternatives to increase the value of mpg which, as a result, will slow down climate change globally. "
   ]
  },
  {
   "cell_type": "markdown",
   "id": "1ac2d94b-5107-4ed2-a978-8657d1f605d5",
   "metadata": {},
   "source": [
    "To measure the impact of each independent variable on the dependent variable, we will use the natural logarithm. We are curious about how a one percent change in each independent variable corresponds to the percent change in the dependent variable. From that result, we will know which independent variables affect mpg the most. "
   ]
  },
  {
   "cell_type": "markdown",
   "id": "4d7c9afa-ba7e-4463-ac5d-943ba5f23d26",
   "metadata": {},
   "source": [
    "$$\\begin{equation}\n",
    "ln(mpg) = \\widehat{b_0} + \\widehat{b_1}*ln(cy) + \\widehat{b_2}*ln(dis) + \\widehat{b_3}*ln(hor) + \\widehat{b_4}*ln(we) + \\widehat{b_5}*ln(acc) + \\widehat{b_6}*ln(my)\n",
    "\\end{equation}\n",
    "$$"
   ]
  },
  {
   "cell_type": "markdown",
   "id": "140febf9-92e7-4ae9-9adb-2f549cd1c51b",
   "metadata": {},
   "source": [
    "## References<a class=\"anchor\" id=\"anchor4\"></a>"
   ]
  },
  {
   "cell_type": "markdown",
   "id": "1dbff3d6-90ea-404b-a3dc-40a6f177df5d",
   "metadata": {},
   "source": [
    "https://www.epa.gov/ghgemissions/inventory-us-greenhouse-gas-emissions-and-sinks\n",
    "\n",
    "https://www.epa.gov/ghgemissions/sources-greenhouse-gas-emissions\n",
    "\n",
    "https://www.climate.gov/news-features/understanding-climate/climate-change-atmospheric-carbon-dioxide\n",
    "\n",
    "https://climate.nasa.gov/vital-signs/carbon-dioxide/"
   ]
  }
 ],
 "metadata": {
  "editor": "DataCamp Workspace",
  "kernelspec": {
   "display_name": "Python 3 (ipykernel)",
   "language": "python",
   "name": "python3"
  },
  "language_info": {
   "codemirror_mode": {
    "name": "ipython",
    "version": 3
   },
   "file_extension": ".py",
   "mimetype": "text/x-python",
   "name": "python",
   "nbconvert_exporter": "python",
   "pygments_lexer": "ipython3",
   "version": "3.9.7"
  }
 },
 "nbformat": 4,
 "nbformat_minor": 5
}
