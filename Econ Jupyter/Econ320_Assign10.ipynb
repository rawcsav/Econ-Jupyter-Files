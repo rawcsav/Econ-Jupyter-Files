{
 "cells": [
  {
   "cell_type": "code",
   "execution_count": 1,
   "id": "38f184ba",
   "metadata": {},
   "outputs": [],
   "source": [
    "# Script Name: Assignment 10\n",
    "# Purpose of script: Complete Assignment 10 for Econ 320\n",
    "# Author: Gavin Mason\n",
    "# Date Created: 11/29/2022\n",
    "# Notes:\n",
    "\n",
    "# Packages\n",
    "from scipy.stats import norm\n",
    "from scipy.stats import t\n",
    "import pandas as pd\n",
    "import scipy.stats as stats\n",
    "import numpy as np\n",
    "import seaborn as sns\n",
    "import matplotlib.pyplot as plt \n",
    "import wooldridge as woo\n",
    "import numpy as np\n",
    "import statsmodels.formula.api as smf\n",
    "from stargazer.stargazer import Stargazer\n",
    "from IPython.core.display import HTML"
   ]
  },
  {
   "cell_type": "code",
   "execution_count": 17,
   "id": "d59f4489",
   "metadata": {},
   "outputs": [],
   "source": [
    "birthday = 11212001\n",
    "rng = np.random.RandomState(int(birthday))\n",
    "n = 1000000\n",
    "b0 = 3\n",
    "b1 = 0\n",
    "b2 = 2\n",
    "a0 = 2\n",
    "a1=.8\n",
    "x1 = rng.normal(10,1**0.5,n)\n",
    "u = rng.normal(0,1**0.5,n)\n",
    "u1 = rng.normal(0,1**0.5,n)\n",
    "x2 = a0 + a1*x1 + u1\n",
    "y = b0 + b1*x1 + b2*x2 + u\n",
    "population_data = pd.DataFrame({'y':y, 'x1':x1, 'x2':x2, 'u':u, 'u1':u1})"
   ]
  },
  {
   "cell_type": "code",
   "execution_count": 18,
   "id": "53f254f9",
   "metadata": {},
   "outputs": [
    {
     "data": {
      "text/html": [
       "<table class=\"simpletable\">\n",
       "<caption>OLS Regression Results</caption>\n",
       "<tr>\n",
       "  <th>Dep. Variable:</th>            <td>y</td>        <th>  R-squared:         </th> <td>   0.866</td>\n",
       "</tr>\n",
       "<tr>\n",
       "  <th>Model:</th>                   <td>OLS</td>       <th>  Adj. R-squared:    </th> <td>   0.866</td>\n",
       "</tr>\n",
       "<tr>\n",
       "  <th>Method:</th>             <td>Least Squares</td>  <th>  F-statistic:       </th> <td>   3217.</td>\n",
       "</tr>\n",
       "<tr>\n",
       "  <th>Date:</th>             <td>Tue, 29 Nov 2022</td> <th>  Prob (F-statistic):</th>  <td>  0.00</td> \n",
       "</tr>\n",
       "<tr>\n",
       "  <th>Time:</th>                 <td>17:21:28</td>     <th>  Log-Likelihood:    </th> <td> -1429.4</td>\n",
       "</tr>\n",
       "<tr>\n",
       "  <th>No. Observations:</th>      <td>  1000</td>      <th>  AIC:               </th> <td>   2865.</td>\n",
       "</tr>\n",
       "<tr>\n",
       "  <th>Df Residuals:</th>          <td>   997</td>      <th>  BIC:               </th> <td>   2880.</td>\n",
       "</tr>\n",
       "<tr>\n",
       "  <th>Df Model:</th>              <td>     2</td>      <th>                     </th>     <td> </td>   \n",
       "</tr>\n",
       "<tr>\n",
       "  <th>Covariance Type:</th>      <td>nonrobust</td>    <th>                     </th>     <td> </td>   \n",
       "</tr>\n",
       "</table>\n",
       "<table class=\"simpletable\">\n",
       "<tr>\n",
       "      <td></td>         <th>coef</th>     <th>std err</th>      <th>t</th>      <th>P>|t|</th>  <th>[0.025</th>    <th>0.975]</th>  \n",
       "</tr>\n",
       "<tr>\n",
       "  <th>Intercept</th> <td>    3.1355</td> <td>    0.330</td> <td>    9.495</td> <td> 0.000</td> <td>    2.487</td> <td>    3.783</td>\n",
       "</tr>\n",
       "<tr>\n",
       "  <th>x1</th>        <td>   -0.0778</td> <td>    0.041</td> <td>   -1.886</td> <td> 0.060</td> <td>   -0.159</td> <td>    0.003</td>\n",
       "</tr>\n",
       "<tr>\n",
       "  <th>x2</th>        <td>    2.0647</td> <td>    0.032</td> <td>   63.679</td> <td> 0.000</td> <td>    2.001</td> <td>    2.128</td>\n",
       "</tr>\n",
       "</table>\n",
       "<table class=\"simpletable\">\n",
       "<tr>\n",
       "  <th>Omnibus:</th>       <td> 2.158</td> <th>  Durbin-Watson:     </th> <td>   1.931</td>\n",
       "</tr>\n",
       "<tr>\n",
       "  <th>Prob(Omnibus):</th> <td> 0.340</td> <th>  Jarque-Bera (JB):  </th> <td>   2.204</td>\n",
       "</tr>\n",
       "<tr>\n",
       "  <th>Skew:</th>          <td>-0.111</td> <th>  Prob(JB):          </th> <td>   0.332</td>\n",
       "</tr>\n",
       "<tr>\n",
       "  <th>Kurtosis:</th>      <td> 2.942</td> <th>  Cond. No.          </th> <td>    148.</td>\n",
       "</tr>\n",
       "</table><br/><br/>Notes:<br/>[1] Standard Errors assume that the covariance matrix of the errors is correctly specified."
      ],
      "text/plain": [
       "<class 'statsmodels.iolib.summary.Summary'>\n",
       "\"\"\"\n",
       "                            OLS Regression Results                            \n",
       "==============================================================================\n",
       "Dep. Variable:                      y   R-squared:                       0.866\n",
       "Model:                            OLS   Adj. R-squared:                  0.866\n",
       "Method:                 Least Squares   F-statistic:                     3217.\n",
       "Date:                Tue, 29 Nov 2022   Prob (F-statistic):               0.00\n",
       "Time:                        17:21:28   Log-Likelihood:                -1429.4\n",
       "No. Observations:                1000   AIC:                             2865.\n",
       "Df Residuals:                     997   BIC:                             2880.\n",
       "Df Model:                           2                                         \n",
       "Covariance Type:            nonrobust                                         \n",
       "==============================================================================\n",
       "                 coef    std err          t      P>|t|      [0.025      0.975]\n",
       "------------------------------------------------------------------------------\n",
       "Intercept      3.1355      0.330      9.495      0.000       2.487       3.783\n",
       "x1            -0.0778      0.041     -1.886      0.060      -0.159       0.003\n",
       "x2             2.0647      0.032     63.679      0.000       2.001       2.128\n",
       "==============================================================================\n",
       "Omnibus:                        2.158   Durbin-Watson:                   1.931\n",
       "Prob(Omnibus):                  0.340   Jarque-Bera (JB):                2.204\n",
       "Skew:                          -0.111   Prob(JB):                        0.332\n",
       "Kurtosis:                       2.942   Cond. No.                         148.\n",
       "==============================================================================\n",
       "\n",
       "Notes:\n",
       "[1] Standard Errors assume that the covariance matrix of the errors is correctly specified.\n",
       "\"\"\""
      ]
     },
     "execution_count": 18,
     "metadata": {},
     "output_type": "execute_result"
    }
   ],
   "source": [
    "sample_df = population_data.sample(n = 1000)\n",
    "reg = smf.ols(formula='y ~ x1 + x2', data = sample_df).fit()\n",
    "reg.summary()"
   ]
  },
  {
   "cell_type": "code",
   "execution_count": 23,
   "id": "d1a43cd7",
   "metadata": {},
   "outputs": [
    {
     "data": {
      "text/html": [
       "<div>\n",
       "<style scoped>\n",
       "    .dataframe tbody tr th:only-of-type {\n",
       "        vertical-align: middle;\n",
       "    }\n",
       "\n",
       "    .dataframe tbody tr th {\n",
       "        vertical-align: top;\n",
       "    }\n",
       "\n",
       "    .dataframe thead th {\n",
       "        text-align: right;\n",
       "    }\n",
       "</style>\n",
       "<table border=\"1\" class=\"dataframe\">\n",
       "  <thead>\n",
       "    <tr style=\"text-align: right;\">\n",
       "      <th></th>\n",
       "      <th>sample beta1</th>\n",
       "    </tr>\n",
       "  </thead>\n",
       "  <tbody>\n",
       "    <tr>\n",
       "      <th>208</th>\n",
       "      <td>-0.037324</td>\n",
       "    </tr>\n",
       "  </tbody>\n",
       "</table>\n",
       "</div>"
      ],
      "text/plain": [
       "     sample beta1\n",
       "208     -0.037324"
      ]
     },
     "execution_count": 23,
     "metadata": {},
     "output_type": "execute_result"
    }
   ],
   "source": [
    "#Sample_Beta1 = -0.037324\n",
    "b1r = []\n",
    "for i in range(1000):\n",
    "    sample_df = population_data.sample(n = 1000)\n",
    "    reg = smf.ols(formula='y ~ x1 + x2', data = sample_df).fit()\n",
    "    b1r.append(reg.params[1])\n",
    "b1_df = pd.DataFrame({'sample beta1' : b1r})\n",
    "b1_df.sample(1)"
   ]
  },
  {
   "cell_type": "code",
   "execution_count": 25,
   "id": "a1c88dfb",
   "metadata": {},
   "outputs": [
    {
     "data": {
      "text/html": [
       "<div>\n",
       "<style scoped>\n",
       "    .dataframe tbody tr th:only-of-type {\n",
       "        vertical-align: middle;\n",
       "    }\n",
       "\n",
       "    .dataframe tbody tr th {\n",
       "        vertical-align: top;\n",
       "    }\n",
       "\n",
       "    .dataframe thead th {\n",
       "        text-align: right;\n",
       "    }\n",
       "</style>\n",
       "<table border=\"1\" class=\"dataframe\">\n",
       "  <thead>\n",
       "    <tr style=\"text-align: right;\">\n",
       "      <th></th>\n",
       "      <th>0</th>\n",
       "      <th>1</th>\n",
       "    </tr>\n",
       "  </thead>\n",
       "  <tbody>\n",
       "    <tr>\n",
       "      <th>Intercept</th>\n",
       "      <td>2.591777</td>\n",
       "      <td>3.679123</td>\n",
       "    </tr>\n",
       "    <tr>\n",
       "      <th>x1</th>\n",
       "      <td>-0.145760</td>\n",
       "      <td>-0.009880</td>\n",
       "    </tr>\n",
       "    <tr>\n",
       "      <th>x2</th>\n",
       "      <td>2.011344</td>\n",
       "      <td>2.118108</td>\n",
       "    </tr>\n",
       "  </tbody>\n",
       "</table>\n",
       "</div>"
      ],
      "text/plain": [
       "                  0         1\n",
       "Intercept  2.591777  3.679123\n",
       "x1        -0.145760 -0.009880\n",
       "x2         2.011344  2.118108"
      ]
     },
     "execution_count": 25,
     "metadata": {},
     "output_type": "execute_result"
    }
   ],
   "source": [
    "reg.conf_int(alpha=0.1, cols=None)"
   ]
  },
  {
   "cell_type": "code",
   "execution_count": 24,
   "id": "a670ceb5",
   "metadata": {},
   "outputs": [
    {
     "name": "stdout",
     "output_type": "stream",
     "text": [
      "tstat: \n",
      "-1.885814902062806\n",
      "\n",
      "996.0\n",
      "pval: \n",
      "0.0596\n",
      "\n",
      "tstat1: \n",
      "-0.9044703225083577\n",
      "\n"
     ]
    }
   ],
   "source": [
    "#Fail to reject the null hypothesis that b1=0\n",
    "b = reg.params\n",
    "se = reg.bse\n",
    "tstat = b[1] / se[1]\n",
    "print(f'tstat: \\n{tstat}\\n')\n",
    "print(reg.nobs-3-1)\n",
    "pval = 2 * stats.t.cdf(-abs(tstat), 996)\n",
    "print(f'pval: \\n{np.around(pval,4)}\\n')\n",
    "tstat1 = -0.037324 / se[1]\n",
    "print(f'tstat1: \\n{tstat1}\\n')"
   ]
  },
  {
   "cell_type": "code",
   "execution_count": 26,
   "id": "66fa44dd",
   "metadata": {},
   "outputs": [],
   "source": [
    "birthday = 11212001\n",
    "rng = np.random.RandomState(int(birthday))\n",
    "n = 1000000\n",
    "b0 = 3\n",
    "b1 = 2\n",
    "b2 = 2\n",
    "a0 = 2\n",
    "a1=.8\n",
    "x1 = rng.normal(10,1**0.5,n)\n",
    "u = rng.normal(0,1**0.5,n)\n",
    "u1 = rng.normal(0,1**0.5,n)\n",
    "x2 = a0 + a1*x1 + u1\n",
    "y = b0 + b1*x1 + b2*x2 + u\n",
    "population_data = pd.DataFrame({'y':y, 'x1':x1, 'x2':x2, 'u':u, 'u1':u1})"
   ]
  },
  {
   "cell_type": "code",
   "execution_count": 40,
   "id": "7fa62175",
   "metadata": {},
   "outputs": [
    {
     "data": {
      "text/plain": [
       "0.27175690440128564"
      ]
     },
     "execution_count": 40,
     "metadata": {},
     "output_type": "execute_result"
    }
   ],
   "source": [
    "b10 = []\n",
    "for i in range(1000):\n",
    "    sample_df = population_data.sample(n = 10)\n",
    "    reg = smf.ols(formula='y ~ x1 + x2', data = sample_df).fit()\n",
    "    b10.append(reg.params[1])\n"
   ]
  },
  {
   "cell_type": "code",
   "execution_count": 41,
   "id": "c65c4c62",
   "metadata": {},
   "outputs": [
    {
     "data": {
      "text/plain": [
       "0.018387263629784188"
      ]
     },
     "execution_count": 41,
     "metadata": {},
     "output_type": "execute_result"
    }
   ],
   "source": [
    "b100 = []\n",
    "\n",
    "for i in range(1000):\n",
    "    sample_df = population_data.sample(n = 100)\n",
    "    reg = smf.ols(formula='y ~ x1 + x2', data = sample_df).fit()\n",
    "    b100.append(reg.params[1])\n",
    "np.var(b100)"
   ]
  },
  {
   "cell_type": "code",
   "execution_count": 42,
   "id": "5e1f861e",
   "metadata": {},
   "outputs": [
    {
     "data": {
      "text/plain": [
       "0.0016280994013965298"
      ]
     },
     "execution_count": 42,
     "metadata": {},
     "output_type": "execute_result"
    }
   ],
   "source": [
    "b1000 = []\n",
    "\n",
    "for i in range(1000):\n",
    "    sample_df = population_data.sample(n = 1000)\n",
    "    reg = smf.ols(formula='y ~ x1 + x2', data = sample_df).fit()\n",
    "    b1000.append(reg.params[1])\n",
    "np.var(b1000)"
   ]
  },
  {
   "cell_type": "code",
   "execution_count": 43,
   "id": "16a6fd4e",
   "metadata": {},
   "outputs": [
    {
     "data": {
      "text/plain": [
       "0.00015783902138488204"
      ]
     },
     "execution_count": 43,
     "metadata": {},
     "output_type": "execute_result"
    }
   ],
   "source": [
    "b10000 = []\n",
    "for i in range(1000):\n",
    "    sample_df = population_data.sample(n = 10000)\n",
    "    reg = smf.ols(formula='y ~ x1 + x2', data = sample_df).fit()\n",
    "    b10000.append(reg.params[1])\n",
    "np.var(b10000)"
   ]
  },
  {
   "cell_type": "code",
   "execution_count": 48,
   "id": "e5065a8d",
   "metadata": {},
   "outputs": [
    {
     "data": {
      "text/plain": [
       "<AxesSubplot:ylabel='Frequency'>"
      ]
     },
     "execution_count": 48,
     "metadata": {},
     "output_type": "execute_result"
    },
    {
     "data": {
      "image/png": "[encoded data removed]",
      "text/plain": [
       "<Figure size 432x288 with 1 Axes>"
      ]
     },
     "metadata": {
      "needs_background": "light"
     },
     "output_type": "display_data"
    }
   ],
   "source": [
    "b1_df = pd.DataFrame({'10x sample beta1' : b10,\n",
    "                     '100x sample beta1' : b100,\n",
    "                     '1000x sample beta1' : b1000,\n",
    "                     '10000x sample beta1' : b10000})\n",
    "b1p = b1_df.plot.hist(bins=10, alpha=.5)\n",
    "b1p"
   ]
  },
  {
   "cell_type": "code",
   "execution_count": 59,
   "id": "7703ee79",
   "metadata": {},
   "outputs": [
    {
     "data": {
      "text/html": [
       "<div>\n",
       "<style scoped>\n",
       "    .dataframe tbody tr th:only-of-type {\n",
       "        vertical-align: middle;\n",
       "    }\n",
       "\n",
       "    .dataframe tbody tr th {\n",
       "        vertical-align: top;\n",
       "    }\n",
       "\n",
       "    .dataframe thead th {\n",
       "        text-align: right;\n",
       "    }\n",
       "</style>\n",
       "<table border=\"1\" class=\"dataframe\">\n",
       "  <thead>\n",
       "    <tr style=\"text-align: right;\">\n",
       "      <th></th>\n",
       "      <th>Sample Size</th>\n",
       "      <th>Empirical Variance of Sample Beta1</th>\n",
       "    </tr>\n",
       "  </thead>\n",
       "  <tbody>\n",
       "    <tr>\n",
       "      <th>0</th>\n",
       "      <td>10</td>\n",
       "      <td>0.271757</td>\n",
       "    </tr>\n",
       "    <tr>\n",
       "      <th>1</th>\n",
       "      <td>100</td>\n",
       "      <td>0.018387</td>\n",
       "    </tr>\n",
       "    <tr>\n",
       "      <th>2</th>\n",
       "      <td>1000</td>\n",
       "      <td>0.001628</td>\n",
       "    </tr>\n",
       "    <tr>\n",
       "      <th>3</th>\n",
       "      <td>10000</td>\n",
       "      <td>0.000158</td>\n",
       "    </tr>\n",
       "  </tbody>\n",
       "</table>\n",
       "</div>"
      ],
      "text/plain": [
       "   Sample Size  Empirical Variance of Sample Beta1\n",
       "0           10                            0.271757\n",
       "1          100                            0.018387\n",
       "2         1000                            0.001628\n",
       "3        10000                            0.000158"
      ]
     },
     "execution_count": 59,
     "metadata": {},
     "output_type": "execute_result"
    }
   ],
   "source": [
    "b1_df1 = [10, 100, 1000, 10000]\n",
    "b1df11 = [np.var(b10), np.var(b100), np.var(b1000), np.var(b10000)]\n",
    "b1_df12 = pd.DataFrame({'Sample Size': b1_df1,\n",
    "                       'Empirical Variance of Sample Beta1' : b1df11})\n",
    "b1_df12.head()"
   ]
  },
  {
   "cell_type": "code",
   "execution_count": 63,
   "id": "5061899d",
   "metadata": {},
   "outputs": [
    {
     "data": {
      "text/plain": [
       "<AxesSubplot:xlabel='Sample Size', ylabel='Empirical Variance of Sample Beta1'>"
      ]
     },
     "execution_count": 63,
     "metadata": {},
     "output_type": "execute_result"
    },
    {
     "data": {
      "image/png": "[encoded data removed]",
      "text/plain": [
       "<Figure size 432x288 with 1 Axes>"
      ]
     },
     "metadata": {},
     "output_type": "display_data"
    }
   ],
   "source": [
    "sns.set_theme(style=\"whitegrid\")\n",
    "sns.scatterplot(x=\"Sample Size\", y=\"Empirical Variance of Sample Beta1\", data=b1_df12)"
   ]
  },
  {
   "cell_type": "code",
   "execution_count": null,
   "id": "29a1f3da",
   "metadata": {},
   "outputs": [],
   "source": []
  }
 ],
 "metadata": {
  "kernelspec": {
   "display_name": "Python 3 (ipykernel)",
   "language": "python",
   "name": "python3"
  },
  "language_info": {
   "codemirror_mode": {
    "name": "ipython",
    "version": 3
   },
   "file_extension": ".py",
   "mimetype": "text/x-python",
   "name": "python",
   "nbconvert_exporter": "python",
   "pygments_lexer": "ipython3",
   "version": "3.9.7"
  }
 },
 "nbformat": 4,
 "nbformat_minor": 5
}
