{
 "cells": [
  {
   "cell_type": "code",
   "execution_count": 24,
   "id": "4ace03cf",
   "metadata": {},
   "outputs": [],
   "source": [
    "# Script Name: Assignment 5 \n",
    "# Purpose of script: Complete Assignment 5 for Econ 320\n",
    "# Author: Gavin Mason\n",
    "# Date Created: 9/23/2022\n",
    "# Notes:\n",
    "\n",
    "# Packages\n",
    "import wooldridge as woo\n",
    "import numpy as np \n",
    "import pandas as pd\n",
    "import matplotlib.pyplot as plt\n",
    "import seaborn as sns\n",
    "import statsmodels.formula.api as smf\n",
    "import statsmodels.api as sm\n",
    "from scipy.optimize import minimize\n",
    "import math"
   ]
  },
  {
   "cell_type": "code",
   "execution_count": 25,
   "id": "f3fd5240",
   "metadata": {},
   "outputs": [],
   "source": [
    "birthday = 11212001\n",
    "np.random.seed(123)\n",
    "x = np.random.normal(10,1,10000)\n",
    "u = np.random.normal(0,1,10000)\n",
    "y = 3+(2*x)+u\n",
    "data = {\"x\": x, \"u\": u, \"y\": y}\n",
    "data = pd.DataFrame(data)\n",
    "sample=data.sample(1000, replace = False)\n",
    "datas = pd.DataFrame(sample)"
   ]
  },
  {
   "cell_type": "code",
   "execution_count": 26,
   "id": "c33a1b08",
   "metadata": {},
   "outputs": [],
   "source": [
    "model1 = smf.ols(formula = \"y ~ x\", data=data).fit()\n",
    "model2 = smf.ols(formula = \"y ~ x\", data=datas).fit()"
   ]
  },
  {
   "cell_type": "code",
   "execution_count": 28,
   "id": "482732c7",
   "metadata": {},
   "outputs": [
    {
     "data": {
      "text/plain": [
       "Intercept    2.955424\n",
       "x            2.005490\n",
       "dtype: float64"
      ]
     },
     "execution_count": 28,
     "metadata": {},
     "output_type": "execute_result"
    }
   ],
   "source": [
    "#Population Coefficient Values\n",
    "model1.params"
   ]
  },
  {
   "cell_type": "code",
   "execution_count": 29,
   "id": "8751646e",
   "metadata": {},
   "outputs": [
    {
     "data": {
      "text/plain": [
       "Intercept    2.768667\n",
       "x            2.022942\n",
       "dtype: float64"
      ]
     },
     "execution_count": 29,
     "metadata": {},
     "output_type": "execute_result"
    }
   ],
   "source": [
    "#Population Sample Coefficient Values -- Different due to smaller sample size causing less refined data\n",
    "model2.params"
   ]
  },
  {
   "cell_type": "code",
   "execution_count": 33,
   "id": "ab721bb4",
   "metadata": {},
   "outputs": [
    {
     "data": {
      "text/plain": [
       "<bound method NDFrame.head of              x1        x2         u          y\n",
       "0     11.251862  1.065659 -0.673959  26.394072\n",
       "1      9.212736 -1.395302 -0.250020  18.321921\n",
       "2      9.848141  2.512246 -1.457134  26.871826\n",
       "3      9.023394 -0.037560 -0.721441  23.349621\n",
       "4     11.773379  3.022947  1.113562  33.250153\n",
       "...         ...       ...       ...        ...\n",
       "9995  10.481600  2.638405  1.686111  28.292755\n",
       "9996   8.593148 -1.029229 -0.263964  17.869226\n",
       "9997   8.718161 -2.137919  1.199087  14.757646\n",
       "9998   8.267288  1.792780 -0.811121  24.164676\n",
       "9999  10.923760  0.514869 -0.248411  26.246539\n",
       "\n",
       "[10000 rows x 4 columns]>"
      ]
     },
     "execution_count": 33,
     "metadata": {},
     "output_type": "execute_result"
    }
   ],
   "source": [
    "#Multiple Regression DGP\n",
    "x1 = np.random.normal(10,1,10000)\n",
    "x2 = np.random.normal(1,2,10000)\n",
    "u1 = np.random.normal(0,1,10000)\n",
    "y1 = 3+(2*x1)+(2*x2)+u\n",
    "data1 = {\"x1\": x1, \"x2\" : x2, \"u\": u1, \"y\": y1}\n",
    "datas1 = pd.DataFrame(data1)\n",
    "datas1.head"
   ]
  },
  {
   "cell_type": "code",
   "execution_count": null,
   "id": "cb10ccc6",
   "metadata": {},
   "outputs": [],
   "source": []
  }
 ],
 "metadata": {
  "kernelspec": {
   "display_name": "Python 3 (ipykernel)",
   "language": "python",
   "name": "python3"
  },
  "language_info": {
   "codemirror_mode": {
    "name": "ipython",
    "version": 3
   },
   "file_extension": ".py",
   "mimetype": "text/x-python",
   "name": "python",
   "nbconvert_exporter": "python",
   "pygments_lexer": "ipython3",
   "version": "3.9.7"
  }
 },
 "nbformat": 4,
 "nbformat_minor": 5
}
