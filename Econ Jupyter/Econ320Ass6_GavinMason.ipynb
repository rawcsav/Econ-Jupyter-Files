{
 "cells": [
  {
   "cell_type": "code",
   "execution_count": 1,
   "id": "356e72f8",
   "metadata": {},
   "outputs": [],
   "source": [
    "# Script Name: Assignment 6 \n",
    "# Purpose of script: Complete Assignment 6 for Econ 320\n",
    "# Author: Gavin Mason\n",
    "# Date Created: 10/2/2022\n",
    "# Notes:\n",
    "\n",
    "# Packages\n",
    "import wooldridge as woo\n",
    "import numpy as np \n",
    "import pandas as pd\n",
    "import matplotlib.pyplot as plt\n",
    "import seaborn as sns\n",
    "import statsmodels.formula.api as smf\n",
    "import statsmodels.api as sm\n",
    "from scipy.optimize import minimize\n",
    "import math"
   ]
  },
  {
   "cell_type": "code",
   "execution_count": 18,
   "id": "5786c7b2",
   "metadata": {},
   "outputs": [],
   "source": [
    "#Data Generating Process\n",
    "birthday = 11212001\n",
    "rng = np.random.RandomState(int(11212001))\n",
    "beta0=3\n",
    "beta1=2\n",
    "beta2=2\n",
    "u = rng.normal(loc = 0, scale= 1**0.5, size = 1000000)\n",
    "x1 = rng.normal(loc = 10, scale= 1**0.5, size = 1000000)\n",
    "x2 = rng.normal(loc = 1, scale= 2**0.5, size = 1000000)\n",
    "y = beta0 + beta1 * x1 + beta2 * x2 + u\n",
    "popdata_reg = pd.DataFrame({'y' : y, 'x1' : x1, 'x2': x2, 'u':u })\n",
    "sample_df = popdata_reg.sample(n=1000, random_state=int(11212001))"
   ]
  },
  {
   "cell_type": "code",
   "execution_count": 19,
   "id": "c2ace64f",
   "metadata": {},
   "outputs": [
    {
     "data": {
      "text/html": [
       "<table class=\"simpletable\">\n",
       "<caption>OLS Regression Results</caption>\n",
       "<tr>\n",
       "  <th>Dep. Variable:</th>            <td>y</td>        <th>  R-squared:         </th> <td>   0.931</td>\n",
       "</tr>\n",
       "<tr>\n",
       "  <th>Model:</th>                   <td>OLS</td>       <th>  Adj. R-squared:    </th> <td>   0.931</td>\n",
       "</tr>\n",
       "<tr>\n",
       "  <th>Method:</th>             <td>Least Squares</td>  <th>  F-statistic:       </th> <td>   6762.</td>\n",
       "</tr>\n",
       "<tr>\n",
       "  <th>Date:</th>             <td>Sun, 02 Oct 2022</td> <th>  Prob (F-statistic):</th>  <td>  0.00</td> \n",
       "</tr>\n",
       "<tr>\n",
       "  <th>Time:</th>                 <td>15:01:28</td>     <th>  Log-Likelihood:    </th> <td> -1398.9</td>\n",
       "</tr>\n",
       "<tr>\n",
       "  <th>No. Observations:</th>      <td>  1000</td>      <th>  AIC:               </th> <td>   2804.</td>\n",
       "</tr>\n",
       "<tr>\n",
       "  <th>Df Residuals:</th>          <td>   997</td>      <th>  BIC:               </th> <td>   2818.</td>\n",
       "</tr>\n",
       "<tr>\n",
       "  <th>Df Model:</th>              <td>     2</td>      <th>                     </th>     <td> </td>   \n",
       "</tr>\n",
       "<tr>\n",
       "  <th>Covariance Type:</th>      <td>nonrobust</td>    <th>                     </th>     <td> </td>   \n",
       "</tr>\n",
       "</table>\n",
       "<table class=\"simpletable\">\n",
       "<tr>\n",
       "      <td></td>         <th>coef</th>     <th>std err</th>      <th>t</th>      <th>P>|t|</th>  <th>[0.025</th>    <th>0.975]</th>  \n",
       "</tr>\n",
       "<tr>\n",
       "  <th>Intercept</th> <td>    2.8021</td> <td>    0.304</td> <td>    9.229</td> <td> 0.000</td> <td>    2.206</td> <td>    3.398</td>\n",
       "</tr>\n",
       "<tr>\n",
       "  <th>x1</th>        <td>    2.0174</td> <td>    0.030</td> <td>   66.973</td> <td> 0.000</td> <td>    1.958</td> <td>    2.076</td>\n",
       "</tr>\n",
       "<tr>\n",
       "  <th>x2</th>        <td>    2.0306</td> <td>    0.021</td> <td>   94.816</td> <td> 0.000</td> <td>    1.989</td> <td>    2.073</td>\n",
       "</tr>\n",
       "</table>\n",
       "<table class=\"simpletable\">\n",
       "<tr>\n",
       "  <th>Omnibus:</th>       <td> 0.289</td> <th>  Durbin-Watson:     </th> <td>   1.902</td>\n",
       "</tr>\n",
       "<tr>\n",
       "  <th>Prob(Omnibus):</th> <td> 0.865</td> <th>  Jarque-Bera (JB):  </th> <td>   0.197</td>\n",
       "</tr>\n",
       "<tr>\n",
       "  <th>Skew:</th>          <td>-0.019</td> <th>  Prob(JB):          </th> <td>   0.906</td>\n",
       "</tr>\n",
       "<tr>\n",
       "  <th>Kurtosis:</th>      <td> 3.057</td> <th>  Cond. No.          </th> <td>    99.8</td>\n",
       "</tr>\n",
       "</table><br/><br/>Notes:<br/>[1] Standard Errors assume that the covariance matrix of the errors is correctly specified."
      ],
      "text/plain": [
       "<class 'statsmodels.iolib.summary.Summary'>\n",
       "\"\"\"\n",
       "                            OLS Regression Results                            \n",
       "==============================================================================\n",
       "Dep. Variable:                      y   R-squared:                       0.931\n",
       "Model:                            OLS   Adj. R-squared:                  0.931\n",
       "Method:                 Least Squares   F-statistic:                     6762.\n",
       "Date:                Sun, 02 Oct 2022   Prob (F-statistic):               0.00\n",
       "Time:                        15:01:28   Log-Likelihood:                -1398.9\n",
       "No. Observations:                1000   AIC:                             2804.\n",
       "Df Residuals:                     997   BIC:                             2818.\n",
       "Df Model:                           2                                         \n",
       "Covariance Type:            nonrobust                                         \n",
       "==============================================================================\n",
       "                 coef    std err          t      P>|t|      [0.025      0.975]\n",
       "------------------------------------------------------------------------------\n",
       "Intercept      2.8021      0.304      9.229      0.000       2.206       3.398\n",
       "x1             2.0174      0.030     66.973      0.000       1.958       2.076\n",
       "x2             2.0306      0.021     94.816      0.000       1.989       2.073\n",
       "==============================================================================\n",
       "Omnibus:                        0.289   Durbin-Watson:                   1.902\n",
       "Prob(Omnibus):                  0.865   Jarque-Bera (JB):                0.197\n",
       "Skew:                          -0.019   Prob(JB):                        0.906\n",
       "Kurtosis:                       3.057   Cond. No.                         99.8\n",
       "==============================================================================\n",
       "\n",
       "Notes:\n",
       "[1] Standard Errors assume that the covariance matrix of the errors is correctly specified.\n",
       "\"\"\""
      ]
     },
     "execution_count": 19,
     "metadata": {},
     "output_type": "execute_result"
    }
   ],
   "source": [
    "#Linear Model\n",
    "mod = smf.ols(formula='y ~ x1 + x2', data=sample_df)\n",
    "res = mod.fit()\n",
    "res.summary()"
   ]
  },
  {
   "cell_type": "code",
   "execution_count": 20,
   "id": "7d6e7950",
   "metadata": {},
   "outputs": [],
   "source": [
    "#Regression of x2 on x1\n",
    "mod12 = smf.ols(formula='x1 ~ x2', data=sample_df)\n",
    "res12 = mod12.fit()\n",
    "x1x2_beta1 = res12.params[1]\n",
    "x1x2_beta0 = res12.params[0]\n",
    "sample_df['x1_hat'] = res12.predict()\n",
    "sample_df['x1_resid'] = sample_df['x1'] - sample_df['x1_hat']"
   ]
  },
  {
   "cell_type": "code",
   "execution_count": 21,
   "id": "b908b57e",
   "metadata": {},
   "outputs": [
    {
     "data": {
      "text/plain": [
       "Intercept    25.10\n",
       "x1_resid      2.02\n",
       "dtype: float64"
      ]
     },
     "execution_count": 21,
     "metadata": {},
     "output_type": "execute_result"
    }
   ],
   "source": [
    "#Fitting to y\n",
    "mody1 = smf.ols(formula = \"y ~ x1_resid\", data = sample_df)\n",
    "resy1 = mody1.fit()\n",
    "resy1.params.round(2)"
   ]
  },
  {
   "cell_type": "code",
   "execution_count": 22,
   "id": "5fb5b1fd",
   "metadata": {},
   "outputs": [
    {
     "data": {
      "text/plain": [
       "2.02"
      ]
     },
     "execution_count": 22,
     "metadata": {},
     "output_type": "execute_result"
    }
   ],
   "source": [
    "#x1 residuals equal to beta1 from original regression\n",
    "res.params[1].round(2)"
   ]
  },
  {
   "cell_type": "code",
   "execution_count": 23,
   "id": "a46fcaba",
   "metadata": {},
   "outputs": [],
   "source": [
    "#Regression of x1 on x2\n",
    "mod21 = smf.ols(formula='x2 ~ x1', data=sample_df)\n",
    "res21 = mod21.fit()\n",
    "x2x1_beta1 = res21.params[1]\n",
    "x2x1_beta0 = res21.params[0]\n",
    "sample_df['x2_hat'] = res21.fittedvalues\n",
    "sample_df['x2_resid'] = res21.resid"
   ]
  },
  {
   "cell_type": "code",
   "execution_count": 24,
   "id": "6031abb4",
   "metadata": {},
   "outputs": [
    {
     "data": {
      "text/plain": [
       "Intercept    25.10\n",
       "x2_resid      2.03\n",
       "dtype: float64"
      ]
     },
     "execution_count": 24,
     "metadata": {},
     "output_type": "execute_result"
    }
   ],
   "source": [
    "#Fitting to y\n",
    "mody2 = smf.ols(formula = \"y ~ x2_resid\", data = sample_df)\n",
    "resy2 = mody2.fit()\n",
    "resy2.params.round(2)"
   ]
  },
  {
   "cell_type": "code",
   "execution_count": 25,
   "id": "52fe5476",
   "metadata": {},
   "outputs": [
    {
     "data": {
      "text/plain": [
       "2.03"
      ]
     },
     "execution_count": 25,
     "metadata": {},
     "output_type": "execute_result"
    }
   ],
   "source": [
    "#x2 residuals equal to beta2 from original regression\n",
    "res.params[2].round(2)"
   ]
  }
 ],
 "metadata": {
  "kernelspec": {
   "display_name": "Python 3 (ipykernel)",
   "language": "python",
   "name": "python3"
  },
  "language_info": {
   "codemirror_mode": {
    "name": "ipython",
    "version": 3
   },
   "file_extension": ".py",
   "mimetype": "text/x-python",
   "name": "python",
   "nbconvert_exporter": "python",
   "pygments_lexer": "ipython3",
   "version": "3.9.7"
  }
 },
 "nbformat": 4,
 "nbformat_minor": 5
}
