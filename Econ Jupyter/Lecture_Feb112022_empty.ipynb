{
 "cells": [
  {
   "cell_type": "markdown",
   "id": "a107de71",
   "metadata": {},
   "source": [
    "# Today's Lecture: Numpy Arrays & Pandas DataFrames"
   ]
  },
  {
   "cell_type": "markdown",
   "id": "686a4a17",
   "metadata": {},
   "source": [
    "## 1. Numpy arrays"
   ]
  },
  {
   "cell_type": "code",
   "execution_count": 2,
   "id": "c6e31809",
   "metadata": {},
   "outputs": [],
   "source": [
    "import numpy as np "
   ]
  },
  {
   "cell_type": "code",
   "execution_count": 6,
   "id": "b2daec6a",
   "metadata": {},
   "outputs": [
    {
     "data": {
      "text/plain": [
       "array([1, 2, 3])"
      ]
     },
     "execution_count": 6,
     "metadata": {},
     "output_type": "execute_result"
    }
   ],
   "source": [
    "vector = np.array([1,2,3])\n",
    "vector"
   ]
  },
  {
   "cell_type": "markdown",
   "id": "ee3a63fb",
   "metadata": {},
   "source": [
    "(a) Creating a vector of zeros"
   ]
  },
  {
   "cell_type": "code",
   "execution_count": 13,
   "id": "24fbc794",
   "metadata": {},
   "outputs": [
    {
     "name": "stdout",
     "output_type": "stream",
     "text": [
      "Vector v1 is equal to:  [0. 0. 0. 0. 0.] \n",
      " Matrix V is : \n",
      " [[0. 0. 0. 0. 0.]\n",
      " [0. 0. 0. 0. 0.]\n",
      " [0. 0. 0. 0. 0.]\n",
      " [0. 0. 0. 0. 0.]\n",
      " [0. 0. 0. 0. 0.]]\n"
     ]
    }
   ],
   "source": [
    "v1 = np.zeros(5)\n",
    "#print(v1)\n",
    "\n",
    "V = np.zeros((5,5))\n",
    "#print(V)\n",
    "print (\"Vector v1 is equal to: \", v1, \"\\n Matrix V is : \\n\", V)"
   ]
  },
  {
   "cell_type": "markdown",
   "id": "14a4516d",
   "metadata": {},
   "source": [
    "(b) Creating a vector of ones"
   ]
  },
  {
   "cell_type": "code",
   "execution_count": 15,
   "id": "a7aafc60",
   "metadata": {},
   "outputs": [
    {
     "data": {
      "text/plain": [
       "array([1., 1., 1., 1.])"
      ]
     },
     "execution_count": 15,
     "metadata": {},
     "output_type": "execute_result"
    }
   ],
   "source": [
    "v2 = np.ones(4)\n",
    "v2"
   ]
  },
  {
   "cell_type": "markdown",
   "id": "f842c51b",
   "metadata": {},
   "source": [
    "(c) Creating a vector of sequencial numbers "
   ]
  },
  {
   "cell_type": "code",
   "execution_count": 22,
   "id": "7e048e92",
   "metadata": {},
   "outputs": [
    {
     "name": "stdout",
     "output_type": "stream",
     "text": [
      "v4: [ 1  2  3  4  5  6  7  8  9 10 11 12 13 14 15 16 17 18 19 20 21 22 23 24\n",
      " 25 26 27 28 29 30 31 32 33 34 35 36 37 38 39 40 41 42 43 44 45 46 47 48\n",
      " 49 50]\n"
     ]
    }
   ],
   "source": [
    "v3 = np.array([1,2,3,4,5,6,7,8,9,10])\n",
    "v3\n",
    "\n",
    "v4 = np.arange(1,51)\n",
    "print(\"v4:\",v4)"
   ]
  },
  {
   "cell_type": "code",
   "execution_count": 23,
   "id": "eb46bca4",
   "metadata": {},
   "outputs": [
    {
     "data": {
      "text/plain": [
       "array([ 0,  2,  4,  6,  8, 10, 12, 14, 16, 18, 20])"
      ]
     },
     "execution_count": 23,
     "metadata": {},
     "output_type": "execute_result"
    }
   ],
   "source": [
    "v5 = np.arange(0,21, 2)\n",
    "v5"
   ]
  },
  {
   "cell_type": "markdown",
   "id": "be28603a",
   "metadata": {},
   "source": [
    "(d) Create a vector a=(3, 0, 2, 1.7, 0, 0, 5). Then set b equal to the indices of the non-zero elements of a."
   ]
  },
  {
   "cell_type": "code",
   "execution_count": 25,
   "id": "e3a897c9",
   "metadata": {},
   "outputs": [
    {
     "name": "stdout",
     "output_type": "stream",
     "text": [
      "Vector B of the indices of the non-zero elements of a:  (array([0, 2, 3, 6]),)\n"
     ]
    }
   ],
   "source": [
    "a = np.array([3,0,2,1.7,0,0,5])\n",
    "b = np.nonzero(a)\n",
    "print(\"Vector B of the indices of the non-zero elements of a: \", b)"
   ]
  },
  {
   "cell_type": "code",
   "execution_count": 28,
   "id": "8f6092e9",
   "metadata": {},
   "outputs": [
    {
     "data": {
      "text/plain": [
       "array([2. , 3. , 0. , 0. , 0. , 1.7, 5. ])"
      ]
     },
     "execution_count": 28,
     "metadata": {},
     "output_type": "execute_result"
    }
   ],
   "source": [
    "np.random.shuffle(a)\n",
    "a"
   ]
  },
  {
   "cell_type": "markdown",
   "id": "48d76757",
   "metadata": {},
   "source": [
    "(e) Create a random vector with elements from 0 to 1 of dimension 5."
   ]
  },
  {
   "cell_type": "code",
   "execution_count": 31,
   "id": "2a26716e",
   "metadata": {},
   "outputs": [
    {
     "data": {
      "text/plain": [
       "array([0.34863462, 0.5111948 , 0.97567208, 0.86424164, 0.2579321 ])"
      ]
     },
     "execution_count": 31,
     "metadata": {},
     "output_type": "execute_result"
    }
   ],
   "source": [
    "dim = 5\n",
    "np.random.rand(dim)"
   ]
  },
  {
   "cell_type": "markdown",
   "id": "8b1eed50",
   "metadata": {},
   "source": [
    "## 2. Pandas DataFrames\n",
    "### Data Info"
   ]
  },
  {
   "cell_type": "code",
   "execution_count": 34,
   "id": "573dfd7e",
   "metadata": {},
   "outputs": [],
   "source": [
    "import pandas as pd\n",
    "path = 'https://www.alexandramanta.info/media/econ220_labs/'\n",
    "data = pd.read_csv(path + 'BirthdataNC.csv')"
   ]
  },
  {
   "cell_type": "markdown",
   "id": "00efeb88",
   "metadata": {},
   "source": [
    "(a) `.head()` , [documentation and examples link](https://pandas.pydata.org/pandas-docs/stable/reference/api/pandas.DataFrame.head.html), `print()`, `.tail()` [documentation and examples link](https://pandas.pydata.org/pandas-docs/stable/reference/api/pandas.DataFrame.tail.html), `.style` [documentation and examples link](https://pandas.pydata.org/pandas-docs/stable/reference/api/pandas.DataFrame.style.html), `.to_markdown` [documentation and examples link](https://pandas.pydata.org/pandas-docs/stable/reference/api/pandas.DataFrame.to_markdown.html)"
   ]
  },
  {
   "cell_type": "code",
   "execution_count": 38,
   "id": "bd74079e",
   "metadata": {},
   "outputs": [
    {
     "data": {
      "text/html": [
       "<div>\n",
       "<style scoped>\n",
       "    .dataframe tbody tr th:only-of-type {\n",
       "        vertical-align: middle;\n",
       "    }\n",
       "\n",
       "    .dataframe tbody tr th {\n",
       "        vertical-align: top;\n",
       "    }\n",
       "\n",
       "    .dataframe thead th {\n",
       "        text-align: right;\n",
       "    }\n",
       "</style>\n",
       "<table border=\"1\" class=\"dataframe\">\n",
       "  <thead>\n",
       "    <tr style=\"text-align: right;\">\n",
       "      <th></th>\n",
       "      <th>fage</th>\n",
       "      <th>mage</th>\n",
       "      <th>mature</th>\n",
       "      <th>weeks</th>\n",
       "      <th>premie</th>\n",
       "      <th>visits</th>\n",
       "      <th>marital</th>\n",
       "      <th>gained</th>\n",
       "      <th>weight</th>\n",
       "      <th>lowbirthweight</th>\n",
       "      <th>gender</th>\n",
       "      <th>habit</th>\n",
       "      <th>whitemom</th>\n",
       "    </tr>\n",
       "  </thead>\n",
       "  <tbody>\n",
       "    <tr>\n",
       "      <th>0</th>\n",
       "      <td>NaN</td>\n",
       "      <td>13</td>\n",
       "      <td>younger mom</td>\n",
       "      <td>39.0</td>\n",
       "      <td>full term</td>\n",
       "      <td>10.0</td>\n",
       "      <td>married</td>\n",
       "      <td>38.0</td>\n",
       "      <td>7.63</td>\n",
       "      <td>not low</td>\n",
       "      <td>male</td>\n",
       "      <td>nonsmoker</td>\n",
       "      <td>not white</td>\n",
       "    </tr>\n",
       "    <tr>\n",
       "      <th>1</th>\n",
       "      <td>NaN</td>\n",
       "      <td>14</td>\n",
       "      <td>younger mom</td>\n",
       "      <td>42.0</td>\n",
       "      <td>full term</td>\n",
       "      <td>15.0</td>\n",
       "      <td>married</td>\n",
       "      <td>20.0</td>\n",
       "      <td>7.88</td>\n",
       "      <td>not low</td>\n",
       "      <td>male</td>\n",
       "      <td>nonsmoker</td>\n",
       "      <td>not white</td>\n",
       "    </tr>\n",
       "  </tbody>\n",
       "</table>\n",
       "</div>"
      ],
      "text/plain": [
       "   fage  mage       mature  weeks     premie  visits  marital  gained  weight  \\\n",
       "0   NaN    13  younger mom   39.0  full term    10.0  married    38.0    7.63   \n",
       "1   NaN    14  younger mom   42.0  full term    15.0  married    20.0    7.88   \n",
       "\n",
       "  lowbirthweight gender      habit   whitemom  \n",
       "0        not low   male  nonsmoker  not white  \n",
       "1        not low   male  nonsmoker  not white  "
      ]
     },
     "execution_count": 38,
     "metadata": {},
     "output_type": "execute_result"
    }
   ],
   "source": [
    "data.head(2)"
   ]
  },
  {
   "cell_type": "code",
   "execution_count": 39,
   "id": "386327c8",
   "metadata": {},
   "outputs": [
    {
     "name": "stdout",
     "output_type": "stream",
     "text": [
      "     fage  mage       mature  weeks     premie  visits      marital  gained  \\\n",
      "0     NaN    13  younger mom   39.0  full term    10.0      married    38.0   \n",
      "1     NaN    14  younger mom   42.0  full term    15.0      married    20.0   \n",
      "2    19.0    15  younger mom   37.0  full term    11.0      married    38.0   \n",
      "3    21.0    15  younger mom   41.0  full term     6.0      married    34.0   \n",
      "4     NaN    15  younger mom   39.0  full term     9.0      married    27.0   \n",
      "..    ...   ...          ...    ...        ...     ...          ...     ...   \n",
      "995  47.0    42   mature mom   40.0  full term    10.0  not married    26.0   \n",
      "996  34.0    42   mature mom   38.0  full term    18.0  not married    20.0   \n",
      "997  39.0    45   mature mom   40.0  full term    15.0  not married    32.0   \n",
      "998  55.0    46   mature mom   31.0     premie     8.0  not married    25.0   \n",
      "999  45.0    50   mature mom   39.0  full term    14.0  not married    23.0   \n",
      "\n",
      "     weight lowbirthweight  gender      habit   whitemom  \n",
      "0      7.63        not low    male  nonsmoker  not white  \n",
      "1      7.88        not low    male  nonsmoker  not white  \n",
      "2      6.63        not low  female  nonsmoker      white  \n",
      "3      8.00        not low    male  nonsmoker      white  \n",
      "4      6.38        not low  female  nonsmoker  not white  \n",
      "..      ...            ...     ...        ...        ...  \n",
      "995    8.44        not low    male  nonsmoker  not white  \n",
      "996    6.19        not low  female  nonsmoker      white  \n",
      "997    6.94        not low  female  nonsmoker      white  \n",
      "998    4.56            low  female  nonsmoker  not white  \n",
      "999    7.13        not low  female  nonsmoker      white  \n",
      "\n",
      "[1000 rows x 13 columns]\n"
     ]
    }
   ],
   "source": [
    "print(data)"
   ]
  },
  {
   "cell_type": "code",
   "execution_count": 42,
   "id": "192d33c1",
   "metadata": {},
   "outputs": [
    {
     "data": {
      "text/html": [
       "<div>\n",
       "<style scoped>\n",
       "    .dataframe tbody tr th:only-of-type {\n",
       "        vertical-align: middle;\n",
       "    }\n",
       "\n",
       "    .dataframe tbody tr th {\n",
       "        vertical-align: top;\n",
       "    }\n",
       "\n",
       "    .dataframe thead th {\n",
       "        text-align: right;\n",
       "    }\n",
       "</style>\n",
       "<table border=\"1\" class=\"dataframe\">\n",
       "  <thead>\n",
       "    <tr style=\"text-align: right;\">\n",
       "      <th></th>\n",
       "      <th>fage</th>\n",
       "      <th>mage</th>\n",
       "      <th>mature</th>\n",
       "      <th>weeks</th>\n",
       "      <th>premie</th>\n",
       "      <th>visits</th>\n",
       "      <th>marital</th>\n",
       "      <th>gained</th>\n",
       "      <th>weight</th>\n",
       "      <th>lowbirthweight</th>\n",
       "      <th>gender</th>\n",
       "      <th>habit</th>\n",
       "      <th>whitemom</th>\n",
       "    </tr>\n",
       "  </thead>\n",
       "  <tbody>\n",
       "    <tr>\n",
       "      <th>998</th>\n",
       "      <td>55.0</td>\n",
       "      <td>46</td>\n",
       "      <td>mature mom</td>\n",
       "      <td>31.0</td>\n",
       "      <td>premie</td>\n",
       "      <td>8.0</td>\n",
       "      <td>not married</td>\n",
       "      <td>25.0</td>\n",
       "      <td>4.56</td>\n",
       "      <td>low</td>\n",
       "      <td>female</td>\n",
       "      <td>nonsmoker</td>\n",
       "      <td>not white</td>\n",
       "    </tr>\n",
       "    <tr>\n",
       "      <th>999</th>\n",
       "      <td>45.0</td>\n",
       "      <td>50</td>\n",
       "      <td>mature mom</td>\n",
       "      <td>39.0</td>\n",
       "      <td>full term</td>\n",
       "      <td>14.0</td>\n",
       "      <td>not married</td>\n",
       "      <td>23.0</td>\n",
       "      <td>7.13</td>\n",
       "      <td>not low</td>\n",
       "      <td>female</td>\n",
       "      <td>nonsmoker</td>\n",
       "      <td>white</td>\n",
       "    </tr>\n",
       "  </tbody>\n",
       "</table>\n",
       "</div>"
      ],
      "text/plain": [
       "     fage  mage      mature  weeks     premie  visits      marital  gained  \\\n",
       "998  55.0    46  mature mom   31.0     premie     8.0  not married    25.0   \n",
       "999  45.0    50  mature mom   39.0  full term    14.0  not married    23.0   \n",
       "\n",
       "     weight lowbirthweight  gender      habit   whitemom  \n",
       "998    4.56            low  female  nonsmoker  not white  \n",
       "999    7.13        not low  female  nonsmoker      white  "
      ]
     },
     "execution_count": 42,
     "metadata": {},
     "output_type": "execute_result"
    }
   ],
   "source": [
    "data.tail(2)"
   ]
  },
  {
   "cell_type": "code",
   "execution_count": 43,
   "id": "3d187449",
   "metadata": {},
   "outputs": [
    {
     "data": {
      "text/plain": [
       "<bound method DataFrame.to_markdown of      fage  mage       mature  weeks     premie  visits      marital  gained  \\\n",
       "0     NaN    13  younger mom   39.0  full term    10.0      married    38.0   \n",
       "1     NaN    14  younger mom   42.0  full term    15.0      married    20.0   \n",
       "2    19.0    15  younger mom   37.0  full term    11.0      married    38.0   \n",
       "3    21.0    15  younger mom   41.0  full term     6.0      married    34.0   \n",
       "4     NaN    15  younger mom   39.0  full term     9.0      married    27.0   \n",
       "..    ...   ...          ...    ...        ...     ...          ...     ...   \n",
       "995  47.0    42   mature mom   40.0  full term    10.0  not married    26.0   \n",
       "996  34.0    42   mature mom   38.0  full term    18.0  not married    20.0   \n",
       "997  39.0    45   mature mom   40.0  full term    15.0  not married    32.0   \n",
       "998  55.0    46   mature mom   31.0     premie     8.0  not married    25.0   \n",
       "999  45.0    50   mature mom   39.0  full term    14.0  not married    23.0   \n",
       "\n",
       "     weight lowbirthweight  gender      habit   whitemom  \n",
       "0      7.63        not low    male  nonsmoker  not white  \n",
       "1      7.88        not low    male  nonsmoker  not white  \n",
       "2      6.63        not low  female  nonsmoker      white  \n",
       "3      8.00        not low    male  nonsmoker      white  \n",
       "4      6.38        not low  female  nonsmoker  not white  \n",
       "..      ...            ...     ...        ...        ...  \n",
       "995    8.44        not low    male  nonsmoker  not white  \n",
       "996    6.19        not low  female  nonsmoker      white  \n",
       "997    6.94        not low  female  nonsmoker      white  \n",
       "998    4.56            low  female  nonsmoker  not white  \n",
       "999    7.13        not low  female  nonsmoker      white  \n",
       "\n",
       "[1000 rows x 13 columns]>"
      ]
     },
     "execution_count": 43,
     "metadata": {},
     "output_type": "execute_result"
    }
   ],
   "source": [
    "data.to_markdown"
   ]
  },
  {
   "cell_type": "markdown",
   "id": "b83868df",
   "metadata": {},
   "source": [
    "(b) `.info()` , [documentation and examples link](https://pandas.pydata.org/pandas-docs/stable/reference/api/pandas.DataFrame.info.html)"
   ]
  },
  {
   "cell_type": "code",
   "execution_count": 44,
   "id": "d2b20375",
   "metadata": {},
   "outputs": [
    {
     "name": "stdout",
     "output_type": "stream",
     "text": [
      "<class 'pandas.core.frame.DataFrame'>\n",
      "RangeIndex: 1000 entries, 0 to 999\n",
      "Data columns (total 13 columns):\n",
      " #   Column          Non-Null Count  Dtype  \n",
      "---  ------          --------------  -----  \n",
      " 0   fage            829 non-null    float64\n",
      " 1   mage            1000 non-null   int64  \n",
      " 2   mature          1000 non-null   object \n",
      " 3   weeks           998 non-null    float64\n",
      " 4   premie          998 non-null    object \n",
      " 5   visits          991 non-null    float64\n",
      " 6   marital         999 non-null    object \n",
      " 7   gained          973 non-null    float64\n",
      " 8   weight          1000 non-null   float64\n",
      " 9   lowbirthweight  1000 non-null   object \n",
      " 10  gender          1000 non-null   object \n",
      " 11  habit           999 non-null    object \n",
      " 12  whitemom        998 non-null    object \n",
      "dtypes: float64(5), int64(1), object(7)\n",
      "memory usage: 101.7+ KB\n"
     ]
    }
   ],
   "source": [
    "data.info()"
   ]
  },
  {
   "cell_type": "markdown",
   "id": "4dd85830",
   "metadata": {},
   "source": [
    "(c) `.iat()` [documentation and examples link](https://pandas.pydata.org/pandas-docs/stable/reference/api/pandas.DataFrame.iat.html)"
   ]
  },
  {
   "cell_type": "code",
   "execution_count": 46,
   "id": "70e49848",
   "metadata": {},
   "outputs": [
    {
     "data": {
      "text/plain": [
       "13"
      ]
     },
     "execution_count": 46,
     "metadata": {},
     "output_type": "execute_result"
    }
   ],
   "source": [
    "data.iat[0,1]"
   ]
  },
  {
   "cell_type": "markdown",
   "id": "9d905238",
   "metadata": {},
   "source": [
    "(d) `.at()`, [documentation and examples link](https://pandas.pydata.org/pandas-docs/stable/reference/api/pandas.DataFrame.at.html)"
   ]
  },
  {
   "cell_type": "code",
   "execution_count": 48,
   "id": "b323bf89",
   "metadata": {},
   "outputs": [
    {
     "data": {
      "text/plain": [
       "10.0"
      ]
     },
     "execution_count": 48,
     "metadata": {},
     "output_type": "execute_result"
    }
   ],
   "source": [
    "data.at[0,\"visits\"]"
   ]
  },
  {
   "cell_type": "markdown",
   "id": "26d357dd",
   "metadata": {},
   "source": [
    "(e) `.iloc[ ]` , [documentation and examples link](https://pandas.pydata.org/pandas-docs/stable/reference/api/pandas.DataFrame.iloc.html)"
   ]
  },
  {
   "cell_type": "code",
   "execution_count": 47,
   "id": "50142135",
   "metadata": {},
   "outputs": [
    {
     "data": {
      "text/plain": [
       "fage                      NaN\n",
       "mage                       13\n",
       "mature            younger mom\n",
       "weeks                    39.0\n",
       "premie              full term\n",
       "visits                   10.0\n",
       "marital               married\n",
       "gained                   38.0\n",
       "weight                   7.63\n",
       "lowbirthweight        not low\n",
       "gender                   male\n",
       "habit               nonsmoker\n",
       "whitemom            not white\n",
       "Name: 0, dtype: object"
      ]
     },
     "execution_count": 47,
     "metadata": {},
     "output_type": "execute_result"
    }
   ],
   "source": [
    "data.iloc[0,:]"
   ]
  },
  {
   "cell_type": "markdown",
   "id": "f5862d2d",
   "metadata": {},
   "source": [
    "(f) `.loc[ ]` , [documentation and examples link](https://pandas.pydata.org/pandas-docs/stable/reference/api/pandas.DataFrame.loc.html)"
   ]
  },
  {
   "cell_type": "code",
   "execution_count": 50,
   "id": "143a73ca",
   "metadata": {},
   "outputs": [
    {
     "data": {
      "text/plain": [
       "visits        10.0\n",
       "marital    married\n",
       "Name: 0, dtype: object"
      ]
     },
     "execution_count": 50,
     "metadata": {},
     "output_type": "execute_result"
    }
   ],
   "source": [
    "data.loc[0,[\"visits\", \"marital\"]]"
   ]
  },
  {
   "cell_type": "markdown",
   "id": "20ea2db7",
   "metadata": {},
   "source": [
    "(g) `.size` , [documentation and examples link](https://pandas.pydata.org/pandas-docs/stable/reference/api/pandas.DataFrame.size.html)"
   ]
  },
  {
   "cell_type": "markdown",
   "id": "16e67091",
   "metadata": {},
   "source": [
    "(h) `.shape` , [documentation and examples link](https://pandas.pydata.org/pandas-docs/stable/reference/api/pandas.DataFrame.shape.html)"
   ]
  },
  {
   "cell_type": "markdown",
   "id": "4f2d1e6a",
   "metadata": {},
   "source": [
    "### Data Statistics"
   ]
  },
  {
   "cell_type": "markdown",
   "id": "0eeb72be",
   "metadata": {},
   "source": [
    "(a) `.mean()` , [documentation and examples link](https://pandas.pydata.org/pandas-docs/stable/reference/api/pandas.DataFrame.mean.html)"
   ]
  },
  {
   "cell_type": "markdown",
   "id": "1ecfb1a8",
   "metadata": {},
   "source": [
    "(b) `.median()` , [documentation and examples link](https://pandas.pydata.org/pandas-docs/stable/reference/api/pandas.DataFrame.median.html)"
   ]
  },
  {
   "cell_type": "markdown",
   "id": "a47a3be4",
   "metadata": {},
   "source": [
    "(c) `.min()` [documentation and examples link](https://pandas.pydata.org/pandas-docs/stable/reference/api/pandas.DataFrame.min.html)"
   ]
  },
  {
   "cell_type": "markdown",
   "id": "7b20dca7",
   "metadata": {},
   "source": [
    "(d) `.max()` , [documentation and examples link](https://pandas.pydata.org/pandas-docs/stable/reference/api/pandas.DataFrame.max.html)"
   ]
  },
  {
   "cell_type": "markdown",
   "id": "13c97cf6",
   "metadata": {},
   "source": [
    "(e)  `.describe()` , [documentation and examples link](https://pandas.pydata.org/pandas-docs/stable/reference/api/pandas.DataFrame.describe.html)"
   ]
  },
  {
   "cell_type": "code",
   "execution_count": null,
   "id": "bc77ced0",
   "metadata": {},
   "outputs": [],
   "source": []
  }
 ],
 "metadata": {
  "kernelspec": {
   "display_name": "Python 3 (ipykernel)",
   "language": "python",
   "name": "python3"
  },
  "language_info": {
   "codemirror_mode": {
    "name": "ipython",
    "version": 3
   },
   "file_extension": ".py",
   "mimetype": "text/x-python",
   "name": "python",
   "nbconvert_exporter": "python",
   "pygments_lexer": "ipython3",
   "version": "3.9.7"
  }
 },
 "nbformat": 4,
 "nbformat_minor": 5
}
