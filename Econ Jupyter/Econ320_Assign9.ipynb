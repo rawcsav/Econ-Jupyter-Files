{
 "cells": [
  {
   "cell_type": "code",
   "execution_count": 2,
   "id": "046afa8c",
   "metadata": {},
   "outputs": [],
   "source": [
    "# Script Name: Assignment 9\n",
    "# Purpose of script: Complete Assignment 9 for Econ 320\n",
    "# Author: Gavin Mason\n",
    "# Date Created: 11/7/2022\n",
    "# Notes:\n",
    "\n",
    "# Packages\n",
    "from scipy.stats import norm\n",
    "from scipy.stats import t\n",
    "import pandas as pd\n",
    "import scipy.stats as stats\n",
    "import numpy as np\n",
    "import seaborn as sns\n",
    "import matplotlib.pyplot as plt \n",
    "import wooldridge as woo\n",
    "import numpy as np\n",
    "import statsmodels.formula.api as smf\n",
    "from stargazer.stargazer import Stargazer\n",
    "from IPython.core.display import HTML"
   ]
  },
  {
   "cell_type": "code",
   "execution_count": 3,
   "id": "83e6c2c5",
   "metadata": {},
   "outputs": [],
   "source": [
    "birthday = 11212001\n",
    "rng = np.random.RandomState(int(birthday))\n",
    "n = 1000000\n",
    "b0 = 3\n",
    "b1 = 2\n",
    "b2 = 2\n",
    "a0 = 2\n",
    "a1=.8\n",
    "x1 = rng.normal(10,1**0.5,n)\n",
    "u = rng.normal(0,1**0.5,n)\n",
    "u1 = rng.normal(0,1**0.5,n)\n",
    "x2 = a0 + a1*x1 + u1\n",
    "y = b0 + b1*x1 + b2*x2 + u\n",
    "population_data = pd.DataFrame({'y':y, 'x1':x1, 'x2':x2, 'u':u, 'u1':u1})"
   ]
  },
  {
   "cell_type": "code",
   "execution_count": 53,
   "id": "aa4fd089",
   "metadata": {},
   "outputs": [
    {
     "data": {
      "text/html": [
       "<table class=\"simpletable\">\n",
       "<caption>OLS Regression Results</caption>\n",
       "<tr>\n",
       "  <th>Dep. Variable:</th>            <td>y</td>        <th>  R-squared:         </th> <td>   0.882</td>\n",
       "</tr>\n",
       "<tr>\n",
       "  <th>Model:</th>                   <td>OLS</td>       <th>  Adj. R-squared:    </th> <td>   0.882</td>\n",
       "</tr>\n",
       "<tr>\n",
       "  <th>Method:</th>             <td>Least Squares</td>  <th>  F-statistic:       </th> <td>   3743.</td>\n",
       "</tr>\n",
       "<tr>\n",
       "  <th>Date:</th>             <td>Tue, 08 Nov 2022</td> <th>  Prob (F-statistic):</th>  <td>  0.00</td> \n",
       "</tr>\n",
       "<tr>\n",
       "  <th>Time:</th>                 <td>00:52:50</td>     <th>  Log-Likelihood:    </th> <td> -1397.9</td>\n",
       "</tr>\n",
       "<tr>\n",
       "  <th>No. Observations:</th>      <td>  1000</td>      <th>  AIC:               </th> <td>   2802.</td>\n",
       "</tr>\n",
       "<tr>\n",
       "  <th>Df Residuals:</th>          <td>   997</td>      <th>  BIC:               </th> <td>   2816.</td>\n",
       "</tr>\n",
       "<tr>\n",
       "  <th>Df Model:</th>              <td>     2</td>      <th>                     </th>     <td> </td>   \n",
       "</tr>\n",
       "<tr>\n",
       "  <th>Covariance Type:</th>      <td>nonrobust</td>    <th>                     </th>     <td> </td>   \n",
       "</tr>\n",
       "</table>\n",
       "<table class=\"simpletable\">\n",
       "<tr>\n",
       "      <td></td>         <th>coef</th>     <th>std err</th>      <th>t</th>      <th>P>|t|</th>  <th>[0.025</th>    <th>0.975]</th>  \n",
       "</tr>\n",
       "<tr>\n",
       "  <th>Intercept</th> <td>    2.6895</td> <td>    0.316</td> <td>    8.510</td> <td> 0.000</td> <td>    2.069</td> <td>    3.310</td>\n",
       "</tr>\n",
       "<tr>\n",
       "  <th>x1</th>        <td>    0.0204</td> <td>    0.041</td> <td>    0.502</td> <td> 0.616</td> <td>   -0.059</td> <td>    0.100</td>\n",
       "</tr>\n",
       "<tr>\n",
       "  <th>x2</th>        <td>    2.0176</td> <td>    0.031</td> <td>   65.599</td> <td> 0.000</td> <td>    1.957</td> <td>    2.078</td>\n",
       "</tr>\n",
       "</table>\n",
       "<table class=\"simpletable\">\n",
       "<tr>\n",
       "  <th>Omnibus:</th>       <td> 0.016</td> <th>  Durbin-Watson:     </th> <td>   1.978</td>\n",
       "</tr>\n",
       "<tr>\n",
       "  <th>Prob(Omnibus):</th> <td> 0.992</td> <th>  Jarque-Bera (JB):  </th> <td>   0.005</td>\n",
       "</tr>\n",
       "<tr>\n",
       "  <th>Skew:</th>          <td> 0.005</td> <th>  Prob(JB):          </th> <td>   0.998</td>\n",
       "</tr>\n",
       "<tr>\n",
       "  <th>Kurtosis:</th>      <td> 2.999</td> <th>  Cond. No.          </th> <td>    146.</td>\n",
       "</tr>\n",
       "</table><br/><br/>Notes:<br/>[1] Standard Errors assume that the covariance matrix of the errors is correctly specified."
      ],
      "text/plain": [
       "<class 'statsmodels.iolib.summary.Summary'>\n",
       "\"\"\"\n",
       "                            OLS Regression Results                            \n",
       "==============================================================================\n",
       "Dep. Variable:                      y   R-squared:                       0.882\n",
       "Model:                            OLS   Adj. R-squared:                  0.882\n",
       "Method:                 Least Squares   F-statistic:                     3743.\n",
       "Date:                Tue, 08 Nov 2022   Prob (F-statistic):               0.00\n",
       "Time:                        00:52:50   Log-Likelihood:                -1397.9\n",
       "No. Observations:                1000   AIC:                             2802.\n",
       "Df Residuals:                     997   BIC:                             2816.\n",
       "Df Model:                           2                                         \n",
       "Covariance Type:            nonrobust                                         \n",
       "==============================================================================\n",
       "                 coef    std err          t      P>|t|      [0.025      0.975]\n",
       "------------------------------------------------------------------------------\n",
       "Intercept      2.6895      0.316      8.510      0.000       2.069       3.310\n",
       "x1             0.0204      0.041      0.502      0.616      -0.059       0.100\n",
       "x2             2.0176      0.031     65.599      0.000       1.957       2.078\n",
       "==============================================================================\n",
       "Omnibus:                        0.016   Durbin-Watson:                   1.978\n",
       "Prob(Omnibus):                  0.992   Jarque-Bera (JB):                0.005\n",
       "Skew:                           0.005   Prob(JB):                        0.998\n",
       "Kurtosis:                       2.999   Cond. No.                         146.\n",
       "==============================================================================\n",
       "\n",
       "Notes:\n",
       "[1] Standard Errors assume that the covariance matrix of the errors is correctly specified.\n",
       "\"\"\""
      ]
     },
     "execution_count": 53,
     "metadata": {},
     "output_type": "execute_result"
    }
   ],
   "source": [
    "sample_df = population_data.sample(n = 1000)\n",
    "reg = smf.ols(formula='y ~ x1 + x2', data = sample_df).fit()\n",
    "reg.summary()"
   ]
  },
  {
   "cell_type": "code",
   "execution_count": 54,
   "id": "e9512a56",
   "metadata": {},
   "outputs": [
    {
     "data": {
      "text/html": [
       "<div>\n",
       "<style scoped>\n",
       "    .dataframe tbody tr th:only-of-type {\n",
       "        vertical-align: middle;\n",
       "    }\n",
       "\n",
       "    .dataframe tbody tr th {\n",
       "        vertical-align: top;\n",
       "    }\n",
       "\n",
       "    .dataframe thead th {\n",
       "        text-align: right;\n",
       "    }\n",
       "</style>\n",
       "<table border=\"1\" class=\"dataframe\">\n",
       "  <thead>\n",
       "    <tr style=\"text-align: right;\">\n",
       "      <th></th>\n",
       "      <th>0</th>\n",
       "      <th>1</th>\n",
       "    </tr>\n",
       "  </thead>\n",
       "  <tbody>\n",
       "    <tr>\n",
       "      <th>Intercept</th>\n",
       "      <td>2.169173</td>\n",
       "      <td>3.209774</td>\n",
       "    </tr>\n",
       "    <tr>\n",
       "      <th>x1</th>\n",
       "      <td>-0.046620</td>\n",
       "      <td>0.087491</td>\n",
       "    </tr>\n",
       "    <tr>\n",
       "      <th>x2</th>\n",
       "      <td>1.966956</td>\n",
       "      <td>2.068231</td>\n",
       "    </tr>\n",
       "  </tbody>\n",
       "</table>\n",
       "</div>"
      ],
      "text/plain": [
       "                  0         1\n",
       "Intercept  2.169173  3.209774\n",
       "x1        -0.046620  0.087491\n",
       "x2         1.966956  2.068231"
      ]
     },
     "execution_count": 54,
     "metadata": {},
     "output_type": "execute_result"
    }
   ],
   "source": [
    "#Set alpha=.1 so each tail has an alpha = .05\n",
    "reg.conf_int(alpha=.1)\n",
    "#What value of sample b1 defines the cutoff for the 5% \n",
    "#of observations with the largest absolute value you get in the sampling distribution?\n",
    "#Judging from the table below, that cutoff before the absolute largest value is when sample b1 = 0.087491"
   ]
  },
  {
   "cell_type": "code",
   "execution_count": 64,
   "id": "386f1b21",
   "metadata": {},
   "outputs": [],
   "source": [
    "b1r = []\n",
    "for i in range(1000):\n",
    "    sample_df = population_data.sample(n = 1000)\n",
    "    reg = smf.ols(formula='y ~ x1 + x2', data = sample_df).fit()\n",
    "    b1r.append(reg.params[1])"
   ]
  },
  {
   "cell_type": "code",
   "execution_count": 76,
   "id": "cfc5dcdc",
   "metadata": {},
   "outputs": [
    {
     "data": {
      "text/html": [
       "<div>\n",
       "<style scoped>\n",
       "    .dataframe tbody tr th:only-of-type {\n",
       "        vertical-align: middle;\n",
       "    }\n",
       "\n",
       "    .dataframe tbody tr th {\n",
       "        vertical-align: top;\n",
       "    }\n",
       "\n",
       "    .dataframe thead th {\n",
       "        text-align: right;\n",
       "    }\n",
       "</style>\n",
       "<table border=\"1\" class=\"dataframe\">\n",
       "  <thead>\n",
       "    <tr style=\"text-align: right;\">\n",
       "      <th></th>\n",
       "      <th>sample beta1</th>\n",
       "    </tr>\n",
       "  </thead>\n",
       "  <tbody>\n",
       "    <tr>\n",
       "      <th>41</th>\n",
       "      <td>-0.074384</td>\n",
       "    </tr>\n",
       "  </tbody>\n",
       "</table>\n",
       "</div>"
      ],
      "text/plain": [
       "    sample beta1\n",
       "41     -0.074384"
      ]
     },
     "execution_count": 76,
     "metadata": {},
     "output_type": "execute_result"
    }
   ],
   "source": [
    "#It took 6 attempts before I got randomly selected Instance 41 \n",
    "#Instance 41 has an estimated sample beta 1 = -0.074384 which is <-0.046620\n",
    "b1_df = pd.DataFrame({'sample beta1' : b1r})\n",
    "b1_df.sample(1)"
   ]
  },
  {
   "cell_type": "code",
   "execution_count": null,
   "id": "54e9936b",
   "metadata": {},
   "outputs": [],
   "source": []
  }
 ],
 "metadata": {
  "kernelspec": {
   "display_name": "Python 3 (ipykernel)",
   "language": "python",
   "name": "python3"
  },
  "language_info": {
   "codemirror_mode": {
    "name": "ipython",
    "version": 3
   },
   "file_extension": ".py",
   "mimetype": "text/x-python",
   "name": "python",
   "nbconvert_exporter": "python",
   "pygments_lexer": "ipython3",
   "version": "3.9.7"
  }
 },
 "nbformat": 4,
 "nbformat_minor": 5
}
