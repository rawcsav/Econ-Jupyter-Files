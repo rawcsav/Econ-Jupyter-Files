{
 "cells": [
  {
   "cell_type": "markdown",
   "metadata": {},
   "source": [
    "    \n",
    "<h1 style=\"text-align: center; color: purple;\" markdown=\"1\">Econ 220 Python Lab - Inference: T-test of Difference in Means</h1>\n",
    "\n",
    "<h2 style=\"text-align: center; color: #012169\" markdown=\"1\">Handout</h2>\n"
   ]
  },
  {
   "cell_type": "markdown",
   "metadata": {},
   "source": [
    "### Table of Contents \n",
    "* [Testing for Differences in Mean](#anchor1)\n",
    "    * [Proportion Tables](#anchor3)\n",
    "    * [Box Plots to See the Distribution of the Data by Groups](#anchor4)\n",
    "    * [Descriptive Statistics using the Pandas & Numpy Packages](#anchor5)\n",
    "    * [The `ttest_ind` for Difference in Means](#anchor6)\n",
    "        * [T-test for Differences in Weight by Gender](#anchor7)\n",
    "        * [T-test for Differences in Weight by Habit](#anchor8)\n",
    "* [Testing for Differences in Proportion](#anchor2)\n",
    "    * [The `proportions_ztest` for Difference in Proportions](#anchor9)\n",
    "        * [Z-test for Differences in proportion of Gender](#anchor10)\n"
   ]
  },
  {
   "cell_type": "markdown",
   "metadata": {},
   "source": [
    "# Testing for Differences in Means <a class = anchor id = anchor1></a>\n",
    "\n",
    "When two groups have sample means that are numerically different the question is: Is this numerical difference statistically significant? Can I use statistics to prove that the difference in the groups of my sample could be reflecting differences in the population. Then you test for this differences in the means, the test that you use for that is the **t-test**\n",
    "\n",
    "1. State the null hypothesis $H_0$ and the alternative hypothesis $H_a$ \n",
    "$$H_0: \\mu_1 = \\mu_2 \\\\ H_1:  \\mu_1 \\neq \\mu_2$$\n",
    "This is equivalent to: \n",
    "$$H_0: \\mu_1 - \\mu_2=d \\\\ H_1:  \\mu_1-\\mu_2\\neq d $$\n",
    "when $d = 0$\n",
    "\n",
    "\n",
    "2. Set the level of significance at $\\alpha$ and find the value of $t$ associated with it, $t_\\alpha$ or critical value. \n",
    "3. Calculate the t-test statistic \n",
    "\n",
    "$t=\\frac{[\\bar{x_1}-\\bar{x_2} - d]}{\\sqrt{\\frac{s_1^2}{n_1} + \\frac{s_2^2}{n_2}}}$\n",
    "\n",
    "\n",
    "4. Calculate the $p-value$ \n",
    "5. Make a decision. Check whether to reject the null hypothesis by comparing $p-value$ to $\\alpha$ and/or t to the $t_\\alpha$. If $p-value<\\alpha$ then reject $H_0: \\mu_1 - \\mu_2=d$\n",
    "\n",
    "You can perform this in python step by step calculating t and comparaing it to the critical value or you can use a function that does this for you. The scipy package has the function`ttest_ind` that performs this test. The documentation for the python function to perform this test can be found [here](https://docs.scipy.org/doc/scipy/reference/generated/scipy.stats.ttest_ind.html)\n",
    "\n",
    "\n",
    "But before running either of these test, it's worth investigating a couple of things about your data and your sample. Specifically, you should check a few things and plot a few graphs to inform your hypothesis. We start by first looking at our data and its variables using some summary statistics. \n",
    "\n",
    "We will be using some Birth data from North Carolina, this has some information about parents and babies."
   ]
  },
  {
   "cell_type": "code",
   "execution_count": null,
   "metadata": {},
   "outputs": [],
   "source": [
    "# Import necessary packages here\n",
    "import numpy as np\n",
    "import pandas as pd\n",
    "import matplotlib.pyplot as plt\n",
    "import seaborn as sns\n",
    "import scipy.stats as stats\n",
    "from scipy.stats import ttest_ind\n",
    "from statsmodels.stats.proportion import proportions_ztest\n",
    "# Don't forget to add the path for your own computer "
   ]
  },
  {
   "cell_type": "code",
   "execution_count": null,
   "metadata": {},
   "outputs": [],
   "source": [
    "# Use the path for your computer\n",
    "BirthdataNC = pd.read_csv()\n",
    "BirthdataNC.info()"
   ]
  },
  {
   "cell_type": "markdown",
   "metadata": {},
   "source": [
    "## Let's look at the data <a class = anchor id = anchor2></a>\n",
    "\n",
    "Now let's look at the proportion of female births in this dataset (see the code below). It is good to see how the groups are represented in your data. "
   ]
  },
  {
   "cell_type": "markdown",
   "metadata": {},
   "source": [
    "Here we are going to look at the weight distribution by gender and habit (smoker vs. non-smoker) "
   ]
  },
  {
   "cell_type": "code",
   "execution_count": null,
   "metadata": {},
   "outputs": [],
   "source": [
    "#ax = sns.boxplot(x=\"gender\", y=\"weight\", data=BirthdataNC)\n",
    "ax = sns.histplot(x = BirthdataNC.weight, \n",
    "                  hue = BirthdataNC.gender,\n",
    "                  palette = ['purple','pink'], \n",
    "                                  kde=True, alpha=0.5)\n",
    "plt.axvline(BirthdataNC[BirthdataNC['gender']=='female'].\n",
    "            weight.mean(), color='pink', \n",
    "            linestyle='dashed', linewidth=1)\n",
    "plt.axvline(BirthdataNC[BirthdataNC['gender']=='male'].\n",
    "            weight.mean(), color='purple', \n",
    "            linestyle='dashed', linewidth=1)\n",
    "#ax = sns.violinplot(x=\"gender\", y=\"weight\", data=BirthdataNC, palette=\"Blues\")\n",
    "ax.set_title(\"Histogram: Birthweight by gender\"); # the colon here eliminates the output message try without it. "
   ]
  },
  {
   "cell_type": "code",
   "execution_count": null,
   "metadata": {},
   "outputs": [],
   "source": [
    "# I suggest to have the warnings commented \n",
    "#and just activate the code once you know what the warning is about\n",
    "# import warnings\n",
    "# warnings.filterwarnings(\"ignore\")\n",
    "\n",
    "# Make a dictionary with one specific color per group:\n",
    "my_pal = {\"nonsmoker\": \"lightgreen\", \"smoker\": \"purple\"}\n",
    "\n",
    "ax = sns.boxplot(x=\"habit\", y=\"weight\", \n",
    "                 data=BirthdataNC, palette=my_pal)\n",
    "ax = sns.swarmplot(x=\"habit\", y=\"weight\", \n",
    "                   data=BirthdataNC, color=\"grey\", alpha=0.5)\n"
   ]
  },
  {
   "cell_type": "markdown",
   "metadata": {},
   "source": [
    "We first looked at visual differences, now let's see the actual values \n",
    "\n",
    "First, let's check the proportion of females and how you can calculate this in different ways. \n",
    "Then calculate the mean and standard deviation of weight by gender and habit.\n",
    "\n",
    "The standard deviation is good to have, but to assess statistical significance we really want to have the standard error (which is the standard deviation adjusted by the group size)."
   ]
  },
  {
   "cell_type": "code",
   "execution_count": null,
   "metadata": {},
   "outputs": [],
   "source": [
    "female = BirthdataNC[BirthdataNC['gender']=='female']\n",
    "male = BirthdataNC[BirthdataNC['gender']=='male']\n",
    "# Calculate the mean standard, deviation,and standard error of mean for the weight of females and males (by group)\n",
    "\n",
    "BirthdataNC.pivot_table(values=[\"weight\"], \n",
    "                        index=\"gender\", \n",
    "                        aggfunc={'mean', 'std'})\n",
    "#BirthdataNC.groupby('gender')['weight', 'habit'].agg(['mean', 'std'])"
   ]
  },
  {
   "cell_type": "code",
   "execution_count": null,
   "metadata": {},
   "outputs": [],
   "source": [
    "# Calculate the mean standard, deviation,and standard error of mean for the weight of individuals base on their habits\n",
    "BirthdataNC.groupby('habit')['weight'].agg(['mean', 'std', 'sem'])"
   ]
  },
  {
   "cell_type": "markdown",
   "metadata": {},
   "source": [
    "## The `ttest_ind` for Difference in Means <a class = anchor id = anchor5></a>\n",
    "\n",
    "Are these differences significant? We need to test for this, meaning you need to test if given the information in this sample the difference of weight by gender is statistically different from zero.\n",
    "\n",
    "To test differences in means you use a t-test. \n",
    "Here is the way you state your test, by using a null $H_0$ and  $H_a$ alternative hypothesis \n",
    "\n",
    "\n",
    "$$H_0 : \\mu_f- \\mu_m = 0$$\n",
    "$$H_a : \\mu_f- \\mu_m  \\neq 0$$\n",
    "Where $\\mu$ is the mean of one variable per group\n",
    "\n",
    "The T-test is a statistical test that allows you to check for differences in means among different groups. \n",
    "\n",
    "`ttest_ind()`\n",
    "\n",
    "Let's do a t-test for the differences in mean separating the sample by using a couple different variables: **gender and smoking habits** \n"
   ]
  },
  {
   "cell_type": "markdown",
   "metadata": {},
   "source": [
    "<h4 style=\"color: #012169\" markdown=\"1\">T-test for Differences in Weight by Gender: </h4> <a class = anchor id = anchor6></a>"
   ]
  },
  {
   "cell_type": "code",
   "execution_count": null,
   "metadata": {},
   "outputs": [],
   "source": [
    "from scipy.stats import ttest_ind\n",
    "#from statsmodels.stats.proportion import proportions_ztest\n",
    "print('\\nDifference in means between female vs male\\n', \n",
    "      _____)\n"
   ]
  },
  {
   "cell_type": "code",
   "execution_count": null,
   "metadata": {},
   "outputs": [],
   "source": [
    "\n",
    "#run independent sample T-Test \n",
    "tStat, pValue = stats.ttest_ind(______________ , \n",
    "                                _______________)\n",
    "#print the P-Value and the T-Statistic\n",
    "print(\"\\nT-test for differences in weight by gender:\\n P-Value:{0}\\n T-Statistic:{1}\\n\". \n",
    "        format(round(pValue,3),\n",
    "               round(tStat,3))) \n",
    "\n"
   ]
  },
  {
   "cell_type": "markdown",
   "metadata": {},
   "source": [
    "<h4 style=\"color: #012169\" markdown=\"1\">T-test for Differences in Weight by Habit: </h4> <a class = anchor id = anchor7></a>"
   ]
  },
  {
   "cell_type": "code",
   "execution_count": null,
   "metadata": {},
   "outputs": [],
   "source": [
    "# smoke = BirthdataNC[BirthdataNC['habit']=='nonsmoker']['weight']\n",
    "# nonsmoke = BirthdataNC[BirthdataNC['habit']=='smoker']['weight']\n",
    "# array = ([smoke, nonsmoke])\n",
    "# Here is a good place to use a lambda expression\n",
    "BirthdataNC.groupby('habit')['weight'].apply(__________)"
   ]
  },
  {
   "cell_type": "code",
   "execution_count": null,
   "metadata": {},
   "outputs": [],
   "source": [
    "\n",
    "\n",
    "print('\\nDifference in means between nonsmokers vs smokers\\n',round(BirthdataNC.groupby('habit')['weight'].mean()[0]-BirthdataNC.groupby('habit')['weight'].mean()[1],5))\n",
    "\n",
    "testhabit=ttest_ind(*_____________)\n",
    "# the * before the list is used for variadic arguments,\n",
    "# which in this case means that is going to take \n",
    "# the two elements of the list as positional arguments \n",
    "print(\"\\nT-test for differences in weight by habit:\\n P-Value: {0}\\n T-Statistic: {1}\\n\".\n",
    "        format(round(testhabit.statistic,3),\n",
    "               round(testhabit.pvalue,3))) #print the P-Value and the T-Statistic\n"
   ]
  },
  {
   "cell_type": "markdown",
   "metadata": {},
   "source": [
    "# Testing for Differences in Proportions <a class = anchor id = anchor2></a>\n",
    "\n",
    "1. State the null hypothesis $H_0$ and the alternative hypothesis $H_a$ \n",
    "\n",
    "One sample test $$H_0: p = p_o \\\\ H_1: p \\neq p_o$$\n",
    "Two sample test $$H_0: p_1 = p_2 \\\\ H_1: p_1 \\neq p_2$$\n",
    "\n",
    "2. Set the level of significance at $\\alpha$ and find the value of z associated with it, $z_\\alpha$ or critical value. \n",
    "3. Calculate the test statistic \n",
    "One sample test\n",
    "$$z=\\frac{\\hat{p}-p_o}{\\sqrt{\\frac{p_o(1-p_o)}{n}}}$$\n",
    "Two sample test \n",
    "\n",
    "two-proprtion-z-test\n",
    "\n",
    "$$z=\\frac{(\\hat{p_1}-\\hat{p_2})-0}{\\sqrt{\\hat{p}(1-\\hat{p})(\\frac{1}{n_1}+\\frac{1}{n_2})}}$$\n",
    "\n",
    "where $\\hat{p}$ = The overall sample proportion. The numerator will be the total number of “positive” results for the two samples and the denominator is the total number of people in the two samples.\n",
    "\n",
    "4. Calculate the $p-value$  \n",
    "5. Make a decision. Check whether to reject the null hypothesis by comparing $p-value$ to $\\alpha$ and/or t to the $t_\\alpha$. If $p-value<\\alpha$ then reject $H_0$\n",
    "\n",
    "You can perform this in python step by step calculating z and comparaing it to the critical value or you can use a function that does this for you. The `statsmodels.stats.proportion` package has the function`proportions_ztest` that performs this test. \n",
    "\n",
    "`statsmodels.stats.proportion.proportions_ztest(count, nobs, value=None, alternative='two-sided', prop_var=False)`\n",
    "`count` the number of successes in nobs trials\n",
    "`nobs` the number of trials or observations, with the same length as count.\n",
    "`value` This is the value of the null hypothesis equal to the proportion in the case of a one sample test. In the case of a two-sample test, the null hypothesis is that prop[0] - prop[1] = value, where prop is the proportion in the two samples. If not provided value = 0 and the null is prop[0] = prop[1]\n",
    "\n",
    "The documentation for the python function to perform this test can be found [here](https://www.statsmodels.org/dev/generated/statsmodels.stats.proportion.proportions_ztest.html)\n"
   ]
  },
  {
   "cell_type": "code",
   "execution_count": null,
   "metadata": {},
   "outputs": [],
   "source": [
    "print('We have a sample of', \n",
    "      BirthdataNC['gender'].shape[0],'mothers')\n",
    "print(\"The gender of the babies in the sample is distributed:\\n\",\n",
    "      BirthdataNC['gender'].value_counts())\n",
    "print(\"The proportion of babies of each gender is:\\n\",\n",
    "      BirthdataNC['gender'].value_counts(normalize=True))"
   ]
  },
  {
   "cell_type": "markdown",
   "metadata": {},
   "source": [
    "Let's test whether the porportion of women is 50% "
   ]
  },
  {
   "cell_type": "code",
   "execution_count": null,
   "metadata": {},
   "outputs": [],
   "source": [
    "\n",
    "(zstat,pvalue ) =proportions_ztest(BirthdataNC['gender'].value_counts()[0], \n",
    "                                   BirthdataNC['gender'].shape[0], \n",
    "                                   0.5)\n",
    "print(\"\\n Z-test for differences in gender proportion:\\n Z-Statistic: {0}\\n P-Value: {1}\\n\".\n",
    "        format(round(zstat,4),\n",
    "               round(pvalue,4))) #print the P-Value and the T-Statistic\n",
    "\n",
    "#(0.5 -0.497)/np.sqrt(((0.497*0.503)/1000))"
   ]
  },
  {
   "cell_type": "markdown",
   "metadata": {},
   "source": [
    "**Now let's test for difference in the proportion of babies with low birth weight whose mother were smokers vs nonmokers**"
   ]
  },
  {
   "cell_type": "code",
   "execution_count": null,
   "metadata": {},
   "outputs": [],
   "source": [
    "\n",
    "table = pd.DataFrame(pd.crosstab(index = __________ , \n",
    "            columns =_______, margins=_______))\n",
    "print(\"Number of low birthweight per mothers habit \\n\",table)\n",
    "\n",
    "print(\"Proportion of low birthweight per mothers habit \\n\", \n",
    "      pd.crosstab(index = BirthdataNC.________, \n",
    "            columns =BirthdataNC._____________ , \n",
    "            normalize='index', \n",
    "            margins=True).round(4))\n"
   ]
  },
  {
   "cell_type": "code",
   "execution_count": null,
   "metadata": {},
   "outputs": [],
   "source": [
    "# Directly copying the numbers from the table above \n",
    "(zstat,pvalue ) =proportions_ztest([92,18], [873, 126]\n",
    "                                   ,0)\n",
    "\n",
    "# extract numbers from table\n",
    "(______, _________) =proportions_ztest(bla.iloc[:2,0], \n",
    "                                       bla.iloc[:2,2]\n",
    "                                       ,0)\n",
    "\n",
    "#print the P-Value and the z-Statistic\n",
    "\n",
    "print(\"\\n Z-test for differences low birth wieght by mother habit\\n Z-Statistic: {0}\\n P-Value: {1}\\n\".\n",
    "        format(round(zstat,4),\n",
    "               round(pvalue,4))) "
   ]
  },
  {
   "cell_type": "markdown",
   "metadata": {},
   "source": [
    "**Interpretation:** \n",
    "In this sample, we fail to reject the null hipotesis that the smoking causes a higher proportion of babyes with low birth weight. In other words we can not say that the difference in the porportion of low birth weight is statistically significant in this sample. "
   ]
  },
  {
   "cell_type": "markdown",
   "metadata": {},
   "source": [
    "&nbsp;\n",
    "<hr />\n",
    "<p style=\"font-family:palatino; text-align: center;font-size: 15px\">ECON220 Python Programming Laboratory</a></p>\n",
    "<p style=\"font-family:palatino; text-align: center;font-size: 15px\">Professor <em> Paloma Lopez de mesa Moyano</em></a></p>\n",
    "<p style=\"font-family:palatino; text-align: center;font-size: 15px\"><span style=\"color: #6666FF;\"><em>paloma.moyano@emory.edu</em></span></p>\n",
    "\n",
    "<p style=\"font-family:palatino; text-align: center;font-size: 15px\">Department of Economics</a></p>\n",
    "<p style=\"font-family:palatino; text-align: center; color: #012169;font-size: 15px\">Emory University</a></p>\n",
    "\n",
    "&nbsp;"
   ]
  },
  {
   "cell_type": "code",
   "execution_count": null,
   "metadata": {},
   "outputs": [],
   "source": [
    "# !jupyter nbconvert --to html nameoffile.ipynb"
   ]
  }
 ],
 "metadata": {
  "hide_input": false,
  "kernelspec": {
   "display_name": "Python 3 (ipykernel)",
   "language": "python",
   "name": "python3"
  },
  "language_info": {
   "codemirror_mode": {
    "name": "ipython",
    "version": 3
   },
   "file_extension": ".py",
   "mimetype": "text/x-python",
   "name": "python",
   "nbconvert_exporter": "python",
   "pygments_lexer": "ipython3",
   "version": "3.7.9"
  }
 },
 "nbformat": 4,
 "nbformat_minor": 4
}
