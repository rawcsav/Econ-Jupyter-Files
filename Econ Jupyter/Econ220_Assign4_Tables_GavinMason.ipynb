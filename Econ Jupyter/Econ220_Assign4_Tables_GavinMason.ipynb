{
 "cells": [
  {
   "cell_type": "markdown",
   "metadata": {},
   "source": [
    "<h1 style=\"text-align: center; color: purple;\" markdown=\"1\">Assignment 4: Tables </h1>\n",
    "\n",
    "<h2 style=\"text-align: center; color: #012169\" markdown=\"1\"> ECON220 Python Lab</h2>\n",
    "\n",
    "<h3 style=\"text-align: center; color: #012169\" markdown=\"1\"> Author: Gavin Mason</h3>"
   ]
  },
  {
   "cell_type": "markdown",
   "metadata": {},
   "source": [
    "### Table of Contents \n",
    "* [Descriptive Stats using Tables](#anchor1)"
   ]
  },
  {
   "cell_type": "code",
   "execution_count": 71,
   "metadata": {},
   "outputs": [],
   "source": [
    "# Import packages \n",
    "import numpy as np\n",
    "import pandas as pd\n",
    "import seaborn as sns"
   ]
  },
  {
   "cell_type": "markdown",
   "metadata": {},
   "source": [
    "# Descriptive Stats using Tables <a class = anchor id= anchor1></a>\n",
    "\n",
    "In this assignment we are going to use data from the Econometrics book that you will use in your econometrics class. \n",
    "\n",
    "We will be using the data set mroz you can see the description of the variables [here](http://fmwww.bc.edu/ec-p/data/wooldridge/mroz.des)\n",
    "\n",
    "Once you have seen what this data is about, and the description of he variables.\n",
    "\n",
    "1. Import it into python using `read_stata()` function from pandas, the link to get the data is http://fmwww.bc.edu/ec-p/data/wooldridge/mroz.dta\n",
    " * check the info() of the dataset to see what variables are in it. \n",
    " \n",
    " * use the function set() to see the values that the variable city and inlf can take ( This is a quick alternative to value counts to just see the values a variable can take). \n",
    " * Check the code that changes these variables into categorical variables for the purpose of these tables\n",
    "\n",
    "2. Use the function `value_counts()` and `crosstab()` to:\n",
    "\n",
    " * Do a table with the proportion of peple in the city vs not, city variable, \n",
    " * Make another table with the proportion of city by in the labor force (inlf). \n",
    "\n",
    "3. Use the `groupby()` and `agg()` methods from the Pandas package to: Calculate the average education by the city variable\n",
    "\n",
    "4. Create two correlation tables for educ and mother education and educ and father education\n",
    "\n",
    "5. Use `pivot_table()` to calculate the average mother education and father education by the city and inlf variables \n",
    "\n",
    "6. Use `heatmap()` to add color to the table in 5. \n"
   ]
  },
  {
   "cell_type": "code",
   "execution_count": 72,
   "metadata": {},
   "outputs": [
    {
     "name": "stdout",
     "output_type": "stream",
     "text": [
      "<class 'pandas.core.frame.DataFrame'>\n",
      "Int64Index: 753 entries, 0 to 752\n",
      "Data columns (total 22 columns):\n",
      " #   Column    Non-Null Count  Dtype  \n",
      "---  ------    --------------  -----  \n",
      " 0   inlf      753 non-null    float32\n",
      " 1   hours     753 non-null    float32\n",
      " 2   kidslt6   753 non-null    float32\n",
      " 3   kidsge6   753 non-null    float32\n",
      " 4   age       753 non-null    float32\n",
      " 5   educ      753 non-null    float32\n",
      " 6   wage      428 non-null    float32\n",
      " 7   repwage   753 non-null    float32\n",
      " 8   hushrs    753 non-null    float32\n",
      " 9   husage    753 non-null    float32\n",
      " 10  huseduc   753 non-null    float32\n",
      " 11  huswage   753 non-null    float32\n",
      " 12  faminc    753 non-null    float32\n",
      " 13  mtr       753 non-null    float32\n",
      " 14  motheduc  753 non-null    float32\n",
      " 15  fatheduc  753 non-null    float32\n",
      " 16  unem      753 non-null    float32\n",
      " 17  city      753 non-null    float32\n",
      " 18  exper     753 non-null    float32\n",
      " 19  nwifeinc  753 non-null    float32\n",
      " 20  lwage     428 non-null    float32\n",
      " 21  expersq   753 non-null    float32\n",
      "dtypes: float32(22)\n",
      "memory usage: 70.6 KB\n",
      "Values for city variable {0.0, 1.0}\n",
      "Values for inlf variable {0.0, 1.0}\n"
     ]
    }
   ],
   "source": [
    "mroz = pd.read_stata(\"http://fmwww.bc.edu/ec-p/data/wooldridge/mroz.dta\")\n",
    "mroz.info()\n",
    "print(\"Values for city variable\", set(mroz.city))\n",
    "print(\"Values for inlf variable\", set(mroz.inlf))"
   ]
  },
  {
   "cell_type": "code",
   "execution_count": 73,
   "metadata": {},
   "outputs": [],
   "source": [
    "#Change city and inlf from number to categorical variables so the tables are better \n",
    "mroz.city= mroz.city.astype(\"category\")\n",
    "mroz.inlf= mroz.inlf.astype(\"category\")\n",
    "mroz.city = mroz.city.cat.rename_categories({0: \"outcity\", 1: \"city\"})\n",
    "mroz.inlf = mroz.inlf.cat.rename_categories({0: \"not in LF\", 1: \"in LF\"})"
   ]
  },
  {
   "cell_type": "code",
   "execution_count": 74,
   "metadata": {},
   "outputs": [
    {
     "name": "stdout",
     "output_type": "stream",
     "text": [
      "Percentages of people in city vs not\n"
     ]
    },
    {
     "data": {
      "text/plain": [
       "city       0.642762\n",
       "outcity    0.357238\n",
       "Name: city, dtype: float64"
      ]
     },
     "execution_count": 74,
     "metadata": {},
     "output_type": "execute_result"
    }
   ],
   "source": [
    "print(\"Percentages of people in city vs not\")\n",
    "mroz.city.value_counts(normalize=True)"
   ]
  },
  {
   "cell_type": "code",
   "execution_count": 75,
   "metadata": {},
   "outputs": [
    {
     "data": {
      "text/html": [
       "<div>\n",
       "<style scoped>\n",
       "    .dataframe tbody tr th:only-of-type {\n",
       "        vertical-align: middle;\n",
       "    }\n",
       "\n",
       "    .dataframe tbody tr th {\n",
       "        vertical-align: top;\n",
       "    }\n",
       "\n",
       "    .dataframe thead th {\n",
       "        text-align: right;\n",
       "    }\n",
       "</style>\n",
       "<table border=\"1\" class=\"dataframe\">\n",
       "  <thead>\n",
       "    <tr style=\"text-align: right;\">\n",
       "      <th>inlf</th>\n",
       "      <th>not in LF</th>\n",
       "      <th>in LF</th>\n",
       "    </tr>\n",
       "    <tr>\n",
       "      <th>city</th>\n",
       "      <th></th>\n",
       "      <th></th>\n",
       "    </tr>\n",
       "  </thead>\n",
       "  <tbody>\n",
       "    <tr>\n",
       "      <th>outcity</th>\n",
       "      <td>0.152722</td>\n",
       "      <td>0.204515</td>\n",
       "    </tr>\n",
       "    <tr>\n",
       "      <th>city</th>\n",
       "      <td>0.278884</td>\n",
       "      <td>0.363878</td>\n",
       "    </tr>\n",
       "  </tbody>\n",
       "</table>\n",
       "</div>"
      ],
      "text/plain": [
       "inlf     not in LF     in LF\n",
       "city                        \n",
       "outcity   0.152722  0.204515\n",
       "city      0.278884  0.363878"
      ]
     },
     "execution_count": 75,
     "metadata": {},
     "output_type": "execute_result"
    }
   ],
   "source": [
    "pd.crosstab(index = mroz.city, \n",
    "            columns = mroz.inlf , normalize=True)"
   ]
  },
  {
   "cell_type": "code",
   "execution_count": 76,
   "metadata": {},
   "outputs": [
    {
     "data": {
      "text/html": [
       "<div>\n",
       "<style scoped>\n",
       "    .dataframe tbody tr th:only-of-type {\n",
       "        vertical-align: middle;\n",
       "    }\n",
       "\n",
       "    .dataframe tbody tr th {\n",
       "        vertical-align: top;\n",
       "    }\n",
       "\n",
       "    .dataframe thead th {\n",
       "        text-align: right;\n",
       "    }\n",
       "</style>\n",
       "<table border=\"1\" class=\"dataframe\">\n",
       "  <thead>\n",
       "    <tr style=\"text-align: right;\">\n",
       "      <th></th>\n",
       "      <th>mean</th>\n",
       "    </tr>\n",
       "    <tr>\n",
       "      <th>city</th>\n",
       "      <th></th>\n",
       "    </tr>\n",
       "  </thead>\n",
       "  <tbody>\n",
       "    <tr>\n",
       "      <th>outcity</th>\n",
       "      <td>11.799256</td>\n",
       "    </tr>\n",
       "    <tr>\n",
       "      <th>city</th>\n",
       "      <td>12.557851</td>\n",
       "    </tr>\n",
       "  </tbody>\n",
       "</table>\n",
       "</div>"
      ],
      "text/plain": [
       "              mean\n",
       "city              \n",
       "outcity  11.799256\n",
       "city     12.557851"
      ]
     },
     "execution_count": 76,
     "metadata": {},
     "output_type": "execute_result"
    }
   ],
   "source": [
    "mroz.groupby(mroz[\"city\"]).educ.agg([\"mean\"])"
   ]
  },
  {
   "cell_type": "code",
   "execution_count": 77,
   "metadata": {},
   "outputs": [
    {
     "data": {
      "text/html": [
       "<div>\n",
       "<style scoped>\n",
       "    .dataframe tbody tr th:only-of-type {\n",
       "        vertical-align: middle;\n",
       "    }\n",
       "\n",
       "    .dataframe tbody tr th {\n",
       "        vertical-align: top;\n",
       "    }\n",
       "\n",
       "    .dataframe thead th {\n",
       "        text-align: right;\n",
       "    }\n",
       "</style>\n",
       "<table border=\"1\" class=\"dataframe\">\n",
       "  <thead>\n",
       "    <tr style=\"text-align: right;\">\n",
       "      <th></th>\n",
       "      <th>educ</th>\n",
       "      <th>motheduc</th>\n",
       "    </tr>\n",
       "  </thead>\n",
       "  <tbody>\n",
       "    <tr>\n",
       "      <th>educ</th>\n",
       "      <td>1.000000</td>\n",
       "      <td>0.435336</td>\n",
       "    </tr>\n",
       "    <tr>\n",
       "      <th>motheduc</th>\n",
       "      <td>0.435336</td>\n",
       "      <td>1.000000</td>\n",
       "    </tr>\n",
       "  </tbody>\n",
       "</table>\n",
       "</div>"
      ],
      "text/plain": [
       "              educ  motheduc\n",
       "educ      1.000000  0.435336\n",
       "motheduc  0.435336  1.000000"
      ]
     },
     "execution_count": 77,
     "metadata": {},
     "output_type": "execute_result"
    }
   ],
   "source": [
    "mroz[['educ', 'motheduc']].corr()\n"
   ]
  },
  {
   "cell_type": "code",
   "execution_count": 78,
   "metadata": {},
   "outputs": [
    {
     "data": {
      "text/html": [
       "<div>\n",
       "<style scoped>\n",
       "    .dataframe tbody tr th:only-of-type {\n",
       "        vertical-align: middle;\n",
       "    }\n",
       "\n",
       "    .dataframe tbody tr th {\n",
       "        vertical-align: top;\n",
       "    }\n",
       "\n",
       "    .dataframe thead th {\n",
       "        text-align: right;\n",
       "    }\n",
       "</style>\n",
       "<table border=\"1\" class=\"dataframe\">\n",
       "  <thead>\n",
       "    <tr style=\"text-align: right;\">\n",
       "      <th></th>\n",
       "      <th>educ</th>\n",
       "      <th>fatheduc</th>\n",
       "    </tr>\n",
       "  </thead>\n",
       "  <tbody>\n",
       "    <tr>\n",
       "      <th>educ</th>\n",
       "      <td>1.000000</td>\n",
       "      <td>0.442458</td>\n",
       "    </tr>\n",
       "    <tr>\n",
       "      <th>fatheduc</th>\n",
       "      <td>0.442458</td>\n",
       "      <td>1.000000</td>\n",
       "    </tr>\n",
       "  </tbody>\n",
       "</table>\n",
       "</div>"
      ],
      "text/plain": [
       "              educ  fatheduc\n",
       "educ      1.000000  0.442458\n",
       "fatheduc  0.442458  1.000000"
      ]
     },
     "execution_count": 78,
     "metadata": {},
     "output_type": "execute_result"
    }
   ],
   "source": [
    "mroz[['educ', 'fatheduc']].corr()\n"
   ]
  },
  {
   "cell_type": "code",
   "execution_count": 79,
   "metadata": {},
   "outputs": [
    {
     "data": {
      "text/html": [
       "<div>\n",
       "<style scoped>\n",
       "    .dataframe tbody tr th:only-of-type {\n",
       "        vertical-align: middle;\n",
       "    }\n",
       "\n",
       "    .dataframe tbody tr th {\n",
       "        vertical-align: top;\n",
       "    }\n",
       "\n",
       "    .dataframe thead th {\n",
       "        text-align: right;\n",
       "    }\n",
       "</style>\n",
       "<table border=\"1\" class=\"dataframe\">\n",
       "  <thead>\n",
       "    <tr style=\"text-align: right;\">\n",
       "      <th></th>\n",
       "      <th></th>\n",
       "      <th>fatheduc</th>\n",
       "      <th>motheduc</th>\n",
       "    </tr>\n",
       "    <tr>\n",
       "      <th>inlf</th>\n",
       "      <th>city</th>\n",
       "      <th></th>\n",
       "      <th></th>\n",
       "    </tr>\n",
       "  </thead>\n",
       "  <tbody>\n",
       "    <tr>\n",
       "      <th rowspan=\"2\" valign=\"top\">not in LF</th>\n",
       "      <th>outcity</th>\n",
       "      <td>8.03</td>\n",
       "      <td>8.38</td>\n",
       "    </tr>\n",
       "    <tr>\n",
       "      <th>city</th>\n",
       "      <td>8.87</td>\n",
       "      <td>9.19</td>\n",
       "    </tr>\n",
       "    <tr>\n",
       "      <th rowspan=\"2\" valign=\"top\">in LF</th>\n",
       "      <th>outcity</th>\n",
       "      <td>8.12</td>\n",
       "      <td>9.36</td>\n",
       "    </tr>\n",
       "    <tr>\n",
       "      <th>city</th>\n",
       "      <td>9.48</td>\n",
       "      <td>9.60</td>\n",
       "    </tr>\n",
       "  </tbody>\n",
       "</table>\n",
       "</div>"
      ],
      "text/plain": [
       "                   fatheduc  motheduc\n",
       "inlf      city                       \n",
       "not in LF outcity      8.03      8.38\n",
       "          city         8.87      9.19\n",
       "in LF     outcity      8.12      9.36\n",
       "          city         9.48      9.60"
      ]
     },
     "execution_count": 79,
     "metadata": {},
     "output_type": "execute_result"
    }
   ],
   "source": [
    "mroz.pivot_table(values=[\"motheduc\", \"fatheduc\"], \n",
    "                index=[\"inlf\", \"city\"], aggfunc='mean').round(2)"
   ]
  },
  {
   "cell_type": "code",
   "execution_count": 80,
   "metadata": {},
   "outputs": [],
   "source": [
    "tabl1 = pd.crosstab(index = [mroz.inlf,mroz.city], \n",
    "            columns =[mroz.motheduc,mroz.fatheduc]).agg(\"mean\")"
   ]
  },
  {
   "cell_type": "code",
   "execution_count": 81,
   "metadata": {},
   "outputs": [
    {
     "data": {
      "text/plain": [
       "[Text(0.5, 1.0, 'Average father education and mother education by city living and labor force participation'),\n",
       " Text(32.99999999999999, 0.5, 'City living and labor force participation'),\n",
       " Text(0.5, 15.0, 'Averages')]"
      ]
     },
     "execution_count": 81,
     "metadata": {},
     "output_type": "execute_result"
    },
    {
     "data": {
      "image/png": "[encoded data removed]",
      "text/plain": [
       "<Figure size 432x288 with 2 Axes>"
      ]
     },
     "metadata": {
      "needs_background": "light"
     },
     "output_type": "display_data"
    }
   ],
   "source": [
    "sns.heatmap(tabll,\n",
    "           cmap=\"YlGnBu\", \n",
    "            annot=True, \n",
    "            xticklabels = [\"Father's Education\", \"Mother's Education\"],\n",
    "            fmt='g').set(title=\"Average father education and mother education by city living and labor force participation\",\n",
    "                        ylabel= \"City living and labor force participation\",\n",
    "                        xlabel=\"Averages\")"
   ]
  },
  {
   "cell_type": "markdown",
   "metadata": {},
   "source": [
    "&nbsp;\n",
    "\n",
    "<hr />\n",
    "\n",
    "<p style=\"text-align: center;\">ECON220 Python Programming Laboratory</a></p>\n",
    "<p style=\"text-align: center;\">Professor <em> Paloma Lopez de mesa Moyano</em></a></p>\n",
    "<p style=\"text-align: center;\"><span style=\"color: #6666FF;\"><em>paloma.moyano@emory.edu</em></span></p>\n",
    "\n",
    "<p style=\"text-align: center;\">Department of Economics</a></p>\n",
    "<p style=\"text-align: center;\">Emory University</a></p>\n",
    "\n",
    "&nbsp;"
   ]
  },
  {
   "cell_type": "code",
   "execution_count": 82,
   "metadata": {},
   "outputs": [],
   "source": [
    "# !jupyter nbconvert --to html nameoffile.ipynb"
   ]
  }
 ],
 "metadata": {
  "hide_input": false,
  "kernelspec": {
   "display_name": "Python 3 (ipykernel)",
   "language": "python",
   "name": "python3"
  },
  "language_info": {
   "codemirror_mode": {
    "name": "ipython",
    "version": 3
   },
   "file_extension": ".py",
   "mimetype": "text/x-python",
   "name": "python",
   "nbconvert_exporter": "python",
   "pygments_lexer": "ipython3",
   "version": "3.9.7"
  }
 },
 "nbformat": 4,
 "nbformat_minor": 4
}
