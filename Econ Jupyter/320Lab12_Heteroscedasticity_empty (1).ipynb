{
 "cells": [
  {
   "cell_type": "code",
   "execution_count": null,
   "metadata": {},
   "outputs": [],
   "source": [
    "from IPython.display import HTML\n",
    "\n",
    "HTML('''<script>\n",
    "code_show=true; \n",
    "function code_toggle() {\n",
    " if (code_show){\n",
    " $('div.input').hide();\n",
    " } else {\n",
    " $('div.input').show();\n",
    " }\n",
    " code_show = !code_show\n",
    "} \n",
    "$( document ).ready(code_toggle);\n",
    "</script>\n",
    "<form action=\"javascript:code_toggle()\"><input type=\"submit\" value=\"Click here to toggle on/off the raw code.\"></form>''')"
   ]
  },
  {
   "cell_type": "markdown",
   "metadata": {},
   "source": [
    "<style>\n",
    "div.blue{\n",
    "    background-color:#e6f0ff; \n",
    "    border-radius: 5px; \n",
    "    padding: 20px;}\n",
    "</style> \n",
    "\n",
    "<style>\n",
    "div.warn {    \n",
    "    background-color: #fcf2f2;\n",
    "    border-color: #dFb5b4;\n",
    "    border-left: 5px solid #dfb5b4;\n",
    "    padding: 0.5em;\n",
    "    }\n",
    " </style>\n",
    "    \n",
    "<h1 style=\"text-align: center; color: purple;\" markdown=\"1\">Econ 320 Python: Heteroscedasticity </h1>\n",
    "<h2 style=\"text-align: center; color: purple;\" markdown=\"1\">Handout # 12 </h2>\n",
    "\n",
    " \n"
   ]
  },
  {
   "cell_type": "markdown",
   "metadata": {},
   "source": [
    "#### Package setup"
   ]
  },
  {
   "cell_type": "code",
   "execution_count": null,
   "metadata": {},
   "outputs": [],
   "source": [
    "import wooldridge as woo\n",
    "import numpy as np \n",
    "import pandas as pd\n",
    "import seaborn as sns\n",
    "import matplotlib.pyplot as plt\n",
    "import statsmodels.formula.api as smf\n",
    "import statsmodels.stats.api as sms\n",
    "import statsmodels.api as sm\n",
    "import patsy as pt\n",
    "\n",
    "from stargazer.stargazer import Stargazer\n",
    "from IPython.core.display import HTML"
   ]
  },
  {
   "cell_type": "markdown",
   "metadata": {},
   "source": [
    "# Heteroscedasticity\n",
    "\n",
    "The homoscedasticity assumptions require that the variance of the error terms is unrelated to the regressors, i.e. \n",
    "\n",
    "$$Var(u|x_1, ..., x_k)=\\sigma^2.$$ \n",
    "\n",
    "If homoscedasticity is violated, the standard errors are invalid and all inferences from t, F and other tests based on them are unreliable. In that case, we are facing heteroscedasticity in the standard errors: the circumstance in which the variability of the standard errors is unequal across the range of values of the predicted value of the dependent variable.\n",
    "\n",
    "## Heteroscedasticity-Robust Inference\n",
    "\n",
    "\n",
    "As you learned in class you need to modify the standard errors to correct for heteroscedasticity. This is having \"heteroscedasticity-robust standard errors.\" \n",
    "\n",
    "In Python, we can do this using the `statsmodels` package. Using the  argument `cov_type` in the method `.fit()` we can obtain regression results that produced several refined versions of the white formula presented in your book. (Wooldridge, 2019). \n",
    "\n",
    "Let's say that the results from your regression are stored in the object *reg.*, then the variance- covariance matrix can be calculated using \n",
    "\n",
    "* **reg.fit(cov_type='nonrobust')** or **reg.fit()** for the default homoscedasticy-based standard errors. \n",
    "* **reg.fit(cov_type='HC0')**  for the classical version of White's robust varinace-covariance matrix by Wooldridge (2019, Equation 8.4 in Section 8,2)\n",
    "* **reg.fit(cov_type='HC1')**  for the classical version of White's robust varinace-covariance matrix corrected by degrees of freedom.  \n",
    "* **reg.fit(cov_type='HC2')**  for a version with small sample correction. This isndefault behavious of Stata. \n",
    "* **reg.fit(cov_type='HC3')**  for the refined version of version White's robust variance- covariance matrix. \n",
    "\n",
    "### Example with GPA data from wooldridge\n",
    "\n",
    "For the spring semester run the regression \n",
    "\n",
    "$$ Cumulative GPA = \\beta_0 + \\beta_1SAT + \\beta_2HSpercentile + \\beta_3Totalhours + \\beta_4 female + \\beta_5 black + \\beta_6 white $$\n"
   ]
  },
  {
   "cell_type": "code",
   "execution_count": null,
   "metadata": {},
   "outputs": [],
   "source": [
    "gpa3 = woo.dataWoo('gpa3')\n",
    "\n",
    "# define regression model:\n",
    "reg = smf.ols(formula='cumgpa ~ sat + hsperc + tothrs + female + black + white',\n",
    "              data=gpa3, subset=(gpa3['spring'] == 1))\n",
    "\n",
    "# estimate default model (only for spring data):\n",
    "results_default = reg.fit()\n"
   ]
  },
  {
   "cell_type": "code",
   "execution_count": null,
   "metadata": {},
   "outputs": [],
   "source": [
    "# estimate model with White SE (only for spring data):\n",
    "results_white = reg.fit(_________)\n",
    "\n",
    "# estimate model with refined White SE (only for spring data):\n",
    "results_refined = reg.fit()\n",
    "\n"
   ]
  },
  {
   "cell_type": "markdown",
   "metadata": {},
   "source": [
    "## Inference \n",
    "### T-test  another way of doing it\n",
    "\n",
    "in this example we are going to test $H_0: \\beta_4 =0 $ if the coefficient associated with female variables is statistically significant. We learned a few ways of doing this in the inference chapter and we also know that the resulst table gives us the answer. but here is another quick way. We are going to do the test for the results assuming homoskedasticity and assuming heteroskedasticity. ( Yes it can also be written heteroscedasticity)\n",
    "\n",
    "Once you define the hypothesis you can use the function `t_test()` to test for the significance of your results see below and compare the results. The coefficnets remain the same, the standard errors change, but in this case we still reject the null hypothesis. "
   ]
  },
  {
   "cell_type": "code",
   "execution_count": null,
   "metadata": {},
   "outputs": [],
   "source": [
    "H0 = 'female = 0'\n",
    "t_test =  # Assuming Homoskedasticity\n",
    "print(t_test)\n",
    "t_test =  # Assuming Heteroskedasticity\n",
    "print(t_test)"
   ]
  },
  {
   "cell_type": "code",
   "execution_count": null,
   "metadata": {},
   "outputs": [],
   "source": [
    "# put all results in stargazer table and \n",
    "models = Stargazer([results_default, results_white, results_refined])\n",
    "#models.covariate_order(['Intercept','female' , 'educ' , 'exper', 'tenure', 'married',])\n",
    "HTML(models.render_html())"
   ]
  },
  {
   "cell_type": "markdown",
   "metadata": {},
   "source": [
    "### The F- test \n",
    "\n",
    "For the joint significance of all the coefficients you can check results for the F test on the regression table or  stargazer table. \n",
    "\n",
    "For other joint hypothesis like \n",
    "\n",
    "$$H_0: \\beta_5 = 0 \\: \\&  \\: \\beta_6=0$$\n",
    "\n",
    "See examples below. \n",
    " "
   ]
  },
  {
   "cell_type": "code",
   "execution_count": null,
   "metadata": {},
   "outputs": [],
   "source": [
    "# definition of model and hypotheses:\n",
    "reg = smf.ols(formula='cumgpa ~ sat + hsperc + tothrs + female + black + white',\n",
    "              data=gpa3, subset=(gpa3['spring'] == 1))\n",
    "hypotheses = ['black = 0', 'white = 0']\n",
    "\n",
    "# F-Tests using different variance-covariance formulas:\n",
    "# ususal VCOV:\n",
    "results_default = reg.fit()\n",
    "ftest_default = \n",
    "fstat_default = \n",
    "fpval_default = \n",
    "print(f'fstat_default: {fstat_default}\\n')\n",
    "print(f'fpval_default: {fpval_default}\\n')\n",
    "\n",
    "# refined White VCOV:\n",
    "results_hc3 = reg.fit(cov_type='HC3')\n",
    "ftest_hc3 = results_hc3.f_test(hypotheses)\n",
    "fstat_hc3 = ftest_hc3.statistic[0][0]\n",
    "fpval_hc3 = ftest_hc3.pvalue\n",
    "print(f'fstat_hc3: {fstat_hc3}\\n')\n",
    "print(f'fpval_hc3: {fpval_hc3}\\n')\n",
    "\n",
    "# classical White VCOV:\n",
    "results_hc0 = reg.fit(cov_type='HC0')\n",
    "ftest_hc0 = results_hc0.f_test(hypotheses)\n",
    "fstat_hc0 = ftest_hc0.statistic[0][0]\n",
    "fpval_hc0 = ftest_hc0.pvalue\n",
    "print(f'fstat_hc0: {fstat_hc0}\\n')\n",
    "print(f'fpval_hc0: {fpval_hc0}\\n')"
   ]
  },
  {
   "cell_type": "markdown",
   "metadata": {},
   "source": [
    "## Heteroskedasticity test\n",
    "\n",
    "The null hypothesis for this tests is that the homoscesdasticity assumption is true. Meaning that the variance of the error term should be constant. $$ H_0: E(u|X)=\\Phi^2$$\n",
    "\n",
    "Breush-Pagan test (BP test) for heteroscedasticity is easy to implement with basic OLS routines. \n",
    "\n",
    " 1. Run the resgression $y = \\beta_0 + \\beta_1x_1 + \\beta_2x_2 + \\beta_2x_2 + ... + \\beta_kx_k$\n",
    " 2. Obtain the residuals $\\hat{u}$\n",
    " 3. Regress $\\hat{u}^2= \\delta_0 + \\delta_1x_1 + \\delta_2x_2 + \\delta_2x_2 + ... + \\delta_kx_k = e$  \n",
    " 4. Test for joint significance of all the independent variables. The F test. This will give you an LM statictic  that is aproximatelly distributed $\\chi^2$\n",
    " \n",
    "The LM version of the BP test is very convinient to use with the **statsmodels** function **stats.diagnostic.het_breuschpagan** It can be used directly. \n",
    "\n",
    "We can also use the *bptest* command to do the calculations of the LM version of the test."
   ]
  },
  {
   "cell_type": "code",
   "execution_count": null,
   "metadata": {},
   "outputs": [],
   "source": [
    "hprice1 = woo.dataWoo('hprice1')\n",
    "\n",
    "# estimate model:\n",
    "results=smf.ols(\"price~lotsize+sqrft+bdrms\", data=hprice1).fit()\n",
    "results.summary()"
   ]
  },
  {
   "cell_type": "code",
   "execution_count": null,
   "metadata": {},
   "outputs": [],
   "source": [
    "# automatic BP test (LM version):\n",
    "\n",
    "from statsmodels.compat import lzip\n",
    "test = \n",
    "name = []\n",
    "pd.DataFrame()"
   ]
  },
  {
   "cell_type": "code",
   "execution_count": null,
   "metadata": {},
   "outputs": [],
   "source": [
    "# Manual regression of squared residuals \n",
    "smf.ols(\"np.power(results.resid,2) ~ lotsize+sqrft+bdrms\", data=hprice1).fit().f_pvalue"
   ]
  },
  {
   "cell_type": "markdown",
   "metadata": {},
   "source": [
    "#### The White test \n",
    "\n",
    "This test is a variant of the BP test where we regress the residuals on the fitted values of $\\hat{y}$ and $\\hat{y}^2$\n",
    "\n",
    "The example below estimates a model of housing prices and tests for heteroscedasticity in the standard errors. In the two cases below, both tests do not reject the null hypotesis at conventionally significant levels. \n",
    "> Look at the p values. "
   ]
  },
  {
   "cell_type": "code",
   "execution_count": null,
   "metadata": {},
   "outputs": [],
   "source": [
    "from statsmodels.compat import lzip\n",
    "\n",
    "dato = woo.dataWoo('hprice1')\n",
    "results=smf.ols(\"np.log(price)~np.log(lotsize)+np.log(sqrft)+bdrms\", data=hprice1).fit()\n",
    "\n",
    "# BP test\n",
    "test = sms.het_breuschpagan(results.resid, results.model.exog)\n",
    "labels = ['LM Statistic', 'LM-Test p-value', 'F-Statistic', 'F-Test p-value']\n",
    "print('B-P Test')\n",
    "display(pd.DataFrame(lzip(labels,test)))\n",
    "\n",
    "\n",
    "# White test standard version 1 \n",
    "result_white_predictions = \n",
    "print('White Test (version 1)')\n",
    "display(pd.DataFrame(zip(labels, result_white_predictions)))\n",
    "\n",
    "# White test version 2 \n",
    "# create the data with \n",
    "X_wh = pd.DataFrame({__________________________})\n",
    "result_white_predictions = sm.stats.diagnostic.het_breuschpagan(results.resid, X_wh)\n",
    "print('White Test (Version 2)')\n",
    "# lzip or zip the output array into a datafram for a nice looking table.\n",
    "display(pd.DataFrame(lzip(labels,result_white_predictions)))\n",
    "\n"
   ]
  },
  {
   "cell_type": "markdown",
   "metadata": {},
   "source": [
    "## Computer exercises \n",
    "\n",
    "### 1 \n",
    "Run the model for the `sleep75` data set as appears in the book and test if the variance depends on the gender variable. "
   ]
  },
  {
   "cell_type": "code",
   "execution_count": null,
   "metadata": {},
   "outputs": [],
   "source": [
    "sleep75 = woo.dataWoo('sleep75')\n",
    "\n"
   ]
  },
  {
   "cell_type": "markdown",
   "metadata": {},
   "source": [
    "> The variance is not statistically different for men than for women. The t statistic is not significant at even 20% "
   ]
  },
  {
   "cell_type": "markdown",
   "metadata": {},
   "source": [
    "### 2 \n",
    "Use the data in `HPRICE1` to obtain the heteroskedasticity-robust standard errors for equation\n",
    "\n",
    "$$price = \\beta_0 + \\beta_1*lotsize + \\beta_2*sqrft + \\beta_3*bdrms $$ \n",
    "\n",
    "Discuss any important differences with the usual standard errors. \n",
    "(ii)\tRepeat part (i) for equation \n",
    "$$log(price) = log(lotsize) + log(sqrft) + bdrms$$.\n",
    "(iii)\tWhat does this example suggest about heteroskedasticity and the transformation used for the dependent variable?\n",
    "\n",
    "**Take the log-transform of the dependent variable\n",
    "Taking the log transform of the dependent variable is one of the most commonly used techniques for not only linearizing the dependent variable y but for also 'dampening down' the heteroscedastic variance (if it exists) in y.**\n"
   ]
  },
  {
   "cell_type": "code",
   "execution_count": null,
   "metadata": {},
   "outputs": [],
   "source": [
    "\n",
    "results=smf.ols('price ~ lotsize + sqrft + bdrms', data=hprice1).fit()\n",
    "# Refined White heteroscedasticity-robust SE:\n",
    "\n",
    "# put all results in stargazer table and \n",
    "\n",
    "#models.covariate_order(['Intercept','female' , 'educ' , 'exper', 'tenure', 'married',])\n"
   ]
  },
  {
   "cell_type": "code",
   "execution_count": null,
   "metadata": {},
   "outputs": [],
   "source": [
    "resultslog=smf.ols(\"np.log(price)~np.log(lotsize)+np.log(sqrft)+bdrms\", data=hprice1).fit()\n",
    "resultslog_rob=smf.ols(\"______________________\", data=hprice1).fit(_______________________)\n",
    "\n",
    "# Refined White heteroscedasticity-robust SE:\n",
    "# put all results in stargazer table and \n",
    "modelslog = Stargazer([resultslog, resultslog_rob])\n",
    "#models.covariate_order(['Intercept','female' , 'educ' , 'exper', 'tenure', 'married',])\n",
    "HTML(modelslog.render_html())"
   ]
  },
  {
   "cell_type": "markdown",
   "metadata": {},
   "source": [
    "&nbsp;\n",
    "<hr />\n",
    "<p style=\"font-family:palatino; text-align: center;font-size: 15px\">ECON320 Python Programming Laboratory</a></p>\n",
    "<p style=\"font-family:palatino; text-align: center;font-size: 15px\">Professor <em> Paloma Lopez de mesa Moyano</em></a></p>\n",
    "<p style=\"font-family:palatino; text-align: center;font-size: 15px\"><span style=\"color: #6666FF;\"><em>paloma.moyano@emory.edu</em></span></p>\n",
    "\n",
    "<p style=\"font-family:palatino; text-align: center;font-size: 15px\">Department of Economics</a></p>\n",
    "<p style=\"font-family:palatino; text-align: center; color: #012169;font-size: 15px\">Emory University</a></p>\n",
    "\n",
    "&nbsp;"
   ]
  }
 ],
 "metadata": {
  "kernelspec": {
   "display_name": "Python 3 (ipykernel)",
   "language": "python",
   "name": "python3"
  },
  "language_info": {
   "codemirror_mode": {
    "name": "ipython",
    "version": 3
   },
   "file_extension": ".py",
   "mimetype": "text/x-python",
   "name": "python",
   "nbconvert_exporter": "python",
   "pygments_lexer": "ipython3",
   "version": "3.9.7"
  },
  "varInspector": {
   "cols": {
    "lenName": 16,
    "lenType": 16,
    "lenVar": 40
   },
   "kernels_config": {
    "python": {
     "delete_cmd_postfix": "",
     "delete_cmd_prefix": "del ",
     "library": "var_list.py",
     "varRefreshCmd": "print(var_dic_list())"
    },
    "r": {
     "delete_cmd_postfix": ") ",
     "delete_cmd_prefix": "rm(",
     "library": "var_list.r",
     "varRefreshCmd": "cat(var_dic_list()) "
    }
   },
   "types_to_exclude": [
    "module",
    "function",
    "builtin_function_or_method",
    "instance",
    "_Feature"
   ],
   "window_display": false
  }
 },
 "nbformat": 4,
 "nbformat_minor": 4
}
