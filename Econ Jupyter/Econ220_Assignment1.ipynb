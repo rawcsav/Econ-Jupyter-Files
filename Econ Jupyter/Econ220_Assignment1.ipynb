{
 "cells": [
  {
   "cell_type": "markdown",
   "id": "a15b8307-96c0-41e6-b8e4-d6e7a71489ef",
   "metadata": {},
   "source": [
    "<h1 style=\"text-align: center; color: purple;\" markdown=\"1\">Assignment 1: My First Jupyter Notebook </h1>\n",
    "<h2 style=\"text-align: center; color: #012169\" markdown=\"1\">Econ 220 Python Lab  </h2>\n",
    "<h3 style=\"text-align: center; color: #012169\" markdown=\"1\">Author: Gavin Mason  </h3>"
   ]
  },
  {
   "cell_type": "code",
   "execution_count": null,
   "id": "0342a47c-6a62-4a47-ad93-b780060e5fc5",
   "metadata": {},
   "outputs": [],
   "source": [
    "import os\n",
    "import pandas as pd"
   ]
  },
  {
   "cell_type": "markdown",
   "id": "222ebbb6-6d3d-4669-8aac-fe22142577fe",
   "metadata": {},
   "source": [
    "# Loading Data With Python"
   ]
  },
  {
   "cell_type": "code",
   "execution_count": 8,
   "id": "d5953d14-66dc-475a-9040-a0c3315b1841",
   "metadata": {},
   "outputs": [
    {
     "data": {
      "text/html": [
       "<div>\n",
       "<style scoped>\n",
       "    .dataframe tbody tr th:only-of-type {\n",
       "        vertical-align: middle;\n",
       "    }\n",
       "\n",
       "    .dataframe tbody tr th {\n",
       "        vertical-align: top;\n",
       "    }\n",
       "\n",
       "    .dataframe thead th {\n",
       "        text-align: right;\n",
       "    }\n",
       "</style>\n",
       "<table border=\"1\" class=\"dataframe\">\n",
       "  <thead>\n",
       "    <tr style=\"text-align: right;\">\n",
       "      <th></th>\n",
       "      <th>Song</th>\n",
       "      <th>Million</th>\n",
       "    </tr>\n",
       "  </thead>\n",
       "  <tbody>\n",
       "    <tr>\n",
       "      <th>0</th>\n",
       "      <td>Peaches (feat. Daniel Caesar &amp; Giveon) - Justi...</td>\n",
       "      <td>42.40</td>\n",
       "    </tr>\n",
       "    <tr>\n",
       "      <th>1</th>\n",
       "      <td>drivers license - Olivia Rodrigo</td>\n",
       "      <td>29.33</td>\n",
       "    </tr>\n",
       "    <tr>\n",
       "      <th>2</th>\n",
       "      <td>Astronaut In The Ocean - Masked Wolf</td>\n",
       "      <td>28.31</td>\n",
       "    </tr>\n",
       "    <tr>\n",
       "      <th>3</th>\n",
       "      <td>telepatía - Kali Uchis</td>\n",
       "      <td>28.21</td>\n",
       "    </tr>\n",
       "    <tr>\n",
       "      <th>4</th>\n",
       "      <td>Hold On - Justin Bieber</td>\n",
       "      <td>27.82</td>\n",
       "    </tr>\n",
       "  </tbody>\n",
       "</table>\n",
       "</div>"
      ],
      "text/plain": [
       "                                                Song  Million\n",
       "0  Peaches (feat. Daniel Caesar & Giveon) - Justi...    42.40\n",
       "1                   drivers license - Olivia Rodrigo    29.33\n",
       "2               Astronaut In The Ocean - Masked Wolf    28.31\n",
       "3                             telepatía - Kali Uchis    28.21\n",
       "4                            Hold On - Justin Bieber    27.82"
      ]
     },
     "execution_count": 8,
     "metadata": {},
     "output_type": "execute_result"
    }
   ],
   "source": [
    "path = 'https://www.alexandramanta.info/media/econ220_labs/'\n",
    "topspotify = pd.read_excel(path + 'topspotify2021.xlsx', sheet_name = \"Data\", skiprows=3, usecols=\"B:C\", nrows=10, header=1)\n",
    "topspotify.head()"
   ]
  },
  {
   "cell_type": "code",
   "execution_count": 66,
   "id": "2a09ffed-37c0-4235-a814-927bfdb3c5fa",
   "metadata": {},
   "outputs": [
    {
     "name": "stdout",
     "output_type": "stream",
     "text": [
      "<class 'pandas.core.frame.DataFrame'>\n",
      "RangeIndex: 10 entries, 0 to 9\n",
      "Data columns (total 2 columns):\n",
      " #   Column   Non-Null Count  Dtype  \n",
      "---  ------   --------------  -----  \n",
      " 0   Song     10 non-null     object \n",
      " 1   Million  10 non-null     float64\n",
      "dtypes: float64(1), object(1)\n",
      "memory usage: 288.0+ bytes\n"
     ]
    }
   ],
   "source": [
    "topspotify.info()"
   ]
  },
  {
   "cell_type": "markdown",
   "id": "c153a16a-5e1d-4d1b-a07e-9f88a5a8a4ea",
   "metadata": {},
   "source": [
    "## Create a New Vector"
   ]
  },
  {
   "cell_type": "code",
   "execution_count": 13,
   "id": "05eddeca-8fb0-4627-b289-fd13ea11d0d0",
   "metadata": {},
   "outputs": [
    {
     "data": {
      "text/html": [
       "<div>\n",
       "<style scoped>\n",
       "    .dataframe tbody tr th:only-of-type {\n",
       "        vertical-align: middle;\n",
       "    }\n",
       "\n",
       "    .dataframe tbody tr th {\n",
       "        vertical-align: top;\n",
       "    }\n",
       "\n",
       "    .dataframe thead th {\n",
       "        text-align: right;\n",
       "    }\n",
       "</style>\n",
       "<table border=\"1\" class=\"dataframe\">\n",
       "  <thead>\n",
       "    <tr style=\"text-align: right;\">\n",
       "      <th></th>\n",
       "      <th>Million</th>\n",
       "      <th>Like</th>\n",
       "    </tr>\n",
       "    <tr>\n",
       "      <th>Song</th>\n",
       "      <th></th>\n",
       "      <th></th>\n",
       "    </tr>\n",
       "  </thead>\n",
       "  <tbody>\n",
       "    <tr>\n",
       "      <th>Peaches (feat. Daniel Caesar &amp; Giveon) - Justin Bieber</th>\n",
       "      <td>42.40</td>\n",
       "      <td>L</td>\n",
       "    </tr>\n",
       "    <tr>\n",
       "      <th>drivers license - Olivia Rodrigo</th>\n",
       "      <td>29.33</td>\n",
       "      <td>L</td>\n",
       "    </tr>\n",
       "    <tr>\n",
       "      <th>Astronaut In The Ocean - Masked Wolf</th>\n",
       "      <td>28.31</td>\n",
       "      <td>N</td>\n",
       "    </tr>\n",
       "    <tr>\n",
       "      <th>telepatía - Kali Uchis</th>\n",
       "      <td>28.21</td>\n",
       "      <td>N</td>\n",
       "    </tr>\n",
       "    <tr>\n",
       "      <th>Hold On - Justin Bieber</th>\n",
       "      <td>27.82</td>\n",
       "      <td>N</td>\n",
       "    </tr>\n",
       "    <tr>\n",
       "      <th>Save Your Tears - The Weeknd</th>\n",
       "      <td>26.88</td>\n",
       "      <td>L</td>\n",
       "    </tr>\n",
       "    <tr>\n",
       "      <th>Leave The Door Open - Bruno Mars, Anderson .Paak, Silk Sonic</th>\n",
       "      <td>24.08</td>\n",
       "      <td>N</td>\n",
       "    </tr>\n",
       "    <tr>\n",
       "      <th>Blinding Lights - The Weeknd</th>\n",
       "      <td>21.73</td>\n",
       "      <td>D</td>\n",
       "    </tr>\n",
       "    <tr>\n",
       "      <th>As I Am (feat. Khalid) - Justin Bieber</th>\n",
       "      <td>21.82</td>\n",
       "      <td>D</td>\n",
       "    </tr>\n",
       "    <tr>\n",
       "      <th>DÁKITI - Bad Bunny, Jhay Cortez</th>\n",
       "      <td>21.05</td>\n",
       "      <td>L</td>\n",
       "    </tr>\n",
       "  </tbody>\n",
       "</table>\n",
       "</div>"
      ],
      "text/plain": [
       "                                                    Million Like\n",
       "Song                                                            \n",
       "Peaches (feat. Daniel Caesar & Giveon) - Justin...    42.40    L\n",
       "drivers license - Olivia Rodrigo                      29.33    L\n",
       "Astronaut In The Ocean - Masked Wolf                  28.31    N\n",
       "telepatía - Kali Uchis                                28.21    N\n",
       "Hold On - Justin Bieber                               27.82    N\n",
       "Save Your Tears - The Weeknd                          26.88    L\n",
       "Leave The Door Open - Bruno Mars, Anderson .Paa...    24.08    N\n",
       "Blinding Lights - The Weeknd                          21.73    D\n",
       "As I Am (feat. Khalid) - Justin Bieber                21.82    D\n",
       "DÁKITI - Bad Bunny, Jhay Cortez                       21.05    L"
      ]
     },
     "execution_count": 13,
     "metadata": {},
     "output_type": "execute_result"
    }
   ],
   "source": [
    "like = [\"L\",\"L\",\"N\",\"N\",\"N\",\"L\",\"N\",\"D\",\"D\",\"L\"]\n",
    "topspotify[\"Like\"] = like\n",
    "topspotify.set_index(\"Song\")"
   ]
  },
  {
   "cell_type": "code",
   "execution_count": 14,
   "id": "df4b3d8b-27bf-4a54-9a55-671e9676894c",
   "metadata": {},
   "outputs": [
    {
     "name": "stdout",
     "output_type": "stream",
     "text": [
      "                                                Song  Million Like\n",
      "0  Peaches (feat. Daniel Caesar & Giveon) - Justi...    42.40    L\n",
      "1                   drivers license - Olivia Rodrigo    29.33    L\n",
      "2               Astronaut In The Ocean - Masked Wolf    28.31    N\n",
      "3                             telepatía - Kali Uchis    28.21    N\n",
      "4                            Hold On - Justin Bieber    27.82    N\n",
      "5                       Save Your Tears - The Weeknd    26.88    L\n",
      "6  Leave The Door Open - Bruno Mars, Anderson .Pa...    24.08    N\n",
      "7                       Blinding Lights - The Weeknd    21.73    D\n",
      "8             As I Am (feat. Khalid) - Justin Bieber    21.82    D\n",
      "9                    DÁKITI - Bad Bunny, Jhay Cortez    21.05    L\n"
     ]
    }
   ],
   "source": [
    "print(topspotify)"
   ]
  },
  {
   "cell_type": "code",
   "execution_count": 16,
   "id": "23bfb15a-7c0d-4197-ace4-ac6de8e792a0",
   "metadata": {},
   "outputs": [
    {
     "name": "stdout",
     "output_type": "stream",
     "text": [
      "[NbConvertApp] Converting notebook Econ220_Assignment1.ipynb to html\n",
      "[NbConvertApp] Writing 568980 bytes to Econ220_Assignment1.html\n"
     ]
    }
   ],
   "source": [
    "!jupyter nbconvert --to html Econ220_Assignment1.ipynb "
   ]
  },
  {
   "cell_type": "code",
   "execution_count": null,
   "id": "6e836541-ed85-409f-a909-db579cdc457d",
   "metadata": {},
   "outputs": [],
   "source": []
  }
 ],
 "metadata": {
  "kernelspec": {
   "display_name": "Python 3 (ipykernel)",
   "language": "python",
   "name": "python3"
  },
  "language_info": {
   "codemirror_mode": {
    "name": "ipython",
    "version": 3
   },
   "file_extension": ".py",
   "mimetype": "text/x-python",
   "name": "python",
   "nbconvert_exporter": "python",
   "pygments_lexer": "ipython3",
   "version": "3.9.7"
  }
 },
 "nbformat": 4,
 "nbformat_minor": 5
}
