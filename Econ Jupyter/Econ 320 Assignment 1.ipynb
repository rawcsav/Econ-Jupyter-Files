{
 "cells": [
  {
   "cell_type": "code",
   "execution_count": 1,
   "id": "55dcb86b",
   "metadata": {},
   "outputs": [],
   "source": [
    "# Script Name: Assignment 1 \n",
    "# Purpose of script: Complete Assignment 1 for Econ 320\n",
    "# Author: Gavin Mason\n",
    "# Date Created: 9/1/2022\n",
    "# Notes:\n",
    "\n",
    "# Packages\n",
    "import os\n",
    "import random\n",
    "import numpy as np\n",
    "import pandas as pd\n",
    "import matplotlib.pyplot as plt\n",
    "import statistics"
   ]
  },
  {
   "cell_type": "code",
   "execution_count": 2,
   "id": "000bb093",
   "metadata": {},
   "outputs": [],
   "source": [
    "directory_path = \"/Users/gavinmason/Documents/Econ320 /Assignment#1\"\n",
    "os.chdir(directory_path)"
   ]
  },
  {
   "cell_type": "code",
   "execution_count": 10,
   "id": "f7532aa2",
   "metadata": {},
   "outputs": [
    {
     "name": "stdout",
     "output_type": "stream",
     "text": [
      "Mean of means = 0.5065\n",
      "Standard deviation of means = 0.15796424501355585\n"
     ]
    },
    {
     "data": {
      "image/png": "[encoded data removed]",
      "text/plain": [
       "<Figure size 432x288 with 1 Axes>"
      ]
     },
     "metadata": {
      "needs_background": "light"
     },
     "output_type": "display_data"
    }
   ],
   "source": [
    "lst = []\n",
    "i = 1\n",
    "while i <= 1000:\n",
    "    samples = [ random.randint(0, 1) for i in range(10)]\n",
    "    samples\n",
    "    samplemean = statistics.mean(samples)\n",
    "    lst.append(samplemean)\n",
    "    i += 1\n",
    "plt.hist(lst)\n",
    "plt.xlabel(\"Mean of 10 flips\")\n",
    "plt.ylabel(\"Frequency\")\n",
    "plt.show\n",
    "lstmean = statistics.mean(lst)\n",
    "print(\"Mean of means =\", lstmean)\n",
    "lstsd = statistics.stdev(lst)\n",
    "print(\"Standard deviation of means =\", lstsd)"
   ]
  },
  {
   "cell_type": "code",
   "execution_count": 8,
   "id": "0b516275",
   "metadata": {},
   "outputs": [
    {
     "name": "stdout",
     "output_type": "stream",
     "text": [
      "Mean of means = 0.50101\n",
      "Standard deviation of means = 0.04951496371433217\n"
     ]
    },
    {
     "data": {
      "image/png": "[encoded data removed]",
      "text/plain": [
       "<Figure size 432x288 with 1 Axes>"
      ]
     },
     "metadata": {
      "needs_background": "light"
     },
     "output_type": "display_data"
    }
   ],
   "source": [
    "lst2 = []\n",
    "i = 1\n",
    "while i <= 1000:\n",
    "    samples2 = [ random.randint(0, 1) for i in range(100)]\n",
    "    samples2\n",
    "    samplemean2 = statistics.mean(samples2)\n",
    "    lst2.append(samplemean2)\n",
    "    i += 1\n",
    "plt.hist(lst2)\n",
    "plt.xlabel(\"Mean of 100 flips\")\n",
    "plt.ylabel(\"Frequency\")\n",
    "plt.show\n",
    "lstmean2 = statistics.mean(lst2)\n",
    "print(\"Mean of means =\", lstmean2)\n",
    "lstsd2 = statistics.stdev(lst2)\n",
    "print(\"Standard deviation of means =\", lstsd2)"
   ]
  },
  {
   "cell_type": "code",
   "execution_count": null,
   "id": "51c321df",
   "metadata": {},
   "outputs": [],
   "source": []
  }
 ],
 "metadata": {
  "kernelspec": {
   "display_name": "Python 3 (ipykernel)",
   "language": "python",
   "name": "python3"
  },
  "language_info": {
   "codemirror_mode": {
    "name": "ipython",
    "version": 3
   },
   "file_extension": ".py",
   "mimetype": "text/x-python",
   "name": "python",
   "nbconvert_exporter": "python",
   "pygments_lexer": "ipython3",
   "version": "3.9.7"
  }
 },
 "nbformat": 4,
 "nbformat_minor": 5
}
