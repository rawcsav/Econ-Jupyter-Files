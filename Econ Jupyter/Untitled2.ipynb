{
 "cells": [
  {
   "cell_type": "code",
   "execution_count": 9,
   "id": "3cf90e89-b5c7-474d-bc78-5722cf2f5d13",
   "metadata": {},
   "outputs": [],
   "source": [
    "import numpy as np\n",
    "import pandas as pd\n",
    "import matplotlib.pyplot as plt\n",
    "import seaborn as sns"
   ]
  },
  {
   "cell_type": "code",
   "execution_count": 10,
   "id": "54cc810c-468c-42dd-bb02-6d9a7d9551ce",
   "metadata": {},
   "outputs": [
    {
     "data": {
      "text/html": [
       "<div>\n",
       "<style scoped>\n",
       "    .dataframe tbody tr th:only-of-type {\n",
       "        vertical-align: middle;\n",
       "    }\n",
       "\n",
       "    .dataframe tbody tr th {\n",
       "        vertical-align: top;\n",
       "    }\n",
       "\n",
       "    .dataframe thead th {\n",
       "        text-align: right;\n",
       "    }\n",
       "</style>\n",
       "<table border=\"1\" class=\"dataframe\">\n",
       "  <thead>\n",
       "    <tr style=\"text-align: right;\">\n",
       "      <th></th>\n",
       "      <th>Completion Times</th>\n",
       "      <th>Unnamed: 1</th>\n",
       "      <th>Unnamed: 2</th>\n",
       "      <th>Unnamed: 3</th>\n",
       "      <th>Unnamed: 4</th>\n",
       "    </tr>\n",
       "  </thead>\n",
       "  <tbody>\n",
       "    <tr>\n",
       "      <th>0</th>\n",
       "      <td>EmployeeID</td>\n",
       "      <td>Time</td>\n",
       "      <td>Gender</td>\n",
       "      <td>Shift</td>\n",
       "      <td>Benefits</td>\n",
       "    </tr>\n",
       "    <tr>\n",
       "      <th>1</th>\n",
       "      <td>1</td>\n",
       "      <td>271</td>\n",
       "      <td>1</td>\n",
       "      <td>3</td>\n",
       "      <td>3</td>\n",
       "    </tr>\n",
       "    <tr>\n",
       "      <th>2</th>\n",
       "      <td>2</td>\n",
       "      <td>262</td>\n",
       "      <td>1</td>\n",
       "      <td>1</td>\n",
       "      <td>3</td>\n",
       "    </tr>\n",
       "    <tr>\n",
       "      <th>3</th>\n",
       "      <td>3</td>\n",
       "      <td>262</td>\n",
       "      <td>1</td>\n",
       "      <td>1</td>\n",
       "      <td>4</td>\n",
       "    </tr>\n",
       "    <tr>\n",
       "      <th>4</th>\n",
       "      <td>4</td>\n",
       "      <td>252</td>\n",
       "      <td>1</td>\n",
       "      <td>1</td>\n",
       "      <td>5</td>\n",
       "    </tr>\n",
       "    <tr>\n",
       "      <th>...</th>\n",
       "      <td>...</td>\n",
       "      <td>...</td>\n",
       "      <td>...</td>\n",
       "      <td>...</td>\n",
       "      <td>...</td>\n",
       "    </tr>\n",
       "    <tr>\n",
       "      <th>106</th>\n",
       "      <td>106</td>\n",
       "      <td>294</td>\n",
       "      <td>2</td>\n",
       "      <td>3</td>\n",
       "      <td>5</td>\n",
       "    </tr>\n",
       "    <tr>\n",
       "      <th>107</th>\n",
       "      <td>107</td>\n",
       "      <td>252</td>\n",
       "      <td>1</td>\n",
       "      <td>2</td>\n",
       "      <td>5</td>\n",
       "    </tr>\n",
       "    <tr>\n",
       "      <th>108</th>\n",
       "      <td>108</td>\n",
       "      <td>263</td>\n",
       "      <td>1</td>\n",
       "      <td>2</td>\n",
       "      <td>5</td>\n",
       "    </tr>\n",
       "    <tr>\n",
       "      <th>109</th>\n",
       "      <td>109</td>\n",
       "      <td>294</td>\n",
       "      <td>2</td>\n",
       "      <td>2</td>\n",
       "      <td>5</td>\n",
       "    </tr>\n",
       "    <tr>\n",
       "      <th>110</th>\n",
       "      <td>110</td>\n",
       "      <td>299</td>\n",
       "      <td>2</td>\n",
       "      <td>3</td>\n",
       "      <td>5</td>\n",
       "    </tr>\n",
       "  </tbody>\n",
       "</table>\n",
       "<p>111 rows × 5 columns</p>\n",
       "</div>"
      ],
      "text/plain": [
       "    Completion Times Unnamed: 1 Unnamed: 2 Unnamed: 3 Unnamed: 4\n",
       "0         EmployeeID       Time     Gender      Shift   Benefits\n",
       "1                  1        271          1          3          3\n",
       "2                  2        262          1          1          3\n",
       "3                  3        262          1          1          4\n",
       "4                  4        252          1          1          5\n",
       "..               ...        ...        ...        ...        ...\n",
       "106              106        294          2          3          5\n",
       "107              107        252          1          2          5\n",
       "108              108        263          1          2          5\n",
       "109              109        294          2          2          5\n",
       "110              110        299          2          3          5\n",
       "\n",
       "[111 rows x 5 columns]"
      ]
     },
     "execution_count": 10,
     "metadata": {},
     "output_type": "execute_result"
    }
   ],
   "source": [
    "path = '/Users/gavinmason/Downloads/Completion Times.xlsx'\n",
    "excel1 = pd.read_excel(path)\n",
    "excel1.head(111)\n"
   ]
  },
  {
   "cell_type": "code",
   "execution_count": 14,
   "id": "78cd72a4-3ccc-4bba-b331-a1bc09511900",
   "metadata": {},
   "outputs": [],
   "source": [
    "data = [271,\n",
    "262,\n",
    "262,\n",
    "252,\n",
    "263,\n",
    "263,\n",
    "288,\n",
    "263,\n",
    "263,\n",
    "263,\n",
    "236,\n",
    "237,\n",
    "288,\n",
    "242,\n",
    "242,\n",
    "244,\n",
    "245,\n",
    "274,\n",
    "246,\n",
    "247,\n",
    "294,\n",
    "247,\n",
    "247,\n",
    "248,\n",
    "288,\n",
    "249,\n",
    "251,\n",
    "252,\n",
    "294,\n",
    "252,\n",
    "252,\n",
    "282,\n",
    "252,\n",
    "263,\n",
    "252,\n",
    "252,\n",
    "269,\n",
    "252,\n",
    "252,\n",
    "269,\n",
    "254,\n",
    "224,\n",
    "264,\n",
    "255,\n",
    "226,\n",
    "256,\n",
    "256,\n",
    "256,\n",
    "231,\n",
    "261,\n",
    "263,\n",
    "263,\n",
    "263,\n",
    "294,\n",
    "263,\n",
    "263,\n",
    "264,\n",
    "254,\n",
    "265,\n",
    "266,\n",
    "266,\n",
    "267,\n",
    "247,\n",
    "268,\n",
    "269,\n",
    "252,\n",
    "252,\n",
    "269,\n",
    "269,\n",
    "269,\n",
    "222,\n",
    "254,\n",
    "225,\n",
    "255,\n",
    "227,\n",
    "261,\n",
    "232,\n",
    "234,\n",
    "235,\n",
    "236,\n",
    "262,\n",
    "271,\n",
    "281,\n",
    "272,\n",
    "273,\n",
    "245,\n",
    "275,\n",
    "285,\n",
    "275,\n",
    "276,\n",
    "278,\n",
    "278,\n",
    "279,\n",
    "271,\n",
    "281,\n",
    "252,\n",
    "284,\n",
    "275,\n",
    "288,\n",
    "248,\n",
    "288,\n",
    "263,\n",
    "238,\n",
    "291,\n",
    "267,\n",
    "294,\n",
    "252,\n",
    "263,\n",
    "294,\n",
    "299]"
   ]
  },
  {
   "cell_type": "code",
   "execution_count": 20,
   "id": "86135d38-e0f3-48c6-840a-fd4d275cde53",
   "metadata": {},
   "outputs": [],
   "source": [
    "import statistics as st"
   ]
  },
  {
   "cell_type": "code",
   "execution_count": 22,
   "id": "807f1f9b-136f-4a80-b280-6d5affc67281",
   "metadata": {},
   "outputs": [
    {
     "data": {
      "text/plain": [
       "261.05454545454546"
      ]
     },
     "execution_count": 22,
     "metadata": {},
     "output_type": "execute_result"
    }
   ],
   "source": [
    "st.mean(data)"
   ]
  },
  {
   "cell_type": "code",
   "execution_count": 23,
   "id": "96e3700f-780e-447e-91da-3ec257d8de69",
   "metadata": {},
   "outputs": [
    {
     "data": {
      "text/plain": [
       "306.43736447039197"
      ]
     },
     "execution_count": 23,
     "metadata": {},
     "output_type": "execute_result"
    }
   ],
   "source": [
    "st.variance(data)"
   ]
  },
  {
   "cell_type": "code",
   "execution_count": 24,
   "id": "f93d0acf-b444-487f-81ff-589993ed2555",
   "metadata": {},
   "outputs": [
    {
     "data": {
      "text/plain": [
       "1.17384420155116"
      ]
     },
     "execution_count": 24,
     "metadata": {},
     "output_type": "execute_result"
    }
   ],
   "source": [
    "306.43736447039197/261.05454545454546"
   ]
  },
  {
   "cell_type": "code",
   "execution_count": 26,
   "id": "261fd59e-db23-4ae9-bf9b-097de3f195e6",
   "metadata": {},
   "outputs": [
    {
     "data": {
      "text/plain": [
       "<AxesSubplot:ylabel='Count'>"
      ]
     },
     "execution_count": 26,
     "metadata": {},
     "output_type": "execute_result"
    },
    {
     "data": {
      "image/png": "[encoded data removed]",
      "text/plain": [
       "<Figure size 432x288 with 1 Axes>"
      ]
     },
     "metadata": {
      "needs_background": "light"
     },
     "output_type": "display_data"
    }
   ],
   "source": [
    "sns.histplot(data)"
   ]
  },
  {
   "cell_type": "code",
   "execution_count": 27,
   "id": "1f8cc49e-72a3-4497-a9f2-77637b53059e",
   "metadata": {},
   "outputs": [
    {
     "data": {
      "text/plain": [
       "263.0"
      ]
     },
     "execution_count": 27,
     "metadata": {},
     "output_type": "execute_result"
    }
   ],
   "source": [
    "st.median(data)"
   ]
  },
  {
   "cell_type": "code",
   "execution_count": 28,
   "id": "151c40fb-cb58-49f7-869a-14db851c4848",
   "metadata": {},
   "outputs": [
    {
     "data": {
      "text/plain": [
       "252"
      ]
     },
     "execution_count": 28,
     "metadata": {},
     "output_type": "execute_result"
    }
   ],
   "source": [
    "st.mode(data)"
   ]
  },
  {
   "cell_type": "code",
   "execution_count": 29,
   "id": "f89fd06d-b278-412e-a9a6-2093aaaaf7bf",
   "metadata": {},
   "outputs": [
    {
     "data": {
      "text/plain": [
       "261.05454545454546"
      ]
     },
     "execution_count": 29,
     "metadata": {},
     "output_type": "execute_result"
    }
   ],
   "source": [
    "st.mean(data)"
   ]
  },
  {
   "cell_type": "code",
   "execution_count": null,
   "id": "69d47de3-cdcd-46a3-9718-ddfc09a8685a",
   "metadata": {},
   "outputs": [],
   "source": []
  }
 ],
 "metadata": {
  "kernelspec": {
   "display_name": "Python 3 (ipykernel)",
   "language": "python",
   "name": "python3"
  },
  "language_info": {
   "codemirror_mode": {
    "name": "ipython",
    "version": 3
   },
   "file_extension": ".py",
   "mimetype": "text/x-python",
   "name": "python",
   "nbconvert_exporter": "python",
   "pygments_lexer": "ipython3",
   "version": "3.9.7"
  }
 },
 "nbformat": 4,
 "nbformat_minor": 5
}
