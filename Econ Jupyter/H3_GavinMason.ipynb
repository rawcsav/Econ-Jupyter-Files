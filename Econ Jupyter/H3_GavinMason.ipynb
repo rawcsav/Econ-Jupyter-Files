{
 "cells": [
  {
   "cell_type": "markdown",
   "id": "9e8d82b4",
   "metadata": {
    "deletable": false,
    "editable": false,
    "nbgrader": {
     "cell_type": "markdown",
     "checksum": "713e5c28b4661e622443158f65337e20",
     "grade": false,
     "grade_id": "cell-d5aadc500dae8a96",
     "locked": true,
     "schema_version": 3,
     "solution": false,
     "task": false
    }
   },
   "source": [
    "<h1 style=\"text-align: center; color: purple;\" markdown=\"1\">Econ220 Python Lab: Numpy exercises</h1>\n",
    "<h2 style=\"text-align: center; color: #012169\" markdown=\"1\">Handout #3 </h2>"
   ]
  },
  {
   "cell_type": "markdown",
   "id": "bc828545",
   "metadata": {
    "deletable": false,
    "editable": false,
    "nbgrader": {
     "cell_type": "markdown",
     "checksum": "ed42a63e474d48fcafbd9ef55c852273",
     "grade": false,
     "grade_id": "cell-dbd8b420fa8fc973",
     "locked": true,
     "schema_version": 3,
     "solution": false,
     "task": false
    }
   },
   "source": [
    "<p style=\"font-family: Calibri; text-align: left; color: darkgrey\" markdown=\"2\"></p>\n",
    "\n",
    "By this time with your Datacamp practice you should be familiar with the numpy package. \n",
    "\n",
    "\n",
    "Let's refresh your mind about what numpy is and does and then let's get your hands active with some numpy exercises. \n",
    "\n",
    "* NumPy is the fundamental package for scientific computing in Python.\n",
    "\n",
    "* It is a Python library that provides a multidimensional array object, various derived objects (such as masked arrays and matrices), \n",
    "* An assortment of routines for fast operations on arrays, including mathematical, logical, shape manipulation, sorting, selecting, I/O, discrete Fourier transforms, basic linear algebra, basic statistical operations, random simulation and much more. (Taken from [here](https://numpy.org/doc/stable/user/whatisnumpy.html))\n",
    "\n",
    "\n",
    "\n",
    "# Package set up "
   ]
  },
  {
   "cell_type": "code",
   "execution_count": 1,
   "id": "17152942",
   "metadata": {},
   "outputs": [],
   "source": [
    "import numpy as np"
   ]
  },
  {
   "cell_type": "markdown",
   "id": "3328b26c",
   "metadata": {
    "deletable": false,
    "editable": false,
    "nbgrader": {
     "cell_type": "markdown",
     "checksum": "6e764f18698974c2175158a9326e398e",
     "grade": false,
     "grade_id": "cell-9b9fec5fef0e7602",
     "locked": true,
     "schema_version": 3,
     "solution": false,
     "task": false
    }
   },
   "source": [
    "* Create a null vector of size 10 "
   ]
  },
  {
   "cell_type": "code",
   "execution_count": 2,
   "id": "62366ec6",
   "metadata": {
    "deletable": false,
    "nbgrader": {
     "cell_type": "code",
     "checksum": "9aee8d5e8d9fc589f9399e4d986dee19",
     "grade": false,
     "grade_id": "cell-5064ce000ced8f11",
     "locked": false,
     "schema_version": 3,
     "solution": true,
     "task": false
    }
   },
   "outputs": [
    {
     "name": "stdout",
     "output_type": "stream",
     "text": [
      "[0. 0. 0. 0. 0. 0. 0. 0. 0. 0.]\n"
     ]
    }
   ],
   "source": [
    "z1 = np.zeros(10)\n",
    "print(z1)"
   ]
  },
  {
   "cell_type": "code",
   "execution_count": null,
   "id": "367c1710",
   "metadata": {
    "deletable": false,
    "editable": false,
    "nbgrader": {
     "cell_type": "code",
     "checksum": "64a856ed3f671b3c8336b92816f84978",
     "grade": true,
     "grade_id": "cell-2a2d2a64e39f85de",
     "locked": true,
     "points": 2,
     "schema_version": 3,
     "solution": false,
     "task": false
    }
   },
   "outputs": [],
   "source": [
    "# Autograder cell -do not delete it"
   ]
  },
  {
   "cell_type": "markdown",
   "id": "c81c4fa4",
   "metadata": {
    "deletable": false,
    "editable": false,
    "nbgrader": {
     "cell_type": "markdown",
     "checksum": "0cdfd449f14c3da6b82b99b0ec39aa83",
     "grade": false,
     "grade_id": "cell-4b0742392cdfdd20",
     "locked": true,
     "schema_version": 3,
     "solution": false,
     "task": false
    }
   },
   "source": [
    "* Create a null vector of size 10 but fourth value which is 1"
   ]
  },
  {
   "cell_type": "code",
   "execution_count": 3,
   "id": "6f3c49c2",
   "metadata": {
    "deletable": false,
    "nbgrader": {
     "cell_type": "code",
     "checksum": "5402d1126a5183ebd564e316a691b757",
     "grade": false,
     "grade_id": "cell-c6d5e23614ac5638",
     "locked": false,
     "schema_version": 3,
     "solution": true,
     "task": false
    }
   },
   "outputs": [
    {
     "name": "stdout",
     "output_type": "stream",
     "text": [
      "[0. 0. 0. 1. 0. 0. 0. 0. 0. 0.]\n"
     ]
    }
   ],
   "source": [
    "z2 = np.zeros(10)\n",
    "z2[3]=1\n",
    "print(z2)"
   ]
  },
  {
   "cell_type": "code",
   "execution_count": null,
   "id": "c9241bcc",
   "metadata": {
    "deletable": false,
    "editable": false,
    "nbgrader": {
     "cell_type": "code",
     "checksum": "d13f415605601ccdde3642a88ab78473",
     "grade": true,
     "grade_id": "cell-252f6b9827bbd54f",
     "locked": true,
     "points": 2,
     "schema_version": 3,
     "solution": false,
     "task": false
    }
   },
   "outputs": [],
   "source": [
    "# Autograder cell -do not delete it"
   ]
  },
  {
   "cell_type": "markdown",
   "id": "68aded3d",
   "metadata": {
    "deletable": false,
    "editable": false,
    "nbgrader": {
     "cell_type": "markdown",
     "checksum": "685c893a0687d2cba1ad021c51affc88",
     "grade": false,
     "grade_id": "cell-a5fa7dbb1b1011c7",
     "locked": true,
     "schema_version": 3,
     "solution": false,
     "task": false
    }
   },
   "source": [
    "* Create a vector with values ranging from 10 to 49"
   ]
  },
  {
   "cell_type": "code",
   "execution_count": 4,
   "id": "a77b19ab",
   "metadata": {
    "deletable": false,
    "nbgrader": {
     "cell_type": "code",
     "checksum": "1eed7f077041bcd97b473321616dd221",
     "grade": false,
     "grade_id": "cell-eab3e50b6a91e1c6",
     "locked": false,
     "schema_version": 3,
     "solution": true,
     "task": false
    }
   },
   "outputs": [
    {
     "name": "stdout",
     "output_type": "stream",
     "text": [
      "[10 11 12 13 14 15 16 17 18 19 20 21 22 23 24 25 26 27 28 29 30 31 32 33\n",
      " 34 35 36 37 38 39 40 41 42 43 44 45 46 47 48 49]\n"
     ]
    }
   ],
   "source": [
    "z3 = np.arange(10,50)\n",
    "print(z3)"
   ]
  },
  {
   "cell_type": "code",
   "execution_count": null,
   "id": "1340143c",
   "metadata": {
    "deletable": false,
    "editable": false,
    "nbgrader": {
     "cell_type": "code",
     "checksum": "75f7efaf459c2ebdfb8aa69b1227b562",
     "grade": true,
     "grade_id": "cell-cf5e543cf9631d9f",
     "locked": true,
     "points": 2,
     "schema_version": 3,
     "solution": false,
     "task": false
    }
   },
   "outputs": [],
   "source": [
    "# Autograder cell -do not delete it"
   ]
  },
  {
   "cell_type": "markdown",
   "id": "71134e62",
   "metadata": {
    "deletable": false,
    "editable": false,
    "nbgrader": {
     "cell_type": "markdown",
     "checksum": "6946094b4572ed9699f294dd62220344",
     "grade": false,
     "grade_id": "cell-2c1f1326cc7c8231",
     "locked": true,
     "schema_version": 3,
     "solution": false,
     "task": false
    }
   },
   "source": [
    "* Reverse a vector of numbers between 0 to 50 (first element becomes last)"
   ]
  },
  {
   "cell_type": "code",
   "execution_count": 5,
   "id": "571c070a",
   "metadata": {
    "deletable": false,
    "nbgrader": {
     "cell_type": "code",
     "checksum": "11dd12e6b9fd5648ea985e814875ad44",
     "grade": false,
     "grade_id": "cell-107fa732bc26c389",
     "locked": false,
     "schema_version": 3,
     "solution": true,
     "task": false
    }
   },
   "outputs": [
    {
     "name": "stdout",
     "output_type": "stream",
     "text": [
      "[50 49 48 47 46 45 44 43 42 41 40 39 38 37 36 35 34 33 32 31 30 29 28 27\n",
      " 26 25 24 23 22 21 20 19 18 17 16 15 14 13 12 11 10  9  8  7  6  5  4  3\n",
      "  2  1  0]\n"
     ]
    }
   ],
   "source": [
    "z4 = np.arange(51)\n",
    "z4 = z4[::-1]\n",
    "print(z4)"
   ]
  },
  {
   "cell_type": "code",
   "execution_count": null,
   "id": "674e54c0",
   "metadata": {
    "deletable": false,
    "editable": false,
    "nbgrader": {
     "cell_type": "code",
     "checksum": "b6baa9de2fedd8c25ce3c158c680c8eb",
     "grade": true,
     "grade_id": "cell-3a9f9d83280d1429",
     "locked": true,
     "points": 2,
     "schema_version": 3,
     "solution": false,
     "task": false
    }
   },
   "outputs": [],
   "source": [
    "# Autograder cell -do not delete it"
   ]
  },
  {
   "cell_type": "markdown",
   "id": "3587357d",
   "metadata": {
    "deletable": false,
    "editable": false,
    "nbgrader": {
     "cell_type": "markdown",
     "checksum": "1e5d93f9deacf33fd131676b928fe05e",
     "grade": false,
     "grade_id": "cell-0b049de0248ab4a7",
     "locked": true,
     "schema_version": 3,
     "solution": false,
     "task": false
    }
   },
   "source": [
    "* Find indices of non-zero elements from [3,2,1,0,0,5,4,6,0,10]"
   ]
  },
  {
   "cell_type": "code",
   "execution_count": 7,
   "id": "c6455690",
   "metadata": {
    "deletable": false,
    "nbgrader": {
     "cell_type": "code",
     "checksum": "31191a14cb5c708ad8dcec8063d31f5e",
     "grade": false,
     "grade_id": "cell-1341eb1bac83bb8d",
     "locked": false,
     "schema_version": 3,
     "solution": true,
     "task": false
    }
   },
   "outputs": [
    {
     "name": "stdout",
     "output_type": "stream",
     "text": [
      "(array([0, 1, 2, 5, 6, 7, 9]),)\n"
     ]
    }
   ],
   "source": [
    "z5 = np.array([3,2,1,0,0,5,4,6,0,10])\n",
    "print(np.nonzero(z5))"
   ]
  },
  {
   "cell_type": "code",
   "execution_count": null,
   "id": "9bf6dd08",
   "metadata": {
    "deletable": false,
    "editable": false,
    "nbgrader": {
     "cell_type": "code",
     "checksum": "e0bb0cb0d8c797fcfc8668d51d67af39",
     "grade": true,
     "grade_id": "cell-bf5da5237a83e112",
     "locked": true,
     "points": 2,
     "schema_version": 3,
     "solution": false,
     "task": false
    }
   },
   "outputs": [],
   "source": [
    "# Autograder cell -do not delete it"
   ]
  },
  {
   "cell_type": "markdown",
   "id": "d873b083",
   "metadata": {
    "deletable": false,
    "editable": false,
    "nbgrader": {
     "cell_type": "markdown",
     "checksum": "020a482ca405b2f8c228c0e4dea01214",
     "grade": false,
     "grade_id": "cell-5c9035336bb4efa3",
     "locked": true,
     "schema_version": 3,
     "solution": false,
     "task": false
    }
   },
   "source": [
    "* Create a random vector of size 30, sort it and find the average value"
   ]
  },
  {
   "cell_type": "code",
   "execution_count": 10,
   "id": "0052b9b1",
   "metadata": {},
   "outputs": [
    {
     "name": "stdout",
     "output_type": "stream",
     "text": [
      "Original Array:\n",
      "[0.00389577 0.76522031 0.67361343 0.81619389 0.51645395 0.17681835\n",
      " 0.28095718 0.74864429 0.2824849  0.25463369 0.12148299 0.75316745\n",
      " 0.09660161 0.88652444 0.18455106 0.01837538 0.26211258 0.56195722\n",
      " 0.10636825 0.55207018 0.07766402 0.11067945 0.63790565 0.53505382\n",
      " 0.23407573 0.55876325 0.41167198 0.06886397 0.20468167 0.71200657]\n",
      "Sorted Array:\n",
      "[0.00389577 0.01837538 0.06886397 0.07766402 0.09660161 0.10636825\n",
      " 0.11067945 0.12148299 0.17681835 0.18455106 0.20468167 0.23407573\n",
      " 0.25463369 0.26211258 0.28095718 0.2824849  0.41167198 0.51645395\n",
      " 0.53505382 0.55207018 0.55876325 0.56195722 0.63790565 0.67361343\n",
      " 0.71200657 0.74864429 0.75316745 0.76522031 0.81619389 0.88652444]\n",
      "Mean array:\n"
     ]
    },
    {
     "data": {
      "text/plain": [
       "0.38711643365060283"
      ]
     },
     "execution_count": 10,
     "metadata": {},
     "output_type": "execute_result"
    }
   ],
   "source": [
    "z6 = np.random.random(30)\n",
    "print(\"Original Array:\")\n",
    "print(z6)\n",
    "z6.sort()\n",
    "print(\"Sorted Array:\")\n",
    "print(z6)\n",
    "print(\"Mean array:\")\n",
    "z6.mean()\n"
   ]
  },
  {
   "cell_type": "markdown",
   "id": "e67e3456",
   "metadata": {
    "deletable": false,
    "editable": false,
    "nbgrader": {
     "cell_type": "markdown",
     "checksum": "b0c73c77c438ec971c9d7dbd7b62f3bf",
     "grade": false,
     "grade_id": "cell-acc076c20a5a29e6",
     "locked": true,
     "schema_version": 3,
     "solution": false,
     "task": false
    }
   },
   "source": [
    "* Given a 1D array (or vector) of 10 elements from 0-10, negate all elements which are between 4 and 8, in place. "
   ]
  },
  {
   "cell_type": "code",
   "execution_count": 12,
   "id": "d96eefff",
   "metadata": {
    "deletable": false,
    "nbgrader": {
     "cell_type": "code",
     "checksum": "6e5d9d90be9a72f25b3020e171a8e5ca",
     "grade": false,
     "grade_id": "cell-259bb15735a2e1d8",
     "locked": false,
     "schema_version": 3,
     "solution": true,
     "task": false
    }
   },
   "outputs": [
    {
     "name": "stdout",
     "output_type": "stream",
     "text": [
      "[ 0  1  2 -3 -4 -5 -6 -7 -8  9]\n"
     ]
    }
   ],
   "source": [
    "z7 = np.arange(10)\n",
    "z7[(2<z7)&(z7<=8)]*=-1\n",
    "print(z7)"
   ]
  },
  {
   "cell_type": "code",
   "execution_count": null,
   "id": "f4c6a5c9",
   "metadata": {
    "deletable": false,
    "editable": false,
    "nbgrader": {
     "cell_type": "code",
     "checksum": "3578c9a5f6bdd0c59d7ca56326b70970",
     "grade": true,
     "grade_id": "cell-9b2a126f3f10145a",
     "locked": true,
     "points": 2,
     "schema_version": 3,
     "solution": false,
     "task": false
    }
   },
   "outputs": [],
   "source": [
    "# Autograder cell -do not delete it"
   ]
  },
  {
   "cell_type": "markdown",
   "id": "a8187083",
   "metadata": {
    "deletable": false,
    "editable": false,
    "nbgrader": {
     "cell_type": "markdown",
     "checksum": "ae4d15f570941b3aa77e8cdd911f1e8c",
     "grade": false,
     "grade_id": "cell-daff86de4289c854",
     "locked": true,
     "schema_version": 3,
     "solution": false,
     "task": false
    }
   },
   "source": [
    "\n",
    "<h1 style=\"text-align: center; color: purple;\" markdown=\"1\">Econ220 Python Lab: Numpy Arrays and Pandas DataFrames</h1>\n",
    "<h2 style=\"text-align: center; color: #012169\" markdown=\"1\">Handout #4 </h2>"
   ]
  },
  {
   "cell_type": "markdown",
   "id": "2133d464",
   "metadata": {
    "deletable": false,
    "editable": false,
    "nbgrader": {
     "cell_type": "markdown",
     "checksum": "8647d104d7b8938396b6c9a49ed7e59d",
     "grade": false,
     "grade_id": "cell-3dfabcbcabdcd7da",
     "locked": true,
     "schema_version": 3,
     "solution": false,
     "task": false
    }
   },
   "source": [
    "### Table of Contents\n",
    "* [Understanding Data Structures in Python; The Pandas Package](#anchor1)\n",
    "    * [The Package Set Up](#anchor2)\n",
    "* [Two Useful Functions Numpy package](#anchor3)\n",
    "* [Practice](#anchor4) \n",
    "* [Create a Dataframe Based on the Following Table ](#anchor5)\n",
    "* [Using loc and .iloc on a data frame](#anchor6)\n",
    "\n"
   ]
  },
  {
   "cell_type": "markdown",
   "id": "d4633562",
   "metadata": {
    "deletable": false,
    "editable": false,
    "nbgrader": {
     "cell_type": "markdown",
     "checksum": "02caa4ec0a3dda4be809efdaec5eefff",
     "grade": false,
     "grade_id": "cell-51fc3420b6e8620f",
     "locked": true,
     "schema_version": 3,
     "solution": false,
     "task": false
    }
   },
   "source": [
    "## Understanding Data Structures in Python; The Pandas Package <a class=\"anchor\" id=\"anchor1\"></a>\n",
    "\n",
    "\n",
    "By now you know some basics of Python objects and the Numpy Package. In this handout you will learn about the most important structure in data analysis. **The dataframe.** In statistics, and later in econometrics, you will be working with data sets. These are comprised of observations and the variables asociated with them. The package **Pandas** allows you to manipulate data in Python. \n",
    "\n",
    "> **A dataframe in Python is a two-dimensional, labeled data structure with columns that can be of different types (numerical, characters, boolean), rows that indicate  observations/events, and takes the form of a rectangular grid, a structure that presents data in rows and columns similar to a spreadsheet. The columns are called variables, they are basically vectors, and the rows are called observations, like in a regular dataset.**\n",
    "\n",
    "\n",
    "> **In pandas a dataframe is a collection of numpy arrays or a dictionary**\n",
    "\n",
    "Let's learn a few new functions and put in practice what we know about dataframes and objects in Python.\n",
    "\n",
    "#### The Package Set Up <a class=\"anchor\" id=\"anchor2\"></a>"
   ]
  },
  {
   "cell_type": "code",
   "execution_count": 13,
   "id": "5d850842",
   "metadata": {},
   "outputs": [],
   "source": [
    "# import the packages that you need in this case numpy and pandas\n",
    "import numpy as np \n",
    "import pandas as pd "
   ]
  },
  {
   "cell_type": "markdown",
   "id": "26937832",
   "metadata": {
    "deletable": false,
    "editable": false,
    "nbgrader": {
     "cell_type": "markdown",
     "checksum": "8c31b03d1d8490005c0d8fd3a5e99cbc",
     "grade": false,
     "grade_id": "cell-90e87b2f80d5d9c1",
     "locked": true,
     "schema_version": 3,
     "solution": false,
     "task": false
    }
   },
   "source": [
    "## Two Useful Functions Numpy functions <a class = \"anchor\" id = \"anchor3\" ></a>\n",
    "\n",
    "\n",
    "**To reapeat a number many times**\n",
    "\n",
    "`np.repeat(a, repeats, axis=None)`\n",
    "\n",
    "Where \"a\" is the object that you need to repeat, the next argument \"repeats\" gives the non-negative number of times the object a should be repated\n",
    "\n",
    "**To create a vector of evenly space numbers within a range**\n",
    "\n",
    "`np.arange(start, stop, step)`\n",
    "\n",
    "Where start & stop represent the interval including start and excluding stop (this means that the number in place of stop is not included in the interval). \n",
    "Step represents the space between each number.\n"
   ]
  },
  {
   "cell_type": "markdown",
   "id": "48c338c6",
   "metadata": {
    "deletable": false,
    "editable": false,
    "nbgrader": {
     "cell_type": "markdown",
     "checksum": "734905fae6ec9b9b1a1731cbedab38e5",
     "grade": false,
     "grade_id": "cell-443752b9136a2147",
     "locked": true,
     "schema_version": 3,
     "solution": false,
     "task": false
    }
   },
   "source": [
    "## In Class Exercise <a class=\"anchor\" id=\"anchor4\"></a>\n",
    "\n",
    "\n",
    "\n",
    "\n",
    "\n",
    "* Create a vector of length 10 that repeats the number 5, name this vector x  \n",
    "* Create a vector with all the numbers from 2 to 20 in incremeants of 2, name this vector y\n",
    "* Print out the two vectors using the print( ) function\n",
    "* Using Pandas, add the two vectors to a dataframe with columns \"x\" and \"y\""
   ]
  },
  {
   "cell_type": "markdown",
   "id": "6b81805f",
   "metadata": {
    "deletable": false,
    "editable": false,
    "nbgrader": {
     "cell_type": "markdown",
     "checksum": "59956ee629f74a7d593af5942ace1689",
     "grade": false,
     "grade_id": "cell-9e9637159a6de3b3",
     "locked": true,
     "schema_version": 3,
     "solution": false,
     "task": false
    }
   },
   "source": [
    "> See how the **index starts at 0** in the data frame, that is how indexes are in Python this is **important to remember**"
   ]
  },
  {
   "cell_type": "code",
   "execution_count": 15,
   "id": "4d7ec41b",
   "metadata": {
    "deletable": false,
    "nbgrader": {
     "cell_type": "code",
     "checksum": "9d8b0f67054a686c238930e917b34b1f",
     "grade": false,
     "grade_id": "cell-d92f01a75db754c9",
     "locked": false,
     "schema_version": 3,
     "solution": true,
     "task": false
    }
   },
   "outputs": [
    {
     "name": "stdout",
     "output_type": "stream",
     "text": [
      "[5 5 5 5 5 5 5 5 5 5]\n",
      "[ 2  4  6  8 10 12 14 16 18 20]\n"
     ]
    },
    {
     "data": {
      "text/html": [
       "<div>\n",
       "<style scoped>\n",
       "    .dataframe tbody tr th:only-of-type {\n",
       "        vertical-align: middle;\n",
       "    }\n",
       "\n",
       "    .dataframe tbody tr th {\n",
       "        vertical-align: top;\n",
       "    }\n",
       "\n",
       "    .dataframe thead th {\n",
       "        text-align: right;\n",
       "    }\n",
       "</style>\n",
       "<table border=\"1\" class=\"dataframe\">\n",
       "  <thead>\n",
       "    <tr style=\"text-align: right;\">\n",
       "      <th></th>\n",
       "      <th>x</th>\n",
       "      <th>y</th>\n",
       "    </tr>\n",
       "  </thead>\n",
       "  <tbody>\n",
       "    <tr>\n",
       "      <th>0</th>\n",
       "      <td>5</td>\n",
       "      <td>2</td>\n",
       "    </tr>\n",
       "    <tr>\n",
       "      <th>1</th>\n",
       "      <td>5</td>\n",
       "      <td>4</td>\n",
       "    </tr>\n",
       "    <tr>\n",
       "      <th>2</th>\n",
       "      <td>5</td>\n",
       "      <td>6</td>\n",
       "    </tr>\n",
       "    <tr>\n",
       "      <th>3</th>\n",
       "      <td>5</td>\n",
       "      <td>8</td>\n",
       "    </tr>\n",
       "    <tr>\n",
       "      <th>4</th>\n",
       "      <td>5</td>\n",
       "      <td>10</td>\n",
       "    </tr>\n",
       "    <tr>\n",
       "      <th>5</th>\n",
       "      <td>5</td>\n",
       "      <td>12</td>\n",
       "    </tr>\n",
       "    <tr>\n",
       "      <th>6</th>\n",
       "      <td>5</td>\n",
       "      <td>14</td>\n",
       "    </tr>\n",
       "    <tr>\n",
       "      <th>7</th>\n",
       "      <td>5</td>\n",
       "      <td>16</td>\n",
       "    </tr>\n",
       "    <tr>\n",
       "      <th>8</th>\n",
       "      <td>5</td>\n",
       "      <td>18</td>\n",
       "    </tr>\n",
       "    <tr>\n",
       "      <th>9</th>\n",
       "      <td>5</td>\n",
       "      <td>20</td>\n",
       "    </tr>\n",
       "  </tbody>\n",
       "</table>\n",
       "</div>"
      ],
      "text/plain": [
       "   x   y\n",
       "0  5   2\n",
       "1  5   4\n",
       "2  5   6\n",
       "3  5   8\n",
       "4  5  10\n",
       "5  5  12\n",
       "6  5  14\n",
       "7  5  16\n",
       "8  5  18\n",
       "9  5  20"
      ]
     },
     "execution_count": 15,
     "metadata": {},
     "output_type": "execute_result"
    }
   ],
   "source": [
    "x=np.repeat(5,10,axis=None)\n",
    "y=np.arange(2,21,2)\n",
    "print(x)\n",
    "print(y)\n",
    "dataset = pd.DataFrame({\"x\":x,\"y\":y}, columns=[\"x\",\"y\"])\n",
    "dataset"
   ]
  },
  {
   "cell_type": "code",
   "execution_count": null,
   "id": "e29cc89b",
   "metadata": {
    "deletable": false,
    "editable": false,
    "nbgrader": {
     "cell_type": "code",
     "checksum": "480d23c2fcb350ae8a096f9cd31f1e3d",
     "grade": true,
     "grade_id": "cell-e0cf1414e72062a8",
     "locked": true,
     "points": 2,
     "schema_version": 3,
     "solution": false,
     "task": false
    }
   },
   "outputs": [],
   "source": [
    "# Autograder cell -do not delete it"
   ]
  },
  {
   "cell_type": "markdown",
   "id": "452344fd",
   "metadata": {
    "deletable": false,
    "editable": false,
    "nbgrader": {
     "cell_type": "markdown",
     "checksum": "1d8a9358a3475b5827bfba70bd8346c4",
     "grade": false,
     "grade_id": "cell-f76912a490e0a042",
     "locked": true,
     "schema_version": 3,
     "solution": false,
     "task": false
    }
   },
   "source": [
    "## Create a Dataframe Based on the Following Table <a class = \"anchor\" id = \"anchor5\" ></a>\n",
    "\n",
    "\n",
    "See the table below. It contains the information of the score that students obtained when two different reinforcement methods were used. "
   ]
  },
  {
   "cell_type": "markdown",
   "id": "12b4873c",
   "metadata": {
    "deletable": false,
    "editable": false,
    "nbgrader": {
     "cell_type": "markdown",
     "checksum": "7b04aa9ffafcd25d450c35407b323e7f",
     "grade": false,
     "grade_id": "cell-6be052ea96b1d9d7",
     "locked": true,
     "schema_version": 3,
     "solution": false,
     "task": false
    }
   },
   "source": [
    "|Male  |\t| Female | |\n",
    "| ------ | ------- | ------ | ------ |\n",
    "| Electric Shock | Being Nice | Electric Shock | Being Nice |\n",
    "|15 | 10 | 6 | 12|\n",
    "|14 | 9 |\t7 |\t10|\n",
    "|29 | 8 |\t5 |\t7|\n",
    "|13 | 8 | 4\t| 8|\n",
    "|13 | 7 | 8\t| 13|"
   ]
  },
  {
   "cell_type": "markdown",
   "id": "aaa274a1",
   "metadata": {
    "deletable": false,
    "editable": false,
    "nbgrader": {
     "cell_type": "markdown",
     "checksum": "10598b8973b90f4b2c968f0a84ae54bd",
     "grade": false,
     "grade_id": "cell-a09689efe62e3597",
     "locked": true,
     "schema_version": 3,
     "solution": false,
     "task": false
    }
   },
   "source": [
    "Use the information of this table to create a dataframe in Python that has the adequate structure. Observations in the rows and variables in the columns. \n",
    "\n",
    "Use the function `np.repeat( )` when necessary.\n",
    "\n",
    "Let's think about the steps to make this data into a data frame. \n",
    "\n",
    "* We have 3 attributes in the data set: \n",
    "* Sex (where M:= male; F:= female), \n",
    "* Reinforcement method (where ES:= electric shock; BN:= being nice), \n",
    "* and performance/score (positive integer values). \n",
    "* We need one vector per attribute "
   ]
  },
  {
   "cell_type": "code",
   "execution_count": 21,
   "id": "82fb3a4a",
   "metadata": {
    "deletable": false,
    "nbgrader": {
     "cell_type": "code",
     "checksum": "15dc355eab0f8a3ba2426cfce46fba06",
     "grade": false,
     "grade_id": "cell-620c789681291ae6",
     "locked": false,
     "schema_version": 3,
     "solution": true,
     "task": false
    }
   },
   "outputs": [
    {
     "name": "stdout",
     "output_type": "stream",
     "text": [
      "['M' 'M' 'M' 'M' 'M' 'M' 'M' 'M' 'M' 'M' 'F' 'F' 'F' 'F' 'F' 'F' 'F' 'F'\n",
      " 'F' 'F']\n"
     ]
    }
   ],
   "source": [
    "sex = np.array([\"M\",\"F\"])\n",
    "# Ten Males and Ten Females\n",
    "t=np.array([10,10])\n",
    "# Method Type\n",
    "me = np.array([\"ES\",\"BN\",\"ES\",\"BN\"])\n",
    "# Create the Vector for 5 Methods\n",
    "t1 = np.repeat(5,4)\n",
    "sex_vector = np.repeat(sex, t)\n",
    "me_vector = np.repeat(me, t1)\n",
    "# Score Vector\n",
    "score = np.array([15,14,29,13,13,10,9,8,8,7,6,7,5,4,8,12,10,7,8,13])\n",
    "print(sex_vector)"
   ]
  },
  {
   "cell_type": "code",
   "execution_count": null,
   "id": "0fcbcd6d",
   "metadata": {
    "deletable": false,
    "editable": false,
    "nbgrader": {
     "cell_type": "code",
     "checksum": "24dbc36d591faec7eb94e2b4c7026c5b",
     "grade": true,
     "grade_id": "cell-72d4022fc906e4b7",
     "locked": true,
     "points": 2,
     "schema_version": 3,
     "solution": false,
     "task": false
    }
   },
   "outputs": [],
   "source": [
    "# Autograder cell -do not delete it"
   ]
  },
  {
   "cell_type": "code",
   "execution_count": null,
   "id": "9be45acf",
   "metadata": {
    "deletable": false,
    "editable": false,
    "nbgrader": {
     "cell_type": "code",
     "checksum": "de7f2f9d2f84cf26feb80d21b59da79e",
     "grade": true,
     "grade_id": "cell-8a00c728502fb79b",
     "locked": true,
     "points": 2,
     "schema_version": 3,
     "solution": false,
     "task": false
    }
   },
   "outputs": [],
   "source": [
    "# Autograder cell -do not delete it"
   ]
  },
  {
   "cell_type": "markdown",
   "id": "f218b140",
   "metadata": {
    "deletable": false,
    "editable": false,
    "nbgrader": {
     "cell_type": "markdown",
     "checksum": "0244f7820f4023b12b8b86c1a53edfc3",
     "grade": false,
     "grade_id": "cell-d25510ca533031c3",
     "locked": true,
     "schema_version": 3,
     "solution": false,
     "task": false
    }
   },
   "source": [
    "Now, having sucessfully inputted these three vectors into Python, we can compile our column vectors into a data frame and also save it as a CSV file. "
   ]
  },
  {
   "cell_type": "code",
   "execution_count": 26,
   "id": "12f90046",
   "metadata": {
    "deletable": false,
    "nbgrader": {
     "cell_type": "code",
     "checksum": "202b27d56a4439c1768256821b94d714",
     "grade": false,
     "grade_id": "cell-e089ba9df0c7d324",
     "locked": false,
     "schema_version": 3,
     "solution": true,
     "task": false
    }
   },
   "outputs": [],
   "source": [
    "df_reinforcement = pd.DataFrame({\"sex\":sex_vector,\"method\":me_vector,\"score\":score},\n",
    "                                columns = [\"sex\",\"method\",\"score\"])\n",
    "# Save this data set to csv \n",
    "df_reinforcement.to_csv(\"Reinforcementdata.csv\")"
   ]
  },
  {
   "cell_type": "code",
   "execution_count": null,
   "id": "37efe1de",
   "metadata": {
    "deletable": false,
    "editable": false,
    "nbgrader": {
     "cell_type": "code",
     "checksum": "1ad84a4fac0c3aa5a895e3e9bf5a6c12",
     "grade": true,
     "grade_id": "cell-a66b6c9e533984fd",
     "locked": true,
     "points": 2,
     "schema_version": 3,
     "solution": false,
     "task": false
    }
   },
   "outputs": [],
   "source": [
    "# Autograder cell -do not delete it"
   ]
  },
  {
   "cell_type": "markdown",
   "id": "857ff3cc",
   "metadata": {
    "deletable": false,
    "editable": false,
    "nbgrader": {
     "cell_type": "markdown",
     "checksum": "217d8e797849524f2beccf88b4591cfb",
     "grade": false,
     "grade_id": "cell-8e40d32915b9cbee",
     "locked": true,
     "schema_version": 3,
     "solution": false,
     "task": false
    }
   },
   "source": [
    "## Using `.loc` and `.iloc` on a data frame <a class = \"anchor\" id = \"anchor6\" ></a>\n",
    "\n",
    "When isnpecting a dataframe you always need to work with its dimensions, observations and variables or rows and columns. \n",
    "You can use the methods `.loc` and `.iloc` to inspect or do any data selection you want on your data frame. \n",
    ">`.loc` is label-based, which means that you have to specify rows and columns based on their row and column labels or names. \n",
    "\n",
    ">`iloc` is integer position based (from 0 to length-1 of the axis), in which case you specify rows and columns by their integer index or position.\n",
    "\n",
    "**Data slicing:** Remember that in python index always start with zero and `[start(inclusive) : end(exclusive)]` so for example, if you slice a Numpy array (vector) that has 10 elements like this `vector[2:6]` this will take the element 3 to element 5 of the array. "
   ]
  },
  {
   "cell_type": "code",
   "execution_count": 27,
   "id": "90b0cce4",
   "metadata": {},
   "outputs": [
    {
     "data": {
      "text/html": [
       "<style type=\"text/css\">\n",
       "</style>\n",
       "<table id=\"T_11708_\">\n",
       "  <thead>\n",
       "    <tr>\n",
       "      <th class=\"blank level0\" >&nbsp;</th>\n",
       "      <th class=\"col_heading level0 col0\" >sex</th>\n",
       "      <th class=\"col_heading level0 col1\" >method</th>\n",
       "      <th class=\"col_heading level0 col2\" >score</th>\n",
       "    </tr>\n",
       "  </thead>\n",
       "  <tbody>\n",
       "    <tr>\n",
       "      <th id=\"T_11708_level0_row0\" class=\"row_heading level0 row0\" >0</th>\n",
       "      <td id=\"T_11708_row0_col0\" class=\"data row0 col0\" >M</td>\n",
       "      <td id=\"T_11708_row0_col1\" class=\"data row0 col1\" >ES</td>\n",
       "      <td id=\"T_11708_row0_col2\" class=\"data row0 col2\" >15</td>\n",
       "    </tr>\n",
       "    <tr>\n",
       "      <th id=\"T_11708_level0_row1\" class=\"row_heading level0 row1\" >1</th>\n",
       "      <td id=\"T_11708_row1_col0\" class=\"data row1 col0\" >M</td>\n",
       "      <td id=\"T_11708_row1_col1\" class=\"data row1 col1\" >ES</td>\n",
       "      <td id=\"T_11708_row1_col2\" class=\"data row1 col2\" >14</td>\n",
       "    </tr>\n",
       "    <tr>\n",
       "      <th id=\"T_11708_level0_row2\" class=\"row_heading level0 row2\" >2</th>\n",
       "      <td id=\"T_11708_row2_col0\" class=\"data row2 col0\" >M</td>\n",
       "      <td id=\"T_11708_row2_col1\" class=\"data row2 col1\" >ES</td>\n",
       "      <td id=\"T_11708_row2_col2\" class=\"data row2 col2\" >29</td>\n",
       "    </tr>\n",
       "    <tr>\n",
       "      <th id=\"T_11708_level0_row3\" class=\"row_heading level0 row3\" >3</th>\n",
       "      <td id=\"T_11708_row3_col0\" class=\"data row3 col0\" >M</td>\n",
       "      <td id=\"T_11708_row3_col1\" class=\"data row3 col1\" >ES</td>\n",
       "      <td id=\"T_11708_row3_col2\" class=\"data row3 col2\" >13</td>\n",
       "    </tr>\n",
       "    <tr>\n",
       "      <th id=\"T_11708_level0_row4\" class=\"row_heading level0 row4\" >4</th>\n",
       "      <td id=\"T_11708_row4_col0\" class=\"data row4 col0\" >M</td>\n",
       "      <td id=\"T_11708_row4_col1\" class=\"data row4 col1\" >ES</td>\n",
       "      <td id=\"T_11708_row4_col2\" class=\"data row4 col2\" >13</td>\n",
       "    </tr>\n",
       "    <tr>\n",
       "      <th id=\"T_11708_level0_row5\" class=\"row_heading level0 row5\" >5</th>\n",
       "      <td id=\"T_11708_row5_col0\" class=\"data row5 col0\" >M</td>\n",
       "      <td id=\"T_11708_row5_col1\" class=\"data row5 col1\" >BN</td>\n",
       "      <td id=\"T_11708_row5_col2\" class=\"data row5 col2\" >10</td>\n",
       "    </tr>\n",
       "    <tr>\n",
       "      <th id=\"T_11708_level0_row6\" class=\"row_heading level0 row6\" >6</th>\n",
       "      <td id=\"T_11708_row6_col0\" class=\"data row6 col0\" >M</td>\n",
       "      <td id=\"T_11708_row6_col1\" class=\"data row6 col1\" >BN</td>\n",
       "      <td id=\"T_11708_row6_col2\" class=\"data row6 col2\" >9</td>\n",
       "    </tr>\n",
       "    <tr>\n",
       "      <th id=\"T_11708_level0_row7\" class=\"row_heading level0 row7\" >7</th>\n",
       "      <td id=\"T_11708_row7_col0\" class=\"data row7 col0\" >M</td>\n",
       "      <td id=\"T_11708_row7_col1\" class=\"data row7 col1\" >BN</td>\n",
       "      <td id=\"T_11708_row7_col2\" class=\"data row7 col2\" >8</td>\n",
       "    </tr>\n",
       "    <tr>\n",
       "      <th id=\"T_11708_level0_row8\" class=\"row_heading level0 row8\" >8</th>\n",
       "      <td id=\"T_11708_row8_col0\" class=\"data row8 col0\" >M</td>\n",
       "      <td id=\"T_11708_row8_col1\" class=\"data row8 col1\" >BN</td>\n",
       "      <td id=\"T_11708_row8_col2\" class=\"data row8 col2\" >8</td>\n",
       "    </tr>\n",
       "    <tr>\n",
       "      <th id=\"T_11708_level0_row9\" class=\"row_heading level0 row9\" >9</th>\n",
       "      <td id=\"T_11708_row9_col0\" class=\"data row9 col0\" >M</td>\n",
       "      <td id=\"T_11708_row9_col1\" class=\"data row9 col1\" >BN</td>\n",
       "      <td id=\"T_11708_row9_col2\" class=\"data row9 col2\" >7</td>\n",
       "    </tr>\n",
       "  </tbody>\n",
       "</table>\n"
      ],
      "text/plain": [
       "<pandas.io.formats.style.Styler at 0x7fc8dc731d90>"
      ]
     },
     "execution_count": 27,
     "metadata": {},
     "output_type": "execute_result"
    }
   ],
   "source": [
    "# Use iloc to view(reinforcement_df first 10 rows)\n",
    "# View(reinforcement_df first 10 rows)\n",
    "# .style will print the first 10 rows in a nice looking table\n",
    "df_reinforcement.iloc[:10,].style"
   ]
  },
  {
   "cell_type": "code",
   "execution_count": 29,
   "id": "632b944c",
   "metadata": {},
   "outputs": [
    {
     "data": {
      "text/html": [
       "<div>\n",
       "<style scoped>\n",
       "    .dataframe tbody tr th:only-of-type {\n",
       "        vertical-align: middle;\n",
       "    }\n",
       "\n",
       "    .dataframe tbody tr th {\n",
       "        vertical-align: top;\n",
       "    }\n",
       "\n",
       "    .dataframe thead th {\n",
       "        text-align: right;\n",
       "    }\n",
       "</style>\n",
       "<table border=\"1\" class=\"dataframe\">\n",
       "  <thead>\n",
       "    <tr style=\"text-align: right;\">\n",
       "      <th></th>\n",
       "      <th>sex</th>\n",
       "      <th>score</th>\n",
       "    </tr>\n",
       "  </thead>\n",
       "  <tbody>\n",
       "    <tr>\n",
       "      <th>9</th>\n",
       "      <td>M</td>\n",
       "      <td>7</td>\n",
       "    </tr>\n",
       "    <tr>\n",
       "      <th>10</th>\n",
       "      <td>F</td>\n",
       "      <td>6</td>\n",
       "    </tr>\n",
       "    <tr>\n",
       "      <th>11</th>\n",
       "      <td>F</td>\n",
       "      <td>7</td>\n",
       "    </tr>\n",
       "    <tr>\n",
       "      <th>12</th>\n",
       "      <td>F</td>\n",
       "      <td>5</td>\n",
       "    </tr>\n",
       "    <tr>\n",
       "      <th>13</th>\n",
       "      <td>F</td>\n",
       "      <td>4</td>\n",
       "    </tr>\n",
       "    <tr>\n",
       "      <th>14</th>\n",
       "      <td>F</td>\n",
       "      <td>8</td>\n",
       "    </tr>\n",
       "    <tr>\n",
       "      <th>15</th>\n",
       "      <td>F</td>\n",
       "      <td>12</td>\n",
       "    </tr>\n",
       "    <tr>\n",
       "      <th>16</th>\n",
       "      <td>F</td>\n",
       "      <td>10</td>\n",
       "    </tr>\n",
       "    <tr>\n",
       "      <th>17</th>\n",
       "      <td>F</td>\n",
       "      <td>7</td>\n",
       "    </tr>\n",
       "    <tr>\n",
       "      <th>18</th>\n",
       "      <td>F</td>\n",
       "      <td>8</td>\n",
       "    </tr>\n",
       "    <tr>\n",
       "      <th>19</th>\n",
       "      <td>F</td>\n",
       "      <td>13</td>\n",
       "    </tr>\n",
       "  </tbody>\n",
       "</table>\n",
       "</div>"
      ],
      "text/plain": [
       "   sex  score\n",
       "9    M      7\n",
       "10   F      6\n",
       "11   F      7\n",
       "12   F      5\n",
       "13   F      4\n",
       "14   F      8\n",
       "15   F     12\n",
       "16   F     10\n",
       "17   F      7\n",
       "18   F      8\n",
       "19   F     13"
      ]
     },
     "execution_count": 29,
     "metadata": {},
     "output_type": "execute_result"
    }
   ],
   "source": [
    "# Use loc to view reinforcement_df last 10 rows and only sex and score columns \n",
    "# View(reinforcement_df first 10 rows)\n",
    "# .style method will print this selection rows in a nice looking table\n",
    "df_reinforcement.loc[9:19,(\"sex\",\"score\")]\n",
    "\n"
   ]
  },
  {
   "cell_type": "markdown",
   "id": "780b7cb1",
   "metadata": {
    "deletable": false,
    "editable": false,
    "nbgrader": {
     "cell_type": "markdown",
     "checksum": "a1a47850db595a5d1991c7837dc3fff5",
     "grade": false,
     "grade_id": "cell-509a949d2ecd0d11",
     "locked": true,
     "schema_version": 3,
     "solution": false,
     "task": false
    }
   },
   "source": [
    "In this case there is no difference in the rows because the index labels are numbers so they refer to the positions of the rows. But for the columns we refer to the labels instead of the positions.  "
   ]
  },
  {
   "cell_type": "markdown",
   "id": "10fd19f3",
   "metadata": {
    "deletable": false,
    "editable": false,
    "nbgrader": {
     "cell_type": "markdown",
     "checksum": "5b79770029db1d00d35e15c46c23ce43",
     "grade": false,
     "grade_id": "cell-98e423ae7315be6a",
     "locked": true,
     "schema_version": 3,
     "solution": false,
     "task": false
    }
   },
   "source": [
    "<hr />\n",
    "<style>\n",
    "div.gray { background-color:#dbdbdb; border-radius: 5px; padding: 20px;}\n",
    "</style>\n",
    "<div class = \"gray\">\n",
    "\n",
    "<b>Packages used in this document</b>\n",
    "\n",
    "Numpy\n",
    "    \n",
    "Pandas   \n",
    "\n",
    "</div>"
   ]
  },
  {
   "cell_type": "markdown",
   "id": "662d9a95",
   "metadata": {
    "deletable": false,
    "editable": false,
    "nbgrader": {
     "cell_type": "markdown",
     "checksum": "f07c0d8f4362046842dac771d847b42d",
     "grade": false,
     "grade_id": "cell-5632701dcbf6bb68",
     "locked": true,
     "schema_version": 3,
     "solution": false,
     "task": false
    }
   },
   "source": [
    "\n",
    "&nbsp;\n",
    "<hr />\n",
    "<p style=\"font-family:palatino; text-align: center;font-size: 15px\">ECON220 Python Programming Laboratory</a></p>\n",
    "<p style=\"font-family:palatino; text-align: center;font-size: 15px\">Professor <em> Paloma Lopez de mesa Moyano</em></a></p>\n",
    "<p style=\"font-family:palatino; text-align: center;font-size: 15px\"><span style=\"color: #6666FF;\"><em>paloma.moyano@emory.edu</em></span></p>\n",
    "\n",
    "<p style=\"font-family:palatino; text-align: center;font-size: 15px\">Department of Economics</a></p>\n",
    "<p style=\"font-family:palatino; text-align: center; color: #012169;font-size: 15px\">Emory University</a></p>\n",
    "\n",
    "&nbsp;\n"
   ]
  },
  {
   "cell_type": "code",
   "execution_count": 32,
   "id": "9c079b36",
   "metadata": {},
   "outputs": [
    {
     "ename": "SyntaxError",
     "evalue": "invalid syntax (1073393977.py, line 1)",
     "output_type": "error",
     "traceback": [
      "\u001b[0;36m  File \u001b[0;32m\"/var/folders/y_/d0wbwn_s1tlbh09zvpsn9bp40000gn/T/ipykernel_76065/1073393977.py\"\u001b[0;36m, line \u001b[0;32m1\u001b[0m\n\u001b[0;31m    jupyter nbconvert to html H3H4Gavin.ipynb\u001b[0m\n\u001b[0m            ^\u001b[0m\n\u001b[0;31mSyntaxError\u001b[0m\u001b[0;31m:\u001b[0m invalid syntax\n"
     ]
    }
   ],
   "source": [
    "#!jupyter nbconvert --to html namefile.ipynb"
   ]
  },
  {
   "cell_type": "code",
   "execution_count": null,
   "id": "73669255",
   "metadata": {},
   "outputs": [],
   "source": []
  }
 ],
 "metadata": {
  "kernelspec": {
   "display_name": "Python 3 (ipykernel)",
   "language": "python",
   "name": "python3"
  },
  "language_info": {
   "codemirror_mode": {
    "name": "ipython",
    "version": 3
   },
   "file_extension": ".py",
   "mimetype": "text/x-python",
   "name": "python",
   "nbconvert_exporter": "python",
   "pygments_lexer": "ipython3",
   "version": "3.9.7"
  }
 },
 "nbformat": 4,
 "nbformat_minor": 5
}
