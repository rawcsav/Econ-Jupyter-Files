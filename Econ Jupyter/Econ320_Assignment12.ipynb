{
 "cells": [
  {
   "cell_type": "code",
   "execution_count": 1,
   "id": "83f4ddcc",
   "metadata": {},
   "outputs": [],
   "source": [
    "# Script Name: Assignment 12\n",
    "# Purpose of script: Complete Assignment 12 for Econ 320\n",
    "# Author: Gavin Mason\n",
    "# Date Created: 11/29/2022\n",
    "# Notes:\n",
    "\n",
    "# Packages\n",
    "import wooldridge as woo\n",
    "import numpy as np \n",
    "import pandas as pd\n",
    "import matplotlib.pyplot as plt\n",
    "import seaborn as sns\n",
    "import scipy.stats as stats\n",
    "import statsmodels.api as sm\n",
    "import statsmodels.formula.api as smf\n",
    "from statsmodels.formula.api import ols\n",
    "import statsmodels.stats.api as sms # BP test\n",
    "from statsmodels.stats.diagnostic import het_white\n",
    "from stargazer.stargazer import Stargazer\n",
    "from IPython.core.display import HTML\n",
    "import math"
   ]
  },
  {
   "cell_type": "code",
   "execution_count": 11,
   "id": "d74180fd",
   "metadata": {},
   "outputs": [],
   "source": [
    "birthday = 11212001\n",
    "np.random.seed(11212001)\n",
    "b0 = 3\n",
    "b1 = 2\n",
    "x = np.random.normal(10, 1, 1000000)\n",
    "u = np.random.normal(0, 1, 1000000)\n",
    "ux = u*x\n",
    "y = b0+b1*x\n",
    "y1 = b0+b1*x+u\n",
    "y2 = b0+b1*x+ux\n",
    "population = {\"x\":x,\"u\":u,\"ux\":ux,\"y\":y, \"y1\":y1, \"y2\":y2} \n",
    "population = pd.DataFrame(population)"
   ]
  },
  {
   "cell_type": "code",
   "execution_count": 14,
   "id": "1f257866",
   "metadata": {},
   "outputs": [
    {
     "data": {
      "image/png": "[encoded data removed]",
      "text/plain": [
       "<Figure size 432x288 with 1 Axes>"
      ]
     },
     "metadata": {
      "needs_background": "light"
     },
     "output_type": "display_data"
    }
   ],
   "source": [
    "fig1 = plt.scatter(x,y1)\n",
    "fig1 = plt.plot(x,y, color = 'red')\n",
    "fig1 = plt.title('Homoskedasticity when U=U')"
   ]
  },
  {
   "cell_type": "code",
   "execution_count": 13,
   "id": "eb90df80",
   "metadata": {},
   "outputs": [
    {
     "data": {
      "image/png": "[encoded data removed]",
      "text/plain": [
       "<Figure size 432x288 with 1 Axes>"
      ]
     },
     "metadata": {
      "needs_background": "light"
     },
     "output_type": "display_data"
    }
   ],
   "source": [
    "fig2 = plt.scatter(x,y2)\n",
    "fig2 = plt.plot(x,y, color = 'red')\n",
    "fig2 = plt.title('Heteroskedasticity when U=UX')"
   ]
  },
  {
   "cell_type": "code",
   "execution_count": null,
   "id": "c42cdf0a",
   "metadata": {},
   "outputs": [],
   "source": [
    "#Visually, when U=UX the residual plot tends to cone towards the center. When U=U, the residual plot is much more\n",
    "#straight around the line."
   ]
  },
  {
   "cell_type": "code",
   "execution_count": 22,
   "id": "7348a651",
   "metadata": {},
   "outputs": [
    {
     "data": {
      "text/html": [
       "<table class=\"simpletable\">\n",
       "<caption>OLS Regression Results</caption>\n",
       "<tr>\n",
       "  <th>Dep. Variable:</th>           <td>y1</td>        <th>  R-squared:         </th> <td>   0.787</td>\n",
       "</tr>\n",
       "<tr>\n",
       "  <th>Model:</th>                   <td>OLS</td>       <th>  Adj. R-squared:    </th> <td>   0.787</td>\n",
       "</tr>\n",
       "<tr>\n",
       "  <th>Method:</th>             <td>Least Squares</td>  <th>  F-statistic:       </th> <td>   3691.</td>\n",
       "</tr>\n",
       "<tr>\n",
       "  <th>Date:</th>             <td>Tue, 06 Dec 2022</td> <th>  Prob (F-statistic):</th>  <td>  0.00</td> \n",
       "</tr>\n",
       "<tr>\n",
       "  <th>Time:</th>                 <td>13:16:06</td>     <th>  Log-Likelihood:    </th> <td> -1448.8</td>\n",
       "</tr>\n",
       "<tr>\n",
       "  <th>No. Observations:</th>      <td>  1000</td>      <th>  AIC:               </th> <td>   2902.</td>\n",
       "</tr>\n",
       "<tr>\n",
       "  <th>Df Residuals:</th>          <td>   998</td>      <th>  BIC:               </th> <td>   2911.</td>\n",
       "</tr>\n",
       "<tr>\n",
       "  <th>Df Model:</th>              <td>     1</td>      <th>                     </th>     <td> </td>   \n",
       "</tr>\n",
       "<tr>\n",
       "  <th>Covariance Type:</th>      <td>nonrobust</td>    <th>                     </th>     <td> </td>   \n",
       "</tr>\n",
       "</table>\n",
       "<table class=\"simpletable\">\n",
       "<tr>\n",
       "      <td></td>         <th>coef</th>     <th>std err</th>      <th>t</th>      <th>P>|t|</th>  <th>[0.025</th>    <th>0.975]</th>  \n",
       "</tr>\n",
       "<tr>\n",
       "  <th>Intercept</th> <td>    2.8080</td> <td>    0.334</td> <td>    8.402</td> <td> 0.000</td> <td>    2.152</td> <td>    3.464</td>\n",
       "</tr>\n",
       "<tr>\n",
       "  <th>x</th>         <td>    2.0193</td> <td>    0.033</td> <td>   60.758</td> <td> 0.000</td> <td>    1.954</td> <td>    2.085</td>\n",
       "</tr>\n",
       "</table>\n",
       "<table class=\"simpletable\">\n",
       "<tr>\n",
       "  <th>Omnibus:</th>       <td> 0.236</td> <th>  Durbin-Watson:     </th> <td>   1.955</td>\n",
       "</tr>\n",
       "<tr>\n",
       "  <th>Prob(Omnibus):</th> <td> 0.889</td> <th>  Jarque-Bera (JB):  </th> <td>   0.321</td>\n",
       "</tr>\n",
       "<tr>\n",
       "  <th>Skew:</th>          <td>-0.010</td> <th>  Prob(JB):          </th> <td>   0.852</td>\n",
       "</tr>\n",
       "<tr>\n",
       "  <th>Kurtosis:</th>      <td> 2.914</td> <th>  Cond. No.          </th> <td>    104.</td>\n",
       "</tr>\n",
       "</table><br/><br/>Notes:<br/>[1] Standard Errors assume that the covariance matrix of the errors is correctly specified."
      ],
      "text/plain": [
       "<class 'statsmodels.iolib.summary.Summary'>\n",
       "\"\"\"\n",
       "                            OLS Regression Results                            \n",
       "==============================================================================\n",
       "Dep. Variable:                     y1   R-squared:                       0.787\n",
       "Model:                            OLS   Adj. R-squared:                  0.787\n",
       "Method:                 Least Squares   F-statistic:                     3691.\n",
       "Date:                Tue, 06 Dec 2022   Prob (F-statistic):               0.00\n",
       "Time:                        13:16:06   Log-Likelihood:                -1448.8\n",
       "No. Observations:                1000   AIC:                             2902.\n",
       "Df Residuals:                     998   BIC:                             2911.\n",
       "Df Model:                           1                                         \n",
       "Covariance Type:            nonrobust                                         \n",
       "==============================================================================\n",
       "                 coef    std err          t      P>|t|      [0.025      0.975]\n",
       "------------------------------------------------------------------------------\n",
       "Intercept      2.8080      0.334      8.402      0.000       2.152       3.464\n",
       "x              2.0193      0.033     60.758      0.000       1.954       2.085\n",
       "==============================================================================\n",
       "Omnibus:                        0.236   Durbin-Watson:                   1.955\n",
       "Prob(Omnibus):                  0.889   Jarque-Bera (JB):                0.321\n",
       "Skew:                          -0.010   Prob(JB):                        0.852\n",
       "Kurtosis:                       2.914   Cond. No.                         104.\n",
       "==============================================================================\n",
       "\n",
       "Notes:\n",
       "[1] Standard Errors assume that the covariance matrix of the errors is correctly specified.\n",
       "\"\"\""
      ]
     },
     "execution_count": 22,
     "metadata": {},
     "output_type": "execute_result"
    }
   ],
   "source": [
    "\n",
    "population_data1 = pd.DataFrame({'y1':y1, 'x':x})\n",
    "\n",
    "sample_df1 = population_data1.sample(n=1000, random_state = 11212001)\n",
    "reg1 = smf.ols(formula='y1 ~ x', data = sample_df1).fit()\n",
    "reg1.summary()"
   ]
  },
  {
   "cell_type": "code",
   "execution_count": 21,
   "id": "2edb62b5",
   "metadata": {},
   "outputs": [
    {
     "name": "stdout",
     "output_type": "stream",
     "text": [
      "fstat: [[3.88967223]]\n",
      "\n",
      "fpval: 0.048859664885123055\n",
      "\n"
     ]
    }
   ],
   "source": [
    "sample_df1['y1pred']=reg1.params[1]*sample_df1['x']+reg1.params[0]\n",
    "sample_df1['residy1']=sample_df1['y1']-sample_df1['y1pred']\n",
    "sample_df1['residy1sq'] = reg1.resid**2\n",
    "\n",
    "reg = smf.ols(formula='residy1sq ~ x', data = sample_df1).fit()\n",
    "\n",
    "hypotheses = ['x = 0']\n",
    "#automated F test:\n",
    "\n",
    "ftest = reg.f_test(hypotheses)\n",
    "fstat = ftest.statistic\n",
    "fpval = ftest.pvalue\n",
    "\n",
    "print(f'fstat: {fstat}\\n')\n",
    "print(f'fpval: {fpval}\\n')\n",
    "\n",
    "#Since our fpval is large, we cannot reject our null hypothesis. \n",
    "#Therefore, we conclude that x is not statistically significant in determining the u-hat^2"
   ]
  },
  {
   "cell_type": "code",
   "execution_count": 25,
   "id": "1aab5b21",
   "metadata": {},
   "outputs": [
    {
     "name": "stdout",
     "output_type": "stream",
     "text": [
      "fstat: [[35.55753562]]\n",
      "\n",
      "fpval: 3.4330365181293598e-09\n",
      "\n"
     ]
    }
   ],
   "source": [
    "population_data2 = pd.DataFrame({'y2':y2, 'x':x})\n",
    "\n",
    "sample2 = population_data2.sample(n=1000, random_state = 11212001)\n",
    "reg2 = smf.ols(formula='y2 ~ x', data = sample2).fit()\n",
    "sample_df2['y2pred']=reg2.params[1]*sample2['x']+reg2.params[0]\n",
    "sample_df2['residy2']=sample2['y2']-sample2['y2pred']\n",
    "sample_df2['residy2sq'] = reg2.resid**2\n",
    "                                     \n",
    "reg = smf.ols(formula=''residy2sq' ~ x', data = sample_df2).fit()\n",
    "                                     \n",
    "hypotheses = ['x = 0']\n",
    "ftest = reg.f_test(hypotheses)\n",
    "fstat = ftest.statistic\n",
    "fpval = ftest.pvalue\n",
    "\n",
    "print(f'fstat: {fstat}\\n')\n",
    "print(f'fpval: {fpval}\\n')\n",
    "\n",
    "#Since our fpval is very small, we reject our null hypothesis. \n",
    "#Therefore, we conclude that x is statistically significant in determining \n",
    "#u-hat^2 at a=.01"
   ]
  },
  {
   "cell_type": "code",
   "execution_count": 26,
   "id": "1d49e2c6",
   "metadata": {},
   "outputs": [
    {
     "data": {
      "text/html": [
       "<table class=\"simpletable\">\n",
       "<caption>OLS Regression Results</caption>\n",
       "<tr>\n",
       "  <th>Dep. Variable:</th>           <td>y1</td>        <th>  R-squared:         </th> <td>   0.787</td>\n",
       "</tr>\n",
       "<tr>\n",
       "  <th>Model:</th>                   <td>OLS</td>       <th>  Adj. R-squared:    </th> <td>   0.787</td>\n",
       "</tr>\n",
       "<tr>\n",
       "  <th>Method:</th>             <td>Least Squares</td>  <th>  F-statistic:       </th> <td>   3924.</td>\n",
       "</tr>\n",
       "<tr>\n",
       "  <th>Date:</th>             <td>Tue, 06 Dec 2022</td> <th>  Prob (F-statistic):</th>  <td>  0.00</td> \n",
       "</tr>\n",
       "<tr>\n",
       "  <th>Time:</th>                 <td>13:22:28</td>     <th>  Log-Likelihood:    </th> <td> -1448.8</td>\n",
       "</tr>\n",
       "<tr>\n",
       "  <th>No. Observations:</th>      <td>  1000</td>      <th>  AIC:               </th> <td>   2902.</td>\n",
       "</tr>\n",
       "<tr>\n",
       "  <th>Df Residuals:</th>          <td>   998</td>      <th>  BIC:               </th> <td>   2911.</td>\n",
       "</tr>\n",
       "<tr>\n",
       "  <th>Df Model:</th>              <td>     1</td>      <th>                     </th>     <td> </td>   \n",
       "</tr>\n",
       "<tr>\n",
       "  <th>Covariance Type:</th>         <td>HC0</td>       <th>                     </th>     <td> </td>   \n",
       "</tr>\n",
       "</table>\n",
       "<table class=\"simpletable\">\n",
       "<tr>\n",
       "      <td></td>         <th>coef</th>     <th>std err</th>      <th>z</th>      <th>P>|z|</th>  <th>[0.025</th>    <th>0.975]</th>  \n",
       "</tr>\n",
       "<tr>\n",
       "  <th>Intercept</th> <td>    2.8080</td> <td>    0.321</td> <td>    8.737</td> <td> 0.000</td> <td>    2.178</td> <td>    3.438</td>\n",
       "</tr>\n",
       "<tr>\n",
       "  <th>x</th>         <td>    2.0193</td> <td>    0.032</td> <td>   62.640</td> <td> 0.000</td> <td>    1.956</td> <td>    2.083</td>\n",
       "</tr>\n",
       "</table>\n",
       "<table class=\"simpletable\">\n",
       "<tr>\n",
       "  <th>Omnibus:</th>       <td> 0.236</td> <th>  Durbin-Watson:     </th> <td>   1.955</td>\n",
       "</tr>\n",
       "<tr>\n",
       "  <th>Prob(Omnibus):</th> <td> 0.889</td> <th>  Jarque-Bera (JB):  </th> <td>   0.321</td>\n",
       "</tr>\n",
       "<tr>\n",
       "  <th>Skew:</th>          <td>-0.010</td> <th>  Prob(JB):          </th> <td>   0.852</td>\n",
       "</tr>\n",
       "<tr>\n",
       "  <th>Kurtosis:</th>      <td> 2.914</td> <th>  Cond. No.          </th> <td>    104.</td>\n",
       "</tr>\n",
       "</table><br/><br/>Notes:<br/>[1] Standard Errors are heteroscedasticity robust (HC0)"
      ],
      "text/plain": [
       "<class 'statsmodels.iolib.summary.Summary'>\n",
       "\"\"\"\n",
       "                            OLS Regression Results                            \n",
       "==============================================================================\n",
       "Dep. Variable:                     y1   R-squared:                       0.787\n",
       "Model:                            OLS   Adj. R-squared:                  0.787\n",
       "Method:                 Least Squares   F-statistic:                     3924.\n",
       "Date:                Tue, 06 Dec 2022   Prob (F-statistic):               0.00\n",
       "Time:                        13:22:28   Log-Likelihood:                -1448.8\n",
       "No. Observations:                1000   AIC:                             2902.\n",
       "Df Residuals:                     998   BIC:                             2911.\n",
       "Df Model:                           1                                         \n",
       "Covariance Type:                  HC0                                         \n",
       "==============================================================================\n",
       "                 coef    std err          z      P>|z|      [0.025      0.975]\n",
       "------------------------------------------------------------------------------\n",
       "Intercept      2.8080      0.321      8.737      0.000       2.178       3.438\n",
       "x              2.0193      0.032     62.640      0.000       1.956       2.083\n",
       "==============================================================================\n",
       "Omnibus:                        0.236   Durbin-Watson:                   1.955\n",
       "Prob(Omnibus):                  0.889   Jarque-Bera (JB):                0.321\n",
       "Skew:                          -0.010   Prob(JB):                        0.852\n",
       "Kurtosis:                       2.914   Cond. No.                         104.\n",
       "==============================================================================\n",
       "\n",
       "Notes:\n",
       "[1] Standard Errors are heteroscedasticity robust (HC0)\n",
       "\"\"\""
      ]
     },
     "execution_count": 26,
     "metadata": {},
     "output_type": "execute_result"
    }
   ],
   "source": [
    "reg11 = smf.ols(formula='y1 ~ x', data = sample2).fit(cov_type='HC0')\n",
    "reg11.summary()"
   ]
  },
  {
   "cell_type": "code",
   "execution_count": 29,
   "id": "f83fda47",
   "metadata": {},
   "outputs": [
    {
     "data": {
      "text/html": [
       "<table class=\"simpletable\">\n",
       "<caption>OLS Regression Results</caption>\n",
       "<tr>\n",
       "  <th>Dep. Variable:</th>           <td>y2</td>        <th>  R-squared:         </th> <td>   0.044</td>\n",
       "</tr>\n",
       "<tr>\n",
       "  <th>Model:</th>                   <td>OLS</td>       <th>  Adj. R-squared:    </th> <td>   0.043</td>\n",
       "</tr>\n",
       "<tr>\n",
       "  <th>Method:</th>             <td>Least Squares</td>  <th>  F-statistic:       </th> <td>   47.43</td>\n",
       "</tr>\n",
       "<tr>\n",
       "  <th>Date:</th>             <td>Tue, 06 Dec 2022</td> <th>  Prob (F-statistic):</th> <td>1.01e-11</td>\n",
       "</tr>\n",
       "<tr>\n",
       "  <th>Time:</th>                 <td>13:23:16</td>     <th>  Log-Likelihood:    </th> <td> -3765.1</td>\n",
       "</tr>\n",
       "<tr>\n",
       "  <th>No. Observations:</th>      <td>  1000</td>      <th>  AIC:               </th> <td>   7534.</td>\n",
       "</tr>\n",
       "<tr>\n",
       "  <th>Df Residuals:</th>          <td>   998</td>      <th>  BIC:               </th> <td>   7544.</td>\n",
       "</tr>\n",
       "<tr>\n",
       "  <th>Df Model:</th>              <td>     1</td>      <th>                     </th>     <td> </td>   \n",
       "</tr>\n",
       "<tr>\n",
       "  <th>Covariance Type:</th>         <td>HC0</td>       <th>                     </th>     <td> </td>   \n",
       "</tr>\n",
       "</table>\n",
       "<table class=\"simpletable\">\n",
       "<tr>\n",
       "      <td></td>         <th>coef</th>     <th>std err</th>      <th>z</th>      <th>P>|z|</th>  <th>[0.025</th>    <th>0.975]</th>  \n",
       "</tr>\n",
       "<tr>\n",
       "  <th>Intercept</th> <td>    0.1780</td> <td>    3.248</td> <td>    0.055</td> <td> 0.956</td> <td>   -6.189</td> <td>    6.545</td>\n",
       "</tr>\n",
       "<tr>\n",
       "  <th>x</th>         <td>    2.2854</td> <td>    0.332</td> <td>    6.887</td> <td> 0.000</td> <td>    1.635</td> <td>    2.936</td>\n",
       "</tr>\n",
       "</table>\n",
       "<table class=\"simpletable\">\n",
       "<tr>\n",
       "  <th>Omnibus:</th>       <td> 0.192</td> <th>  Durbin-Watson:     </th> <td>   1.960</td>\n",
       "</tr>\n",
       "<tr>\n",
       "  <th>Prob(Omnibus):</th> <td> 0.908</td> <th>  Jarque-Bera (JB):  </th> <td>   0.142</td>\n",
       "</tr>\n",
       "<tr>\n",
       "  <th>Skew:</th>          <td>-0.027</td> <th>  Prob(JB):          </th> <td>   0.931</td>\n",
       "</tr>\n",
       "<tr>\n",
       "  <th>Kurtosis:</th>      <td> 3.024</td> <th>  Cond. No.          </th> <td>    104.</td>\n",
       "</tr>\n",
       "</table><br/><br/>Notes:<br/>[1] Standard Errors are heteroscedasticity robust (HC0)"
      ],
      "text/plain": [
       "<class 'statsmodels.iolib.summary.Summary'>\n",
       "\"\"\"\n",
       "                            OLS Regression Results                            \n",
       "==============================================================================\n",
       "Dep. Variable:                     y2   R-squared:                       0.044\n",
       "Model:                            OLS   Adj. R-squared:                  0.043\n",
       "Method:                 Least Squares   F-statistic:                     47.43\n",
       "Date:                Tue, 06 Dec 2022   Prob (F-statistic):           1.01e-11\n",
       "Time:                        13:23:16   Log-Likelihood:                -3765.1\n",
       "No. Observations:                1000   AIC:                             7534.\n",
       "Df Residuals:                     998   BIC:                             7544.\n",
       "Df Model:                           1                                         \n",
       "Covariance Type:                  HC0                                         \n",
       "==============================================================================\n",
       "                 coef    std err          z      P>|z|      [0.025      0.975]\n",
       "------------------------------------------------------------------------------\n",
       "Intercept      0.1780      3.248      0.055      0.956      -6.189       6.545\n",
       "x              2.2854      0.332      6.887      0.000       1.635       2.936\n",
       "==============================================================================\n",
       "Omnibus:                        0.192   Durbin-Watson:                   1.960\n",
       "Prob(Omnibus):                  0.908   Jarque-Bera (JB):                0.142\n",
       "Skew:                          -0.027   Prob(JB):                        0.931\n",
       "Kurtosis:                       3.024   Cond. No.                         104.\n",
       "==============================================================================\n",
       "\n",
       "Notes:\n",
       "[1] Standard Errors are heteroscedasticity robust (HC0)\n",
       "\"\"\""
      ]
     },
     "execution_count": 29,
     "metadata": {},
     "output_type": "execute_result"
    }
   ],
   "source": [
    "reg21 = smf.ols(formula='y2 ~ x', data = sample2).fit(cov_type='HC0')\n",
    "reg21.summary()"
   ]
  },
  {
   "cell_type": "code",
   "execution_count": null,
   "id": "61d80045",
   "metadata": {},
   "outputs": [],
   "source": [
    "#Var(Bhat1) = 0.110224 for the robust model vs. Var(bhat1) = 0.10900065313084764 for Assignment 11. \n",
    "#Almost exactly the same!"
   ]
  }
 ],
 "metadata": {
  "kernelspec": {
   "display_name": "Python 3 (ipykernel)",
   "language": "python",
   "name": "python3"
  },
  "language_info": {
   "codemirror_mode": {
    "name": "ipython",
    "version": 3
   },
   "file_extension": ".py",
   "mimetype": "text/x-python",
   "name": "python",
   "nbconvert_exporter": "python",
   "pygments_lexer": "ipython3",
   "version": "3.9.7"
  }
 },
 "nbformat": 4,
 "nbformat_minor": 5
}
