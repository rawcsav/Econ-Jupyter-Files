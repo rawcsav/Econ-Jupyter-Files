{
 "cells": [
  {
   "cell_type": "markdown",
   "metadata": {},
   "source": [
    "<style>\n",
    "div.blue{\n",
    "    background-color:#e6f0ff; \n",
    "    border-radius: 5px; \n",
    "    padding: 20px;}\n",
    "</style> \n",
    "\n",
    "<style>\n",
    "div.warn {    \n",
    "    background-color: #fcf2f2;\n",
    "    border-color: #dFb5b4;\n",
    "    border-left: 5px solid #dfb5b4;\n",
    "    padding: 0.5em;\n",
    "    }\n",
    " </style>\n",
    "    \n",
    "<h1 style=\"text-align: center; color: purple;\" markdown=\"1\">Econ 320 Python: Multicolinearity </h1>\n",
    "<h2 style=\"text-align: center; color: purple;\" markdown=\"1\">Handout # 9 </h2>\n",
    "\n",
    " \n"
   ]
  },
  {
   "cell_type": "markdown",
   "metadata": {},
   "source": [
    "#### Setup"
   ]
  },
  {
   "cell_type": "code",
   "execution_count": null,
   "metadata": {},
   "outputs": [],
   "source": [
    "import wooldridge as woo\n",
    "import numpy as np \n",
    "import pandas as pd\n",
    "import seaborn as sns\n",
    "import matplotlib.pyplot as plt\n",
    "from stargazer.stargazer import Stargazer\n",
    "from IPython.core.display import HTML\n",
    "import statsmodels.formula.api as smf\n",
    "from statsmodels.stats.outliers_influence import variance_inflation_factor"
   ]
  },
  {
   "cell_type": "markdown",
   "metadata": {},
   "source": [
    "# Multicolinearity and Histogram of Residuals\n",
    "\n",
    "# VIF \n",
    "*Variance inflation factor (VIF)* is a statistic to evaluate imperfect multicolinearity for individual coeficients. It is obtained from the equation of the variance of $\\hat{\\beta_j}$: \n",
    "\n",
    "$$ Var(\\hat{\\beta_j})= \\frac{1}{n-1}\\cdot \\frac{\\hat{\\sigma}^2}{Var(x_j)}\\cdot\\frac{1}{1-R^2_j}$$\n",
    " The VIF is the term in the variance that is determined by the correlation between $x_j$ and the other explanatory variables. \n",
    " $$ VIF=\\frac{1}{1-R^2_j}$$\n",
    "\n",
    "Therefore we can write \n",
    "$$ Var(\\hat{\\beta_j})= \\frac{1}{n-1}\\cdot \\frac{\\hat{\\sigma}^2}{Var(x_j)}\\cdot VIF_j$$\n",
    " and this shows that $VIF_j$ is the factor by which $Var(\\hat{\\beta_j})$ is higher because $x_j$ is not uncorrelated with the other explanatory variables. \n",
    " \n",
    "\n",
    "Using Python we can evaluate multicolinearity of multiple regression model, calculating the variance inflation factor (VIF) from the result of smf.ols(). If VIF is more than 10, multicolinearity is strongly suggested. See the code below."
   ]
  },
  {
   "cell_type": "code",
   "execution_count": null,
   "metadata": {},
   "outputs": [],
   "source": [
    "\n",
    "\n",
    "# OLS regression: the target multiple regression model \n",
    "\n",
    "# calculate VIF :\n",
    "\n",
    "\n",
    "# Compute and view VIF\n",
    "\n",
    "# View results using print\n",
    "#Calculate VIF step by step\n",
    "# First R^2 for educ variable \n",
    "\n",
    "# then the vif for educ\n",
    "\n"
   ]
  },
  {
   "cell_type": "code",
   "execution_count": null,
   "metadata": {},
   "outputs": [],
   "source": [
    "# Let's create a variable that is perfectly colinear with one of the explanatory variables \n",
    "\n",
    "# Let's run a regression including that, you see how Python reacts!!\n",
    "\n",
    "#stt = Stargazer([colols])\n",
    "#HTML(stt.render_html())\n",
    "# Compute and view VIF"
   ]
  },
  {
   "cell_type": "markdown",
   "metadata": {},
   "source": [
    "# Plotting the residuals\n",
    "\n",
    "Your residuals of the OLS regression $u~n(0, \\hat{\\sigma^2})$\n",
    "The best estimator for $\\hat{\\sigma}^2=SSR/(n-k-1)$ The result of the lm command in R allow you obtain $\\hat{\\sigma}$ \n",
    "\n",
    "Let's see a histogram of the residuals to show their distribution"
   ]
  },
  {
   "cell_type": "code",
   "execution_count": null,
   "metadata": {},
   "outputs": [],
   "source": [
    "# k= 3 regresors \n"
   ]
  },
  {
   "cell_type": "code",
   "execution_count": null,
   "metadata": {},
   "outputs": [],
   "source": [
    "\n",
    "\n",
    "\n"
   ]
  },
  {
   "cell_type": "code",
   "execution_count": null,
   "metadata": {},
   "outputs": [],
   "source": [
    "# !jupyter nbconvert --to html nameoffile.ipynb"
   ]
  },
  {
   "cell_type": "markdown",
   "metadata": {},
   "source": [
    "&nbsp;\n",
    "<hr />\n",
    "<p style=\"font-family:palatino; text-align: center;font-size: 15px\">ECON320 Python Programming Laboratory</a></p>\n",
    "<p style=\"font-family:palatino; text-align: center;font-size: 15px\">Professor <em> Paloma Lopez de mesa Moyano</em></a></p>\n",
    "<p style=\"font-family:palatino; text-align: center;font-size: 15px\"><span style=\"color: #6666FF;\"><em>paloma.moyano@emory.edu</em></span></p>\n",
    "\n",
    "<p style=\"font-family:palatino; text-align: center;font-size: 15px\">Department of Economics</a></p>\n",
    "<p style=\"font-family:palatino; text-align: center; color: #012169;font-size: 15px\">Emory University</a></p>\n",
    "\n",
    "&nbsp;"
   ]
  }
 ],
 "metadata": {
  "kernelspec": {
   "display_name": "Python 3 (ipykernel)",
   "language": "python",
   "name": "python3"
  },
  "language_info": {
   "codemirror_mode": {
    "name": "ipython",
    "version": 3
   },
   "file_extension": ".py",
   "mimetype": "text/x-python",
   "name": "python",
   "nbconvert_exporter": "python",
   "pygments_lexer": "ipython3",
   "version": "3.9.7"
  }
 },
 "nbformat": 4,
 "nbformat_minor": 4
}
