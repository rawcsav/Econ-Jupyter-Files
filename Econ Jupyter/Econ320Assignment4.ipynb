{
 "cells": [
  {
   "cell_type": "code",
   "execution_count": 82,
   "id": "8ae5c1e5",
   "metadata": {},
   "outputs": [],
   "source": [
    "# Script Name: Assignment 4 \n",
    "# Purpose of script: Complete Assignment 4 for Econ 320\n",
    "# Author: Gavin Mason\n",
    "# Date Created: 9/20/2022\n",
    "# Notes:\n",
    "\n",
    "# Packages\n",
    "import wooldridge as woo\n",
    "import numpy as np \n",
    "import pandas as pd\n",
    "import matplotlib.pyplot as plt\n",
    "import seaborn as sns\n",
    "import statsmodels.formula.api as smf\n",
    "import statsmodels.api as sm\n",
    "from scipy.optimize import minimize\n",
    "import math"
   ]
  },
  {
   "cell_type": "code",
   "execution_count": 56,
   "id": "02fdc2c6",
   "metadata": {},
   "outputs": [],
   "source": [
    "np.random.seed(123)\n",
    "x = np.random.normal(10,1,1000)\n",
    "u = np.random.normal(0,1,1000)\n",
    "y = 3+(2*x)+u\n",
    "data = {\"x\": x, \"u\": u, \"y\": y}\n",
    "datas = pd.DataFrame(data)\n",
    "reg = smf.ols(formula='y ~ x', data = datas)\n",
    "results = reg.fit()\n",
    "yhat = results.fittedvalues\n",
    "datas[\"yhat\"]=yhat\n",
    "uhat = y - yhat\n",
    "datas[\"uhat\"]=uhat"
   ]
  },
  {
   "cell_type": "code",
   "execution_count": 50,
   "id": "9ba37a2b",
   "metadata": {},
   "outputs": [
    {
     "name": "stdout",
     "output_type": "stream",
     "text": [
      "b0: 3.3066671979920947\n",
      "\n",
      "b1: 1.970053717059039\n",
      "\n"
     ]
    }
   ],
   "source": [
    "cov_xy = np.cov(x,y)[1,0] \n",
    "var_x = np.var(x,ddof=1)\n",
    "x_bar = np.mean(x)\n",
    "y_bar = np.mean(y)\n",
    "b1 = cov_xy / var_x\n",
    "b0 = y_bar - b1 * x_bar\n",
    "\n",
    "print(f'b0: {b0}\\n')\n",
    "print(f'b1: {b1}\\n')"
   ]
  },
  {
   "cell_type": "code",
   "execution_count": 93,
   "id": "d14a0ca5",
   "metadata": {},
   "outputs": [
    {
     "name": "stdout",
     "output_type": "stream",
     "text": [
      "TSS= 4804.111212108306\n",
      "R-squared= 0.8091459430582836\n"
     ]
    }
   ],
   "source": [
    "ess = np.sum((yhat-y_bar)**2)\n",
    "rss = np.sum(uhat**2)\n",
    "tss = ess + rss\n",
    "print(\"TSS=\", tss)\n",
    "Rsq = ess/tss\n",
    "print(\"R-squared=\",Rsq)"
   ]
  },
  {
   "cell_type": "code",
   "execution_count": 94,
   "id": "02b5efd5",
   "metadata": {},
   "outputs": [
    {
     "data": {
      "text/plain": [
       "0      True\n",
       "1      True\n",
       "2      True\n",
       "3      True\n",
       "4      True\n",
       "       ... \n",
       "995    True\n",
       "996    True\n",
       "997    True\n",
       "998    True\n",
       "999    True\n",
       "Length: 1000, dtype: bool"
      ]
     },
     "execution_count": 94,
     "metadata": {},
     "output_type": "execute_result"
    }
   ],
   "source": [
    "#Finding TSS does not work with individual observations\n",
    "tss1 = (y-y_bar)**2 \n",
    "tss2 = (yhat - y_bar)**2 + uhat**2\n",
    "tss1 != tss2"
   ]
  },
  {
   "cell_type": "code",
   "execution_count": 95,
   "id": "f717d77d",
   "metadata": {},
   "outputs": [
    {
     "name": "stdout",
     "output_type": "stream",
     "text": [
      "4804.111212108307\n"
     ]
    }
   ],
   "source": [
    "#It does work when summing components, tss3 = tss\n",
    "tss3 = np.sum((y-y_bar)**2)\n",
    "print(tss3)"
   ]
  },
  {
   "cell_type": "code",
   "execution_count": 96,
   "id": "61ac7722",
   "metadata": {},
   "outputs": [
    {
     "name": "stdout",
     "output_type": "stream",
     "text": [
      "1.9184653865522705e-12\n",
      "1.9383605831535533e-11\n"
     ]
    }
   ],
   "source": [
    "#Showing closeness to 0\n",
    "print(np.sum(uhat))\n",
    "print(np.sum(uhat*x))"
   ]
  },
  {
   "cell_type": "code",
   "execution_count": 97,
   "id": "02c0c5ef",
   "metadata": {},
   "outputs": [
    {
     "name": "stdout",
     "output_type": "stream",
     "text": [
      "Variance of Beta 1 hat = 0.001478153329455213\n",
      "Standard Error of Beta 1 hat= 2.1849372653795313e-06\n"
     ]
    }
   ],
   "source": [
    "#Variance and SE of Beta 1 hat\n",
    "betahat = np.sum((x-x_bar)*(y-y_bar))/np.sum((x-x_bar)**2)\n",
    "varbeta1 = math.sqrt((math.sqrt(np.var(y))))/(np.sum((x-x_bar)**2))\n",
    "sebeta1 = varbeta1**2\n",
    "print(\"Variance of Beta 1 hat =\", varbeta1)\n",
    "print(\"Standard Error of Beta 1 hat=\", sebeta1)"
   ]
  },
  {
   "cell_type": "code",
   "execution_count": null,
   "id": "9e0265ad",
   "metadata": {},
   "outputs": [],
   "source": []
  }
 ],
 "metadata": {
  "kernelspec": {
   "display_name": "Python 3 (ipykernel)",
   "language": "python",
   "name": "python3"
  },
  "language_info": {
   "codemirror_mode": {
    "name": "ipython",
    "version": 3
   },
   "file_extension": ".py",
   "mimetype": "text/x-python",
   "name": "python",
   "nbconvert_exporter": "python",
   "pygments_lexer": "ipython3",
   "version": "3.9.7"
  }
 },
 "nbformat": 4,
 "nbformat_minor": 5
}
