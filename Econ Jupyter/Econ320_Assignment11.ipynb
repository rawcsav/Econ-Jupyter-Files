{
 "cells": [
  {
   "cell_type": "code",
   "execution_count": 14,
   "id": "83f4ddcc",
   "metadata": {},
   "outputs": [],
   "source": [
    "# Script Name: Assignment 10\n",
    "# Purpose of script: Complete Assignment 10 for Econ 320\n",
    "# Author: Gavin Mason\n",
    "# Date Created: 11/29/2022\n",
    "# Notes:\n",
    "\n",
    "# Packages\n",
    "import os\n",
    "import numpy as np\n",
    "import random\n",
    "from matplotlib import pyplot as plt\n",
    "import pandas as pd\n",
    "import seaborn as sns\n",
    "import scipy.stats as stats\n",
    "import statsmodels.formula.api as smf\n",
    "from scipy.optimize import minimize\n",
    "import math"
   ]
  },
  {
   "cell_type": "code",
   "execution_count": 15,
   "id": "014cc855",
   "metadata": {},
   "outputs": [
    {
     "data": {
      "text/html": [
       "<div>\n",
       "<style scoped>\n",
       "    .dataframe tbody tr th:only-of-type {\n",
       "        vertical-align: middle;\n",
       "    }\n",
       "\n",
       "    .dataframe tbody tr th {\n",
       "        vertical-align: top;\n",
       "    }\n",
       "\n",
       "    .dataframe thead th {\n",
       "        text-align: right;\n",
       "    }\n",
       "</style>\n",
       "<table border=\"1\" class=\"dataframe\">\n",
       "  <thead>\n",
       "    <tr style=\"text-align: right;\">\n",
       "      <th></th>\n",
       "      <th>x</th>\n",
       "      <th>u</th>\n",
       "      <th>ux</th>\n",
       "      <th>y</th>\n",
       "    </tr>\n",
       "  </thead>\n",
       "  <tbody>\n",
       "    <tr>\n",
       "      <th>count</th>\n",
       "      <td>1000000.000000</td>\n",
       "      <td>1000000.000000</td>\n",
       "      <td>1000000.000000</td>\n",
       "      <td>1000000.000000</td>\n",
       "    </tr>\n",
       "    <tr>\n",
       "      <th>mean</th>\n",
       "      <td>10.000230</td>\n",
       "      <td>0.000821</td>\n",
       "      <td>0.008663</td>\n",
       "      <td>23.009123</td>\n",
       "    </tr>\n",
       "    <tr>\n",
       "      <th>std</th>\n",
       "      <td>0.999160</td>\n",
       "      <td>0.999898</td>\n",
       "      <td>10.051006</td>\n",
       "      <td>10.249000</td>\n",
       "    </tr>\n",
       "    <tr>\n",
       "      <th>min</th>\n",
       "      <td>5.082944</td>\n",
       "      <td>-4.542586</td>\n",
       "      <td>-49.319748</td>\n",
       "      <td>-23.004277</td>\n",
       "    </tr>\n",
       "    <tr>\n",
       "      <th>25%</th>\n",
       "      <td>9.326008</td>\n",
       "      <td>-0.673360</td>\n",
       "      <td>-6.680208</td>\n",
       "      <td>16.068052</td>\n",
       "    </tr>\n",
       "    <tr>\n",
       "      <th>50%</th>\n",
       "      <td>10.000264</td>\n",
       "      <td>0.000523</td>\n",
       "      <td>0.005135</td>\n",
       "      <td>22.800967</td>\n",
       "    </tr>\n",
       "    <tr>\n",
       "      <th>75%</th>\n",
       "      <td>10.674504</td>\n",
       "      <td>0.676155</td>\n",
       "      <td>6.705987</td>\n",
       "      <td>29.746383</td>\n",
       "    </tr>\n",
       "    <tr>\n",
       "      <th>max</th>\n",
       "      <td>14.497065</td>\n",
       "      <td>4.669908</td>\n",
       "      <td>48.747566</td>\n",
       "      <td>77.435061</td>\n",
       "    </tr>\n",
       "  </tbody>\n",
       "</table>\n",
       "</div>"
      ],
      "text/plain": [
       "                    x               u              ux               y\n",
       "count  1000000.000000  1000000.000000  1000000.000000  1000000.000000\n",
       "mean        10.000230        0.000821        0.008663       23.009123\n",
       "std          0.999160        0.999898       10.051006       10.249000\n",
       "min          5.082944       -4.542586      -49.319748      -23.004277\n",
       "25%          9.326008       -0.673360       -6.680208       16.068052\n",
       "50%         10.000264        0.000523        0.005135       22.800967\n",
       "75%         10.674504        0.676155        6.705987       29.746383\n",
       "max         14.497065        4.669908       48.747566       77.435061"
      ]
     },
     "execution_count": 15,
     "metadata": {},
     "output_type": "execute_result"
    }
   ],
   "source": [
    "birthday = 11212001\n",
    "np.random.seed(11212001)\n",
    "b0 = 3\n",
    "b1 = 2\n",
    "x = np.random.normal(10, 1, 1000000)\n",
    "u = np.random.normal(0, 1, 1000000)\n",
    "ux = u*x\n",
    "y = b0+b1*x+ux\n",
    "population = {\"x\":x,\"u\":u,\"ux\":ux,\"y\":y} \n",
    "population = pd.DataFrame(population)\n",
    "population.describe()"
   ]
  },
  {
   "cell_type": "code",
   "execution_count": 16,
   "id": "9ac375eb",
   "metadata": {},
   "outputs": [
    {
     "name": "stdout",
     "output_type": "stream",
     "text": [
      "Expected Variance of ux = 101.02262662073697\n",
      "Expected Variance of Beta 1 Hat = 9.14034825362395e-09\n"
     ]
    }
   ],
   "source": [
    "x_mean = population['x'].mean()\n",
    "y_mean = population['y'].mean()\n",
    "uxvar = np.var(ux)\n",
    "SST = ((population['y'] - y_mean)**2).sum()\n",
    "\n",
    "varb1e = np.sum((population['x'] - x_mean)**2*uxvar)/(SST**2)\n",
    "print(\"Expected Variance of ux =\", uxvar)\n",
    "print(\"Expected Variance of Beta 1 Hat =\", varb1e)\n"
   ]
  },
  {
   "cell_type": "code",
   "execution_count": 17,
   "id": "36430d0f",
   "metadata": {},
   "outputs": [
    {
     "name": "stdout",
     "output_type": "stream",
     "text": [
      "Empirical Variance of Beta 1 Hat = 0.10900065313084764\n"
     ]
    }
   ],
   "source": [
    "beta1hat = []\n",
    "for i in range(1000):\n",
    "    sample = population.sample(1000,replace=False)\n",
    "    reg = smf.ols(formula = 'y~x', data = sample).fit()\n",
    "    beta1 = reg.params[1]\n",
    "    beta1hat.append(beta1)\n",
    "\n",
    "varb1hat = np.var(beta1hat) \n",
    "print(\"Empirical Variance of Beta 1 Hat =\", varb1hat)"
   ]
  },
  {
   "cell_type": "code",
   "execution_count": 18,
   "id": "0e079e6a",
   "metadata": {},
   "outputs": [
    {
     "data": {
      "text/plain": [
       "array([0, 0, 0, ..., 0, 0, 0])"
      ]
     },
     "execution_count": 18,
     "metadata": {},
     "output_type": "execute_result"
    }
   ],
   "source": [
    "(Z==3)*1"
   ]
  },
  {
   "cell_type": "markdown",
   "id": "fd925d74",
   "metadata": {},
   "source": [
    "Actual Sample Beta 1's variance is higher than the population expectation, but this is usual for a sample. Principle = Total sample variation automatically increases with the sample size."
   ]
  },
  {
   "cell_type": "code",
   "execution_count": 54,
   "id": "0c035dc6",
   "metadata": {},
   "outputs": [
    {
     "data": {
      "text/html": [
       "<div>\n",
       "<style scoped>\n",
       "    .dataframe tbody tr th:only-of-type {\n",
       "        vertical-align: middle;\n",
       "    }\n",
       "\n",
       "    .dataframe tbody tr th {\n",
       "        vertical-align: top;\n",
       "    }\n",
       "\n",
       "    .dataframe thead th {\n",
       "        text-align: right;\n",
       "    }\n",
       "</style>\n",
       "<table border=\"1\" class=\"dataframe\">\n",
       "  <thead>\n",
       "    <tr style=\"text-align: right;\">\n",
       "      <th></th>\n",
       "      <th>y</th>\n",
       "      <th>Z</th>\n",
       "      <th>X1</th>\n",
       "      <th>X2</th>\n",
       "      <th>X3</th>\n",
       "      <th>X4</th>\n",
       "      <th>X5</th>\n",
       "    </tr>\n",
       "  </thead>\n",
       "  <tbody>\n",
       "    <tr>\n",
       "      <th>0</th>\n",
       "      <td>3.902908</td>\n",
       "      <td>5</td>\n",
       "      <td>0</td>\n",
       "      <td>0</td>\n",
       "      <td>0</td>\n",
       "      <td>0</td>\n",
       "      <td>1</td>\n",
       "    </tr>\n",
       "    <tr>\n",
       "      <th>1</th>\n",
       "      <td>3.879865</td>\n",
       "      <td>4</td>\n",
       "      <td>0</td>\n",
       "      <td>0</td>\n",
       "      <td>0</td>\n",
       "      <td>1</td>\n",
       "      <td>0</td>\n",
       "    </tr>\n",
       "    <tr>\n",
       "      <th>2</th>\n",
       "      <td>2.532877</td>\n",
       "      <td>1</td>\n",
       "      <td>1</td>\n",
       "      <td>0</td>\n",
       "      <td>0</td>\n",
       "      <td>0</td>\n",
       "      <td>0</td>\n",
       "    </tr>\n",
       "    <tr>\n",
       "      <th>3</th>\n",
       "      <td>4.345212</td>\n",
       "      <td>3</td>\n",
       "      <td>0</td>\n",
       "      <td>0</td>\n",
       "      <td>1</td>\n",
       "      <td>0</td>\n",
       "      <td>0</td>\n",
       "    </tr>\n",
       "    <tr>\n",
       "      <th>4</th>\n",
       "      <td>1.103266</td>\n",
       "      <td>4</td>\n",
       "      <td>0</td>\n",
       "      <td>0</td>\n",
       "      <td>0</td>\n",
       "      <td>1</td>\n",
       "      <td>0</td>\n",
       "    </tr>\n",
       "  </tbody>\n",
       "</table>\n",
       "</div>"
      ],
      "text/plain": [
       "          y  Z  X1  X2  X3  X4  X5\n",
       "0  3.902908  5   0   0   0   0   1\n",
       "1  3.879865  4   0   0   0   1   0\n",
       "2  2.532877  1   1   0   0   0   0\n",
       "3  4.345212  3   0   0   1   0   0\n",
       "4  1.103266  4   0   0   0   1   0"
      ]
     },
     "execution_count": 54,
     "metadata": {},
     "output_type": "execute_result"
    }
   ],
   "source": [
    "u = np.random.normal(0,1,1000000)\n",
    "b1, b2, b3, b4, b5 = 1, 1, 2, 1, 2\n",
    "\n",
    "# define cut points for the rank:\n",
    "cutpts = [0, 1, 2, 3, 4, 5]\n",
    "\n",
    "# create categorical variable containing ranges for the rank:\n",
    "u = np.random.normal(0,np.sqrt(1),1000000)\n",
    "Z = np.random.randint(1,6, 1000000)\n",
    "X1 = (Z==1)*1\n",
    "X2 = (Z==2)*1\n",
    "X3 = (Z==3)*1\n",
    "X4 = (Z==4)*1\n",
    "X5 = (Z==5)*1\n",
    "b1, b2, b3, b4, b5 = 1, 1, 0, 1, 2\n",
    "y = 2.5 + b1*dummies['X1'] + b2*dummies['X2'] + b3*dummies['X3'] + b4*dummies['X4'] + b5*dummies['X5'] + u\n",
    "dummies = pd.DataFrame({'y':y, 'Z':Z, 'X1':X1, 'X2':X2, 'X3':X3, 'X4':X4, 'X5':X5})"
   ]
  },
  {
   "cell_type": "code",
   "execution_count": 67,
   "id": "148c293e",
   "metadata": {},
   "outputs": [
    {
     "data": {
      "image/png": "[encoded data removed]",
      "text/plain": [
       "<Figure size 432x288 with 1 Axes>"
      ]
     },
     "metadata": {
      "needs_background": "light"
     },
     "output_type": "display_data"
    }
   ],
   "source": [
    "beta1hat = []\n",
    "for i in range(1000):\n",
    "    sample = dummies.sample(1000,replace=False)\n",
    "    reg = smf.ols(formula = 'y~X1 + X2:X3 + X4 + X5', data = sample).fit()\n",
    "    beta1 = reg.params[1]\n",
    "    beta1hat.append(beta1)\n",
    "\n",
    "plt.hist(beta1hat)\n",
    "plt.title('Beta 1') \n",
    "plt.ylabel('Frequency') \n",
    "plt.xlabel('Beta 1 Values')  \n",
    "plt.show()"
   ]
  },
  {
   "cell_type": "code",
   "execution_count": 68,
   "id": "bfb6c44d",
   "metadata": {},
   "outputs": [
    {
     "name": "stdout",
     "output_type": "stream",
     "text": [
      "-0.0028034980864477393\n"
     ]
    }
   ],
   "source": [
    "print(np.median(beta1hat))\n",
    "#Shows that when X3 is held constant, X1 has a median intercept shifter of -0.0028034980864477393."
   ]
  },
  {
   "cell_type": "code",
   "execution_count": null,
   "id": "4234302f",
   "metadata": {},
   "outputs": [],
   "source": []
  }
 ],
 "metadata": {
  "kernelspec": {
   "display_name": "Python 3 (ipykernel)",
   "language": "python",
   "name": "python3"
  },
  "language_info": {
   "codemirror_mode": {
    "name": "ipython",
    "version": 3
   },
   "file_extension": ".py",
   "mimetype": "text/x-python",
   "name": "python",
   "nbconvert_exporter": "python",
   "pygments_lexer": "ipython3",
   "version": "3.9.7"
  }
 },
 "nbformat": 4,
 "nbformat_minor": 5
}
