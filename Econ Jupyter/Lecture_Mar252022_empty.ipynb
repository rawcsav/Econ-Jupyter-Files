{
 "cells": [
  {
   "cell_type": "markdown",
   "id": "d56fb40c-348c-4897-8720-ea309060c350",
   "metadata": {},
   "source": [
    "# Lecture on Random Numbers Generation, Histograms & Tables"
   ]
  },
  {
   "cell_type": "markdown",
   "id": "2e76900a-da85-4438-b383-a8b5085b998a",
   "metadata": {},
   "source": [
    "## Random Numbers Generation & Histograms"
   ]
  },
  {
   "cell_type": "markdown",
   "id": "0cc789b2-f9b5-4cf4-95b0-9d87141631fd",
   "metadata": {},
   "source": [
    "1. Import here the necessary packages for this question and then complete the following:\n"
   ]
  },
  {
   "cell_type": "markdown",
   "id": "bf8e8731-d2d7-4a95-8103-167837b9b5ac",
   "metadata": {},
   "source": [
    "- Generate a vector `x1` of 70 observations from the **normal distribution** with mean=10 and standard deviation sd=2.\n",
    "- Generate a vector `x2` of 70 observations from the **uniform distribution**.\n",
    "- Generate a vector `x3` of 70 observations of **random integers** between 0 to 250. You can use the function `random.sample()`.\n",
    "- Generate a vector `x3_sample` which a sample of 70 observations of without replacement taken from `x3`."
   ]
  },
  {
   "cell_type": "markdown",
   "id": "8fff3a43-ac9f-47cf-b2f9-ca5450d7711d",
   "metadata": {},
   "source": [
    "2. Histograms"
   ]
  },
  {
   "cell_type": "markdown",
   "id": "22ac2b1d-8f56-493c-bab9-223b41939c9a",
   "metadata": {},
   "source": [
    "- Create a simple histogram for `x1`, i.e. one without any changes from the default options. "
   ]
  },
  {
   "cell_type": "markdown",
   "id": "3a08abd6-b8e5-4cf1-9fe8-e567fb3affda",
   "metadata": {},
   "source": [
    "Hint for Assignment 3: See the Lecture of March 18 on how we can customize our graph: You can add the number of bins (for example you can select option `bins=10`), add a density curve (you can select option `kde=True`), as well as change the color or histogram to \"green\" and add a title and labels as we did in-class of March 18."
   ]
  },
  {
   "cell_type": "markdown",
   "id": "0b981132-7902-42e0-afdb-9bb573004753",
   "metadata": {},
   "source": [
    "- Make a histogram of x1 and x2 in the same graph add a title and change colors (you can choose) use the `sns.displot` for this "
   ]
  },
  {
   "cell_type": "markdown",
   "id": "dab91470-d000-4f9a-9025-5f3c7b996b5a",
   "metadata": {},
   "source": [
    "## Tables "
   ]
  },
  {
   "cell_type": "markdown",
   "id": "477d0bf6-aac1-47b2-82d8-db2b017608d3",
   "metadata": {},
   "source": [
    "1. Import the stata dataset and use `info()` to inspect the dataset properties."
   ]
  },
  {
   "cell_type": "markdown",
   "id": "72a8f2c2-a970-49c6-890d-994d367ca320",
   "metadata": {},
   "source": [
    "2. Use the `set()` function to check the values of a column/variable."
   ]
  },
  {
   "cell_type": "markdown",
   "id": "0fed1889-ae50-411b-8430-e37418453779",
   "metadata": {},
   "source": [
    "3. Find the variable(s) that have to be categorical. Rename the variable values."
   ]
  },
  {
   "cell_type": "markdown",
   "id": "5cd0e89f-b03e-4ae1-8764-9cbb7e5a0f14",
   "metadata": {},
   "source": [
    "4. Use `value_counts(normalize = True)` to calculate percentages."
   ]
  },
  {
   "cell_type": "markdown",
   "id": "1da5c95c-0418-4a65-806e-ff18e7f3a816",
   "metadata": {},
   "source": [
    "5. Use `pd.crosstab()` for percentages and proportions when having one or more categories."
   ]
  },
  {
   "cell_type": "code",
   "execution_count": null,
   "id": "fe029b81-9db2-47d8-b638-d73efc96064b",
   "metadata": {},
   "outputs": [],
   "source": []
  }
 ],
 "metadata": {
  "kernelspec": {
   "display_name": "Python 3 (ipykernel)",
   "language": "python",
   "name": "python3"
  },
  "language_info": {
   "codemirror_mode": {
    "name": "ipython",
    "version": 3
   },
   "file_extension": ".py",
   "mimetype": "text/x-python",
   "name": "python",
   "nbconvert_exporter": "python",
   "pygments_lexer": "ipython3",
   "version": "3.9.7"
  }
 },
 "nbformat": 4,
 "nbformat_minor": 5
}
