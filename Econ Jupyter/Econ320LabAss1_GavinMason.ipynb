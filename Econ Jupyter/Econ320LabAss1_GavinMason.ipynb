{
 "cells": [
  {
   "cell_type": "markdown",
   "metadata": {},
   "source": [
    "###    \n",
    "<h1 style=\"text-align: center; color: purple;\" markdown=\"1\">Econ 320 Python Assignment 1 </h1>\n",
    "\n",
    "<h2 style=\"text-align: center; color: #012169\" markdown=\"1\">Gavin Mason</h2>\n"
   ]
  },
  {
   "cell_type": "markdown",
   "metadata": {},
   "source": [
    "**The package set up**"
   ]
  },
  {
   "cell_type": "code",
   "execution_count": 1,
   "metadata": {},
   "outputs": [],
   "source": [
    "\n",
    "# import package os to find the path of your working directory\n",
    "import os\n",
    "import wooldridge as woo\n",
    "import numpy as np\n",
    "import pandas as pd\n",
    "import matplotlib.pyplot as plt\n",
    "import seaborn as sns\n",
    "import statsmodels.formula.api as smf\n",
    "import scipy.stats as stats\n",
    "from scipy.optimize import minimize"
   ]
  },
  {
   "cell_type": "markdown",
   "metadata": {},
   "source": [
    "# Effects of education on wages\n",
    " \n",
    "Download the [PSID 1982 dataset](https://www.wiley.com/legacy/wileychi/baltagi/supp/WAGES.xls) and save as a CSV. This is cross-sectional data originating from the [Panel Study on Income Dynamics](https://psidonline.isr.umich.edu/), 1982. In this assignment, we will use this data to investigate the effect of eduction on wages for this population. \n",
    "\n",
    "Let's first investigate our data and a few relationships in it. This is a little of what I call the \"motivation\" part of your regression analysis. This is very simple- you will have to do more involved things in your final project. \n",
    "\n",
    "* First, Google PSID1982 to see what each variable means. Find the path of where you save this data set in your computer and import it into your Jupyter notebook.\n",
    "\n",
    "* Then create two tables to show the proportion of women and men in the dataset and the proportion of people that reside in a standard metropolitan statistical area. \n",
    "\n",
    "* Create a third table, the cross reference table for these two variables.  "
   ]
  },
  {
   "cell_type": "code",
   "execution_count": 49,
   "metadata": {},
   "outputs": [
    {
     "data": {
      "text/html": [
       "<div>\n",
       "<style scoped>\n",
       "    .dataframe tbody tr th:only-of-type {\n",
       "        vertical-align: middle;\n",
       "    }\n",
       "\n",
       "    .dataframe tbody tr th {\n",
       "        vertical-align: top;\n",
       "    }\n",
       "\n",
       "    .dataframe thead th {\n",
       "        text-align: right;\n",
       "    }\n",
       "</style>\n",
       "<table border=\"1\" class=\"dataframe\">\n",
       "  <thead>\n",
       "    <tr style=\"text-align: right;\">\n",
       "      <th></th>\n",
       "      <th>Unnamed: 0</th>\n",
       "      <th>experience</th>\n",
       "      <th>weeks</th>\n",
       "      <th>occupation</th>\n",
       "      <th>industry</th>\n",
       "      <th>south</th>\n",
       "      <th>smsa</th>\n",
       "      <th>married</th>\n",
       "      <th>gender</th>\n",
       "      <th>union</th>\n",
       "      <th>education</th>\n",
       "      <th>ethnicity</th>\n",
       "      <th>wage</th>\n",
       "    </tr>\n",
       "  </thead>\n",
       "  <tbody>\n",
       "    <tr>\n",
       "      <th>0</th>\n",
       "      <td>1</td>\n",
       "      <td>9</td>\n",
       "      <td>32</td>\n",
       "      <td>white</td>\n",
       "      <td>yes</td>\n",
       "      <td>yes</td>\n",
       "      <td>no</td>\n",
       "      <td>yes</td>\n",
       "      <td>male</td>\n",
       "      <td>no</td>\n",
       "      <td>9</td>\n",
       "      <td>other</td>\n",
       "      <td>515</td>\n",
       "    </tr>\n",
       "    <tr>\n",
       "      <th>1</th>\n",
       "      <td>2</td>\n",
       "      <td>36</td>\n",
       "      <td>30</td>\n",
       "      <td>blue</td>\n",
       "      <td>yes</td>\n",
       "      <td>no</td>\n",
       "      <td>no</td>\n",
       "      <td>yes</td>\n",
       "      <td>male</td>\n",
       "      <td>no</td>\n",
       "      <td>11</td>\n",
       "      <td>other</td>\n",
       "      <td>912</td>\n",
       "    </tr>\n",
       "    <tr>\n",
       "      <th>2</th>\n",
       "      <td>3</td>\n",
       "      <td>12</td>\n",
       "      <td>46</td>\n",
       "      <td>blue</td>\n",
       "      <td>yes</td>\n",
       "      <td>no</td>\n",
       "      <td>no</td>\n",
       "      <td>no</td>\n",
       "      <td>male</td>\n",
       "      <td>yes</td>\n",
       "      <td>12</td>\n",
       "      <td>other</td>\n",
       "      <td>954</td>\n",
       "    </tr>\n",
       "    <tr>\n",
       "      <th>3</th>\n",
       "      <td>4</td>\n",
       "      <td>37</td>\n",
       "      <td>46</td>\n",
       "      <td>blue</td>\n",
       "      <td>no</td>\n",
       "      <td>no</td>\n",
       "      <td>yes</td>\n",
       "      <td>no</td>\n",
       "      <td>female</td>\n",
       "      <td>no</td>\n",
       "      <td>10</td>\n",
       "      <td>afam</td>\n",
       "      <td>751</td>\n",
       "    </tr>\n",
       "    <tr>\n",
       "      <th>4</th>\n",
       "      <td>5</td>\n",
       "      <td>16</td>\n",
       "      <td>49</td>\n",
       "      <td>white</td>\n",
       "      <td>no</td>\n",
       "      <td>no</td>\n",
       "      <td>no</td>\n",
       "      <td>yes</td>\n",
       "      <td>male</td>\n",
       "      <td>no</td>\n",
       "      <td>16</td>\n",
       "      <td>other</td>\n",
       "      <td>1474</td>\n",
       "    </tr>\n",
       "  </tbody>\n",
       "</table>\n",
       "</div>"
      ],
      "text/plain": [
       "   Unnamed: 0  experience  weeks occupation industry south smsa married  \\\n",
       "0           1           9     32      white      yes   yes   no     yes   \n",
       "1           2          36     30       blue      yes    no   no     yes   \n",
       "2           3          12     46       blue      yes    no   no      no   \n",
       "3           4          37     46       blue       no    no  yes      no   \n",
       "4           5          16     49      white       no    no   no     yes   \n",
       "\n",
       "   gender union  education ethnicity  wage  \n",
       "0    male    no          9     other   515  \n",
       "1    male    no         11     other   912  \n",
       "2    male   yes         12     other   954  \n",
       "3  female    no         10      afam   751  \n",
       "4    male    no         16     other  1474  "
      ]
     },
     "execution_count": 49,
     "metadata": {},
     "output_type": "execute_result"
    }
   ],
   "source": [
    "# import csv \n",
    "PSID1982 = pd.read_csv(\"/Users/gavinmason/Documents/Econ320/PSID1982.csv\")\n",
    "PSID1982.head()"
   ]
  },
  {
   "cell_type": "code",
   "execution_count": 10,
   "metadata": {
    "scrolled": true
   },
   "outputs": [
    {
     "name": "stdout",
     "output_type": "stream",
     "text": [
      "freq table: \n",
      "male      528\n",
      "female     67\n",
      "Name: gender, dtype: int64\n",
      "\n",
      "Proportion table: \n",
      "male      0.887395\n",
      "female    0.112605\n",
      "Name: gender, dtype: float64\n",
      "\n"
     ]
    }
   ],
   "source": [
    "table1_pd = PSID1982['gender'].value_counts()\n",
    "print(f'freq table: \\n{table1_pd}\\n')\n",
    "\n",
    "print(f'Proportion table: \\n{table1_pd/table1_pd.sum()}\\n')\n"
   ]
  },
  {
   "cell_type": "code",
   "execution_count": 12,
   "metadata": {},
   "outputs": [
    {
     "name": "stdout",
     "output_type": "stream",
     "text": [
      "freq table: \n",
      "yes    382\n",
      "no     213\n",
      "Name: smsa, dtype: int64\n",
      "\n",
      "freq table: \n",
      "yes    0.642017\n",
      "no     0.357983\n",
      "Name: smsa, dtype: float64\n",
      "\n"
     ]
    }
   ],
   "source": [
    "table2_pd = PSID1982[\"smsa\"].value_counts()\n",
    "print(f'freq table: \\n{table2_pd}\\n')\n",
    "print(f'freq table: \\n{table2_pd/table2_pd.sum()}\\n')"
   ]
  },
  {
   "cell_type": "markdown",
   "metadata": {},
   "source": [
    "## Let's add a cross table "
   ]
  },
  {
   "cell_type": "code",
   "execution_count": 18,
   "metadata": {},
   "outputs": [
    {
     "data": {
      "text/html": [
       "<div>\n",
       "<style scoped>\n",
       "    .dataframe tbody tr th:only-of-type {\n",
       "        vertical-align: middle;\n",
       "    }\n",
       "\n",
       "    .dataframe tbody tr th {\n",
       "        vertical-align: top;\n",
       "    }\n",
       "\n",
       "    .dataframe thead th {\n",
       "        text-align: right;\n",
       "    }\n",
       "</style>\n",
       "<table border=\"1\" class=\"dataframe\">\n",
       "  <thead>\n",
       "    <tr style=\"text-align: right;\">\n",
       "      <th>smsa</th>\n",
       "      <th>no</th>\n",
       "      <th>yes</th>\n",
       "    </tr>\n",
       "    <tr>\n",
       "      <th>gender</th>\n",
       "      <th></th>\n",
       "      <th></th>\n",
       "    </tr>\n",
       "  </thead>\n",
       "  <tbody>\n",
       "    <tr>\n",
       "      <th>female</th>\n",
       "      <td>0.023529</td>\n",
       "      <td>0.089076</td>\n",
       "    </tr>\n",
       "    <tr>\n",
       "      <th>male</th>\n",
       "      <td>0.334454</td>\n",
       "      <td>0.552941</td>\n",
       "    </tr>\n",
       "  </tbody>\n",
       "</table>\n",
       "</div>"
      ],
      "text/plain": [
       "smsa          no       yes\n",
       "gender                    \n",
       "female  0.023529  0.089076\n",
       "male    0.334454  0.552941"
      ]
     },
     "execution_count": 18,
     "metadata": {},
     "output_type": "execute_result"
    }
   ],
   "source": [
    "crosstab = pd.crosstab(PSID1982[\"gender\"], PSID1982[\"smsa\"])\n",
    "crosstab = crosstab/len(PSID1982)\n",
    "crosstab"
   ]
  },
  {
   "cell_type": "markdown",
   "metadata": {},
   "source": [
    "* The following table looks at the correlation table between wages education and experience. \n",
    "* What can you say about this correlations? Do they have the expected sign?"
   ]
  },
  {
   "cell_type": "code",
   "execution_count": 19,
   "metadata": {},
   "outputs": [
    {
     "data": {
      "text/html": [
       "<div>\n",
       "<style scoped>\n",
       "    .dataframe tbody tr th:only-of-type {\n",
       "        vertical-align: middle;\n",
       "    }\n",
       "\n",
       "    .dataframe tbody tr th {\n",
       "        vertical-align: top;\n",
       "    }\n",
       "\n",
       "    .dataframe thead th {\n",
       "        text-align: right;\n",
       "    }\n",
       "</style>\n",
       "<table border=\"1\" class=\"dataframe\">\n",
       "  <thead>\n",
       "    <tr style=\"text-align: right;\">\n",
       "      <th></th>\n",
       "      <th>wage</th>\n",
       "      <th>education</th>\n",
       "      <th>experience</th>\n",
       "    </tr>\n",
       "  </thead>\n",
       "  <tbody>\n",
       "    <tr>\n",
       "      <th>wage</th>\n",
       "      <td>1.000</td>\n",
       "      <td>0.441</td>\n",
       "      <td>0.090</td>\n",
       "    </tr>\n",
       "    <tr>\n",
       "      <th>education</th>\n",
       "      <td>0.441</td>\n",
       "      <td>1.000</td>\n",
       "      <td>-0.222</td>\n",
       "    </tr>\n",
       "    <tr>\n",
       "      <th>experience</th>\n",
       "      <td>0.090</td>\n",
       "      <td>-0.222</td>\n",
       "      <td>1.000</td>\n",
       "    </tr>\n",
       "  </tbody>\n",
       "</table>\n",
       "</div>"
      ],
      "text/plain": [
       "             wage  education  experience\n",
       "wage        1.000      0.441       0.090\n",
       "education   0.441      1.000      -0.222\n",
       "experience  0.090     -0.222       1.000"
      ]
     },
     "execution_count": 19,
     "metadata": {},
     "output_type": "execute_result"
    }
   ],
   "source": [
    "# Education has a high positive correlation with wage which is logical.\n",
    "# Experience has nearly 0 correlation due to varying factors such as industry and performance.\n",
    "# The signs are all expected, the negative corr between educ and experience makes sense because the two are a trade off.\n",
    "\n",
    "cormat = PSID1982[[\"wage\", \"education\", \"experience\"]]\n",
    "\n",
    "cormat.corr().round(decimals=3)\n"
   ]
  },
  {
   "cell_type": "markdown",
   "metadata": {},
   "source": [
    "## Find averages of relevant variables and some statistics by gender\n",
    "\n",
    "\n",
    "1. Look at the averages for the whole sample for wage, education, and experience\n",
    "\n",
    "2. Calculate the above averages, now separated by gender. Add the correlation between wage and education by gender.  \n",
    "\n",
    "\n",
    "* What can you say about these results? \n",
    "\n",
    "* What can you say about the average values for women vs men? "
   ]
  },
  {
   "cell_type": "code",
   "execution_count": 30,
   "metadata": {},
   "outputs": [
    {
     "data": {
      "text/html": [
       "<div>\n",
       "<style scoped>\n",
       "    .dataframe tbody tr th:only-of-type {\n",
       "        vertical-align: middle;\n",
       "    }\n",
       "\n",
       "    .dataframe tbody tr th {\n",
       "        vertical-align: top;\n",
       "    }\n",
       "\n",
       "    .dataframe thead th {\n",
       "        text-align: right;\n",
       "    }\n",
       "</style>\n",
       "<table border=\"1\" class=\"dataframe\">\n",
       "  <thead>\n",
       "    <tr style=\"text-align: right;\">\n",
       "      <th></th>\n",
       "      <th>Averages</th>\n",
       "    </tr>\n",
       "  </thead>\n",
       "  <tbody>\n",
       "    <tr>\n",
       "      <th>wage</th>\n",
       "      <td>1148.039</td>\n",
       "    </tr>\n",
       "    <tr>\n",
       "      <th>education</th>\n",
       "      <td>12.845</td>\n",
       "    </tr>\n",
       "    <tr>\n",
       "      <th>experience</th>\n",
       "      <td>22.854</td>\n",
       "    </tr>\n",
       "  </tbody>\n",
       "</table>\n",
       "</div>"
      ],
      "text/plain": [
       "            Averages\n",
       "wage        1148.039\n",
       "education     12.845\n",
       "experience    22.854"
      ]
     },
     "execution_count": 30,
     "metadata": {},
     "output_type": "execute_result"
    }
   ],
   "source": [
    "#These results make sense, 12 years of education would be equal to graduating highschool. \n",
    "#22 years of experience seems to make sense as it'd place the average person around 40-50 years old. \n",
    "eductable = PSID1982[[\"wage\", \"education\", \"experience\"]].mean()\n",
    "eductable = pd.DataFrame(round(eductable,3), columns = [\"Averages\"])\n",
    "eductable"
   ]
  },
  {
   "cell_type": "code",
   "execution_count": 31,
   "metadata": {},
   "outputs": [
    {
     "data": {
      "text/html": [
       "<div>\n",
       "<style scoped>\n",
       "    .dataframe tbody tr th:only-of-type {\n",
       "        vertical-align: middle;\n",
       "    }\n",
       "\n",
       "    .dataframe tbody tr th {\n",
       "        vertical-align: top;\n",
       "    }\n",
       "\n",
       "    .dataframe thead tr th {\n",
       "        text-align: left;\n",
       "    }\n",
       "\n",
       "    .dataframe thead tr:last-of-type th {\n",
       "        text-align: right;\n",
       "    }\n",
       "</style>\n",
       "<table border=\"1\" class=\"dataframe\">\n",
       "  <thead>\n",
       "    <tr>\n",
       "      <th></th>\n",
       "      <th colspan=\"3\" halign=\"left\">mean</th>\n",
       "      <th>corrwage_educ</th>\n",
       "    </tr>\n",
       "    <tr>\n",
       "      <th></th>\n",
       "      <th>education</th>\n",
       "      <th>experience</th>\n",
       "      <th>wage</th>\n",
       "      <th></th>\n",
       "    </tr>\n",
       "    <tr>\n",
       "      <th>gender</th>\n",
       "      <th></th>\n",
       "      <th></th>\n",
       "      <th></th>\n",
       "      <th></th>\n",
       "    </tr>\n",
       "  </thead>\n",
       "  <tbody>\n",
       "    <tr>\n",
       "      <th>female</th>\n",
       "      <td>12.835821</td>\n",
       "      <td>20.014925</td>\n",
       "      <td>735.820896</td>\n",
       "      <td>0.670763</td>\n",
       "    </tr>\n",
       "    <tr>\n",
       "      <th>male</th>\n",
       "      <td>12.846591</td>\n",
       "      <td>23.214015</td>\n",
       "      <td>1200.346591</td>\n",
       "      <td>0.449465</td>\n",
       "    </tr>\n",
       "  </tbody>\n",
       "</table>\n",
       "</div>"
      ],
      "text/plain": [
       "             mean                         corrwage_educ\n",
       "        education experience         wage              \n",
       "gender                                                 \n",
       "female  12.835821  20.014925   735.820896      0.670763\n",
       "male    12.846591  23.214015  1200.346591      0.449465"
      ]
     },
     "execution_count": 31,
     "metadata": {},
     "output_type": "execute_result"
    }
   ],
   "source": [
    "#Experience makes sense to be lower on average for women as they would have been the primary caregiver in 1982.\n",
    "#The drastic difference in average wage is logical due to the prevalence of the wage gap \n",
    "#and difference in common job type between genders.\n",
    "bygender = PSID1982.pivot_table(values=[\"wage\", \"education\", \"experience\"], index=\"gender\", aggfunc=[np.mean])\n",
    "PSID1982.groupby('gender')[['wage','education']].corr()\n",
    "bla = PSID1982.groupby(['gender'])[['wage','education']].corr().iloc[0::2,-1].values[0::1]\n",
    "bygender['corrwage_educ'] = bla\n",
    "bygender"
   ]
  },
  {
   "cell_type": "markdown",
   "metadata": {},
   "source": [
    "# Graphs \n",
    "\n",
    "Let's look at those numbers using graphs. "
   ]
  },
  {
   "cell_type": "code",
   "execution_count": 36,
   "metadata": {},
   "outputs": [
    {
     "data": {
      "image/png": "[encoded data removed]",
      "text/plain": [
       "<Figure size 432x288 with 1 Axes>"
      ]
     },
     "metadata": {
      "needs_background": "light"
     },
     "output_type": "display_data"
    }
   ],
   "source": [
    "# use line_kws= {'color':'blue'} to change color of the line\n",
    "# scatter_kws={'color':'red', 's':5} to change color and size of dots\n",
    "\n",
    "sns.regplot(x= \"education\", y= \"wage\", data=PSID1982,line_kws= {'color':'blue'},marker='o',\n",
    "           scatter_kws={'color':'red', 's':5, 'alpha':0.3}, x_jitter = 0.2).set(title= 'Wages vs Education',\n",
    "                                                  xlabel=\"Education\", ylabel = \"Wages\");\n"
   ]
  },
  {
   "cell_type": "code",
   "execution_count": 37,
   "metadata": {},
   "outputs": [
    {
     "name": "stderr",
     "output_type": "stream",
     "text": [
      "/Users/gavinmason/opt/anaconda3/lib/python3.9/site-packages/seaborn/regression.py:592: UserWarning: sharex is deprecated from the `lmplot` function signature. Please update your code to pass it using `facet_kws`.\n",
      "  warnings.warn(msg, UserWarning)\n"
     ]
    },
    {
     "data": {
      "image/png": "[encoded data removed]",
      "text/plain": [
       "<Figure size 728x360 with 2 Axes>"
      ]
     },
     "metadata": {
      "needs_background": "light"
     },
     "output_type": "display_data"
    }
   ],
   "source": [
    " sns.lmplot(x=\"education\", y=\"wage\", col=\"gender\", scatter_kws={'color':'red','alpha':0.3}, \n",
    "            sharex=False,  data=PSID1982).add_legend();"
   ]
  },
  {
   "cell_type": "markdown",
   "metadata": {},
   "source": [
    "# Simple regression analysis\n",
    "\n",
    "Now let's use the data to estimate the following equation\n",
    "$$ wage = \\beta_0 + \\beta_1*education + u $$\n",
    "\n",
    "Estimate this equation using the step by step method learned last class, the method that minimizes SSR and the variance covarance method. (3 ways first)\n",
    "\n",
    "### Equation system results: step-by-step"
   ]
  },
  {
   "cell_type": "code",
   "execution_count": 39,
   "metadata": {},
   "outputs": [
    {
     "name": "stdout",
     "output_type": "stream",
     "text": [
      "b1: 83.88785655141531\n",
      "\n",
      "b0: 70.4674157605591\n",
      "\n"
     ]
    }
   ],
   "source": [
    "\n",
    "y = PSID1982[\"wage\"]\n",
    "x = PSID1982[\"education\"]\n",
    "\n",
    "# ingredients to the OLS formulas:\n",
    "sumy = np.sum(y)\n",
    "sumxy = np.sum((x - np.mean(x)) * (y - np.mean(y)))\n",
    "sumx2 = np.sum((x - np.mean(x))**2)\n",
    "sumy2 = np.sum((y - np.mean(y))**2)\n",
    "x_bar = np.mean(x)\n",
    "y_bar = np. mean(y)\n",
    "\n",
    "\n",
    "# manual calculation of OLS coefficients:\n",
    "b1 = sumxy/sumx2\n",
    "b0 = y_bar - b1 * x_bar\n",
    "\n",
    "print(f'b1: {b1}\\n')\n",
    "print(f'b0: {b0}\\n')"
   ]
  },
  {
   "cell_type": "markdown",
   "metadata": {},
   "source": [
    "### Function minimization results \n"
   ]
  },
  {
   "cell_type": "code",
   "execution_count": 40,
   "metadata": {},
   "outputs": [
    {
     "name": "stdout",
     "output_type": "stream",
     "text": [
      "[70.46925847 83.88772698]\n"
     ]
    }
   ],
   "source": [
    "#Create initial values for the Beta parameters\n",
    "b = np.array([0.5,0.5])\n",
    "\n",
    "#create a column of constants\n",
    "k= np.ones(len(x))\n",
    "\n",
    "# Create function for Sum of square residuals (SSR)\n",
    "def sse(b,y,x,k):\n",
    "    return np.sum((y-b[0]*k-b[1]*x)**2)\n",
    "\n",
    "#Use minimize from scipy.optimize to find the parameters beta that minimize the SSR\n",
    "resa = minimize(fun=sse,\n",
    "                args=(y, x, k),\n",
    "                x0 = b)\n",
    "\n",
    "# print results\n",
    "print(resa['x'])"
   ]
  },
  {
   "cell_type": "markdown",
   "metadata": {},
   "source": [
    "### Covariance , variance method\n",
    "Using the `np.cov(x,y)` and `np.var(x)` functions in Python calculate the $\\hat\\beta_0, \\hat\\beta_1$ based on the equation below.\n",
    "$$\\hat\\beta_1=\\frac{Cov(x,y)}{Var(x)}$$ \n",
    "$$\\hat\\beta_0 = \\bar{y} - \\hat\\beta_1 \\bar{x}$$"
   ]
  },
  {
   "cell_type": "code",
   "execution_count": 41,
   "metadata": {},
   "outputs": [
    {
     "name": "stdout",
     "output_type": "stream",
     "text": [
      "b1: 83.88785655141518\n",
      "\n",
      "b0: 70.46741576056093\n",
      "\n"
     ]
    }
   ],
   "source": [
    "# ingredients to the OLS formulas:\n",
    "cov_xy = np.cov(x, y)[1, 0]  # access 2. row and 1. column of covariance matrix\n",
    "var_x = np.var(x, ddof=1)\n",
    "x_bar = np.mean(x)\n",
    "y_bar = np.mean(y)\n",
    "\n",
    "# manual calculation of OLS coefficients:\n",
    "b1 = cov_xy / var_x\n",
    "b0 = y_bar - b1 * x_bar\n",
    "print(f'b1: {b1}\\n')\n",
    "print(f'b0: {b0}\\n')"
   ]
  },
  {
   "cell_type": "markdown",
   "metadata": {},
   "source": [
    "### `ols()` command\n",
    "Finally use the `ols()` command to estimate save your estimation in an object called reg and show the summary of your model. \n",
    "$$ log(wage) = \\beta_0 + \\beta_1*education + u $$\n",
    "What can you say about this new results why is it better to use $log(wages)$?\n",
    "What is your interpretation of the coeficients and the $R^2$?"
   ]
  },
  {
   "cell_type": "code",
   "execution_count": 47,
   "metadata": {},
   "outputs": [
    {
     "name": "stdout",
     "output_type": "stream",
     "text": [
      "results.summary(): \n",
      "                            OLS Regression Results                            \n",
      "==============================================================================\n",
      "Dep. Variable:              np.log(y)   R-squared:                       0.208\n",
      "Model:                            OLS   Adj. R-squared:                  0.207\n",
      "Method:                 Least Squares   F-statistic:                     156.2\n",
      "Date:                Thu, 29 Sep 2022   Prob (F-statistic):           5.64e-32\n",
      "Time:                        18:03:24   Log-Likelihood:                -283.58\n",
      "No. Observations:                 595   AIC:                             571.2\n",
      "Df Residuals:                     593   BIC:                             579.9\n",
      "Df Model:                           1                                         \n",
      "Covariance Type:            nonrobust                                         \n",
      "==============================================================================\n",
      "                 coef    std err          t      P>|t|      [0.025      0.975]\n",
      "------------------------------------------------------------------------------\n",
      "Intercept      6.0292      0.075     79.899      0.000       5.881       6.177\n",
      "x              0.0717      0.006     12.497      0.000       0.060       0.083\n",
      "==============================================================================\n",
      "Omnibus:                        2.787   Durbin-Watson:                   1.839\n",
      "Prob(Omnibus):                  0.248   Jarque-Bera (JB):                2.604\n",
      "Skew:                          -0.153   Prob(JB):                        0.272\n",
      "Kurtosis:                       3.105   Cond. No.                         62.3\n",
      "==============================================================================\n",
      "\n",
      "Notes:\n",
      "[1] Standard Errors assume that the covariance matrix of the errors is correctly specified.\n",
      "\n"
     ]
    }
   ],
   "source": [
    "# It's better to use a log-level model as it more normally distributes the data.\n",
    "# It also makes larger data sets easier to interpret by changing the case from a unit change to a percent change.\n",
    "# Positive sign of coefficients indicates a direct positive relationship between education and wage.\n",
    "# R2 is lower because variance in education is not only ultimate determinant of variance in wage.\n",
    "\n",
    "# estimate log-level model:\n",
    "data = {\"x\": x, \"y\": y}\n",
    "# Put all vectors into a data frame to work with it later \n",
    "# and becasue you need that format for the graphs\n",
    "datas = pd.DataFrame(data)\n",
    "reg = smf.ols(formula='np.log(y) ~ x', data=datas)\n",
    "results = reg.fit()\n",
    "\n",
    "# print results using summary:\n",
    "print(f'results.summary(): \\n{results.summary()}\\n')\n"
   ]
  },
  {
   "cell_type": "markdown",
   "metadata": {},
   "source": [
    "<style>\n",
    "div.gray { background-color:#dbdbdb; border-radius: 5px; padding: 20px;}\n",
    "</style>\n",
    "<div class = \"gray\">\n",
    "\n",
    "**Packages used in this document**\n",
    "\n",
    "`wooldridge`\n",
    "`matplot.lib`\n",
    "`pandas`\n",
    "`numpy` \n",
    "`seaborn`\n",
    "    \n",
    "\n",
    "</div>"
   ]
  },
  {
   "cell_type": "markdown",
   "metadata": {},
   "source": [
    "&nbsp;\n",
    "<hr />\n",
    "<p style=\"font-family:palatino; text-align: center;font-size: 15px\">ECON320 Python Programming Laboratory</a></p>\n",
    "<p style=\"font-family:palatino; text-align: center;font-size: 15px\">Professor <em> Paloma Lopez de mesa Moyano</em></a></p>\n",
    "<p style=\"font-family:palatino; text-align: center;font-size: 15px\"><span style=\"color: #6666FF;\"><em>paloma.moyano@emory.edu</em></span></p>\n",
    "\n",
    "<p style=\"font-family:palatino; text-align: center;font-size: 15px\">Department of Economics</a></p>\n",
    "<p style=\"font-family:palatino; text-align: center; color: #012169;font-size: 15px\">Emory University</a></p>\n",
    "\n",
    "\n",
    "&nbsp;"
   ]
  },
  {
   "cell_type": "code",
   "execution_count": null,
   "metadata": {},
   "outputs": [],
   "source": [
    "# !jupyter nbconvert --to html nameoffile.ipynb"
   ]
  }
 ],
 "metadata": {
  "kernelspec": {
   "display_name": "Python 3 (ipykernel)",
   "language": "python",
   "name": "python3"
  },
  "language_info": {
   "codemirror_mode": {
    "name": "ipython",
    "version": 3
   },
   "file_extension": ".py",
   "mimetype": "text/x-python",
   "name": "python",
   "nbconvert_exporter": "python",
   "pygments_lexer": "ipython3",
   "version": "3.9.7"
  }
 },
 "nbformat": 4,
 "nbformat_minor": 4
}
