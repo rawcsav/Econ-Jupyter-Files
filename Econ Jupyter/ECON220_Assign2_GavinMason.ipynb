{
 "cells": [
  {
   "cell_type": "markdown",
   "metadata": {},
   "source": [
    "<h1 style=\"text-align: center; color: purple;\" markdown=\"1\">Assignment 2: Working with Data for the Final Project </h1>\n",
    "\n",
    "<h2 style=\"text-align: center; color: #012169\" markdown=\"1\"> ECON220 Python Lab</h2>\n",
    "\n",
    "<h3 style=\"text-align: center; color: #012169\" markdown=\"1\"> Author: Gavin Mason </h3>"
   ]
  },
  {
   "cell_type": "markdown",
   "metadata": {},
   "source": [
    "### Table of Contents \n",
    "* [Loading Data into Python](#anchor1) \n",
    "* [Descriptive Statsistics of the Data](#anchor2) \n",
    "* [Modify Your Dataset](#anchor3) \n",
    "* [Stats by Group](#anchor4)\n",
    "* [Graphs using Seaborn](#anchor5)"
   ]
  },
  {
   "cell_type": "code",
   "execution_count": 370,
   "metadata": {},
   "outputs": [
    {
     "name": "stdout",
     "output_type": "stream",
     "text": [
      "/Users/gavinmason\n"
     ]
    }
   ],
   "source": [
    "#Import packages here\n",
    "import pandas as pd\n",
    "import numpy as np\n",
    "import os \n",
    "path = os.getcwd()\n",
    "print(path)\n",
    "\n",
    "\n",
    "#this allows you to remove some warnings about the manipulations that you do with Pandas\n",
    "pd.options.mode.chained_assignment = None  # default='warn'\n",
    "\n"
   ]
  },
  {
   "cell_type": "markdown",
   "metadata": {},
   "source": [
    "# Loading Data into Python <a class = anchor id = anchor1></a>\n",
    "\n",
    "For this assignment you are going to start working with the data for your final project. First load the data into Python as shown in the video.  \n",
    "\n",
    "Here is the code to load the data that is already an CSV object. **You need to change the path for your own path.** "
   ]
  },
  {
   "cell_type": "code",
   "execution_count": 371,
   "metadata": {},
   "outputs": [],
   "source": [
    "path = 'https://www.alexandramanta.info/media/econ220_labs/'\n",
    "Econ220DataF21 = pd.read_csv(path + 'Econ220DataF21.csv')"
   ]
  },
  {
   "cell_type": "markdown",
   "metadata": {},
   "source": [
    "# Clean the Dataframe and Show Descriptive Statistics of the Data <a class = anchor id = anchor2></a>\n",
    "\n",
    "\n",
    "FOR THIS ASSIGNMENT YOU ARE REQUIRED TO USE THE PACKAGE PANDAS!!\n",
    "\n",
    "- Create a new object *data21* selecting the variables that you see below and make a summary of this data, make sure this object is a dataframe. Using the Pandas package make a selection of the variables: \n",
    "\n",
    " * age\n",
    " * GPA\n",
    " * sex\n",
    " * Happiness =  q18\n",
    " * Sleep = q29\n",
    " * Savings =  q68 \n",
    "\n",
    "- Check the info of the data selection to see the types of the variables\n",
    "- Then clean the variables so they have the adequate type\n",
    "- Finally use show the descriptive stats of the variables"
   ]
  },
  {
   "cell_type": "code",
   "execution_count": 372,
   "metadata": {},
   "outputs": [
    {
     "name": "stdout",
     "output_type": "stream",
     "text": [
      "<class 'pandas.core.frame.DataFrame'>\n",
      "RangeIndex: 101 entries, 0 to 100\n",
      "Data columns (total 6 columns):\n",
      " #   Column  Non-Null Count  Dtype  \n",
      "---  ------  --------------  -----  \n",
      " 0   age     100 non-null    object \n",
      " 1   GPA     100 non-null    object \n",
      " 2   sex     101 non-null    object \n",
      " 3   q18     100 non-null    float64\n",
      " 4   q29     100 non-null    object \n",
      " 5   q68     100 non-null    object \n",
      "dtypes: float64(1), object(5)\n",
      "memory usage: 4.9+ KB\n"
     ]
    }
   ],
   "source": [
    "data21 = Econ220DataF21[[\"age\", \"GPA\", \"sex\", \"q18\",\"q29\",\"q68\"]]\n",
    "\n",
    "data21.info()"
   ]
  },
  {
   "cell_type": "markdown",
   "metadata": {},
   "source": [
    "### Data Cleaning in the next cell \n",
    "\n",
    "See in the code cell what variables you have to clean. \n",
    "\n",
    "In this cleaning process use `.value_counts()` to inspect your variables but comment the line after the inspection so not tables with the vales show in the output. \n"
   ]
  },
  {
   "cell_type": "code",
   "execution_count": 373,
   "metadata": {},
   "outputs": [],
   "source": [
    "\n",
    "# clean age (Use method chaining here to clean age in one line)\n",
    "data21['age'] = data21[\"age\"].replace(\"[^0-9]\",\" \",regex = True).astype(float)\n",
    "\n",
    "# clean q29\n",
    "data21.loc[39,\"q29\"]=8\n",
    "data21[\"q29\"] = data21[\"q29\"].astype(float)  \n",
    "data21[\"q29\"].value_counts(dropna=False)\n",
    "\n",
    "#clean q68 \n",
    "data21.loc[2,\"q68\"]=5000\n",
    "data21.loc[17,\"q68\"]=13000\n",
    "data21.loc[26,\"q68\"]=37000\n",
    "data21.loc[28,\"q68\"]=20000\n",
    "data21.loc[61,\"q68\"]=3000\n",
    "data21.loc[85,\"q68\"]=20000\n",
    "data21.loc[39,\"q68\"]=float(\"NaN\")\n",
    "\n",
    "\n",
    "data21[\"q68\"] = data21[\"q68\"].astype(float)\n",
    "data21['q68'].value_counts(dropna=False)\n",
    "\n",
    "\n",
    "# Fix the GPA variable here as shown in the video and in class\n",
    "data21.loc[5,\"GPA\"]=3.76\n",
    "data21.loc[10,\"GPA\"]=3.1\n",
    "data21.loc[48,\"GPA\"]=3.3\n",
    "data21.loc[69,\"GPA\"]=3.85\n",
    "data21.loc[74,\"GPA\"]=3.94\n",
    "data21.loc[80,\"GPA\"]=float(\"Nan\")\n",
    "\n",
    "data21[\"GPA\"] = data21[\"GPA\"].astype(float)\n",
    "data21['GPA'].value_counts(dropna=False)\n",
    "\n",
    "\n",
    "# Turn sex into a categorical variable\n",
    "data21['sex'] = pd.Categorical(data21[\"sex\"])"
   ]
  },
  {
   "cell_type": "markdown",
   "metadata": {},
   "source": [
    "# Modify Your Dataset<a class = anchor id = anchor3></a>\n",
    "\n",
    "Using the Pandas package use the rename function ([click link here for more information](https://pandas.pydata.org/pandas-docs/stable/reference/api/pandas.DataFrame.rename.html)) to rename q18, q14, q58 the following way \n",
    "\n",
    "   * Happiness =  q18\n",
    "   * Sleep = q29\n",
    "   * Savings =  q68\n",
    "\n",
    "- show that the names have change and the variables have athe correct type with info. \n",
    "\n",
    "Create a few new variables using the Pandas package and incorporate them into your dataframe. \n",
    "\n",
    "- Goodsleep variable, $Sleep > 6$ \n",
    "- Over20 variable , a variable that is TRUE if a person is older than 20 or 20\n",
    "- show the average of both variables, check  how the function round works [here](https://pandas.pydata.org/pandas-docs/stable/reference/api/pandas.DataFrame.round.html) and use it to get the same numbers as the results key. "
   ]
  },
  {
   "cell_type": "code",
   "execution_count": 374,
   "metadata": {},
   "outputs": [
    {
     "data": {
      "text/html": [
       "<div>\n",
       "<style scoped>\n",
       "    .dataframe tbody tr th:only-of-type {\n",
       "        vertical-align: middle;\n",
       "    }\n",
       "\n",
       "    .dataframe tbody tr th {\n",
       "        vertical-align: top;\n",
       "    }\n",
       "\n",
       "    .dataframe thead th {\n",
       "        text-align: right;\n",
       "    }\n",
       "</style>\n",
       "<table border=\"1\" class=\"dataframe\">\n",
       "  <thead>\n",
       "    <tr style=\"text-align: right;\">\n",
       "      <th></th>\n",
       "      <th>age</th>\n",
       "      <th>GPA</th>\n",
       "      <th>sex</th>\n",
       "      <th>Happiness</th>\n",
       "      <th>Sleep</th>\n",
       "      <th>Savings</th>\n",
       "    </tr>\n",
       "  </thead>\n",
       "  <tbody>\n",
       "    <tr>\n",
       "      <th>0</th>\n",
       "      <td>22.0</td>\n",
       "      <td>3.50</td>\n",
       "      <td>Male</td>\n",
       "      <td>5.0</td>\n",
       "      <td>7.0</td>\n",
       "      <td>10000.0</td>\n",
       "    </tr>\n",
       "    <tr>\n",
       "      <th>1</th>\n",
       "      <td>22.0</td>\n",
       "      <td>3.35</td>\n",
       "      <td>Male</td>\n",
       "      <td>3.0</td>\n",
       "      <td>6.0</td>\n",
       "      <td>20000.0</td>\n",
       "    </tr>\n",
       "    <tr>\n",
       "      <th>2</th>\n",
       "      <td>22.0</td>\n",
       "      <td>3.30</td>\n",
       "      <td>Male</td>\n",
       "      <td>3.0</td>\n",
       "      <td>6.0</td>\n",
       "      <td>5000.0</td>\n",
       "    </tr>\n",
       "    <tr>\n",
       "      <th>3</th>\n",
       "      <td>21.0</td>\n",
       "      <td>3.60</td>\n",
       "      <td>Female</td>\n",
       "      <td>1.0</td>\n",
       "      <td>6.0</td>\n",
       "      <td>2000.0</td>\n",
       "    </tr>\n",
       "    <tr>\n",
       "      <th>4</th>\n",
       "      <td>23.0</td>\n",
       "      <td>3.50</td>\n",
       "      <td>Male</td>\n",
       "      <td>5.0</td>\n",
       "      <td>7.0</td>\n",
       "      <td>20000.0</td>\n",
       "    </tr>\n",
       "  </tbody>\n",
       "</table>\n",
       "</div>"
      ],
      "text/plain": [
       "    age   GPA     sex  Happiness  Sleep  Savings\n",
       "0  22.0  3.50    Male        5.0    7.0  10000.0\n",
       "1  22.0  3.35    Male        3.0    6.0  20000.0\n",
       "2  22.0  3.30    Male        3.0    6.0   5000.0\n",
       "3  21.0  3.60  Female        1.0    6.0   2000.0\n",
       "4  23.0  3.50    Male        5.0    7.0  20000.0"
      ]
     },
     "execution_count": 374,
     "metadata": {},
     "output_type": "execute_result"
    }
   ],
   "source": [
    "#Change names here\n",
    "data21 = data21.rename(columns={\"q18\": \"Happiness\", \"q29\":\"Sleep\",\"q68\":\"Savings\"})\n",
    "data21.head()"
   ]
  },
  {
   "cell_type": "code",
   "execution_count": 375,
   "metadata": {},
   "outputs": [
    {
     "name": "stdout",
     "output_type": "stream",
     "text": [
      "The proportion of people with good sleep and over 21 is:\n",
      "       Goodsleep  Over20\n",
      "mean       69.0    68.0\n",
      "The proportion of people with good sleep is:\n",
      " True     69.0\n",
      "False    31.0\n",
      "Name: Goodsleep, dtype: float64\n",
      "The proportion of people over 21 is:\n",
      " True     68.0\n",
      "False    32.0\n",
      "Name: Over20, dtype: float64\n"
     ]
    }
   ],
   "source": [
    "# Fill in the conditions for the new variables\"\n",
    "data21[\"Goodsleep\"] = data21[\"Sleep\"]>6\n",
    "data21[\"Over20\"] = data21[\"age\"]>=20\n",
    "\n",
    "#Two ways of doing the same thing\n",
    "\n",
    "#Find the average of the variables multiply it by 100 \n",
    "print(\"The proportion of people with good sleep and over 21 is:\\n\", data21.agg({\"Goodsleep\" : [\"mean\"],\"Over20\" : [\"mean\"]}).round(2)*100)\n",
    "# Remember the mean function ignores NA values when performing calculcations\n",
    "\n",
    "#The proportion of people with good sleep and the proportion of people over 20 \n",
    "#.value_counts(normalize = True) allows you to get the proportions in a boolean variable.  \n",
    "print(\"The proportion of people with good sleep is:\\n\", data21[\"Goodsleep\"].value_counts(normalize = True).round(2)*100) \n",
    "print(\"The proportion of people over 21 is:\\n\", data21[\"Over20\"].value_counts(normalize = True).round(2)*100)\n"
   ]
  },
  {
   "cell_type": "markdown",
   "metadata": {},
   "source": [
    "# Stats by Group <a class = anchor id = anchor4></a>\n",
    "\n",
    "Now let's look at statistics by sex\n",
    "- Use the `agg()` method to get the stats that appear in this table "
   ]
  },
  {
   "cell_type": "code",
   "execution_count": 376,
   "metadata": {},
   "outputs": [
    {
     "name": "stderr",
     "output_type": "stream",
     "text": [
      "/var/folders/y_/d0wbwn_s1tlbh09zvpsn9bp40000gn/T/ipykernel_16101/3165990658.py:1: FutureWarning: Indexing with multiple keys (implicitly converted to a tuple of keys) will be deprecated, use a list instead.\n",
      "  databygend = data21.groupby([\"sex\"])[\"Savings\",\"GPA\"].agg([\"mean\"])\n"
     ]
    },
    {
     "data": {
      "text/html": [
       "<div>\n",
       "<style scoped>\n",
       "    .dataframe tbody tr th:only-of-type {\n",
       "        vertical-align: middle;\n",
       "    }\n",
       "\n",
       "    .dataframe tbody tr th {\n",
       "        vertical-align: top;\n",
       "    }\n",
       "\n",
       "    .dataframe thead tr th {\n",
       "        text-align: left;\n",
       "    }\n",
       "\n",
       "    .dataframe thead tr:last-of-type th {\n",
       "        text-align: right;\n",
       "    }\n",
       "</style>\n",
       "<table border=\"1\" class=\"dataframe\">\n",
       "  <thead>\n",
       "    <tr>\n",
       "      <th></th>\n",
       "      <th>Savings</th>\n",
       "      <th>GPA</th>\n",
       "    </tr>\n",
       "    <tr>\n",
       "      <th></th>\n",
       "      <th>mean</th>\n",
       "      <th>mean</th>\n",
       "    </tr>\n",
       "    <tr>\n",
       "      <th>sex</th>\n",
       "      <th></th>\n",
       "      <th></th>\n",
       "    </tr>\n",
       "  </thead>\n",
       "  <tbody>\n",
       "    <tr>\n",
       "      <th>Female</th>\n",
       "      <td>13065.27</td>\n",
       "      <td>3.71</td>\n",
       "    </tr>\n",
       "    <tr>\n",
       "      <th>Male</th>\n",
       "      <td>12479.89</td>\n",
       "      <td>3.62</td>\n",
       "    </tr>\n",
       "  </tbody>\n",
       "</table>\n",
       "</div>"
      ],
      "text/plain": [
       "         Savings   GPA\n",
       "            mean  mean\n",
       "sex                   \n",
       "Female  13065.27  3.71\n",
       "Male    12479.89  3.62"
      ]
     },
     "execution_count": 376,
     "metadata": {},
     "output_type": "execute_result"
    }
   ],
   "source": [
    "databygend = data21.groupby([\"sex\"])[\"Savings\",\"GPA\"].agg([\"mean\"])\n",
    "databygend.round(2)"
   ]
  },
  {
   "cell_type": "markdown",
   "metadata": {},
   "source": [
    "# Graphs using Seaborn <a class = anchor id = anchor5></a>\n",
    "\n",
    "Let's try to do a graph with this data. \n",
    "\n",
    "**Seaborn** is a library for making statistical graphics in Python. It is built on top of matplotlib and closely integrated with pandas data structures.\n",
    "\n",
    "A scatter plot is a plot to display values for typically two variables for a set of data. \n",
    "\n",
    "In seaborn a scatter plot can be done using the follwoning syntax: \n",
    "\n",
    "`sns.scatterplot(x ='variable on x axis', \n",
    "                 y ='variable on x axis', \n",
    "                 hue ='variable to make a color differentiantion in your plot',\n",
    "                 data = the data set taht contains your variables)`\n",
    "                 \n",
    "- Using the syntax above create a scatter plot of GPA and Sleep differentianting by sex. \n",
    "- try adding `.set(title='GPA vs Sleep by Sex')` to add a title to your graph\n",
    "- there is a message that shows up above the graphs you can get rid of it by ading ; at the end of your line of code. \n",
    "\n",
    "\n",
    "This will wet your appetite for our next class on data visualization"
   ]
  },
  {
   "cell_type": "code",
   "execution_count": 377,
   "metadata": {
    "code_folding": []
   },
   "outputs": [
    {
     "data": {
      "text/plain": [
       "[Text(0.5, 1.0, 'GPA vs Sleep by Sex')]"
      ]
     },
     "execution_count": 377,
     "metadata": {},
     "output_type": "execute_result"
    },
    {
     "data": {
      "image/png": "[encoded data removed]",
      "text/plain": [
       "<Figure size 432x288 with 1 Axes>"
      ]
     },
     "metadata": {
      "needs_background": "light"
     },
     "output_type": "display_data"
    }
   ],
   "source": [
    "# Import seaborn package as sns\n",
    "import seaborn as sns\n",
    "# Graph here\n",
    "\n",
    "sns.scatterplot(x=\"GPA\", y=\"Sleep\", hue=\"sex\",data = data21).set(title=\"GPA vs Sleep by Sex\")\n",
    "\n"
   ]
  },
  {
   "cell_type": "markdown",
   "metadata": {},
   "source": [
    "&nbsp;\n",
    "<hr />\n",
    "<p style=\"font-family:palatino; text-align: center;font-size: 15px\">ECON220 Python Programming Laboratory</a></p>\n",
    "<p style=\"font-family:palatino; text-align: center;font-size: 15px\">Professor <em> Paloma Lopez de mesa Moyano</em></a></p>\n",
    "<p style=\"font-family:palatino; text-align: center;font-size: 15px\"><span style=\"color: #6666FF;\"><em>paloma.moyano@emory.edu</em></span></p>\n",
    "\n",
    "<p style=\"font-family:palatino; text-align: center;font-size: 15px\">Department of Economics</a></p>\n",
    "<p style=\"font-family:palatino; text-align: center; color: #012169;font-size: 15px\">Emory University</a></p>\n",
    "\n",
    "&nbsp;"
   ]
  },
  {
   "cell_type": "code",
   "execution_count": 337,
   "metadata": {},
   "outputs": [],
   "source": [
    "# !jupyter nbconvert --to html nameoffile.ipynb"
   ]
  }
 ],
 "metadata": {
  "hide_input": false,
  "kernelspec": {
   "display_name": "Python 3 (ipykernel)",
   "language": "python",
   "name": "python3"
  },
  "language_info": {
   "codemirror_mode": {
    "name": "ipython",
    "version": 3
   },
   "file_extension": ".py",
   "mimetype": "text/x-python",
   "name": "python",
   "nbconvert_exporter": "python",
   "pygments_lexer": "ipython3",
   "version": "3.9.7"
  },
  "toc": {
   "base_numbering": 1,
   "nav_menu": {},
   "number_sections": false,
   "sideBar": true,
   "skip_h1_title": false,
   "title_cell": "Table of Contents",
   "title_sidebar": "Contents",
   "toc_cell": false,
   "toc_position": {},
   "toc_section_display": true,
   "toc_window_display": false
  }
 },
 "nbformat": 4,
 "nbformat_minor": 4
}
