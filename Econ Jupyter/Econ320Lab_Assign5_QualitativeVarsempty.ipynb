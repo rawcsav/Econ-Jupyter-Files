{
 "cells": [
  {
   "cell_type": "markdown",
   "metadata": {},
   "source": [
    "<h1 style=\"text-align: center; color: purple;\" markdown=\"1\">Econ 320 Python Assignment 5  </h1>\n",
    "\n",
    "<h2 style=\"text-align: center; color: #012169\" markdown=\"1\">Regressions with Qualitative Information </h2>\n",
    "\n",
    "<h2 style=\"text-align: center; color: #012169\" markdown=\"1\">YOUR NAME </h2>"
   ]
  },
  {
   "cell_type": "markdown",
   "metadata": {},
   "source": [
    "## Package setup"
   ]
  },
  {
   "cell_type": "code",
   "execution_count": null,
   "metadata": {},
   "outputs": [],
   "source": [
    "# import the necessary packages \n",
    "\n",
    "import scipy.stats as stats\n",
    "from stargazer.stargazer import Stargazer\n",
    "from IPython.core.display import HTML\n",
    "import  as woo\n",
    "import  as np \n",
    "import  as pd\n",
    "import  as plt\n",
    "import  as sns\n",
    "import  as sm\n",
    "import  as smf"
   ]
  },
  {
   "cell_type": "markdown",
   "metadata": {},
   "source": [
    "## 1. Using the data wage2 from the wooldridge package. Estimate the models: m1, m2, m3, m4 \n",
    "\n",
    "Model 1 $$log(wage) = \\beta_0 + \\beta_1 educ + \\beta_2 exper + \\beta_3tenure + \\beta_4 married + u $$\n",
    "Model 2  $$log(wage) = \\beta_0 + \\beta_1 educ + \\beta_2 exper + \\beta_3tenure + \\beta_4 married + \\beta_5 black + u $$\n",
    "Model 3  $$log(wage) = \\beta_0 + \\beta_1 educ + \\beta_2 exper + \\beta_3tenure + \\beta_4 married + \\beta_5 black + \\beta_6 south + u $$ \n",
    "Model 4  $$log(wage) = \\beta_0 + \\beta_1 educ + \\beta_2 exper + \\beta_3tenure + \\beta_4 married + \\beta_5 black + \\beta_6 south + \\beta_7 urban + u$$ \n",
    "\n",
    "Report the results using a stargazer table. Holding other factors fixed, what is the aproximate difference in monthly salary between blacks vs non blacks, married vs single,  and urban vs rural?  Are these statistically significant? INTERPRET."
   ]
  },
  {
   "cell_type": "code",
   "execution_count": null,
   "metadata": {},
   "outputs": [],
   "source": [
    "#load the data\n",
    "\n",
    "# set each regression\n",
    "m1 = \n",
    "m2 = \n",
    "m3 = \n",
    "m4 = "
   ]
  },
  {
   "cell_type": "code",
   "execution_count": null,
   "metadata": {},
   "outputs": [],
   "source": [
    "#view the results using a stargazer table\n",
    "\n",
    "st=Stargazer([])\n",
    "from IPython.core.display import HTML\n",
    "HTML(st.render_html())"
   ]
  },
  {
   "cell_type": "markdown",
   "metadata": {},
   "source": [
    "## 2. Using model 4, add the variables $exper^2$ and $tenure^2$ to the equation show the regression results and test if they are jointly significant at 20% level. What about 25% Level? Explain."
   ]
  },
  {
   "cell_type": "code",
   "execution_count": null,
   "metadata": {},
   "outputs": [],
   "source": [
    "\n",
    "m5= "
   ]
  },
  {
   "cell_type": "code",
   "execution_count": null,
   "metadata": {},
   "outputs": [],
   "source": [
    "#vector with the names of the variables that you are testing \n",
    "hypotheses = [[__________,______________]\n",
    "#automated F test:\n",
    "\n",
    "ftest = m5.f_test(hypotheses)\n",
    "fstat = ftest.statistic[0][0]\n",
    "fpval = ftest.pvalue\n",
    "\n",
    "print(f'fstat: {fstat}\\n')\n",
    "print(f'fpval: {fpval}\\n')"
   ]
  },
  {
   "cell_type": "markdown",
   "metadata": {},
   "source": [
    "## 3. Using model 4 run model 6 by adding a dummy variable for age groups less than or equal to 30, between 30 to 35, older than 35. \n",
    "  - Do a frequency table using `pd.crosstab` showing the distribution of each group.  \n",
    "  - Make older than 35 the reference group, then run a regression. What can you say about the effect of age group on the wages? \n",
    "  - Show the regression results.\n",
    "  - make an anova table for the F test"
   ]
  },
  {
   "cell_type": "code",
   "execution_count": null,
   "metadata": {},
   "outputs": [],
   "source": [
    "#3\n",
    "ageg = [0, 30, 35, 38]\n",
    "wage2['agegr'] = pd.cut(____________, bins = __________,\n",
    "                       labels=['Younger than 30', '30-34', '35 and up'])\n",
    "\n",
    "\n",
    "# display frequencies:\n",
    "freq = \n",
    "print(f'freq: \\n{freq}\\n')\n",
    "\n",
    "# run regression:\n",
    "m6 = \n",
    "# print regression table:\n",
    "m6.summary()"
   ]
  },
  {
   "cell_type": "code",
   "execution_count": null,
   "metadata": {},
   "outputs": [],
   "source": [
    "# ANOVA table:\n",
    "table_anova = sm.stats.anova_lm(, typ=2)\n",
    "print(f'table_anova: \\n{table_anova}\\n')"
   ]
  },
  {
   "cell_type": "markdown",
   "metadata": {},
   "source": [
    "## 4. Use model 4 but now allow wages to differ across four groups of people, married and black, married and nonblack, single and black and single and non black. Put the results in a stargarzer table. *(Hint: Think about how interactions work, what are all the categories in the interaction and what is the base category.) Do not create the interaction separately. Do it inside the `ols()` directly as learned in class. Interpret your result\n",
    "<br>"
   ]
  },
  {
   "cell_type": "code",
   "execution_count": null,
   "metadata": {},
   "outputs": [],
   "source": [
    "#4\n",
    "# - Option 1\n",
    "# As seen in class you can use the * function to create interactions of your dummy variables, \n",
    "# when using * you do not need to add the variables alone Phyton does that automatically for you. \n",
    "\n",
    "m7 = \n",
    "\n",
    "\n",
    "# # - Option 2\n",
    "# # The other way is using colon : for the interaction, \n",
    "# in which case you do need to add the main effects or main dummy variables, in this example, married and black. \n",
    "\n",
    "m8 = \n",
    "wage['married_black'] = wage['married']*wage['black']\n",
    "# - Option 3\n",
    "# create the interaction factor variable before the regression, this creates four categories, married_black(00, 10, 01, 11)\n",
    "wage2['marital_race'] = wage2['married'].astype(int).astype('str')+'_'+wage2['black'].astype(int).astype('str')\n",
    "#wage2 = pd.get_dummies(wage2,columns=['marital_race']) # if you want to create the dummies separate\n",
    "m8 = \n",
    "#view the results using a stargazer table\n",
    "\n",
    "st=Stargazer([])\n",
    "st.covariate_order([________, ______, _______, ________, _______, \n",
    "                    _________, _________, __________, _______________,\n",
    "                    ______________,_________________,________________])\n",
    "from IPython.core.display import HTML\n",
    "HTML()\n"
   ]
  },
  {
   "cell_type": "markdown",
   "metadata": {},
   "source": [
    "\n",
    "\n",
    "<br>\n",
    "\n",
    "**Notice that**\n",
    " \n",
    "$\\beta_{married}+\\beta_{black}+\\beta_{married\\&black} =$ *Effect of being married and black vs single and non-black.*\n",
    "\n",
    "0.189+ -0.241+ 0.061 = 0.009 Same number for 𝛽𝑚𝑎𝑟𝑟𝑖𝑒𝑑&𝑏𝑙𝑎𝑐𝑘 "
   ]
  },
  {
   "cell_type": "markdown",
   "metadata": {},
   "source": [
    "<style>\n",
    "div.gray { background-color:#dbdbdb; border-radius: 5px; padding: 20px;}\n",
    "</style>\n",
    "<div class = \"gray\">\n",
    "\n",
    "**Packages used in this document**\n",
    "\n",
    "`wooldridge`\n",
    "`matplot.lib`\n",
    "`pandas`\n",
    "`numpy` \n",
    "`seaborn`\n",
    "    \n",
    "\n",
    "</div>"
   ]
  },
  {
   "cell_type": "markdown",
   "metadata": {},
   "source": [
    "&nbsp;\n",
    "<hr />\n",
    "<p style=\"font-family:palatino; text-align: center;font-size: 15px\">ECON220 Python Programming Laboratory</a></p>\n",
    "<p style=\"font-family:palatino; text-align: center;font-size: 15px\">Professor <em> Paloma Lopez de mesa Moyano</em></a></p>\n",
    "<p style=\"font-family:palatino; text-align: center;font-size: 15px\"><span style=\"color: #6666FF;\"><em>paloma.moyano@emory.edu</em></span></p>\n",
    "\n",
    "<p style=\"font-family:palatino; text-align: center;font-size: 15px\">Department of Economics</a></p>\n",
    "<p style=\"font-family:palatino; text-align: center; color: #012169;font-size: 15px\">Emory University</a></p>\n",
    "\n",
    "&nbsp;"
   ]
  },
  {
   "cell_type": "code",
   "execution_count": null,
   "metadata": {},
   "outputs": [],
   "source": [
    "!jupyter nbconvert --to html Econ220Lab_Assign5_QualitativeVars.ipynb"
   ]
  }
 ],
 "metadata": {
  "kernelspec": {
   "display_name": "Python 3 (ipykernel)",
   "language": "python",
   "name": "python3"
  },
  "language_info": {
   "codemirror_mode": {
    "name": "ipython",
    "version": 3
   },
   "file_extension": ".py",
   "mimetype": "text/x-python",
   "name": "python",
   "nbconvert_exporter": "python",
   "pygments_lexer": "ipython3",
   "version": "3.9.7"
  },
  "varInspector": {
   "cols": {
    "lenName": 16,
    "lenType": 16,
    "lenVar": 40
   },
   "kernels_config": {
    "python": {
     "delete_cmd_postfix": "",
     "delete_cmd_prefix": "del ",
     "library": "var_list.py",
     "varRefreshCmd": "print(var_dic_list())"
    },
    "r": {
     "delete_cmd_postfix": ") ",
     "delete_cmd_prefix": "rm(",
     "library": "var_list.r",
     "varRefreshCmd": "cat(var_dic_list()) "
    }
   },
   "types_to_exclude": [
    "module",
    "function",
    "builtin_function_or_method",
    "instance",
    "_Feature"
   ],
   "window_display": false
  }
 },
 "nbformat": 4,
 "nbformat_minor": 4
}
