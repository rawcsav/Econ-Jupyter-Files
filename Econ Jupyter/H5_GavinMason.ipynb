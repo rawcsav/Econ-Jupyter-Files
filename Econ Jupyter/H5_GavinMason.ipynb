{
 "cells": [
  {
   "cell_type": "markdown",
   "metadata": {
    "deletable": false,
    "editable": false,
    "nbgrader": {
     "cell_type": "markdown",
     "checksum": "cc9c746c5bd32c5bfc985519481b6e54",
     "grade": false,
     "grade_id": "cell-1ac43b39fd95a4bc",
     "locked": true,
     "schema_version": 3,
     "solution": false,
     "task": false
    }
   },
   "source": [
    "<h1 style=\"text-align: center; color: purple;\" markdown=\"1\">Econ220 Python Lab: Pandas Data \n",
    "Manipulation</h1>\n",
    "<h2 style=\"text-align: center; color: #012169\" markdown=\"1\">Handout #5</h2>"
   ]
  },
  {
   "cell_type": "markdown",
   "metadata": {
    "deletable": false,
    "editable": false,
    "nbgrader": {
     "cell_type": "markdown",
     "checksum": "39940018bdf16b0ce199f163117daaf9",
     "grade": false,
     "grade_id": "cell-da45806ed339de2b",
     "locked": true,
     "schema_version": 3,
     "solution": false,
     "task": false
    }
   },
   "source": [
    "### Table of Contents\n",
    "* [Pandas for Data Manipulation](#anchor1)\n",
    "    * [The Package Set Up](#anchor2)\n",
    "* [Data Manipulation with Pandas](#anchor3)\n",
    "    * [pandas functions pd.](#anchor4) \n",
    "    * [Using `[ ]` to Select Observations](#anchor5)\n",
    "    * [Your Turn!](#practice)\n",
    "    * [Using `.sort_values()` to Order Observations](#anchor6)\n",
    "    * [Using `.agg()` for Summary Statistics](#anchor7)\n",
    "    * [Finding Statistics by Group using `.groupby()`](#anchor8)\n",
    "    * [In Class Exercise](#anchor9)\n",
    "\n",
    "\n"
   ]
  },
  {
   "cell_type": "markdown",
   "metadata": {
    "deletable": false,
    "editable": false,
    "nbgrader": {
     "cell_type": "markdown",
     "checksum": "42cd4ee2efeea163319e296c8605d309",
     "grade": false,
     "grade_id": "cell-5e2cb6af4d97ce29",
     "locked": true,
     "schema_version": 3,
     "solution": false,
     "task": false
    }
   },
   "source": [
    "# Pandas for Data Manipulation <a class = anchor id = anchor1 ></a>\n",
    "\n",
    "\n",
    "#### The Package Set Up<a class = anchor id = anchor2 ></a>"
   ]
  },
  {
   "cell_type": "code",
   "execution_count": 58,
   "metadata": {},
   "outputs": [
    {
     "name": "stdout",
     "output_type": "stream",
     "text": [
      "/Users/gavinmason\n"
     ]
    }
   ],
   "source": [
    "# (Student)import package os to find the path of your working directory\n",
    "import os\n",
    "path = os.getcwd()\n",
    "print(path)\n",
    "# (Student)clarify if necessary why the path doesn't have your name in it \n",
    "\n",
    "# Import other necesarry packages \n",
    "import numpy as np\n",
    "import pandas as pd\n"
   ]
  },
  {
   "cell_type": "markdown",
   "metadata": {
    "deletable": false,
    "editable": false,
    "nbgrader": {
     "cell_type": "markdown",
     "checksum": "8e6d51fcaafe9fc19d794fceb5bc80e8",
     "grade": false,
     "grade_id": "cell-f28f73d7a9e519d3",
     "locked": true,
     "schema_version": 3,
     "solution": false,
     "task": false
    }
   },
   "source": [
    "In this handout we will simply load a fun data set about baby names. The file is on CSV, let's load (import) it into python and inspect the data by using some methods from pandas. \n",
    "* `.head()` provides the first 5 observations by default\n",
    "* `.info()` provides the structure of the data\n",
    "* `.describe()`a summary of each variable in the data set showing the main descriptive statistics\n"
   ]
  },
  {
   "cell_type": "code",
   "execution_count": 59,
   "metadata": {
    "deletable": false,
    "nbgrader": {
     "cell_type": "code",
     "checksum": "79a8397c03d051ba09ca68dd0f5bab88",
     "grade": false,
     "grade_id": "cell-46ecd0452cb129dc",
     "locked": false,
     "schema_version": 3,
     "solution": true,
     "task": false
    }
   },
   "outputs": [],
   "source": [
    "# Read CSV file into a DataFrame\n",
    "babynames = pd.read_csv('https://www.alexandramanta.info/media/econ220_labs/' + 'NationalNames.csv')"
   ]
  },
  {
   "cell_type": "code",
   "execution_count": 60,
   "metadata": {
    "deletable": false,
    "editable": false,
    "nbgrader": {
     "cell_type": "code",
     "checksum": "076c087af375fdda0d7bcab5563b04e4",
     "grade": true,
     "grade_id": "cell-e04bee8e180ff8e8",
     "locked": true,
     "points": 2,
     "schema_version": 3,
     "solution": false,
     "task": false
    }
   },
   "outputs": [],
   "source": [
    "# Autograder cell -do not delete it"
   ]
  },
  {
   "cell_type": "code",
   "execution_count": 61,
   "metadata": {
    "deletable": false,
    "nbgrader": {
     "cell_type": "code",
     "checksum": "d8796fd725746b785a9d244352fb8357",
     "grade": false,
     "grade_id": "cell-33f9c152c2f83b63",
     "locked": false,
     "schema_version": 3,
     "solution": true,
     "task": false
    }
   },
   "outputs": [
    {
     "data": {
      "text/html": [
       "<div>\n",
       "<style scoped>\n",
       "    .dataframe tbody tr th:only-of-type {\n",
       "        vertical-align: middle;\n",
       "    }\n",
       "\n",
       "    .dataframe tbody tr th {\n",
       "        vertical-align: top;\n",
       "    }\n",
       "\n",
       "    .dataframe thead th {\n",
       "        text-align: right;\n",
       "    }\n",
       "</style>\n",
       "<table border=\"1\" class=\"dataframe\">\n",
       "  <thead>\n",
       "    <tr style=\"text-align: right;\">\n",
       "      <th></th>\n",
       "      <th>Name</th>\n",
       "      <th>Year</th>\n",
       "      <th>Gender</th>\n",
       "      <th>Count</th>\n",
       "    </tr>\n",
       "  </thead>\n",
       "  <tbody>\n",
       "    <tr>\n",
       "      <th>0</th>\n",
       "      <td>Mary</td>\n",
       "      <td>1880</td>\n",
       "      <td>F</td>\n",
       "      <td>7065</td>\n",
       "    </tr>\n",
       "    <tr>\n",
       "      <th>1</th>\n",
       "      <td>Anna</td>\n",
       "      <td>1880</td>\n",
       "      <td>F</td>\n",
       "      <td>2604</td>\n",
       "    </tr>\n",
       "    <tr>\n",
       "      <th>2</th>\n",
       "      <td>Emma</td>\n",
       "      <td>1880</td>\n",
       "      <td>F</td>\n",
       "      <td>2003</td>\n",
       "    </tr>\n",
       "    <tr>\n",
       "      <th>3</th>\n",
       "      <td>Elizabeth</td>\n",
       "      <td>1880</td>\n",
       "      <td>F</td>\n",
       "      <td>1939</td>\n",
       "    </tr>\n",
       "    <tr>\n",
       "      <th>4</th>\n",
       "      <td>Minnie</td>\n",
       "      <td>1880</td>\n",
       "      <td>F</td>\n",
       "      <td>1746</td>\n",
       "    </tr>\n",
       "  </tbody>\n",
       "</table>\n",
       "</div>"
      ],
      "text/plain": [
       "        Name  Year Gender  Count\n",
       "0       Mary  1880      F   7065\n",
       "1       Anna  1880      F   2604\n",
       "2       Emma  1880      F   2003\n",
       "3  Elizabeth  1880      F   1939\n",
       "4     Minnie  1880      F   1746"
      ]
     },
     "execution_count": 61,
     "metadata": {},
     "output_type": "execute_result"
    }
   ],
   "source": [
    "# the file has a variable called Id that we do not need I will use the function del to get rid of it in the dataframe\n",
    "del babynames[\"Id\"]\n",
    "babynames.head()"
   ]
  },
  {
   "cell_type": "code",
   "execution_count": 62,
   "metadata": {
    "deletable": false,
    "editable": false,
    "nbgrader": {
     "cell_type": "code",
     "checksum": "552c2b0909fa976a6b1029ad18472822",
     "grade": true,
     "grade_id": "cell-137262fefb9e1e32",
     "locked": true,
     "points": 2,
     "schema_version": 3,
     "solution": false,
     "task": false
    }
   },
   "outputs": [],
   "source": [
    "# Autograder cell -do not delete it"
   ]
  },
  {
   "cell_type": "code",
   "execution_count": 63,
   "metadata": {},
   "outputs": [
    {
     "name": "stdout",
     "output_type": "stream",
     "text": [
      "<class 'pandas.core.frame.DataFrame'>\n",
      "RangeIndex: 1825433 entries, 0 to 1825432\n",
      "Data columns (total 4 columns):\n",
      " #   Column  Dtype \n",
      "---  ------  ----- \n",
      " 0   Name    object\n",
      " 1   Year    int64 \n",
      " 2   Gender  object\n",
      " 3   Count   int64 \n",
      "dtypes: int64(2), object(2)\n",
      "memory usage: 55.7+ MB\n"
     ]
    },
    {
     "data": {
      "text/html": [
       "<div>\n",
       "<style scoped>\n",
       "    .dataframe tbody tr th:only-of-type {\n",
       "        vertical-align: middle;\n",
       "    }\n",
       "\n",
       "    .dataframe tbody tr th {\n",
       "        vertical-align: top;\n",
       "    }\n",
       "\n",
       "    .dataframe thead th {\n",
       "        text-align: right;\n",
       "    }\n",
       "</style>\n",
       "<table border=\"1\" class=\"dataframe\">\n",
       "  <thead>\n",
       "    <tr style=\"text-align: right;\">\n",
       "      <th></th>\n",
       "      <th>Year</th>\n",
       "      <th>Count</th>\n",
       "    </tr>\n",
       "  </thead>\n",
       "  <tbody>\n",
       "    <tr>\n",
       "      <th>count</th>\n",
       "      <td>1825433.00000</td>\n",
       "      <td>1825433.00000</td>\n",
       "    </tr>\n",
       "    <tr>\n",
       "      <th>mean</th>\n",
       "      <td>1972.61978</td>\n",
       "      <td>184.68792</td>\n",
       "    </tr>\n",
       "    <tr>\n",
       "      <th>std</th>\n",
       "      <td>33.52891</td>\n",
       "      <td>1566.71098</td>\n",
       "    </tr>\n",
       "    <tr>\n",
       "      <th>min</th>\n",
       "      <td>1880.00000</td>\n",
       "      <td>5.00000</td>\n",
       "    </tr>\n",
       "    <tr>\n",
       "      <th>25%</th>\n",
       "      <td>1949.00000</td>\n",
       "      <td>7.00000</td>\n",
       "    </tr>\n",
       "    <tr>\n",
       "      <th>50%</th>\n",
       "      <td>1982.00000</td>\n",
       "      <td>12.00000</td>\n",
       "    </tr>\n",
       "    <tr>\n",
       "      <th>75%</th>\n",
       "      <td>2001.00000</td>\n",
       "      <td>32.00000</td>\n",
       "    </tr>\n",
       "    <tr>\n",
       "      <th>max</th>\n",
       "      <td>2014.00000</td>\n",
       "      <td>99680.00000</td>\n",
       "    </tr>\n",
       "  </tbody>\n",
       "</table>\n",
       "</div>"
      ],
      "text/plain": [
       "               Year         Count\n",
       "count 1825433.00000 1825433.00000\n",
       "mean     1972.61978     184.68792\n",
       "std        33.52891    1566.71098\n",
       "min      1880.00000       5.00000\n",
       "25%      1949.00000       7.00000\n",
       "50%      1982.00000      12.00000\n",
       "75%      2001.00000      32.00000\n",
       "max      2014.00000   99680.00000"
      ]
     },
     "execution_count": 63,
     "metadata": {},
     "output_type": "execute_result"
    }
   ],
   "source": [
    "# . info() provides the structure of the data\n",
    "babynames.info()\n",
    "# . describe() provides you with a good summary of each variable in the data set showing the main descriptive statistics\n",
    "babynames.describe()"
   ]
  },
  {
   "cell_type": "markdown",
   "metadata": {
    "deletable": false,
    "editable": false,
    "nbgrader": {
     "cell_type": "markdown",
     "checksum": "a155e2b6dbb1cdc48c0c0aedafe8b6da",
     "grade": false,
     "grade_id": "cell-8c63d187e9a2a712",
     "locked": true,
     "schema_version": 3,
     "solution": false,
     "task": false
    }
   },
   "source": [
    "The data we loaded is from the babynames dataset which contains information about the number of children (of either sex) who were given a certain name from 1880 to 2015. All names used 5 or more times are included. As you can see from the summary, the data set contains five variables: year, sex, name, n the number of times the name was used, prop de proportion of times the name was used.  \n",
    "\n",
    "# Data Manipulation with `Pandas` <a class = anchor id = anchor3 ></a>\n",
    "\n",
    "## `pandas` methods `pd.` <a class = anchor id = anchor4 ></a>\n",
    "\n",
    "First, in this class I might use the word method and function interchangeable. A method is a function that belongs to and object. It is ussually writen as **`object.method()`**\n",
    "\n",
    "Let **df** be the name of a given data frame ( in this handout we will later replace df by babynames)\n",
    "\n",
    "function |  Purpose\n",
    "-----------|--------\n",
    "df[df[\"column_name\"] + comparision sign +  criteria]  | Select rows based on criteria\n",
    " df.sort_values()  | order rows\n",
    " df[ [column_name] ]  | choose columns\n",
    " df.drop_duplicates() | unique values of column(s)\n",
    " df [\"new_column\"] = criteria | Create new columns\n",
    " df.agg()  | Find a summary statistic\n",
    " df.sample( n ) | Take a random sample of size n\n",
    " df.groupby() | Creates groups based on the values or categories of a variable\n"
   ]
  },
  {
   "cell_type": "markdown",
   "metadata": {
    "deletable": false,
    "editable": false,
    "nbgrader": {
     "cell_type": "markdown",
     "checksum": "31f7f90940ef2791f71f241b424e2479",
     "grade": false,
     "grade_id": "cell-cdcfa6699c5e2ccc",
     "locked": true,
     "schema_version": 3,
     "solution": false,
     "task": false
    }
   },
   "source": [
    "# Filtering observations \n",
    "\n",
    "Remember that the observations are represented by the rows. Filtering the observations means that you will make a selection of a set of observations or rows according to a criteria. This is like taking a horizontal slice of your data. \n",
    "\n",
    "See code below\n",
    "\n",
    ">`df[expression]` for example `df[ df['var'] == value & df['var'] == value ]\n",
    "\n",
    "**Filter by gender and year**"
   ]
  },
  {
   "cell_type": "code",
   "execution_count": 64,
   "metadata": {},
   "outputs": [
    {
     "data": {
      "text/html": [
       "<div>\n",
       "<style scoped>\n",
       "    .dataframe tbody tr th:only-of-type {\n",
       "        vertical-align: middle;\n",
       "    }\n",
       "\n",
       "    .dataframe tbody tr th {\n",
       "        vertical-align: top;\n",
       "    }\n",
       "\n",
       "    .dataframe thead th {\n",
       "        text-align: right;\n",
       "    }\n",
       "</style>\n",
       "<table border=\"1\" class=\"dataframe\">\n",
       "  <thead>\n",
       "    <tr style=\"text-align: right;\">\n",
       "      <th></th>\n",
       "      <th>index</th>\n",
       "      <th>Name</th>\n",
       "      <th>Year</th>\n",
       "      <th>Gender</th>\n",
       "      <th>Count</th>\n",
       "    </tr>\n",
       "  </thead>\n",
       "  <tbody>\n",
       "    <tr>\n",
       "      <th>0</th>\n",
       "      <td>1249138</td>\n",
       "      <td>Emily</td>\n",
       "      <td>1997</td>\n",
       "      <td>F</td>\n",
       "      <td>25731</td>\n",
       "    </tr>\n",
       "    <tr>\n",
       "      <th>1</th>\n",
       "      <td>1249139</td>\n",
       "      <td>Jessica</td>\n",
       "      <td>1997</td>\n",
       "      <td>F</td>\n",
       "      <td>21043</td>\n",
       "    </tr>\n",
       "    <tr>\n",
       "      <th>2</th>\n",
       "      <td>1249140</td>\n",
       "      <td>Ashley</td>\n",
       "      <td>1997</td>\n",
       "      <td>F</td>\n",
       "      <td>20894</td>\n",
       "    </tr>\n",
       "    <tr>\n",
       "      <th>3</th>\n",
       "      <td>1249141</td>\n",
       "      <td>Sarah</td>\n",
       "      <td>1997</td>\n",
       "      <td>F</td>\n",
       "      <td>20690</td>\n",
       "    </tr>\n",
       "    <tr>\n",
       "      <th>4</th>\n",
       "      <td>1249142</td>\n",
       "      <td>Hannah</td>\n",
       "      <td>1997</td>\n",
       "      <td>F</td>\n",
       "      <td>20586</td>\n",
       "    </tr>\n",
       "    <tr>\n",
       "      <th>5</th>\n",
       "      <td>1249143</td>\n",
       "      <td>Samantha</td>\n",
       "      <td>1997</td>\n",
       "      <td>F</td>\n",
       "      <td>20169</td>\n",
       "    </tr>\n",
       "    <tr>\n",
       "      <th>6</th>\n",
       "      <td>1249144</td>\n",
       "      <td>Taylor</td>\n",
       "      <td>1997</td>\n",
       "      <td>F</td>\n",
       "      <td>19503</td>\n",
       "    </tr>\n",
       "    <tr>\n",
       "      <th>7</th>\n",
       "      <td>1249145</td>\n",
       "      <td>Alexis</td>\n",
       "      <td>1997</td>\n",
       "      <td>F</td>\n",
       "      <td>17172</td>\n",
       "    </tr>\n",
       "    <tr>\n",
       "      <th>8</th>\n",
       "      <td>1249146</td>\n",
       "      <td>Elizabeth</td>\n",
       "      <td>1997</td>\n",
       "      <td>F</td>\n",
       "      <td>15411</td>\n",
       "    </tr>\n",
       "    <tr>\n",
       "      <th>9</th>\n",
       "      <td>1249147</td>\n",
       "      <td>Madison</td>\n",
       "      <td>1997</td>\n",
       "      <td>F</td>\n",
       "      <td>15187</td>\n",
       "    </tr>\n",
       "  </tbody>\n",
       "</table>\n",
       "</div>"
      ],
      "text/plain": [
       "     index       Name  Year Gender  Count\n",
       "0  1249138      Emily  1997      F  25731\n",
       "1  1249139    Jessica  1997      F  21043\n",
       "2  1249140     Ashley  1997      F  20894\n",
       "3  1249141      Sarah  1997      F  20690\n",
       "4  1249142     Hannah  1997      F  20586\n",
       "5  1249143   Samantha  1997      F  20169\n",
       "6  1249144     Taylor  1997      F  19503\n",
       "7  1249145     Alexis  1997      F  17172\n",
       "8  1249146  Elizabeth  1997      F  15411\n",
       "9  1249147    Madison  1997      F  15187"
      ]
     },
     "execution_count": 64,
     "metadata": {},
     "output_type": "execute_result"
    }
   ],
   "source": [
    "# We want to restrict the rows to those of female names in the year 1997 and show the first 10 observations\n",
    "# Follow by.head() so that we can show how the data looks and we .reset_index() so it just shows an index from 0 to 10 \n",
    "babynames[(babynames[\"Gender\"]==\"F\")&(babynames[\"Year\"]==1997)].head(10).reset_index()"
   ]
  },
  {
   "cell_type": "markdown",
   "metadata": {},
   "source": [
    "Roughly translates to: Take the babynames dataset **then** keep only those observations that are female names and in 1997 **then** show the first 10 observations of that data set. If you execute this code, the output, shown above, will be the first 10 observations of a dataset that includes only female names given in born in 1997.\n",
    " \n",
    "### Using `[ ]` to Filter Observations <a class = anchor id = anchor5 ></a>\n",
    "\n",
    "Let's practice what you learned. \n",
    "* Create a new dataset (object) with just boys, name it just_boys. \n",
    "* Create a dataset with the names given to babies since 1995\n",
    "* Create a dataset of just girls born between 1999 and 2005, name this dataset girls99_05\n",
    "\n"
   ]
  },
  {
   "cell_type": "code",
   "execution_count": 65,
   "metadata": {
    "deletable": false,
    "nbgrader": {
     "cell_type": "code",
     "checksum": "0f6d40f054882c50c53c78f37baa197b",
     "grade": false,
     "grade_id": "cell-6faeb8e3f493a816",
     "locked": false,
     "schema_version": 3,
     "solution": true,
     "task": false
    }
   },
   "outputs": [
    {
     "name": "stdout",
     "output_type": "stream",
     "text": [
      "0    False\n",
      "1    False\n",
      "2    False\n",
      "Name: Gender, dtype: bool\n"
     ]
    }
   ],
   "source": [
    "# one object \n",
    "# create the boolean expression first \n",
    "# A boolean expression returns true or false \n",
    "is_male = babynames[\"Gender\"]==\"M\"\n",
    "print(is_male.head(3))"
   ]
  },
  {
   "cell_type": "code",
   "execution_count": 66,
   "metadata": {
    "deletable": false,
    "editable": false,
    "nbgrader": {
     "cell_type": "code",
     "checksum": "f99d0377d3de6ff3e083f7e063d2ea73",
     "grade": true,
     "grade_id": "cell-d38438aace278b74",
     "locked": true,
     "points": 2,
     "schema_version": 3,
     "solution": false,
     "task": false
    }
   },
   "outputs": [],
   "source": [
    "# Autograder cell -do not delete it"
   ]
  },
  {
   "cell_type": "code",
   "execution_count": 67,
   "metadata": {
    "deletable": false,
    "nbgrader": {
     "cell_type": "code",
     "checksum": "4a95182013b2a4a12a922b07f359410f",
     "grade": false,
     "grade_id": "cell-e0323a6275ef2bf1",
     "locked": false,
     "schema_version": 3,
     "solution": true,
     "task": false
    }
   },
   "outputs": [],
   "source": [
    "#Subsetting/filtering dataframe\n",
    "# Using the boolean expression\n",
    "just_boys = babynames[is_male]\n",
    "\n",
    "# The boolean expression directly inside df[] to filter\n",
    "just_boys = babynames[(babynames[\"Gender\"]==\"M\")]\n",
    "just_boys = babynames[(babynames[\"Gender\"]!=\"F\")]"
   ]
  },
  {
   "cell_type": "code",
   "execution_count": 68,
   "metadata": {
    "deletable": false,
    "editable": false,
    "nbgrader": {
     "cell_type": "code",
     "checksum": "4d184bec374686a5a2e2563ddcc965ee",
     "grade": true,
     "grade_id": "cell-bf67589df687a0be",
     "locked": true,
     "points": 2,
     "schema_version": 3,
     "solution": false,
     "task": false
    }
   },
   "outputs": [],
   "source": [
    "# Autograder cell -do not delete it"
   ]
  },
  {
   "cell_type": "code",
   "execution_count": 69,
   "metadata": {
    "deletable": false,
    "nbgrader": {
     "cell_type": "code",
     "checksum": "ea4bdb1e62fbaa61ea5c643cbef31eb2",
     "grade": false,
     "grade_id": "cell-c70487591c914d27",
     "locked": false,
     "schema_version": 3,
     "solution": true,
     "task": false
    }
   },
   "outputs": [
    {
     "data": {
      "text/html": [
       "<div>\n",
       "<style scoped>\n",
       "    .dataframe tbody tr th:only-of-type {\n",
       "        vertical-align: middle;\n",
       "    }\n",
       "\n",
       "    .dataframe tbody tr th {\n",
       "        vertical-align: top;\n",
       "    }\n",
       "\n",
       "    .dataframe thead th {\n",
       "        text-align: right;\n",
       "    }\n",
       "</style>\n",
       "<table border=\"1\" class=\"dataframe\">\n",
       "  <thead>\n",
       "    <tr style=\"text-align: right;\">\n",
       "      <th></th>\n",
       "      <th>index</th>\n",
       "      <th>Name</th>\n",
       "      <th>Year</th>\n",
       "      <th>Gender</th>\n",
       "      <th>Count</th>\n",
       "    </tr>\n",
       "  </thead>\n",
       "  <tbody>\n",
       "    <tr>\n",
       "      <th>0</th>\n",
       "      <td>1303994</td>\n",
       "      <td>Emily</td>\n",
       "      <td>1999</td>\n",
       "      <td>F</td>\n",
       "      <td>26537</td>\n",
       "    </tr>\n",
       "    <tr>\n",
       "      <th>1</th>\n",
       "      <td>1303995</td>\n",
       "      <td>Hannah</td>\n",
       "      <td>1999</td>\n",
       "      <td>F</td>\n",
       "      <td>21667</td>\n",
       "    </tr>\n",
       "    <tr>\n",
       "      <th>2</th>\n",
       "      <td>1303996</td>\n",
       "      <td>Alexis</td>\n",
       "      <td>1999</td>\n",
       "      <td>F</td>\n",
       "      <td>19232</td>\n",
       "    </tr>\n",
       "    <tr>\n",
       "      <th>3</th>\n",
       "      <td>1303997</td>\n",
       "      <td>Sarah</td>\n",
       "      <td>1999</td>\n",
       "      <td>F</td>\n",
       "      <td>19084</td>\n",
       "    </tr>\n",
       "    <tr>\n",
       "      <th>4</th>\n",
       "      <td>1303998</td>\n",
       "      <td>Samantha</td>\n",
       "      <td>1999</td>\n",
       "      <td>F</td>\n",
       "      <td>19033</td>\n",
       "    </tr>\n",
       "    <tr>\n",
       "      <th>5</th>\n",
       "      <td>1303999</td>\n",
       "      <td>Ashley</td>\n",
       "      <td>1999</td>\n",
       "      <td>F</td>\n",
       "      <td>18131</td>\n",
       "    </tr>\n",
       "  </tbody>\n",
       "</table>\n",
       "</div>"
      ],
      "text/plain": [
       "     index      Name  Year Gender  Count\n",
       "0  1303994     Emily  1999      F  26537\n",
       "1  1303995    Hannah  1999      F  21667\n",
       "2  1303996    Alexis  1999      F  19232\n",
       "3  1303997     Sarah  1999      F  19084\n",
       "4  1303998  Samantha  1999      F  19033\n",
       "5  1303999    Ashley  1999      F  18131"
      ]
     },
     "execution_count": 69,
     "metadata": {},
     "output_type": "execute_result"
    }
   ],
   "source": [
    "# Many expressions in one \n",
    "after_1995 = babynames[(babynames[\"Year\"]>=1995)]\n",
    "girls99_05 = babynames[(babynames[\"Gender\"]==\"F\") & (babynames[\"Year\"]>=1999) & (babynames[\"Year\"]<=2005)]\n",
    "girls99_05.head(6).reset_index() # looks at the first 6 rows "
   ]
  },
  {
   "cell_type": "code",
   "execution_count": 70,
   "metadata": {
    "deletable": false,
    "editable": false,
    "nbgrader": {
     "cell_type": "code",
     "checksum": "016687e38b269f2d2170f81cc56aa0fc",
     "grade": true,
     "grade_id": "cell-853ace5304b1e2fe",
     "locked": true,
     "points": 4,
     "schema_version": 3,
     "solution": false,
     "task": false
    }
   },
   "outputs": [],
   "source": [
    "# Autograder cell -do not delete it"
   ]
  },
  {
   "cell_type": "markdown",
   "metadata": {
    "deletable": false,
    "editable": false,
    "nbgrader": {
     "cell_type": "markdown",
     "checksum": "f8a6f79e3af13b7273ec23f61daa49dd",
     "grade": false,
     "grade_id": "cell-73e97cb8066fe151",
     "locked": true,
     "schema_version": 3,
     "solution": false,
     "task": false
    }
   },
   "source": [
    "### Using `.sort_values()` to Order Observations <a class = anchor id = anchor6 ></a>\n",
    "\n",
    "You can order the observations by columns, lets check "
   ]
  },
  {
   "cell_type": "code",
   "execution_count": 71,
   "metadata": {
    "deletable": false,
    "nbgrader": {
     "cell_type": "code",
     "checksum": "ba2307ba3d34fb80726342b7cb6cf4d6",
     "grade": false,
     "grade_id": "cell-5833b02b61d4de0f",
     "locked": false,
     "schema_version": 3,
     "solution": true,
     "task": false
    }
   },
   "outputs": [
    {
     "name": "stdout",
     "output_type": "stream",
     "text": [
      "        Name  Year Gender  Count\n",
      "942     John  1880      M   9655\n",
      "943  William  1880      M   9532\n",
      "0       Mary  1880      F   7065\n"
     ]
    },
    {
     "data": {
      "text/html": [
       "<div>\n",
       "<style scoped>\n",
       "    .dataframe tbody tr th:only-of-type {\n",
       "        vertical-align: middle;\n",
       "    }\n",
       "\n",
       "    .dataframe tbody tr th {\n",
       "        vertical-align: top;\n",
       "    }\n",
       "\n",
       "    .dataframe thead th {\n",
       "        text-align: right;\n",
       "    }\n",
       "</style>\n",
       "<table border=\"1\" class=\"dataframe\">\n",
       "  <thead>\n",
       "    <tr style=\"text-align: right;\">\n",
       "      <th></th>\n",
       "      <th>Name</th>\n",
       "      <th>Year</th>\n",
       "      <th>Gender</th>\n",
       "      <th>Count</th>\n",
       "    </tr>\n",
       "  </thead>\n",
       "  <tbody>\n",
       "    <tr>\n",
       "      <th>1825430</th>\n",
       "      <td>Zymiere</td>\n",
       "      <td>2014</td>\n",
       "      <td>M</td>\n",
       "      <td>5</td>\n",
       "    </tr>\n",
       "    <tr>\n",
       "      <th>1825431</th>\n",
       "      <td>Zyran</td>\n",
       "      <td>2014</td>\n",
       "      <td>M</td>\n",
       "      <td>5</td>\n",
       "    </tr>\n",
       "    <tr>\n",
       "      <th>1825432</th>\n",
       "      <td>Zyrin</td>\n",
       "      <td>2014</td>\n",
       "      <td>M</td>\n",
       "      <td>5</td>\n",
       "    </tr>\n",
       "  </tbody>\n",
       "</table>\n",
       "</div>"
      ],
      "text/plain": [
       "            Name  Year Gender  Count\n",
       "1825430  Zymiere  2014      M      5\n",
       "1825431    Zyran  2014      M      5\n",
       "1825432    Zyrin  2014      M      5"
      ]
     },
     "execution_count": 71,
     "metadata": {},
     "output_type": "execute_result"
    }
   ],
   "source": [
    "#Sort names by year in descending order \n",
    "bsorted1 = babynames.sort_values([\"Year\", \"Count\"], ascending=(True, False))\n",
    "print(bsorted1.head(3))\n",
    "bsorted1.tail(3)\n",
    "#include tail and also sorting by a couple of bvarianl "
   ]
  },
  {
   "cell_type": "code",
   "execution_count": 72,
   "metadata": {
    "deletable": false,
    "editable": false,
    "nbgrader": {
     "cell_type": "code",
     "checksum": "4a1edb276d0bf617e45cf4dafb79c6c5",
     "grade": true,
     "grade_id": "cell-97013af2de26533a",
     "locked": true,
     "points": 2,
     "schema_version": 3,
     "solution": false,
     "task": false
    }
   },
   "outputs": [],
   "source": [
    "# Autograder cell -do not delete it"
   ]
  },
  {
   "cell_type": "markdown",
   "metadata": {
    "deletable": false,
    "editable": false,
    "nbgrader": {
     "cell_type": "markdown",
     "checksum": "f6c5532a2ee93eef9831616f5be93459",
     "grade": false,
     "grade_id": "cell-c53b24b831db6e39",
     "locked": true,
     "schema_version": 3,
     "solution": false,
     "task": false
    }
   },
   "source": [
    "### Your turn: Filter and nlargest. <a class = anchor id = practice ></a>\n",
    "Find the 6 most popular names for your gender in the year you where born. Below are two ways of doing it,\n",
    "\n",
    "* `sort_values()`\n",
    "* `nlargest(n, 'varname', keep='all')`"
   ]
  },
  {
   "cell_type": "code",
   "execution_count": 73,
   "metadata": {},
   "outputs": [
    {
     "data": {
      "text/html": [
       "<div>\n",
       "<style scoped>\n",
       "    .dataframe tbody tr th:only-of-type {\n",
       "        vertical-align: middle;\n",
       "    }\n",
       "\n",
       "    .dataframe tbody tr th {\n",
       "        vertical-align: top;\n",
       "    }\n",
       "\n",
       "    .dataframe thead th {\n",
       "        text-align: right;\n",
       "    }\n",
       "</style>\n",
       "<table border=\"1\" class=\"dataframe\">\n",
       "  <thead>\n",
       "    <tr style=\"text-align: right;\">\n",
       "      <th></th>\n",
       "      <th>Name</th>\n",
       "      <th>Year</th>\n",
       "      <th>Gender</th>\n",
       "      <th>Count</th>\n",
       "    </tr>\n",
       "  </thead>\n",
       "  <tbody>\n",
       "    <tr>\n",
       "      <th>1320932</th>\n",
       "      <td>Jacob</td>\n",
       "      <td>1999</td>\n",
       "      <td>M</td>\n",
       "      <td>35344</td>\n",
       "    </tr>\n",
       "    <tr>\n",
       "      <th>1320933</th>\n",
       "      <td>Michael</td>\n",
       "      <td>1999</td>\n",
       "      <td>M</td>\n",
       "      <td>33905</td>\n",
       "    </tr>\n",
       "    <tr>\n",
       "      <th>1320934</th>\n",
       "      <td>Matthew</td>\n",
       "      <td>1999</td>\n",
       "      <td>M</td>\n",
       "      <td>30414</td>\n",
       "    </tr>\n",
       "    <tr>\n",
       "      <th>1320935</th>\n",
       "      <td>Joshua</td>\n",
       "      <td>1999</td>\n",
       "      <td>M</td>\n",
       "      <td>27251</td>\n",
       "    </tr>\n",
       "    <tr>\n",
       "      <th>1320936</th>\n",
       "      <td>Nicholas</td>\n",
       "      <td>1999</td>\n",
       "      <td>M</td>\n",
       "      <td>25635</td>\n",
       "    </tr>\n",
       "    <tr>\n",
       "      <th>1320937</th>\n",
       "      <td>Christopher</td>\n",
       "      <td>1999</td>\n",
       "      <td>M</td>\n",
       "      <td>25601</td>\n",
       "    </tr>\n",
       "  </tbody>\n",
       "</table>\n",
       "</div>"
      ],
      "text/plain": [
       "                Name  Year Gender  Count\n",
       "1320932        Jacob  1999      M  35344\n",
       "1320933      Michael  1999      M  33905\n",
       "1320934      Matthew  1999      M  30414\n",
       "1320935       Joshua  1999      M  27251\n",
       "1320936     Nicholas  1999      M  25635\n",
       "1320937  Christopher  1999      M  25601"
      ]
     },
     "execution_count": 73,
     "metadata": {},
     "output_type": "execute_result"
    }
   ],
   "source": [
    " babynames[(babynames[\"Gender\"]==\"M\")&(babynames[\"Year\"]==1999)].sort_values([\"Count\"], ascending=[False]).head(6)"
   ]
  },
  {
   "cell_type": "code",
   "execution_count": 74,
   "metadata": {},
   "outputs": [
    {
     "data": {
      "text/html": [
       "<div>\n",
       "<style scoped>\n",
       "    .dataframe tbody tr th:only-of-type {\n",
       "        vertical-align: middle;\n",
       "    }\n",
       "\n",
       "    .dataframe tbody tr th {\n",
       "        vertical-align: top;\n",
       "    }\n",
       "\n",
       "    .dataframe thead th {\n",
       "        text-align: right;\n",
       "    }\n",
       "</style>\n",
       "<table border=\"1\" class=\"dataframe\">\n",
       "  <thead>\n",
       "    <tr style=\"text-align: right;\">\n",
       "      <th></th>\n",
       "      <th>Name</th>\n",
       "      <th>Year</th>\n",
       "      <th>Gender</th>\n",
       "      <th>Count</th>\n",
       "    </tr>\n",
       "  </thead>\n",
       "  <tbody>\n",
       "    <tr>\n",
       "      <th>1332538</th>\n",
       "      <td>Emily</td>\n",
       "      <td>2000</td>\n",
       "      <td>F</td>\n",
       "      <td>25952</td>\n",
       "    </tr>\n",
       "    <tr>\n",
       "      <th>1332539</th>\n",
       "      <td>Hannah</td>\n",
       "      <td>2000</td>\n",
       "      <td>F</td>\n",
       "      <td>23073</td>\n",
       "    </tr>\n",
       "    <tr>\n",
       "      <th>1332540</th>\n",
       "      <td>Madison</td>\n",
       "      <td>2000</td>\n",
       "      <td>F</td>\n",
       "      <td>19967</td>\n",
       "    </tr>\n",
       "    <tr>\n",
       "      <th>1332541</th>\n",
       "      <td>Ashley</td>\n",
       "      <td>2000</td>\n",
       "      <td>F</td>\n",
       "      <td>17995</td>\n",
       "    </tr>\n",
       "    <tr>\n",
       "      <th>1332542</th>\n",
       "      <td>Sarah</td>\n",
       "      <td>2000</td>\n",
       "      <td>F</td>\n",
       "      <td>17687</td>\n",
       "    </tr>\n",
       "    <tr>\n",
       "      <th>1332543</th>\n",
       "      <td>Alexis</td>\n",
       "      <td>2000</td>\n",
       "      <td>F</td>\n",
       "      <td>17627</td>\n",
       "    </tr>\n",
       "  </tbody>\n",
       "</table>\n",
       "</div>"
      ],
      "text/plain": [
       "            Name  Year Gender  Count\n",
       "1332538    Emily  2000      F  25952\n",
       "1332539   Hannah  2000      F  23073\n",
       "1332540  Madison  2000      F  19967\n",
       "1332541   Ashley  2000      F  17995\n",
       "1332542    Sarah  2000      F  17687\n",
       "1332543   Alexis  2000      F  17627"
      ]
     },
     "execution_count": 74,
     "metadata": {},
     "output_type": "execute_result"
    }
   ],
   "source": [
    " babynames[(babynames[\"Gender\"]==\"F\")&(babynames[\"Year\"]==2000)].nlargest(6,\"Count\",keep=\"all\")"
   ]
  },
  {
   "cell_type": "markdown",
   "metadata": {
    "deletable": false,
    "editable": false,
    "nbgrader": {
     "cell_type": "markdown",
     "checksum": "802d6656deb55c94f93e9083041a5677",
     "grade": false,
     "grade_id": "cell-2654d890cae602d2",
     "locked": true,
     "schema_version": 3,
     "solution": false,
     "task": false
    }
   },
   "source": [
    "### Other examples\n",
    "\n",
    "\n",
    "Suppose hypothetically you wanted to create a new variable called \"popular\" when the names where chosen more that 10 thousand times. To create a new dataset that included this variable\n",
    "\n",
    "`df['newvarname'] =  The expression or function that creates the new variable`"
   ]
  },
  {
   "cell_type": "code",
   "execution_count": 75,
   "metadata": {
    "deletable": false,
    "nbgrader": {
     "cell_type": "code",
     "checksum": "f424814bd4bf9be8e7668e2bc7230467",
     "grade": false,
     "grade_id": "cell-745c23d6eae9a6b4",
     "locked": false,
     "schema_version": 3,
     "solution": true,
     "task": false
    }
   },
   "outputs": [
    {
     "name": "stdout",
     "output_type": "stream",
     "text": [
      "<class 'pandas.core.frame.DataFrame'>\n",
      "RangeIndex: 1825433 entries, 0 to 1825432\n",
      "Data columns (total 5 columns):\n",
      " #   Column   Dtype \n",
      "---  ------   ----- \n",
      " 0   Name     object\n",
      " 1   Year     int64 \n",
      " 2   Gender   object\n",
      " 3   Count    int64 \n",
      " 4   popular  bool  \n",
      "dtypes: bool(1), int64(2), object(2)\n",
      "memory usage: 57.4+ MB\n"
     ]
    },
    {
     "data": {
      "text/html": [
       "<div>\n",
       "<style scoped>\n",
       "    .dataframe tbody tr th:only-of-type {\n",
       "        vertical-align: middle;\n",
       "    }\n",
       "\n",
       "    .dataframe tbody tr th {\n",
       "        vertical-align: top;\n",
       "    }\n",
       "\n",
       "    .dataframe thead th {\n",
       "        text-align: right;\n",
       "    }\n",
       "</style>\n",
       "<table border=\"1\" class=\"dataframe\">\n",
       "  <thead>\n",
       "    <tr style=\"text-align: right;\">\n",
       "      <th></th>\n",
       "      <th>Name</th>\n",
       "      <th>Year</th>\n",
       "      <th>Gender</th>\n",
       "      <th>Count</th>\n",
       "      <th>popular</th>\n",
       "    </tr>\n",
       "  </thead>\n",
       "  <tbody>\n",
       "    <tr>\n",
       "      <th>0</th>\n",
       "      <td>Mary</td>\n",
       "      <td>1880</td>\n",
       "      <td>F</td>\n",
       "      <td>7065</td>\n",
       "      <td>True</td>\n",
       "    </tr>\n",
       "    <tr>\n",
       "      <th>1</th>\n",
       "      <td>Anna</td>\n",
       "      <td>1880</td>\n",
       "      <td>F</td>\n",
       "      <td>2604</td>\n",
       "      <td>True</td>\n",
       "    </tr>\n",
       "    <tr>\n",
       "      <th>2</th>\n",
       "      <td>Emma</td>\n",
       "      <td>1880</td>\n",
       "      <td>F</td>\n",
       "      <td>2003</td>\n",
       "      <td>True</td>\n",
       "    </tr>\n",
       "    <tr>\n",
       "      <th>3</th>\n",
       "      <td>Elizabeth</td>\n",
       "      <td>1880</td>\n",
       "      <td>F</td>\n",
       "      <td>1939</td>\n",
       "      <td>True</td>\n",
       "    </tr>\n",
       "    <tr>\n",
       "      <th>4</th>\n",
       "      <td>Minnie</td>\n",
       "      <td>1880</td>\n",
       "      <td>F</td>\n",
       "      <td>1746</td>\n",
       "      <td>True</td>\n",
       "    </tr>\n",
       "  </tbody>\n",
       "</table>\n",
       "</div>"
      ],
      "text/plain": [
       "        Name  Year Gender  Count  popular\n",
       "0       Mary  1880      F   7065     True\n",
       "1       Anna  1880      F   2604     True\n",
       "2       Emma  1880      F   2003     True\n",
       "3  Elizabeth  1880      F   1939     True\n",
       "4     Minnie  1880      F   1746     True"
      ]
     },
     "execution_count": 75,
     "metadata": {},
     "output_type": "execute_result"
    }
   ],
   "source": [
    "#Adding a new column variable to a dataframe\n",
    "babynames[\"popular\"] = babynames[\"Count\"]>1000\n",
    "babynames.info()\n",
    "babynames.head()"
   ]
  },
  {
   "cell_type": "code",
   "execution_count": 76,
   "metadata": {
    "deletable": false,
    "editable": false,
    "nbgrader": {
     "cell_type": "code",
     "checksum": "9afe0725ddef073c54cb6abcc2987366",
     "grade": true,
     "grade_id": "cell-12715ca5e62ca32d",
     "locked": true,
     "points": 2,
     "schema_version": 3,
     "solution": false,
     "task": false
    }
   },
   "outputs": [],
   "source": [
    "# Autograder cell -do not delete it"
   ]
  },
  {
   "cell_type": "markdown",
   "metadata": {
    "deletable": false,
    "editable": false,
    "nbgrader": {
     "cell_type": "markdown",
     "checksum": "0447b779a6a08e1fad12856321965569",
     "grade": false,
     "grade_id": "cell-a7df244bbd687f1b",
     "locked": true,
     "schema_version": 3,
     "solution": false,
     "task": false
    }
   },
   "source": [
    "### Selecting columns \n",
    "\n",
    "\n",
    "* Use `[[  ]]` to select columns from the dataframe and maintain the dataframe structure\n",
    "* `drop([var list], axis=1)` can also work\n",
    "* df.loc['rowmame' or 'colname'] allows you to access variables by names too as we saw in our previous handout"
   ]
  },
  {
   "cell_type": "code",
   "execution_count": 77,
   "metadata": {
    "deletable": false,
    "nbgrader": {
     "cell_type": "code",
     "checksum": "3d680f4463227b5dd8a34c387b01e85a",
     "grade": false,
     "grade_id": "cell-7f057c80ff4e4120",
     "locked": false,
     "schema_version": 3,
     "solution": true,
     "task": false
    }
   },
   "outputs": [
    {
     "data": {
      "text/html": [
       "<div>\n",
       "<style scoped>\n",
       "    .dataframe tbody tr th:only-of-type {\n",
       "        vertical-align: middle;\n",
       "    }\n",
       "\n",
       "    .dataframe tbody tr th {\n",
       "        vertical-align: top;\n",
       "    }\n",
       "\n",
       "    .dataframe thead th {\n",
       "        text-align: right;\n",
       "    }\n",
       "</style>\n",
       "<table border=\"1\" class=\"dataframe\">\n",
       "  <thead>\n",
       "    <tr style=\"text-align: right;\">\n",
       "      <th></th>\n",
       "      <th>Name</th>\n",
       "      <th>Year</th>\n",
       "      <th>Gender</th>\n",
       "    </tr>\n",
       "  </thead>\n",
       "  <tbody>\n",
       "    <tr>\n",
       "      <th>0</th>\n",
       "      <td>Mary</td>\n",
       "      <td>1880</td>\n",
       "      <td>F</td>\n",
       "    </tr>\n",
       "    <tr>\n",
       "      <th>1</th>\n",
       "      <td>Anna</td>\n",
       "      <td>1880</td>\n",
       "      <td>F</td>\n",
       "    </tr>\n",
       "    <tr>\n",
       "      <th>2</th>\n",
       "      <td>Emma</td>\n",
       "      <td>1880</td>\n",
       "      <td>F</td>\n",
       "    </tr>\n",
       "    <tr>\n",
       "      <th>3</th>\n",
       "      <td>Elizabeth</td>\n",
       "      <td>1880</td>\n",
       "      <td>F</td>\n",
       "    </tr>\n",
       "    <tr>\n",
       "      <th>4</th>\n",
       "      <td>Minnie</td>\n",
       "      <td>1880</td>\n",
       "      <td>F</td>\n",
       "    </tr>\n",
       "  </tbody>\n",
       "</table>\n",
       "</div>"
      ],
      "text/plain": [
       "        Name  Year Gender\n",
       "0       Mary  1880      F\n",
       "1       Anna  1880      F\n",
       "2       Emma  1880      F\n",
       "3  Elizabeth  1880      F\n",
       "4     Minnie  1880      F"
      ]
     },
     "execution_count": 77,
     "metadata": {},
     "output_type": "execute_result"
    }
   ],
   "source": [
    "#Selecting columns using their labels\n",
    "no_popular = babynames[[\"Name\",\"Year\",\"Gender\"]]\n",
    "no_popular.head()"
   ]
  },
  {
   "cell_type": "code",
   "execution_count": 78,
   "metadata": {},
   "outputs": [
    {
     "data": {
      "text/html": [
       "<div>\n",
       "<style scoped>\n",
       "    .dataframe tbody tr th:only-of-type {\n",
       "        vertical-align: middle;\n",
       "    }\n",
       "\n",
       "    .dataframe tbody tr th {\n",
       "        vertical-align: top;\n",
       "    }\n",
       "\n",
       "    .dataframe thead th {\n",
       "        text-align: right;\n",
       "    }\n",
       "</style>\n",
       "<table border=\"1\" class=\"dataframe\">\n",
       "  <thead>\n",
       "    <tr style=\"text-align: right;\">\n",
       "      <th></th>\n",
       "      <th>Name</th>\n",
       "      <th>Year</th>\n",
       "      <th>Gender</th>\n",
       "    </tr>\n",
       "  </thead>\n",
       "  <tbody>\n",
       "    <tr>\n",
       "      <th>0</th>\n",
       "      <td>Mary</td>\n",
       "      <td>1880</td>\n",
       "      <td>F</td>\n",
       "    </tr>\n",
       "    <tr>\n",
       "      <th>1</th>\n",
       "      <td>Anna</td>\n",
       "      <td>1880</td>\n",
       "      <td>F</td>\n",
       "    </tr>\n",
       "    <tr>\n",
       "      <th>2</th>\n",
       "      <td>Emma</td>\n",
       "      <td>1880</td>\n",
       "      <td>F</td>\n",
       "    </tr>\n",
       "    <tr>\n",
       "      <th>3</th>\n",
       "      <td>Elizabeth</td>\n",
       "      <td>1880</td>\n",
       "      <td>F</td>\n",
       "    </tr>\n",
       "    <tr>\n",
       "      <th>4</th>\n",
       "      <td>Minnie</td>\n",
       "      <td>1880</td>\n",
       "      <td>F</td>\n",
       "    </tr>\n",
       "  </tbody>\n",
       "</table>\n",
       "</div>"
      ],
      "text/plain": [
       "        Name  Year Gender\n",
       "0       Mary  1880      F\n",
       "1       Anna  1880      F\n",
       "2       Emma  1880      F\n",
       "3  Elizabeth  1880      F\n",
       "4     Minnie  1880      F"
      ]
     },
     "execution_count": 78,
     "metadata": {},
     "output_type": "execute_result"
    }
   ],
   "source": [
    "babynames.drop([\"Count\",\"popular\"], axis=1).head()"
   ]
  },
  {
   "cell_type": "code",
   "execution_count": 79,
   "metadata": {
    "deletable": false,
    "editable": false,
    "nbgrader": {
     "cell_type": "code",
     "checksum": "bfd68f9241952b88c18a76e1ba849953",
     "grade": true,
     "grade_id": "cell-f126a0891900c878",
     "locked": true,
     "points": 2,
     "schema_version": 3,
     "solution": false,
     "task": false
    }
   },
   "outputs": [],
   "source": [
    "# Autograder cell -do not delete it"
   ]
  },
  {
   "cell_type": "markdown",
   "metadata": {
    "deletable": false,
    "editable": false,
    "nbgrader": {
     "cell_type": "markdown",
     "checksum": "7ece5fba83cba1af779bf71a9d05d57e",
     "grade": false,
     "grade_id": "cell-d095e273d6dd3ad5",
     "locked": true,
     "schema_version": 3,
     "solution": false,
     "task": false
    }
   },
   "source": [
    "We could also use `.iloc` or `.loc` as seen before\n",
    "* df.loc['rowmame', 'colname'] access observations and variables by names \n",
    "* df.iloc[i, j] access observations and variables by positions i and j (remember indices start at 0 in Python)"
   ]
  },
  {
   "cell_type": "markdown",
   "metadata": {
    "deletable": false,
    "editable": false,
    "nbgrader": {
     "cell_type": "markdown",
     "checksum": "07950cdf6fb35ba5841287fdf9df5fcd",
     "grade": false,
     "grade_id": "cell-5a6ed59d9cfbe51a",
     "locked": true,
     "schema_version": 3,
     "solution": false,
     "task": false
    }
   },
   "source": [
    "### Using numpy methods and `agg()` for Summary Statistics <a class = anchor id = anchor7 ></a>\n",
    "\n",
    "Suppose we wanted to find the average popularity of names, the number of observations in the data set, and maximum popularity in the same year. \n",
    "\n",
    "**Using numpy we can apply methods to the flatten array or column see below**"
   ]
  },
  {
   "cell_type": "code",
   "execution_count": 80,
   "metadata": {},
   "outputs": [
    {
     "name": "stdout",
     "output_type": "stream",
     "text": [
      "Mean:\n",
      "184.68792116719703\n",
      "Sum:\n",
      "337135426\n",
      "Max:\n",
      "99680\n",
      "Min:\n",
      "5\n",
      "Count:\n",
      "1825433\n"
     ]
    }
   ],
   "source": [
    "pd.set_option('display.float_format', lambda x: '%.5f' % x)# remove scientific notation\n",
    "print('Mean:')\n",
    "print(babynames[\"Count\"].mean())\n",
    "print(f'Sum:')\n",
    "print(babynames[\"Count\"].sum())\n",
    "print(f'Max:')\n",
    "print(babynames[\"Count\"].max())\n",
    "print(f'Min:')\n",
    "print(babynames[\"Count\"].min())\n",
    "print(f'Count:')\n",
    "print(babynames[\"Count\"].count())"
   ]
  },
  {
   "cell_type": "markdown",
   "metadata": {
    "deletable": false,
    "editable": false,
    "nbgrader": {
     "cell_type": "markdown",
     "checksum": "039a1838f7f72c796a699dfda6893be8",
     "grade": false,
     "grade_id": "cell-8cbc22ce288914c9",
     "locked": true,
     "schema_version": 3,
     "solution": false,
     "task": false
    }
   },
   "source": [
    "**Using .agg() from pandas we can apply methods to the column or columns see below**"
   ]
  },
  {
   "cell_type": "code",
   "execution_count": 81,
   "metadata": {},
   "outputs": [
    {
     "data": {
      "text/plain": [
       "mean          184.68792\n",
       "sum     337135426.00000\n",
       "count     1825433.00000\n",
       "max         99680.00000\n",
       "size      1825433.00000\n",
       "Name: Count, dtype: float64"
      ]
     },
     "execution_count": 81,
     "metadata": {},
     "output_type": "execute_result"
    }
   ],
   "source": [
    "babynames[\"Count\"].agg([\"mean\",\"sum\",\"count\",\"max\",\"size\"])"
   ]
  },
  {
   "cell_type": "code",
   "execution_count": 82,
   "metadata": {},
   "outputs": [
    {
     "data": {
      "text/html": [
       "<div>\n",
       "<style scoped>\n",
       "    .dataframe tbody tr th:only-of-type {\n",
       "        vertical-align: middle;\n",
       "    }\n",
       "\n",
       "    .dataframe tbody tr th {\n",
       "        vertical-align: top;\n",
       "    }\n",
       "\n",
       "    .dataframe thead th {\n",
       "        text-align: right;\n",
       "    }\n",
       "</style>\n",
       "<table border=\"1\" class=\"dataframe\">\n",
       "  <thead>\n",
       "    <tr style=\"text-align: right;\">\n",
       "      <th></th>\n",
       "      <th>Count</th>\n",
       "      <th>popular</th>\n",
       "    </tr>\n",
       "  </thead>\n",
       "  <tbody>\n",
       "    <tr>\n",
       "      <th>max</th>\n",
       "      <td>99680.00000</td>\n",
       "      <td>True</td>\n",
       "    </tr>\n",
       "    <tr>\n",
       "      <th>mean</th>\n",
       "      <td>184.68792</td>\n",
       "      <td>0.02764</td>\n",
       "    </tr>\n",
       "  </tbody>\n",
       "</table>\n",
       "</div>"
      ],
      "text/plain": [
       "           Count popular\n",
       "max  99680.00000    True\n",
       "mean   184.68792 0.02764"
      ]
     },
     "execution_count": 82,
     "metadata": {},
     "output_type": "execute_result"
    }
   ],
   "source": [
    "# You need two brackets [[ ]] because by choosing two series you are dealing with a dataframe\n",
    "babynames[[\"Count\",\"popular\"]].agg([\"max\",\"mean\"])"
   ]
  },
  {
   "cell_type": "markdown",
   "metadata": {},
   "source": [
    "### Finding Statistics by Group using `.groupby()` <a class = anchor id = anchor8 ></a>\n",
    "\n",
    "The `.groupby()` functions divides the data into groups for all future commands.  This can be extremely useful in combination with the `agg()` method.  For example, suppose we wanted to find the average popularity of a name by sex in all this time (**name your dataset here \"gr_babynames\" - this is not in the video but please do so for autograder to grade your code answer**):"
   ]
  },
  {
   "cell_type": "code",
   "execution_count": 83,
   "metadata": {
    "deletable": false,
    "nbgrader": {
     "cell_type": "code",
     "checksum": "40dd36552590b34108bde0f8c96d326b",
     "grade": false,
     "grade_id": "cell-40537ce8b9031d41",
     "locked": false,
     "schema_version": 3,
     "solution": true,
     "task": false
    }
   },
   "outputs": [
    {
     "data": {
      "text/html": [
       "<div>\n",
       "<style scoped>\n",
       "    .dataframe tbody tr th:only-of-type {\n",
       "        vertical-align: middle;\n",
       "    }\n",
       "\n",
       "    .dataframe tbody tr th {\n",
       "        vertical-align: top;\n",
       "    }\n",
       "\n",
       "    .dataframe thead tr th {\n",
       "        text-align: left;\n",
       "    }\n",
       "\n",
       "    .dataframe thead tr:last-of-type th {\n",
       "        text-align: right;\n",
       "    }\n",
       "</style>\n",
       "<table border=\"1\" class=\"dataframe\">\n",
       "  <thead>\n",
       "    <tr>\n",
       "      <th></th>\n",
       "      <th colspan=\"2\" halign=\"left\">mean</th>\n",
       "      <th colspan=\"2\" halign=\"left\">sum</th>\n",
       "      <th colspan=\"2\" halign=\"left\">count</th>\n",
       "    </tr>\n",
       "    <tr>\n",
       "      <th>Gender</th>\n",
       "      <th>F</th>\n",
       "      <th>M</th>\n",
       "      <th>F</th>\n",
       "      <th>M</th>\n",
       "      <th>F</th>\n",
       "      <th>M</th>\n",
       "    </tr>\n",
       "    <tr>\n",
       "      <th>Year</th>\n",
       "      <th></th>\n",
       "      <th></th>\n",
       "      <th></th>\n",
       "      <th></th>\n",
       "      <th></th>\n",
       "      <th></th>\n",
       "    </tr>\n",
       "  </thead>\n",
       "  <tbody>\n",
       "    <tr>\n",
       "      <th>1880</th>\n",
       "      <td>96.59554</td>\n",
       "      <td>104.43384</td>\n",
       "      <td>90993</td>\n",
       "      <td>110491</td>\n",
       "      <td>942</td>\n",
       "      <td>1058</td>\n",
       "    </tr>\n",
       "    <tr>\n",
       "      <th>1881</th>\n",
       "      <td>98.03198</td>\n",
       "      <td>101.04814</td>\n",
       "      <td>91954</td>\n",
       "      <td>100745</td>\n",
       "      <td>938</td>\n",
       "      <td>997</td>\n",
       "    </tr>\n",
       "    <tr>\n",
       "      <th>1882</th>\n",
       "      <td>104.91245</td>\n",
       "      <td>103.44677</td>\n",
       "      <td>107850</td>\n",
       "      <td>113688</td>\n",
       "      <td>1028</td>\n",
       "      <td>1099</td>\n",
       "    </tr>\n",
       "    <tr>\n",
       "      <th>1883</th>\n",
       "      <td>106.56641</td>\n",
       "      <td>101.58155</td>\n",
       "      <td>112321</td>\n",
       "      <td>104629</td>\n",
       "      <td>1054</td>\n",
       "      <td>1030</td>\n",
       "    </tr>\n",
       "    <tr>\n",
       "      <th>1884</th>\n",
       "      <td>110.08703</td>\n",
       "      <td>101.72889</td>\n",
       "      <td>129022</td>\n",
       "      <td>114445</td>\n",
       "      <td>1172</td>\n",
       "      <td>1125</td>\n",
       "    </tr>\n",
       "    <tr>\n",
       "      <th>...</th>\n",
       "      <td>...</td>\n",
       "      <td>...</td>\n",
       "      <td>...</td>\n",
       "      <td>...</td>\n",
       "      <td>...</td>\n",
       "      <td>...</td>\n",
       "    </tr>\n",
       "    <tr>\n",
       "      <th>2010</th>\n",
       "      <td>89.53222</td>\n",
       "      <td>134.39021</td>\n",
       "      <td>1772738</td>\n",
       "      <td>1913851</td>\n",
       "      <td>19800</td>\n",
       "      <td>14241</td>\n",
       "    </tr>\n",
       "    <tr>\n",
       "      <th>2011</th>\n",
       "      <td>89.73900</td>\n",
       "      <td>132.12576</td>\n",
       "      <td>1753500</td>\n",
       "      <td>1893230</td>\n",
       "      <td>19540</td>\n",
       "      <td>14329</td>\n",
       "    </tr>\n",
       "    <tr>\n",
       "      <th>2012</th>\n",
       "      <td>90.09256</td>\n",
       "      <td>132.90757</td>\n",
       "      <td>1753922</td>\n",
       "      <td>1889414</td>\n",
       "      <td>19468</td>\n",
       "      <td>14216</td>\n",
       "    </tr>\n",
       "    <tr>\n",
       "      <th>2013</th>\n",
       "      <td>90.94570</td>\n",
       "      <td>134.27512</td>\n",
       "      <td>1745339</td>\n",
       "      <td>1881463</td>\n",
       "      <td>19191</td>\n",
       "      <td>14012</td>\n",
       "    </tr>\n",
       "    <tr>\n",
       "      <th>2014</th>\n",
       "      <td>92.76630</td>\n",
       "      <td>136.03606</td>\n",
       "      <td>1768775</td>\n",
       "      <td>1901376</td>\n",
       "      <td>19067</td>\n",
       "      <td>13977</td>\n",
       "    </tr>\n",
       "  </tbody>\n",
       "</table>\n",
       "<p>135 rows × 6 columns</p>\n",
       "</div>"
      ],
      "text/plain": [
       "            mean                sum           count       \n",
       "Gender         F         M        F        M      F      M\n",
       "Year                                                      \n",
       "1880    96.59554 104.43384    90993   110491    942   1058\n",
       "1881    98.03198 101.04814    91954   100745    938    997\n",
       "1882   104.91245 103.44677   107850   113688   1028   1099\n",
       "1883   106.56641 101.58155   112321   104629   1054   1030\n",
       "1884   110.08703 101.72889   129022   114445   1172   1125\n",
       "...          ...       ...      ...      ...    ...    ...\n",
       "2010    89.53222 134.39021  1772738  1913851  19800  14241\n",
       "2011    89.73900 132.12576  1753500  1893230  19540  14329\n",
       "2012    90.09256 132.90757  1753922  1889414  19468  14216\n",
       "2013    90.94570 134.27512  1745339  1881463  19191  14012\n",
       "2014    92.76630 136.03606  1768775  1901376  19067  13977\n",
       "\n",
       "[135 rows x 6 columns]"
      ]
     },
     "execution_count": 83,
     "metadata": {},
     "output_type": "execute_result"
    }
   ],
   "source": [
    "# for count also consider 'size'. size will return n for NaN values also, whereas 'count' will not.\n",
    "babynames.groupby([\"Year\",\"Gender\"])[\"Count\"].agg([\"mean\",\"sum\",\"count\"]).unstack('Gender') "
   ]
  },
  {
   "cell_type": "code",
   "execution_count": 84,
   "metadata": {
    "deletable": false,
    "editable": false,
    "nbgrader": {
     "cell_type": "code",
     "checksum": "9a103a1827917ef23b4fdf1b733fa834",
     "grade": true,
     "grade_id": "cell-ba805adb902db870",
     "locked": true,
     "points": 1,
     "schema_version": 3,
     "solution": false,
     "task": false
    }
   },
   "outputs": [],
   "source": [
    "# Autograder cell -do not delete it"
   ]
  },
  {
   "cell_type": "markdown",
   "metadata": {
    "deletable": false,
    "editable": false,
    "nbgrader": {
     "cell_type": "markdown",
     "checksum": "30bc3059ed44d3d29e21e4b0ce14d8b2",
     "grade": false,
     "grade_id": "cell-73ce7e86fbfd5f48",
     "locked": true,
     "schema_version": 3,
     "solution": false,
     "task": false
    }
   },
   "source": [
    "Note that the `.unstack(<var2>)` in this case Gender, here is purely cosmetic: it transforms the data from \"long\" to \"wide\" which is how crosstabs are usually presented. Try and see what happens if you remove it\n",
    "\n",
    "\n",
    "\n",
    "                     "
   ]
  },
  {
   "cell_type": "markdown",
   "metadata": {
    "deletable": false,
    "editable": false,
    "nbgrader": {
     "cell_type": "markdown",
     "checksum": "a06af297980222689818c7770f549d91",
     "grade": false,
     "grade_id": "cell-109a86220e225bac",
     "locked": true,
     "schema_version": 3,
     "solution": false,
     "task": false
    }
   },
   "source": [
    "# In Class Exercise <a class = anchor id = anchor9></a>\n",
    "\n",
    "Find the six names that were most popular female and male names in the **year 1999**. \n",
    "\n",
    "In this case the steps are \n",
    "\n",
    "* Filter data for the year\n",
    "* Sort the data by columns gender and count, in descending order\n",
    "* Group by gender to show both genders\n",
    "* use .head(6) to show the top 6 and \n",
    "* reset index so the indexing looks nice \n",
    "* **Name your dataset \"df\"**.\n",
    "\n",
    "The order of the steps (chaining methods) is not obvious, this takes some practice and trial and error. **Be patient with yourself**\n"
   ]
  },
  {
   "cell_type": "code",
   "execution_count": 85,
   "metadata": {
    "deletable": false,
    "nbgrader": {
     "cell_type": "code",
     "checksum": "7b55e63a8cbc14926e3cd36c5354f868",
     "grade": false,
     "grade_id": "cell-edd64fa8bf02b866",
     "locked": false,
     "schema_version": 3,
     "solution": true,
     "task": false
    }
   },
   "outputs": [
    {
     "data": {
      "text/html": [
       "<div>\n",
       "<style scoped>\n",
       "    .dataframe tbody tr th:only-of-type {\n",
       "        vertical-align: middle;\n",
       "    }\n",
       "\n",
       "    .dataframe tbody tr th {\n",
       "        vertical-align: top;\n",
       "    }\n",
       "\n",
       "    .dataframe thead th {\n",
       "        text-align: right;\n",
       "    }\n",
       "</style>\n",
       "<table border=\"1\" class=\"dataframe\">\n",
       "  <thead>\n",
       "    <tr style=\"text-align: right;\">\n",
       "      <th></th>\n",
       "      <th>index</th>\n",
       "      <th>Name</th>\n",
       "      <th>Year</th>\n",
       "      <th>Gender</th>\n",
       "      <th>Count</th>\n",
       "      <th>popular</th>\n",
       "    </tr>\n",
       "  </thead>\n",
       "  <tbody>\n",
       "    <tr>\n",
       "      <th>0</th>\n",
       "      <td>1380267</td>\n",
       "      <td>Jacob</td>\n",
       "      <td>2001</td>\n",
       "      <td>M</td>\n",
       "      <td>32527</td>\n",
       "      <td>True</td>\n",
       "    </tr>\n",
       "    <tr>\n",
       "      <th>1</th>\n",
       "      <td>1380268</td>\n",
       "      <td>Michael</td>\n",
       "      <td>2001</td>\n",
       "      <td>M</td>\n",
       "      <td>29675</td>\n",
       "      <td>True</td>\n",
       "    </tr>\n",
       "    <tr>\n",
       "      <th>2</th>\n",
       "      <td>1380269</td>\n",
       "      <td>Matthew</td>\n",
       "      <td>2001</td>\n",
       "      <td>M</td>\n",
       "      <td>26799</td>\n",
       "      <td>True</td>\n",
       "    </tr>\n",
       "    <tr>\n",
       "      <th>3</th>\n",
       "      <td>1380270</td>\n",
       "      <td>Joshua</td>\n",
       "      <td>2001</td>\n",
       "      <td>M</td>\n",
       "      <td>26006</td>\n",
       "      <td>True</td>\n",
       "    </tr>\n",
       "    <tr>\n",
       "      <th>4</th>\n",
       "      <td>1362301</td>\n",
       "      <td>Emily</td>\n",
       "      <td>2001</td>\n",
       "      <td>F</td>\n",
       "      <td>25052</td>\n",
       "      <td>True</td>\n",
       "    </tr>\n",
       "    <tr>\n",
       "      <th>5</th>\n",
       "      <td>1380271</td>\n",
       "      <td>Christopher</td>\n",
       "      <td>2001</td>\n",
       "      <td>M</td>\n",
       "      <td>23117</td>\n",
       "      <td>True</td>\n",
       "    </tr>\n",
       "  </tbody>\n",
       "</table>\n",
       "</div>"
      ],
      "text/plain": [
       "     index         Name  Year Gender  Count  popular\n",
       "0  1380267        Jacob  2001      M  32527     True\n",
       "1  1380268      Michael  2001      M  29675     True\n",
       "2  1380269      Matthew  2001      M  26799     True\n",
       "3  1380270       Joshua  2001      M  26006     True\n",
       "4  1362301        Emily  2001      F  25052     True\n",
       "5  1380271  Christopher  2001      M  23117     True"
      ]
     },
     "execution_count": 85,
     "metadata": {},
     "output_type": "execute_result"
    }
   ],
   "source": [
    " df = babynames[(babynames[\"Year\"]==2001)].sort_values([\"Count\",\"Gender\"], ascending=[False, False])\n",
    "df.head(6).reset_index()"
   ]
  },
  {
   "cell_type": "code",
   "execution_count": 86,
   "metadata": {
    "deletable": false,
    "editable": false,
    "nbgrader": {
     "cell_type": "code",
     "checksum": "e2c29a5ab3b937f03710b964ac563712",
     "grade": true,
     "grade_id": "cell-ce112dcecb7de2cf",
     "locked": true,
     "points": 1,
     "schema_version": 3,
     "solution": false,
     "task": false
    }
   },
   "outputs": [],
   "source": [
    "# Autograder cell -do not delete it"
   ]
  },
  {
   "cell_type": "markdown",
   "metadata": {
    "deletable": false,
    "editable": false,
    "nbgrader": {
     "cell_type": "markdown",
     "checksum": "49170b5185b8f438424d761dd5699ba4",
     "grade": false,
     "grade_id": "cell-105ae7df3da620fd",
     "locked": true,
     "schema_version": 3,
     "solution": false,
     "task": false
    }
   },
   "source": [
    "&nbsp;\n",
    "\n",
    "<hr />\n",
    "\n",
    "<p style=\"text-align: center;\">ECON220 R Programing Laboratory</a></p>\n",
    "<p style=\"text-align: center;\">Professor <em> Paloma Lopez de mesa Moyano</em></a></p>\n",
    "<p style=\"text-align: center;\"><span style=\"color: #6666FF;\"><em>paloma.moyano@emory.edu</em></span></p>\n",
    "\n",
    "<p style=\"text-align: center;\">Department of Economics</a></p>\n",
    "<p style=\"text-align: center;\">Emory University</a></p>\n",
    "\n",
    "&nbsp;\n",
    "    \n",
    "    "
   ]
  },
  {
   "cell_type": "code",
   "execution_count": 16,
   "metadata": {},
   "outputs": [],
   "source": [
    "#!jupyter nbconvert --to html Econ220Lab_class4_PandasManipulation.ipynb"
   ]
  },
  {
   "cell_type": "code",
   "execution_count": null,
   "metadata": {},
   "outputs": [],
   "source": []
  },
  {
   "cell_type": "code",
   "execution_count": null,
   "metadata": {},
   "outputs": [],
   "source": []
  }
 ],
 "metadata": {
  "hide_input": false,
  "kernelspec": {
   "display_name": "Python 3 (ipykernel)",
   "language": "python",
   "name": "python3"
  },
  "language_info": {
   "codemirror_mode": {
    "name": "ipython",
    "version": 3
   },
   "file_extension": ".py",
   "mimetype": "text/x-python",
   "name": "python",
   "nbconvert_exporter": "python",
   "pygments_lexer": "ipython3",
   "version": "3.9.7"
  }
 },
 "nbformat": 4,
 "nbformat_minor": 4
}
