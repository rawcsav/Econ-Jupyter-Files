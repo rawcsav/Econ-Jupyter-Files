{
 "cells": [
  {
   "cell_type": "code",
   "execution_count": 36,
   "id": "b8615244",
   "metadata": {},
   "outputs": [],
   "source": [
    "# Script Name: Assignment 8\n",
    "# Purpose of script: Complete Assignment 8 for Econ 320\n",
    "# Author: Gavin Mason\n",
    "# Date Created: 11/1/2022\n",
    "# Notes:\n",
    "\n",
    "# Packages\n",
    "import os\n",
    "import numpy as np\n",
    "import math\n",
    "import matplotlib.pyplot as plt\n",
    "import statistics\n",
    "import pandas as pd\n",
    "import seaborn as sns\n",
    "import statsmodels.formula.api as smf"
   ]
  },
  {
   "cell_type": "code",
   "execution_count": 37,
   "id": "88326b05",
   "metadata": {},
   "outputs": [],
   "source": [
    "rng = np.random.RandomState(int(11212001))\n",
    "n = 1000000\n",
    "b0 = 3\n",
    "b1 = 2\n",
    "b2 = 2\n",
    "a0 = 2\n",
    "a1 = 0.8\n",
    "x1 = np.random.normal(10,1**0.5,n)\n",
    "u = np.random.normal(0,1**0.5,n)\n",
    "u1 = np.random.normal(0,1**0.5,n)\n",
    "x2 = a0 + a1*x1 + u1\n",
    "y = b0 + b1*x1 + b2*x2 + u\n",
    "population_data = pd.DataFrame({'y':y, 'x1':x1, 'x2':x2})"
   ]
  },
  {
   "cell_type": "code",
   "execution_count": 38,
   "id": "a2d21b0d",
   "metadata": {},
   "outputs": [
    {
     "name": "stdout",
     "output_type": "stream",
     "text": [
      "covx1x2 = 0.7991509735638858\n"
     ]
    }
   ],
   "source": [
    "covX1X2 = population_data[['x1','x2']].cov().iloc[0,1]\n",
    "print(\"covx1x2 =\", covX1X2)"
   ]
  },
  {
   "cell_type": "code",
   "execution_count": 39,
   "id": "20344a7d",
   "metadata": {},
   "outputs": [
    {
     "name": "stdout",
     "output_type": "stream",
     "text": [
      "TSSx1 = 955.8569745474978\n"
     ]
    }
   ],
   "source": [
    "sample_df = population_data.sample(n = 1000, random_state = int(11212001))\n",
    "avgsamplex1=sample_df['x1'].mean()\n",
    "TSSx1 = ((sample_df['x1']-avgsamplex1)**2).sum()\n",
    "print(\"TSSx1 =\", TSSx1)"
   ]
  },
  {
   "cell_type": "code",
   "execution_count": 40,
   "id": "ecb33d55",
   "metadata": {},
   "outputs": [
    {
     "data": {
      "text/plain": [
       "Intercept    6.77\n",
       "x1           3.62\n",
       "dtype: float64"
      ]
     },
     "execution_count": 40,
     "metadata": {},
     "output_type": "execute_result"
    }
   ],
   "source": [
    "#Sample beta1 is 3.62 while population beta1 is 2. \n",
    "#This displays a certain degree of inaccuracy within our sample data as it's such a considerable difference in values.\n",
    "reg = smf.ols(formula='y ~ x1', data = sample_df).fit()\n",
    "reg.params.round(2)"
   ]
  },
  {
   "cell_type": "code",
   "execution_count": 41,
   "id": "dbf8c10e",
   "metadata": {},
   "outputs": [
    {
     "data": {
      "text/plain": [
       "Intercept    3.02\n",
       "x1           1.98\n",
       "x2           2.02\n",
       "dtype: float64"
      ]
     },
     "execution_count": 41,
     "metadata": {},
     "output_type": "execute_result"
    }
   ],
   "source": [
    "#New sample beta1 is 1.98, nearly identical to the true population value of 2.\n",
    "#Due to the inclusion of an additional independent variable that takes data out of residual and grants more accuracy.\n",
    "reg1 = smf.ols(formula='y ~ x1 + x2', data = sample_df).fit()\n",
    "reg1.params.round(2)"
   ]
  },
  {
   "cell_type": "code",
   "execution_count": 42,
   "id": "6ee60734",
   "metadata": {},
   "outputs": [],
   "source": [
    "rep = 1000\n",
    "b1r = []\n",
    "for i in range(rep):\n",
    "    sample = population_data.sample(1000)\n",
    "    beta0, beta1 = smf.ols('y~x1',data=sample).fit().params\n",
    "    avgsamplex1=sample['x1'].mean()\n",
    "    b1r.append(beta1)"
   ]
  },
  {
   "cell_type": "code",
   "execution_count": 43,
   "id": "d92610ac",
   "metadata": {},
   "outputs": [
    {
     "name": "stdout",
     "output_type": "stream",
     "text": [
      "Mean of sample b1 distribution = 3.5922155911801474\n"
     ]
    },
    {
     "data": {
      "image/png": "[encoded data removed]",
      "text/plain": [
       "<Figure size 432x288 with 1 Axes>"
      ]
     },
     "metadata": {
      "needs_background": "light"
     },
     "output_type": "display_data"
    }
   ],
   "source": [
    "#Mean of b1 distribution is significantly higher than the actual b1 of 2. Difference = 1.59\n",
    "#from (a)+ (b), I was expecting the same difference of around 1.62 which is true in the case of the calculated 1.59\n",
    "#I wasn't expecting another rsult. Without x2, the sample values will always be fairly inaccurate\n",
    "b1= np.array(b1r)\n",
    "print(\"Mean of sample b1 distribution =\", b1.mean())\n",
    "figb1, axes = plt.subplots(1,1)\n",
    "axes.hist(b1)\n",
    "plt.title('Samp Distribution of Estimates of B1')\n",
    "plt.show(figb1)"
   ]
  },
  {
   "cell_type": "code",
   "execution_count": null,
   "id": "6b117cb8",
   "metadata": {},
   "outputs": [],
   "source": []
  }
 ],
 "metadata": {
  "kernelspec": {
   "display_name": "Python 3 (ipykernel)",
   "language": "python",
   "name": "python3"
  },
  "language_info": {
   "codemirror_mode": {
    "name": "ipython",
    "version": 3
   },
   "file_extension": ".py",
   "mimetype": "text/x-python",
   "name": "python",
   "nbconvert_exporter": "python",
   "pygments_lexer": "ipython3",
   "version": "3.9.7"
  }
 },
 "nbformat": 4,
 "nbformat_minor": 5
}
