{
 "cells": [
  {
   "cell_type": "markdown",
   "metadata": {
    "deletable": false,
    "editable": false,
    "nbgrader": {
     "cell_type": "markdown",
     "checksum": "e78437b45d82795458107d365af97e0c",
     "grade": false,
     "grade_id": "cell-34d64f296f051987",
     "locked": true,
     "schema_version": 3,
     "solution": false,
     "task": false
    }
   },
   "source": [
    "    \n",
    "<h1 style=\"text-align: center; color: purple;\" markdown=\"1\">Econ 220 Python Lab: Probability and Random Numbers</h1>\n",
    "\n",
    "<h2 style=\"text-align: center; color: #012169\" markdown=\"1\">Handout</h2>\n"
   ]
  },
  {
   "cell_type": "markdown",
   "metadata": {
    "deletable": false,
    "editable": false,
    "nbgrader": {
     "cell_type": "markdown",
     "checksum": "3bb007d2e85f6341fc586e309e3754a0",
     "grade": false,
     "grade_id": "cell-d7b67682d709153d",
     "locked": true,
     "schema_version": 3,
     "solution": false,
     "task": false
    }
   },
   "source": [
    "### Table of Contents\n",
    "* [The Package Set Up](#packages)\n",
    "* [Probabilities of an Event: A Few Examples](#anchor1)\n",
    "* [Probability Distribution Functions in Python](#anchor2)\n",
    "    * [Random Number Generation](#anchor3)\n",
    "    * [The Uniform Distribution](#anchor4)\n",
    "    * [The Normal Distribution](#anchor5)\n",
    "* [More Graphs with Seaborn: Histograms](#anchor6)\n",
    "   \n",
    "\n"
   ]
  },
  {
   "cell_type": "markdown",
   "metadata": {
    "deletable": false,
    "editable": false,
    "nbgrader": {
     "cell_type": "markdown",
     "checksum": "4b21912ad25d1f197ae6a28b0d273a61",
     "grade": false,
     "grade_id": "cell-c35fc83683374537",
     "locked": true,
     "schema_version": 3,
     "solution": false,
     "task": false
    }
   },
   "source": [
    "# The Package Set Up <a class = anchor id = packages></a>"
   ]
  },
  {
   "cell_type": "code",
   "execution_count": 42,
   "metadata": {},
   "outputs": [],
   "source": [
    "# Import necessary packages here\n",
    "import numpy as np\n",
    "import pandas as pd \n",
    "import seaborn as sns\n",
    "import matplotlib.pyplot as plt\n",
    "import scipy.special"
   ]
  },
  {
   "cell_type": "markdown",
   "metadata": {
    "deletable": false,
    "editable": false,
    "nbgrader": {
     "cell_type": "markdown",
     "checksum": "d21ab50350708bea11b9421091649d6e",
     "grade": false,
     "grade_id": "cell-009aef0e6c4433b2",
     "locked": true,
     "schema_version": 3,
     "solution": false,
     "task": false
    }
   },
   "source": [
    "# Probabilities of an Event: A Few Examples <a class = anchor id = packages></a>\n",
    "\n",
    "From the module `scipy.special` the function `comb(n,k)` will give you the number of combinations of N things taken k at a time. Also know as the *N choose k* problem. \n",
    "\n",
    "For example: \n",
    "\n",
    "* Event apples: Choose 7 apples out a bag of 10 apples 5 red 5 green (name it ``n_apples``)\n",
    "* Event G: Choose exactly 2 green apples out of this bag of 10 apples (name it ``n_green``)"
   ]
  },
  {
   "cell_type": "code",
   "execution_count": 43,
   "metadata": {
    "deletable": false,
    "nbgrader": {
     "cell_type": "code",
     "checksum": "28e7c8eeb94bf8135a6cb5dad695be2c",
     "grade": false,
     "grade_id": "cell-cb93ef0fc7814de6",
     "locked": false,
     "schema_version": 3,
     "solution": true,
     "task": false
    }
   },
   "outputs": [
    {
     "name": "stdout",
     "output_type": "stream",
     "text": [
      "120.0 is the number of possible combinations of 7 apples that  you take out of a bag of 10 apples\n",
      "10.0 is the number of possible times you can get 2 green apples out of my bag\n"
     ]
    }
   ],
   "source": [
    "#import scipy.special\n",
    "n_apples = scipy.special.comb(10,7,exact=False,repetition=False)\n",
    "n_green = scipy.special.comb(5, 5)*scipy.special.comb(5, 2)\n",
    "print(n_apples, 'is the number of possible combinations of 7 apples that  you take out of a bag of 10 apples')\n",
    "print(n_green, 'is the number of possible times you can get 2 green apples out of my bag')"
   ]
  },
  {
   "cell_type": "code",
   "execution_count": 44,
   "metadata": {
    "deletable": false,
    "editable": false,
    "nbgrader": {
     "cell_type": "code",
     "checksum": "f1a2bc7eb5d4e2c62b4d9b75e7e57e41",
     "grade": true,
     "grade_id": "cell-38f3a8785cfce3e3",
     "locked": true,
     "points": 1,
     "schema_version": 3,
     "solution": false,
     "task": false
    }
   },
   "outputs": [],
   "source": [
    "# Autograder cell -do not delete it"
   ]
  },
  {
   "cell_type": "markdown",
   "metadata": {
    "deletable": false,
    "editable": false,
    "nbgrader": {
     "cell_type": "markdown",
     "checksum": "8eda4d5dd74d5fe457312cbc9aa0279e",
     "grade": false,
     "grade_id": "cell-68a8a6dcc67a7099",
     "locked": true,
     "schema_version": 3,
     "solution": false,
     "task": false
    }
   },
   "source": [
    "Let's practice \n",
    "* Define an experiment: Choose any five representatives out of 20 where 8 are males and 12 are females. Name this object ``n_s`` that contains those 5 representatives. \n",
    "* Define event A: Choose exactly three female representatives create an object ``n_a`` that represents event A \n",
    "* Calculate the probability of A happening, name it ``prob_a``."
   ]
  },
  {
   "cell_type": "code",
   "execution_count": 45,
   "metadata": {
    "deletable": false,
    "nbgrader": {
     "cell_type": "code",
     "checksum": "716351675fb1519ad50becbccff6b053",
     "grade": false,
     "grade_id": "cell-8d3610822bbebb09",
     "locked": false,
     "schema_version": 3,
     "solution": true,
     "task": false
    }
   },
   "outputs": [
    {
     "name": "stdout",
     "output_type": "stream",
     "text": [
      "Probability of that the three candidates choosen are female: 39.732 %\n"
     ]
    }
   ],
   "source": [
    "n_s = scipy.special.comb(20,5)\n",
    "n_a =scipy.special.comb(12,3)*scipy.special.comb(8,2)\n",
    "prob_a = n_a/n_s\n",
    "print('Probability of that the three candidates choosen are female:', round(prob_a*100,3), \"%\")                         "
   ]
  },
  {
   "cell_type": "code",
   "execution_count": 46,
   "metadata": {
    "deletable": false,
    "editable": false,
    "nbgrader": {
     "cell_type": "code",
     "checksum": "ca4733581b0e98392011f20b95c91388",
     "grade": true,
     "grade_id": "cell-bc26b08aaa94da22",
     "locked": true,
     "points": 1,
     "schema_version": 3,
     "solution": false,
     "task": false
    }
   },
   "outputs": [],
   "source": [
    "# Autograder cell -do not delete it"
   ]
  },
  {
   "cell_type": "markdown",
   "metadata": {
    "deletable": false,
    "editable": false,
    "nbgrader": {
     "cell_type": "markdown",
     "checksum": "f72578171fcaab70c5c88597531e077d",
     "grade": false,
     "grade_id": "cell-57aca419997a4167",
     "locked": true,
     "schema_version": 3,
     "solution": false,
     "task": false
    }
   },
   "source": [
    "# Probability Distribution Functions in Python <a class = anchor id = anchor2 ></a>\n",
    "\n",
    "\n",
    "The Python module scipy.stats contains probability distribution functions and other statistical functions. \n",
    "\n",
    "Every distribution that Python handles has at least four functions associated. There is a root name, for example, the root name for the normal distribution is norm. This root is prefixed by one of the letters\n",
    "\n",
    "* `.cdf()` for \"probability\", the cumulative distribution function (c. d. f.)\n",
    "* `.ppf()` for \"quantile\", the inverse c. d. f.\n",
    "* `.pdf()` for \"density\", the density function (p. f. or p. d. f.)\n",
    "* `.rvs()` for \"random\", a random variable having the specified distribution\n",
    "\n",
    "\n",
    "\n",
    "Distributions | Functions \n",
    "--------------|----------\n",
    "Normal |\tnorm\t\n",
    "Binomial |\tbinom\t\n",
    "Uniform\t| unif\t\n",
    "bernoulli |\tbernoulli\t\n",
    "Chi-Square |\tchisquare\t\n",
    "Exponential |\texpon\n",
    "F  | \tf\t\n",
    "Student  | t\t\n",
    "Negative Binomial | nbinom\t\n",
    "Poisson\t| poisson\t\n",
    "\n",
    "\n",
    "## Random Number Generation<a class = anchor id = anchor3 ></a>\n",
    "\n",
    "In class, you have learned about different probability distributions.\n",
    "You can draw random numbers from existing distributions. It means that you can generate a set of random numbers that are distributed according to a specific function. Using r as the root and the abreviation for the specific distribution you can generate the random numbers, see examples below. "
   ]
  },
  {
   "cell_type": "code",
   "execution_count": 47,
   "metadata": {
    "deletable": false,
    "nbgrader": {
     "cell_type": "code",
     "checksum": "5608370f2c77e9fdd1d0b4c130d7f244",
     "grade": false,
     "grade_id": "cell-67693ee646aac970",
     "locked": false,
     "schema_version": 3,
     "solution": true,
     "task": false
    }
   },
   "outputs": [
    {
     "name": "stdout",
     "output_type": "stream",
     "text": [
      "6\n"
     ]
    }
   ],
   "source": [
    "import random\n",
    "from random import randrange, uniform\n",
    "\n",
    "# Generate one random integer between 0, 25\n",
    "random.seed(97)\n",
    "n = random.randint(0,25)\n",
    "print(n)"
   ]
  },
  {
   "cell_type": "code",
   "execution_count": 48,
   "metadata": {
    "deletable": false,
    "editable": false,
    "nbgrader": {
     "cell_type": "code",
     "checksum": "198ff38552330d1b423b6d49793e4073",
     "grade": true,
     "grade_id": "cell-b2a3ea9497ed92c3",
     "locked": true,
     "points": 1,
     "schema_version": 3,
     "solution": false,
     "task": false
    }
   },
   "outputs": [],
   "source": [
    "# Autograder cell -do not delete it"
   ]
  },
  {
   "cell_type": "code",
   "execution_count": 49,
   "metadata": {
    "deletable": false,
    "nbgrader": {
     "cell_type": "code",
     "checksum": "489b633e2c7454d7e969adfccc60895b",
     "grade": false,
     "grade_id": "cell-7e1d0628e39c4f21",
     "locked": false,
     "schema_version": 3,
     "solution": true,
     "task": false
    }
   },
   "outputs": [
    {
     "name": "stdout",
     "output_type": "stream",
     "text": [
      "Random sample without replacement\n",
      " [24, 54, 47, 6, 73]\n"
     ]
    }
   ],
   "source": [
    "# Get 5 random integers from 0 to 100\n",
    "random.seed(97)\n",
    "# A sample of those numbers without replacement, name it nwr\n",
    "print('Random sample without replacement\\n', random.sample(range(0,100), 5))"
   ]
  },
  {
   "cell_type": "code",
   "execution_count": 50,
   "metadata": {
    "deletable": false,
    "editable": false,
    "nbgrader": {
     "cell_type": "code",
     "checksum": "c02c033750ee0a2adeb6a9764b70b55d",
     "grade": true,
     "grade_id": "cell-dad991be3ff2878b",
     "locked": true,
     "points": 1,
     "schema_version": 3,
     "solution": false,
     "task": false
    }
   },
   "outputs": [],
   "source": [
    "# Autograder cell -do not delete it"
   ]
  },
  {
   "cell_type": "code",
   "execution_count": 51,
   "metadata": {
    "deletable": false,
    "nbgrader": {
     "cell_type": "code",
     "checksum": "8d7271cdcc8151cd01cefcd6d1e25d23",
     "grade": false,
     "grade_id": "cell-dac98311833ba3a2",
     "locked": false,
     "schema_version": 3,
     "solution": true,
     "task": false
    }
   },
   "outputs": [
    {
     "name": "stdout",
     "output_type": "stream",
     "text": [
      "See how without the seed the sample is different:\n",
      " [2, 71, 99, 5, 95]\n"
     ]
    }
   ],
   "source": [
    "# Get 5 random integers from 0 to 100 (no seed this time), name it nwr_noseed\n",
    "print('See how without the seed the sample is different:\\n', random.sample(range(0,100), k=5))"
   ]
  },
  {
   "cell_type": "code",
   "execution_count": 52,
   "metadata": {
    "deletable": false,
    "editable": false,
    "nbgrader": {
     "cell_type": "code",
     "checksum": "1c22afc25636747f0c8e78c14638a89a",
     "grade": true,
     "grade_id": "cell-aa1ed282f8278e43",
     "locked": true,
     "points": 1,
     "schema_version": 3,
     "solution": false,
     "task": false
    }
   },
   "outputs": [],
   "source": [
    "# Autograder cell -do not delete it"
   ]
  },
  {
   "cell_type": "code",
   "execution_count": 53,
   "metadata": {
    "deletable": false,
    "nbgrader": {
     "cell_type": "code",
     "checksum": "1963b03678548f0ca42f628b9f951225",
     "grade": false,
     "grade_id": "cell-646e157d8dc68b17",
     "locked": false,
     "schema_version": 3,
     "solution": true,
     "task": false
    }
   },
   "outputs": [
    {
     "name": "stdout",
     "output_type": "stream",
     "text": [
      "Random sample with replacement\n",
      " [19, 80, 37, 84, 79]\n"
     ]
    }
   ],
   "source": [
    "# Choose a random sample with replacement, with seed 97, name it s1\n",
    "random.seed(97)\n",
    "print('Random sample with replacement\\n', random.choices(range(0,100), k=5))"
   ]
  },
  {
   "cell_type": "code",
   "execution_count": 54,
   "metadata": {
    "deletable": false,
    "editable": false,
    "nbgrader": {
     "cell_type": "code",
     "checksum": "f4e426d97bd8440818d348a162ba0d41",
     "grade": true,
     "grade_id": "cell-9c07673b00039499",
     "locked": true,
     "points": 1,
     "schema_version": 3,
     "solution": false,
     "task": false
    }
   },
   "outputs": [],
   "source": [
    "# Autograder cell -do not delete it"
   ]
  },
  {
   "cell_type": "code",
   "execution_count": 55,
   "metadata": {
    "deletable": false,
    "nbgrader": {
     "cell_type": "code",
     "checksum": "2a6af62de64521ee8840c1a435ecdc9f",
     "grade": false,
     "grade_id": "cell-2d206bc0c2d0253a",
     "locked": false,
     "schema_version": 3,
     "solution": true,
     "task": false
    }
   },
   "outputs": [
    {
     "name": "stdout",
     "output_type": "stream",
     "text": [
      "3\n"
     ]
    }
   ],
   "source": [
    "# randrange(0,10) gives you an integer value, name it r1 and print it\n",
    "random.seed(97)\n",
    "print(randrange(0,10))"
   ]
  },
  {
   "cell_type": "code",
   "execution_count": 56,
   "metadata": {
    "deletable": false,
    "editable": false,
    "nbgrader": {
     "cell_type": "code",
     "checksum": "d8c36e6c242abeb7e592b19967fd7000",
     "grade": true,
     "grade_id": "cell-2975d42d33bc08ac",
     "locked": true,
     "points": 1,
     "schema_version": 3,
     "solution": false,
     "task": false
    }
   },
   "outputs": [],
   "source": [
    "# Autograder cell -do not delete it"
   ]
  },
  {
   "cell_type": "code",
   "execution_count": 57,
   "metadata": {
    "deletable": false,
    "nbgrader": {
     "cell_type": "code",
     "checksum": "405113b06bba93a7652e12275ad0bf17",
     "grade": false,
     "grade_id": "cell-6eac1a5608858778",
     "locked": false,
     "schema_version": 3,
     "solution": true,
     "task": false
    }
   },
   "outputs": [
    {
     "name": "stdout",
     "output_type": "stream",
     "text": [
      "1.9453724793318106\n"
     ]
    }
   ],
   "source": [
    "# uniform(0,10) gives you a floating-point value, name it u1 and print it\n",
    "random.seed(97)\n",
    "print(uniform(0,10))"
   ]
  },
  {
   "cell_type": "code",
   "execution_count": 58,
   "metadata": {
    "deletable": false,
    "editable": false,
    "nbgrader": {
     "cell_type": "code",
     "checksum": "2f156043705c6879e81f4a6079c03638",
     "grade": true,
     "grade_id": "cell-d4477c8dff67ca02",
     "locked": true,
     "points": 1,
     "schema_version": 3,
     "solution": false,
     "task": false
    }
   },
   "outputs": [],
   "source": [
    "# Autograder cell -do not delete it"
   ]
  },
  {
   "cell_type": "code",
   "execution_count": 59,
   "metadata": {},
   "outputs": [
    {
     "name": "stdout",
     "output_type": "stream",
     "text": [
      "A sample from an object with strings ['220', 'p', 'm', 'blue', 'r']\n"
     ]
    }
   ],
   "source": [
    "l=['m','n','p','o', 'blue', 'r', '220']\n",
    "print('A sample from an object with strings', random.sample(l, k=5))"
   ]
  },
  {
   "cell_type": "markdown",
   "metadata": {
    "deletable": false,
    "editable": false,
    "nbgrader": {
     "cell_type": "markdown",
     "checksum": "3fe3b7b16da45b352cac332793011d37",
     "grade": false,
     "grade_id": "cell-79cce99674350b38",
     "locked": true,
     "schema_version": 3,
     "solution": false,
     "task": false
    }
   },
   "source": [
    "## The Uniform Distribution <a class = anchor id = anchor4 ></a>\n",
    "\n",
    "Where every value between a specified minimun and maximun has an equal probability of ocurrence. The function in Python that allows you to do that is data_uniform = uniform.rvs(size=n, loc = start, scale=width)\n",
    "the default is uniform between 0 and 1\n",
    "\n",
    "You will need the package random, and module uniform from scipy.stats. \n",
    "\n",
    "* Set the seed at 123 for reproducibility at each step\n",
    "* v1 is one random number from the uniform distribution between 0 and 1 \n",
    "* v2 is a series or vector of 5 numbers from the uniform distribution between 0 and 1 \n",
    "* v3 is a vector of 5 random numbers between 0 and 100\n",
    "* print the three vectors\n"
   ]
  },
  {
   "cell_type": "code",
   "execution_count": 60,
   "metadata": {
    "deletable": false,
    "nbgrader": {
     "cell_type": "code",
     "checksum": "99642882c35499fc74e27dec61a4060a",
     "grade": false,
     "grade_id": "cell-86952dc8116dfe47",
     "locked": false,
     "schema_version": 3,
     "solution": true,
     "task": false
    }
   },
   "outputs": [
    {
     "name": "stdout",
     "output_type": "stream",
     "text": [
      "0.6964691855978616\n"
     ]
    }
   ],
   "source": [
    "# package set up for \n",
    "import random\n",
    "import scipy.stats as stats\n",
    "# import the inform distribution \n",
    "from scipy.stats import uniform\n",
    "# Set the seed at 123 for reproducibility at each step\n",
    "# v1 is one random number from the uniform distribution between 0 and 1 \n",
    "np.random.seed(123)\n",
    "# one option is to do it directly from the scipy.stats \n",
    "v1 = uniform.rvs()\n",
    "print(v1)"
   ]
  },
  {
   "cell_type": "code",
   "execution_count": 61,
   "metadata": {
    "deletable": false,
    "editable": false,
    "nbgrader": {
     "cell_type": "code",
     "checksum": "0c81a293dca0215acd8bcf41efe2be78",
     "grade": true,
     "grade_id": "cell-77d8fc1b06a99df5",
     "locked": true,
     "points": 1,
     "schema_version": 3,
     "solution": false,
     "task": false
    }
   },
   "outputs": [],
   "source": [
    "# Autograder cell -do not delete it"
   ]
  },
  {
   "cell_type": "code",
   "execution_count": 62,
   "metadata": {
    "deletable": false,
    "nbgrader": {
     "cell_type": "code",
     "checksum": "6c24b4cd01348fe1b14af09398f7f4cc",
     "grade": false,
     "grade_id": "cell-6af4f4ce29154998",
     "locked": false,
     "schema_version": 3,
     "solution": true,
     "task": false
    }
   },
   "outputs": [
    {
     "name": "stdout",
     "output_type": "stream",
     "text": [
      "[0.69646919 0.28613933 0.22685145 0.55131477 0.71946897]\n"
     ]
    }
   ],
   "source": [
    "# v2 is a series or vector of 5 numbers from the uniform distribution between 0 and 1 \n",
    "np.random.seed(123)\n",
    "v2=uniform.rvs(size=5)\n",
    "print(v2)"
   ]
  },
  {
   "cell_type": "code",
   "execution_count": 63,
   "metadata": {
    "deletable": false,
    "editable": false,
    "nbgrader": {
     "cell_type": "code",
     "checksum": "3ecbf817aebb6d065b0afd4d7e5ccf89",
     "grade": true,
     "grade_id": "cell-a0121224acfc610c",
     "locked": true,
     "points": 1,
     "schema_version": 3,
     "solution": false,
     "task": false
    }
   },
   "outputs": [],
   "source": [
    "# Autograder cell -do not delete it"
   ]
  },
  {
   "cell_type": "code",
   "execution_count": 64,
   "metadata": {
    "deletable": false,
    "nbgrader": {
     "cell_type": "code",
     "checksum": "cf81103a9f45759ae841fa3a281c6cf2",
     "grade": false,
     "grade_id": "cell-3603082bf2e0be04",
     "locked": false,
     "schema_version": 3,
     "solution": true,
     "task": false
    }
   },
   "outputs": [
    {
     "name": "stdout",
     "output_type": "stream",
     "text": [
      "[69.64691856 28.6139335  22.68514536 55.13147691 71.94689698]\n"
     ]
    }
   ],
   "source": [
    "# v3 is a vector of 5 random numbers between 0 and 100\n",
    "np.random.seed(123)\n",
    "v3=uniform.rvs(size=5,loc=0,scale=100)\n",
    "print(v3)"
   ]
  },
  {
   "cell_type": "code",
   "execution_count": 65,
   "metadata": {
    "deletable": false,
    "editable": false,
    "nbgrader": {
     "cell_type": "code",
     "checksum": "467dc8e32cb6d80f421f49bfedabfa71",
     "grade": true,
     "grade_id": "cell-ac84c718a407929a",
     "locked": true,
     "points": 1,
     "schema_version": 3,
     "solution": false,
     "task": false
    }
   },
   "outputs": [],
   "source": [
    "# Autograder cell -do not delete it"
   ]
  },
  {
   "cell_type": "markdown",
   "metadata": {
    "deletable": false,
    "editable": false,
    "nbgrader": {
     "cell_type": "markdown",
     "checksum": "1169afffbee1355c7a2e159a3ef633e4",
     "grade": false,
     "grade_id": "cell-adc14085cc6e1ab5",
     "locked": true,
     "schema_version": 3,
     "solution": false,
     "task": false
    }
   },
   "source": [
    "## The Normal Distribution <a class = anchor id = anchor5></a>\n",
    "\n",
    "To generate numbers from a normal distribution, use norm from `scipy.stats()`"
   ]
  },
  {
   "cell_type": "code",
   "execution_count": 66,
   "metadata": {
    "deletable": false,
    "nbgrader": {
     "cell_type": "code",
     "checksum": "719b1f86f17f6deac6ff2a27e51a4b15",
     "grade": false,
     "grade_id": "cell-6194f5ab4941870c",
     "locked": false,
     "schema_version": 3,
     "solution": true,
     "task": false
    }
   },
   "outputs": [
    {
     "name": "stdout",
     "output_type": "stream",
     "text": [
      "[-0.36180973  0.6016813  -0.73166293  1.15042526]\n",
      "[-3.61809732  6.01681305 -7.31662931 11.50425265]\n"
     ]
    }
   ],
   "source": [
    "import random\n",
    "# import normal distribution\n",
    "from scipy.stats import norm\n",
    "np.random.seed(578)\n",
    "v1=np.random.normal(0,1,4)\n",
    "print(v1)\n",
    "#random.seed(123)\n",
    "#np.random.seed(578)\n",
    "data_normal=norm.rvs(size=4, loc=0, scale=10, random_state=578)\n",
    "print(data_normal)\n",
    "\n",
    "#loc=0, scale=1, size=1, random_state=578\n",
    "#data_normal =  # rvs(loc=0, scale=1, size=1, random_state=None)"
   ]
  },
  {
   "cell_type": "code",
   "execution_count": 67,
   "metadata": {
    "deletable": false,
    "editable": false,
    "nbgrader": {
     "cell_type": "code",
     "checksum": "30db8664c068d87b3c60896d85673996",
     "grade": true,
     "grade_id": "cell-43982dad12e5309a",
     "locked": true,
     "points": 2,
     "schema_version": 3,
     "solution": false,
     "task": false
    }
   },
   "outputs": [],
   "source": [
    "# Autograder cell -do not delete it"
   ]
  },
  {
   "cell_type": "markdown",
   "metadata": {},
   "source": [
    "You can use the `.cdf()` function to calculate probabilities. For example : What is the $P(X<30.5)$ when is is distributed normal with mean 50 and standard deviation equal to 30."
   ]
  },
  {
   "cell_type": "code",
   "execution_count": 68,
   "metadata": {
    "deletable": false,
    "nbgrader": {
     "cell_type": "code",
     "checksum": "8856358b36fa0f19ee80538515ff7009",
     "grade": false,
     "grade_id": "cell-56a58c915438192a",
     "locked": false,
     "schema_version": 3,
     "solution": true,
     "task": false
    }
   },
   "outputs": [
    {
     "name": "stdout",
     "output_type": "stream",
     "text": [
      "\n",
      "Probability of x<30.5 if x~N(50,30) is  25.8 %\n"
     ]
    }
   ],
   "source": [
    "#scipy.stats.norm(mean, standard deviation).cdf(x)\n",
    "#scipy.stats.norm.cdf(x, mean, standard deviation)\n",
    "p30 = stats.norm.cdf(30.5, 50, 30)\n",
    "print(\"\\nProbability of x<30.5 if x~N(50,30) is \", round(p30,3)*100 ,'%')"
   ]
  },
  {
   "cell_type": "code",
   "execution_count": 69,
   "metadata": {
    "deletable": false,
    "editable": false,
    "nbgrader": {
     "cell_type": "code",
     "checksum": "72e43d8a957e7b113ee4f3b2c562377f",
     "grade": true,
     "grade_id": "cell-eac0b58db6eaa9b3",
     "locked": true,
     "points": 1,
     "schema_version": 3,
     "solution": false,
     "task": false
    }
   },
   "outputs": [],
   "source": [
    "# Autograder cell -do not delete it"
   ]
  },
  {
   "cell_type": "markdown",
   "metadata": {
    "deletable": false,
    "editable": false,
    "nbgrader": {
     "cell_type": "markdown",
     "checksum": "ba3d84a76a2b16de7bdb2cb01bf2c0eb",
     "grade": false,
     "grade_id": "cell-edc463193bb11062",
     "locked": true,
     "schema_version": 3,
     "solution": false,
     "task": false
    }
   },
   "source": [
    "# More Graphs with Seaborn: Histograms <a class = anchor id = anchor6></a>\n",
    "\n",
    "A histogram is bar graph that shows the frequency of occurence of each value in a sample. \n",
    "\n",
    "The package **seaborn** let's you create a histogram with `.displot()`\n",
    "\n",
    "`seaborn.displot(data=None, *, x=None, y=None, hue=None, row=None, col=None, weights=None, kind='hist', rug=False, rug_kws=None, log_scale=None, legend=True, palette=None, hue_order=None, hue_norm=None, color=None, col_wrap=None, row_order=None, col_order=None, height=5, aspect=1, facet_kws=None, **kwargs)¶`\n",
    "\n",
    "\n",
    "you can check [here](https://seaborn.pydata.org/generated/seaborn.displot.html#seaborn.displot) "
   ]
  },
  {
   "cell_type": "code",
   "execution_count": 70,
   "metadata": {},
   "outputs": [],
   "source": [
    "# Warning appears that distplot will be removed in future versions of seaborn \n",
    "# Maybe the code should be updated using displot or histplot instead so students aren't concerned \n",
    "# About their knowlege of distplot no longer being valid "
   ]
  },
  {
   "cell_type": "code",
   "execution_count": 71,
   "metadata": {
    "deletable": false,
    "nbgrader": {
     "cell_type": "code",
     "checksum": "66b86e465b2da6bbdfe92868eff19409",
     "grade": false,
     "grade_id": "cell-ee5069861b9e22ff",
     "locked": false,
     "schema_version": 3,
     "solution": true,
     "task": false
    }
   },
   "outputs": [],
   "source": [
    "import random\n",
    "from scipy.stats import norm\n",
    "np.random.seed(seed=123)\n",
    "data_normal = norm.rvs(size=400, loc=50, scale=10)"
   ]
  },
  {
   "cell_type": "code",
   "execution_count": 72,
   "metadata": {
    "deletable": false,
    "editable": false,
    "nbgrader": {
     "cell_type": "code",
     "checksum": "0bea08ee0c85892513b59d6901ee1ba5",
     "grade": true,
     "grade_id": "cell-cd764aa4b3c98042",
     "locked": true,
     "points": 2,
     "schema_version": 3,
     "solution": false,
     "task": false
    }
   },
   "outputs": [],
   "source": [
    "# Autograder cell -do not delete it"
   ]
  },
  {
   "cell_type": "markdown",
   "metadata": {
    "deletable": false,
    "editable": false,
    "nbgrader": {
     "cell_type": "markdown",
     "checksum": "1e5461d0e926690567882570e7f6819d",
     "grade": false,
     "grade_id": "cell-88d0bd26d22b2426",
     "locked": true,
     "schema_version": 3,
     "solution": false,
     "task": false
    }
   },
   "source": [
    "**Let's play arround with the arguments of histplot to change the aestetics of the histogram**\n",
    "* change color of the bars and the bar lines \n",
    "* changing the density line, style, color, width"
   ]
  },
  {
   "cell_type": "code",
   "execution_count": 73,
   "metadata": {},
   "outputs": [
    {
     "data": {
      "image/png": "[encoded data removed]",
      "text/plain": [
       "<Figure size 432x288 with 1 Axes>"
      ]
     },
     "metadata": {
      "needs_background": "light"
     },
     "output_type": "display_data"
    }
   ],
   "source": [
    "#ax = sns.histplot(data_normal, kde=True, edgecolor=\"none\")\n",
    "\n",
    "ax = sns.histplot(data_normal, kde=True, color=\"yellow\", \n",
    "                 edgecolor=\"purple\", linewidth=4, linestyle= \"--\", \n",
    "                  line_kws={'color': 'red', 'linewidth': 4, 'linestyle':':'})\n",
    "# the color of the density line overridden by the histogram's color \n",
    "#If you really need a histplot with a kde in a different color, you can also change the color afterwards. For example:\n",
    "\n",
    "ax.lines[0].set_color('green')\n",
    "ax.set(title=\"A Simple Histogram with seaborn\", xlabel='Normal ', ylabel='Frequency'); # ; eliminates the cell output message"
   ]
  },
  {
   "cell_type": "code",
   "execution_count": 74,
   "metadata": {},
   "outputs": [
    {
     "data": {
      "image/png": "[encoded data removed]",
      "text/plain": [
       "<Figure size 432x288 with 1 Axes>"
      ]
     },
     "metadata": {
      "needs_background": "light"
     },
     "output_type": "display_data"
    }
   ],
   "source": [
    "seed = np.random.seed(seed=123)\n",
    "#rvs(loc=0, scale=1, size=1, random_state=None\n",
    "data_uniform = uniform.rvs(size=1000000, loc = 0, scale=10, random_state=np.random.RandomState(123)) \n",
    "ax = sns.histplot(data_uniform,\n",
    "                  bins=10,\n",
    "                  kde=True,\n",
    "                 color='skyblue',edgecolor=\"red\")\n",
    "ax.set(title=\"A Simple Histogram of the Uniform Distribution with Seaborn\",xlabel='Uniform ', ylabel='Frequency');\n",
    "\n"
   ]
  },
  {
   "cell_type": "code",
   "execution_count": 75,
   "metadata": {},
   "outputs": [
    {
     "data": {
      "image/png": "[encoded data removed]",
      "text/plain": [
       "<Figure size 1120x640 with 1 Axes>"
      ]
     },
     "metadata": {},
     "output_type": "display_data"
    }
   ],
   "source": [
    "fig=plt.figure(figsize=(14, 8), dpi= 80, facecolor='w', edgecolor='k')\n",
    "# We are not setting the seed here so it your graph and mine will be different. \n",
    "data_normal = norm.rvs(size=4000, loc = 50, scale=10) \n",
    "ax = sns.histplot(data_normal, kde=True, edgecolor=\"none\", color=\"purple\")\n",
    "ax.set(xlabel='x ', ylabel='Frequency');"
   ]
  },
  {
   "cell_type": "code",
   "execution_count": 76,
   "metadata": {},
   "outputs": [
    {
     "data": {
      "image/png": "[encoded data removed]",
      "text/plain": [
       "<Figure size 922.025x595.44 with 1 Axes>"
      ]
     },
     "metadata": {
      "needs_background": "light"
     },
     "output_type": "display_data"
    }
   ],
   "source": [
    "from scipy.stats import binom\n",
    "# set a seed to 123 so you can have reproducible results \n",
    "seed = np.random.seed(seed=123)\n",
    "# create a random normal variable of 10000 observations mean 50 and std 5\n",
    "data_normal = norm.rvs(size=10000, loc = 50, scale=5) \n",
    "# create a random binomial variable of 10000 where n=100 and p=0.5\n",
    "data_binom = binom.rvs(n=100,p=0.5,size=10000)\n",
    "# create a dataframe with both binomial and normal variable to do a histogram where they both overlap\n",
    "data=pd.DataFrame({\"Binomial\":data_binom, \"Normal\":data_normal})\n",
    "\n",
    "ax=sns.displot(data, kind='kde', height=8.27,  aspect=11.7/8.27);   \n",
    "\n",
    "ax.set(title=\"Convergence of the Binomal to the Normal Distribution for Big Samples\", ylabel='Density');\n"
   ]
  },
  {
   "cell_type": "markdown",
   "metadata": {
    "deletable": false,
    "editable": false,
    "nbgrader": {
     "cell_type": "markdown",
     "checksum": "32a7ebce98d05cab71d9f1357d580eb3",
     "grade": false,
     "grade_id": "cell-cb133fe9c151afb2",
     "locked": true,
     "schema_version": 3,
     "solution": false,
     "task": false
    }
   },
   "source": [
    "A graph that shows the convergence of the binomial to the normal distribution for big enough samples. "
   ]
  },
  {
   "cell_type": "markdown",
   "metadata": {
    "deletable": false,
    "editable": false,
    "nbgrader": {
     "cell_type": "markdown",
     "checksum": "b7d625f23478cd7ea82aed07afc08a33",
     "grade": false,
     "grade_id": "cell-c5695249ea2ab389",
     "locked": true,
     "schema_version": 3,
     "solution": false,
     "task": false
    }
   },
   "source": [
    "<style>\n",
    "div.gray { background-color:#dbdbdb; border-radius: 5px; padding: 20px;}\n",
    "</style>\n",
    "<div class = \"gray\">\n",
    "\n",
    "**Packages used in this document**\n",
    "\n",
    "`scipy.stats`\n",
    "`matplot.lib`\n",
    "`random`\n",
    "`numpy` \n",
    "`seaborn`\n",
    "`scipt.special`\n",
    "    \n",
    "\n",
    "</div>"
   ]
  },
  {
   "cell_type": "markdown",
   "metadata": {
    "deletable": false,
    "editable": false,
    "nbgrader": {
     "cell_type": "markdown",
     "checksum": "41ee808edfc4250b96e2f4bddc4e2f5c",
     "grade": false,
     "grade_id": "cell-6623a47e83577612",
     "locked": true,
     "schema_version": 3,
     "solution": false,
     "task": false
    }
   },
   "source": [
    "&nbsp;\n",
    "<hr />\n",
    "<p style=\"font-family:palatino; text-align: center;font-size: 15px\">ECON220 Python Programming Laboratory</a></p>\n",
    "<p style=\"font-family:palatino; text-align: center;font-size: 15px\">Professor <em> Paloma Lopez de mesa Moyano</em></a></p>\n",
    "<p style=\"font-family:palatino; text-align: center;font-size: 15px\"><span style=\"color: #6666FF;\"><em>paloma.moyano@emory.edu</em></span></p>\n",
    "\n",
    "<p style=\"font-family:palatino; text-align: center;font-size: 15px\">Department of Economics</a></p>\n",
    "<p style=\"font-family:palatino; text-align: center; color: #012169;font-size: 15px\">Emory University</a></p>\n",
    "\n",
    "&nbsp;"
   ]
  },
  {
   "cell_type": "code",
   "execution_count": null,
   "metadata": {},
   "outputs": [],
   "source": [
    "# !jupyter nbconvert --to html nameoffile.ipynb"
   ]
  }
 ],
 "metadata": {
  "hide_input": false,
  "kernelspec": {
   "display_name": "Python 3 (ipykernel)",
   "language": "python",
   "name": "python3"
  },
  "language_info": {
   "codemirror_mode": {
    "name": "ipython",
    "version": 3
   },
   "file_extension": ".py",
   "mimetype": "text/x-python",
   "name": "python",
   "nbconvert_exporter": "python",
   "pygments_lexer": "ipython3",
   "version": "3.9.7"
  },
  "toc-autonumbering": false
 },
 "nbformat": 4,
 "nbformat_minor": 4
}
