{
 "cells": [
  {
   "cell_type": "markdown",
   "metadata": {},
   "source": [
    "<style>\n",
    "div.blue{\n",
    "    background-color:#e6f0ff; \n",
    "    border-radius: 5px; \n",
    "    padding: 20px;}\n",
    "</style> \n",
    "\n",
    "<style>\n",
    "div.warn {    \n",
    "    background-color: #fcf2f2;\n",
    "    border-color: #dFb5b4;\n",
    "    border-left: 5px solid #dfb5b4;\n",
    "    padding: 0.5em;\n",
    "    }\n",
    " </style>\n",
    "    \n",
    "<h1 style=\"text-align: center; color: purple;\" markdown=\"1\">Econ 320 Python Lab  Multiple Linear Regression<span class=\"tocSkip\"></span></h1>\n",
    "<h2 style=\"text-align: center; color: purple;\" markdown=\"1\">Handout<span class=\"tocSkip\"></span></h2>"
   ]
  },
  {
   "cell_type": "markdown",
   "metadata": {},
   "source": [
    "## Table of contents \n",
    "\n",
    "* [Multiple linear regression](#anchor1)\n",
    "* [In class practice](#anchor2)\n",
    "    * [Partialling out the $\\beta's$](#anchor3)\n",
    "    * [Partialling $\\beta_1$](#anchor4)\n",
    "    * [Fitting the Residual to $y$](#anchor5)\n",
    "    * [Partialling out $\\beta_2$](#anchor6)\n",
    "    * [Fitting the Residual to $y$](#anchor7)"
   ]
  },
  {
   "cell_type": "markdown",
   "metadata": {},
   "source": [
    "## Multiple Linear Regression <a class = anchor id = anchor1></a>\n",
    "\n",
    "In economics you want to estimate models that have more than one explanatory variable like the model below: \n",
    "\n",
    "$$y=\\beta_0 + \\beta_1*x_1 + \\beta_2*x_2 + \\beta_3\n",
    "*x_3 + ... +\\beta_n\n",
    "*x_n +  \\mu$$\n",
    "\n",
    "Let's see how we can estimate a model like that in Python. \n",
    "\n",
    "Using the `ols()` function from the packages statsmodels, the process is as symple as adding more independent variables to your equation in the formula of the `smf.ols()` command. \n",
    "\n",
    ">`reg = smf.ols(formula = y ~ x1 + x2 + x3 + ... + xn , data=mydata)`\n",
    "\n",
    "The `~` in the formula separates the dependent variable from the independent variables or regressors. The constant is automatically added. Unless it is specified to be omitted. See how to do this below\n",
    "\n",
    ">`y ~ 0+ x1 + x2 + x3`\n",
    "\n",
    "After this you store the results in another object using the method `.fit()` and then use the `summary()` to obtain the table with all the regression results\n",
    "\n",
    ">`results= reg.fit() \n",
    "results.summary()\n",
    "`\n",
    "\n",
    "However if all you want is the table with your regression results you can use only one line of code to do that in just one step. \n",
    "\n",
    ">`smf.ols().fit().summary()`\n",
    "\n",
    "\n",
    "> The post estimation methods are the same for simple regression or multiple regression see previous handout for simple regression part2 "
   ]
  },
  {
   "cell_type": "code",
   "execution_count": 1,
   "metadata": {},
   "outputs": [],
   "source": [
    "# Import your packages \n",
    "import wooldridge as woo\n",
    "import numpy as np \n",
    "import pandas as pd\n",
    "import statsmodels.formula.api as smf"
   ]
  },
  {
   "cell_type": "markdown",
   "metadata": {},
   "source": [
    "## In class practice <a class = anchor id = anchor2></a>\n",
    "\n",
    "Use the data in wage1 from our previous handout to answer this question. \n",
    "\n",
    "We want to investigate the determinants of wages using this dataset. \n",
    "\n",
    "* Consider a model to explain wages, in terms of the years of education, experience and tenure.\n",
    "\n",
    "Let's do this adding a few variables at a time to see how things change. \n",
    "\n",
    "<font color='blue'>Model 1 </font>\n",
    "\n",
    " $$log(wage)= \\beta_0 + \\beta_1*education + \\beta_2*experience + u $$\n",
    " \n",
    "<font color='blue'>Model 2 </font> \n",
    "\n",
    "Adding experience squared to allow for non linearity on the experience and the tenure variable\n",
    "\n",
    "$$log(wage)= \\beta_0 + \\beta_1*education + \\beta_2*experience + \\beta_3*experience^2 +  \\beta_4*tenure + u $$\n",
    " \n",
    "* Estimate these model by OLS using **`smf.ols()`** save the objects use summary to show all the results.\n"
   ]
  },
  {
   "cell_type": "code",
   "execution_count": 4,
   "metadata": {},
   "outputs": [
    {
     "name": "stdout",
     "output_type": "stream",
     "text": [
      "Regression results model 1: \n",
      "                            OLS Regression Results                            \n",
      "==============================================================================\n",
      "Dep. Variable:           np.log(wage)   R-squared:                       0.249\n",
      "Model:                            OLS   Adj. R-squared:                  0.246\n",
      "Method:                 Least Squares   F-statistic:                     86.86\n",
      "Date:                Sat, 01 Oct 2022   Prob (F-statistic):           2.68e-33\n",
      "Time:                        20:56:45   Log-Likelihood:                -338.01\n",
      "No. Observations:                 526   AIC:                             682.0\n",
      "Df Residuals:                     523   BIC:                             694.8\n",
      "Df Model:                           2                                         \n",
      "Covariance Type:            nonrobust                                         \n",
      "==============================================================================\n",
      "                 coef    std err          t      P>|t|      [0.025      0.975]\n",
      "------------------------------------------------------------------------------\n",
      "Intercept      0.2169      0.109      1.997      0.046       0.004       0.430\n",
      "educ           0.0979      0.008     12.848      0.000       0.083       0.113\n",
      "exper          0.0103      0.002      6.653      0.000       0.007       0.013\n",
      "==============================================================================\n",
      "Omnibus:                        7.740   Durbin-Watson:                   1.789\n",
      "Prob(Omnibus):                  0.021   Jarque-Bera (JB):                9.485\n",
      "Skew:                           0.165   Prob(JB):                      0.00872\n",
      "Kurtosis:                       3.569   Cond. No.                         130.\n",
      "==============================================================================\n",
      "\n",
      "Notes:\n",
      "[1] Standard Errors assume that the covariance matrix of the errors is correctly specified.\n",
      "\n"
     ]
    }
   ],
   "source": [
    "# Model 1 \n",
    "wage1 = woo.dataWoo('wage1')\n",
    "reg = smf.ols(formula='np.log(wage)~educ + exper ', \n",
    "              data=wage1).fit().summary()\n",
    "\n",
    "print(f'Regression results model 1: \\n{reg}\\n')\n",
    "#reg"
   ]
  },
  {
   "cell_type": "markdown",
   "metadata": {},
   "source": [
    "<font color='blue'>\n",
    "\n",
    "> To add a cuadractic term, use the function **`np.power(x, 2)`**, this way you can include the term directly into the regression instead of creating another series\n",
    "in your dataframe. \n",
    "\n",
    "> You can also add `I(x**2)` to the formula. \n",
    "> In both methods if you need to add a higher power you just change the 2 for the number that you need. `I(x**4)` for example if you want $x^4$. See both methods below:\n",
    "    </font> "
   ]
  },
  {
   "cell_type": "code",
   "execution_count": 5,
   "metadata": {},
   "outputs": [
    {
     "data": {
      "text/html": [
       "<table class=\"simpletable\">\n",
       "<caption>OLS Regression Results</caption>\n",
       "<tr>\n",
       "  <th>Dep. Variable:</th>      <td>np.log(wage)</td>   <th>  R-squared:         </th> <td>   0.359</td>\n",
       "</tr>\n",
       "<tr>\n",
       "  <th>Model:</th>                   <td>OLS</td>       <th>  Adj. R-squared:    </th> <td>   0.355</td>\n",
       "</tr>\n",
       "<tr>\n",
       "  <th>Method:</th>             <td>Least Squares</td>  <th>  F-statistic:       </th> <td>   73.09</td>\n",
       "</tr>\n",
       "<tr>\n",
       "  <th>Date:</th>             <td>Sat, 01 Oct 2022</td> <th>  Prob (F-statistic):</th> <td>3.81e-49</td>\n",
       "</tr>\n",
       "<tr>\n",
       "  <th>Time:</th>                 <td>20:57:23</td>     <th>  Log-Likelihood:    </th> <td> -296.29</td>\n",
       "</tr>\n",
       "<tr>\n",
       "  <th>No. Observations:</th>      <td>   526</td>      <th>  AIC:               </th> <td>   602.6</td>\n",
       "</tr>\n",
       "<tr>\n",
       "  <th>Df Residuals:</th>          <td>   521</td>      <th>  BIC:               </th> <td>   623.9</td>\n",
       "</tr>\n",
       "<tr>\n",
       "  <th>Df Model:</th>              <td>     4</td>      <th>                     </th>     <td> </td>   \n",
       "</tr>\n",
       "<tr>\n",
       "  <th>Covariance Type:</th>      <td>nonrobust</td>    <th>                     </th>     <td> </td>   \n",
       "</tr>\n",
       "</table>\n",
       "<table class=\"simpletable\">\n",
       "<tr>\n",
       "           <td></td>             <th>coef</th>     <th>std err</th>      <th>t</th>      <th>P>|t|</th>  <th>[0.025</th>    <th>0.975]</th>  \n",
       "</tr>\n",
       "<tr>\n",
       "  <th>Intercept</th>          <td>    0.1983</td> <td>    0.102</td> <td>    1.945</td> <td> 0.052</td> <td>   -0.002</td> <td>    0.399</td>\n",
       "</tr>\n",
       "<tr>\n",
       "  <th>educ</th>               <td>    0.0853</td> <td>    0.007</td> <td>   11.873</td> <td> 0.000</td> <td>    0.071</td> <td>    0.099</td>\n",
       "</tr>\n",
       "<tr>\n",
       "  <th>exper</th>              <td>    0.0329</td> <td>    0.005</td> <td>    6.425</td> <td> 0.000</td> <td>    0.023</td> <td>    0.043</td>\n",
       "</tr>\n",
       "<tr>\n",
       "  <th>np.power(exper, 2)</th> <td>   -0.0007</td> <td>    0.000</td> <td>   -5.945</td> <td> 0.000</td> <td>   -0.001</td> <td>   -0.000</td>\n",
       "</tr>\n",
       "<tr>\n",
       "  <th>tenure</th>             <td>    0.0208</td> <td>    0.003</td> <td>    6.938</td> <td> 0.000</td> <td>    0.015</td> <td>    0.027</td>\n",
       "</tr>\n",
       "</table>\n",
       "<table class=\"simpletable\">\n",
       "<tr>\n",
       "  <th>Omnibus:</th>       <td>14.093</td> <th>  Durbin-Watson:     </th> <td>   1.776</td>\n",
       "</tr>\n",
       "<tr>\n",
       "  <th>Prob(Omnibus):</th> <td> 0.001</td> <th>  Jarque-Bera (JB):  </th> <td>  26.057</td>\n",
       "</tr>\n",
       "<tr>\n",
       "  <th>Skew:</th>          <td>-0.114</td> <th>  Prob(JB):          </th> <td>2.20e-06</td>\n",
       "</tr>\n",
       "<tr>\n",
       "  <th>Kurtosis:</th>      <td> 4.066</td> <th>  Cond. No.          </th> <td>4.26e+03</td>\n",
       "</tr>\n",
       "</table><br/><br/>Notes:<br/>[1] Standard Errors assume that the covariance matrix of the errors is correctly specified.<br/>[2] The condition number is large, 4.26e+03. This might indicate that there are<br/>strong multicollinearity or other numerical problems."
      ],
      "text/plain": [
       "<class 'statsmodels.iolib.summary.Summary'>\n",
       "\"\"\"\n",
       "                            OLS Regression Results                            \n",
       "==============================================================================\n",
       "Dep. Variable:           np.log(wage)   R-squared:                       0.359\n",
       "Model:                            OLS   Adj. R-squared:                  0.355\n",
       "Method:                 Least Squares   F-statistic:                     73.09\n",
       "Date:                Sat, 01 Oct 2022   Prob (F-statistic):           3.81e-49\n",
       "Time:                        20:57:23   Log-Likelihood:                -296.29\n",
       "No. Observations:                 526   AIC:                             602.6\n",
       "Df Residuals:                     521   BIC:                             623.9\n",
       "Df Model:                           4                                         \n",
       "Covariance Type:            nonrobust                                         \n",
       "======================================================================================\n",
       "                         coef    std err          t      P>|t|      [0.025      0.975]\n",
       "--------------------------------------------------------------------------------------\n",
       "Intercept              0.1983      0.102      1.945      0.052      -0.002       0.399\n",
       "educ                   0.0853      0.007     11.873      0.000       0.071       0.099\n",
       "exper                  0.0329      0.005      6.425      0.000       0.023       0.043\n",
       "np.power(exper, 2)    -0.0007      0.000     -5.945      0.000      -0.001      -0.000\n",
       "tenure                 0.0208      0.003      6.938      0.000       0.015       0.027\n",
       "==============================================================================\n",
       "Omnibus:                       14.093   Durbin-Watson:                   1.776\n",
       "Prob(Omnibus):                  0.001   Jarque-Bera (JB):               26.057\n",
       "Skew:                          -0.114   Prob(JB):                     2.20e-06\n",
       "Kurtosis:                       4.066   Cond. No.                     4.26e+03\n",
       "==============================================================================\n",
       "\n",
       "Notes:\n",
       "[1] Standard Errors assume that the covariance matrix of the errors is correctly specified.\n",
       "[2] The condition number is large, 4.26e+03. This might indicate that there are\n",
       "strong multicollinearity or other numerical problems.\n",
       "\"\"\""
      ]
     },
     "execution_count": 5,
     "metadata": {},
     "output_type": "execute_result"
    }
   ],
   "source": [
    "# Model 2\n",
    "#Method 1 \n",
    "smf.ols(formula='np.log(wage) ~ educ + exper +  np.power(exper, 2) + tenure', \n",
    "              data=wage1).fit().summary()"
   ]
  },
  {
   "cell_type": "code",
   "execution_count": 6,
   "metadata": {},
   "outputs": [
    {
     "data": {
      "text/html": [
       "<table class=\"simpletable\">\n",
       "<caption>OLS Regression Results</caption>\n",
       "<tr>\n",
       "  <th>Dep. Variable:</th>      <td>np.log(wage)</td>   <th>  R-squared:         </th> <td>   0.359</td>\n",
       "</tr>\n",
       "<tr>\n",
       "  <th>Model:</th>                   <td>OLS</td>       <th>  Adj. R-squared:    </th> <td>   0.355</td>\n",
       "</tr>\n",
       "<tr>\n",
       "  <th>Method:</th>             <td>Least Squares</td>  <th>  F-statistic:       </th> <td>   73.09</td>\n",
       "</tr>\n",
       "<tr>\n",
       "  <th>Date:</th>             <td>Sat, 01 Oct 2022</td> <th>  Prob (F-statistic):</th> <td>3.81e-49</td>\n",
       "</tr>\n",
       "<tr>\n",
       "  <th>Time:</th>                 <td>20:57:52</td>     <th>  Log-Likelihood:    </th> <td> -296.29</td>\n",
       "</tr>\n",
       "<tr>\n",
       "  <th>No. Observations:</th>      <td>   526</td>      <th>  AIC:               </th> <td>   602.6</td>\n",
       "</tr>\n",
       "<tr>\n",
       "  <th>Df Residuals:</th>          <td>   521</td>      <th>  BIC:               </th> <td>   623.9</td>\n",
       "</tr>\n",
       "<tr>\n",
       "  <th>Df Model:</th>              <td>     4</td>      <th>                     </th>     <td> </td>   \n",
       "</tr>\n",
       "<tr>\n",
       "  <th>Covariance Type:</th>      <td>nonrobust</td>    <th>                     </th>     <td> </td>   \n",
       "</tr>\n",
       "</table>\n",
       "<table class=\"simpletable\">\n",
       "<tr>\n",
       "        <td></td>           <th>coef</th>     <th>std err</th>      <th>t</th>      <th>P>|t|</th>  <th>[0.025</th>    <th>0.975]</th>  \n",
       "</tr>\n",
       "<tr>\n",
       "  <th>Intercept</th>     <td>    0.1983</td> <td>    0.102</td> <td>    1.945</td> <td> 0.052</td> <td>   -0.002</td> <td>    0.399</td>\n",
       "</tr>\n",
       "<tr>\n",
       "  <th>educ</th>          <td>    0.0853</td> <td>    0.007</td> <td>   11.873</td> <td> 0.000</td> <td>    0.071</td> <td>    0.099</td>\n",
       "</tr>\n",
       "<tr>\n",
       "  <th>exper</th>         <td>    0.0329</td> <td>    0.005</td> <td>    6.425</td> <td> 0.000</td> <td>    0.023</td> <td>    0.043</td>\n",
       "</tr>\n",
       "<tr>\n",
       "  <th>I(exper ** 2)</th> <td>   -0.0007</td> <td>    0.000</td> <td>   -5.945</td> <td> 0.000</td> <td>   -0.001</td> <td>   -0.000</td>\n",
       "</tr>\n",
       "<tr>\n",
       "  <th>tenure</th>        <td>    0.0208</td> <td>    0.003</td> <td>    6.938</td> <td> 0.000</td> <td>    0.015</td> <td>    0.027</td>\n",
       "</tr>\n",
       "</table>\n",
       "<table class=\"simpletable\">\n",
       "<tr>\n",
       "  <th>Omnibus:</th>       <td>14.093</td> <th>  Durbin-Watson:     </th> <td>   1.776</td>\n",
       "</tr>\n",
       "<tr>\n",
       "  <th>Prob(Omnibus):</th> <td> 0.001</td> <th>  Jarque-Bera (JB):  </th> <td>  26.057</td>\n",
       "</tr>\n",
       "<tr>\n",
       "  <th>Skew:</th>          <td>-0.114</td> <th>  Prob(JB):          </th> <td>2.20e-06</td>\n",
       "</tr>\n",
       "<tr>\n",
       "  <th>Kurtosis:</th>      <td> 4.066</td> <th>  Cond. No.          </th> <td>4.26e+03</td>\n",
       "</tr>\n",
       "</table><br/><br/>Notes:<br/>[1] Standard Errors assume that the covariance matrix of the errors is correctly specified.<br/>[2] The condition number is large, 4.26e+03. This might indicate that there are<br/>strong multicollinearity or other numerical problems."
      ],
      "text/plain": [
       "<class 'statsmodels.iolib.summary.Summary'>\n",
       "\"\"\"\n",
       "                            OLS Regression Results                            \n",
       "==============================================================================\n",
       "Dep. Variable:           np.log(wage)   R-squared:                       0.359\n",
       "Model:                            OLS   Adj. R-squared:                  0.355\n",
       "Method:                 Least Squares   F-statistic:                     73.09\n",
       "Date:                Sat, 01 Oct 2022   Prob (F-statistic):           3.81e-49\n",
       "Time:                        20:57:52   Log-Likelihood:                -296.29\n",
       "No. Observations:                 526   AIC:                             602.6\n",
       "Df Residuals:                     521   BIC:                             623.9\n",
       "Df Model:                           4                                         \n",
       "Covariance Type:            nonrobust                                         \n",
       "=================================================================================\n",
       "                    coef    std err          t      P>|t|      [0.025      0.975]\n",
       "---------------------------------------------------------------------------------\n",
       "Intercept         0.1983      0.102      1.945      0.052      -0.002       0.399\n",
       "educ              0.0853      0.007     11.873      0.000       0.071       0.099\n",
       "exper             0.0329      0.005      6.425      0.000       0.023       0.043\n",
       "I(exper ** 2)    -0.0007      0.000     -5.945      0.000      -0.001      -0.000\n",
       "tenure            0.0208      0.003      6.938      0.000       0.015       0.027\n",
       "==============================================================================\n",
       "Omnibus:                       14.093   Durbin-Watson:                   1.776\n",
       "Prob(Omnibus):                  0.001   Jarque-Bera (JB):               26.057\n",
       "Skew:                          -0.114   Prob(JB):                     2.20e-06\n",
       "Kurtosis:                       4.066   Cond. No.                     4.26e+03\n",
       "==============================================================================\n",
       "\n",
       "Notes:\n",
       "[1] Standard Errors assume that the covariance matrix of the errors is correctly specified.\n",
       "[2] The condition number is large, 4.26e+03. This might indicate that there are\n",
       "strong multicollinearity or other numerical problems.\n",
       "\"\"\""
      ]
     },
     "execution_count": 6,
     "metadata": {},
     "output_type": "execute_result"
    }
   ],
   "source": [
    "#Method 2\n",
    "reg = smf.ols(formula='np.log(wage) ~ educ + exper + I(exper**2) + tenure', \n",
    "              data=wage1)\n",
    "results = reg.fit()\n",
    "results.summary()\n"
   ]
  },
  {
   "cell_type": "markdown",
   "metadata": {},
   "source": [
    "* Re-run your models and make a simple table comparing the $\\beta's$ of both model \n"
   ]
  },
  {
   "cell_type": "code",
   "execution_count": 12,
   "metadata": {},
   "outputs": [
    {
     "name": "stdout",
     "output_type": "stream",
     "text": [
      "table: \n",
      "                     Betasm1   Betasm2\n",
      "Intercept           0.284360  0.198345\n",
      "educ                0.092029  0.085349\n",
      "exper               0.004121  0.032854\n",
      "np.power(exper, 2)       NaN -0.000661\n",
      "tenure              0.022067  0.020841\n",
      "\n"
     ]
    }
   ],
   "source": [
    "m1 = smf.ols(formula='np.log(wage)~educ + exper + tenure', \n",
    "              data=wage1).fit()\n",
    "\n",
    "m2 = smf.ols(formula='np.log(wage) ~ educ + exper +  np.power(exper, 2) + tenure', \n",
    "              data=wage1).fit()\n",
    "\n",
    "table = pd.DataFrame({'Betasm1': m1.params ,\n",
    "                      'Betasm2': m2.params})\n",
    "table.style.format('{:,.3f}'.format)\n",
    "print(f'table: \\n{table}\\n')"
   ]
  },
  {
   "cell_type": "markdown",
   "metadata": {},
   "source": [
    "* Make another table comparing the $R^2$"
   ]
  },
  {
   "cell_type": "code",
   "execution_count": 14,
   "metadata": {},
   "outputs": [
    {
     "data": {
      "text/html": [
       "<style type=\"text/css\">\n",
       "</style>\n",
       "<table id=\"T_36d9f_\">\n",
       "  <thead>\n",
       "    <tr>\n",
       "      <th class=\"blank level0\" >&nbsp;</th>\n",
       "      <th class=\"col_heading level0 col0\" >$R^2$</th>\n",
       "    </tr>\n",
       "  </thead>\n",
       "  <tbody>\n",
       "    <tr>\n",
       "      <th id=\"T_36d9f_level0_row0\" class=\"row_heading level0 row0\" >$R^2$_m1</th>\n",
       "      <td id=\"T_36d9f_row0_col0\" class=\"data row0 col0\" >0.316</td>\n",
       "    </tr>\n",
       "    <tr>\n",
       "      <th id=\"T_36d9f_level0_row1\" class=\"row_heading level0 row1\" >$R^2$_m2</th>\n",
       "      <td id=\"T_36d9f_row1_col0\" class=\"data row1 col0\" >0.359</td>\n",
       "    </tr>\n",
       "  </tbody>\n",
       "</table>\n"
      ],
      "text/plain": [
       "<pandas.io.formats.style.Styler at 0x7f8481a956d0>"
      ]
     },
     "execution_count": 14,
     "metadata": {},
     "output_type": "execute_result"
    }
   ],
   "source": [
    "\n",
    "df = pd.DataFrame([round(m1.rsquared, 4),round(m2.rsquared, 4)], \n",
    "                  index=[\"$R^2$_m1\",\"$R^2$_m2\"], columns=['$R^2$'])\n",
    "\n",
    "df.style.format('{:,.3f}'.format)"
   ]
  },
  {
   "cell_type": "markdown",
   "metadata": {},
   "source": [
    "## Partialling out the Betas <a class = anchor id = anchor3></a>\n",
    "\n",
    "First, let's generate our population data it is comprised of $x_1$, $x_2$, $y$, $u$ random variables of a million observations distributed normally as follows \n",
    "\n",
    "- Set the seed using `np.random.RandomState(int(2052001))` name it *rng*\n",
    "- Define $\\beta_0 = 5$, $\\beta_1 = 2$ and $\\beta_2 = 3$\n",
    "- Use `.normal(loc = mean, scale= std, size = 1000000)` applied to the seed to generate:\n",
    "    * $u$~$N(0,1)$\n",
    "    * $x_1$~$N(10, 1)$\n",
    "    * $x_2$~$N(1, 9)$\n",
    "    * $y = \\beta_0 + \\beta_1*x_1 + \\beta_2*x_2 + u$\n",
    "- put all these variables into a dataframe using a dictionary name de object *popdata_reg*\n",
    "- use the function `.sample(n, random_state)` to take a random sample of the population data that you just created where n =1000 and random_state is equal to the seed we just stated above. Name this *sample_df.* \n"
   ]
  },
  {
   "cell_type": "code",
   "execution_count": 16,
   "metadata": {},
   "outputs": [
    {
     "data": {
      "text/html": [
       "<div>\n",
       "<style scoped>\n",
       "    .dataframe tbody tr th:only-of-type {\n",
       "        vertical-align: middle;\n",
       "    }\n",
       "\n",
       "    .dataframe tbody tr th {\n",
       "        vertical-align: top;\n",
       "    }\n",
       "\n",
       "    .dataframe thead th {\n",
       "        text-align: right;\n",
       "    }\n",
       "</style>\n",
       "<table border=\"1\" class=\"dataframe\">\n",
       "  <thead>\n",
       "    <tr style=\"text-align: right;\">\n",
       "      <th></th>\n",
       "      <th>y</th>\n",
       "      <th>x1</th>\n",
       "      <th>x2</th>\n",
       "      <th>u</th>\n",
       "    </tr>\n",
       "  </thead>\n",
       "  <tbody>\n",
       "    <tr>\n",
       "      <th>0</th>\n",
       "      <td>43.528986</td>\n",
       "      <td>11.969479</td>\n",
       "      <td>4.475649</td>\n",
       "      <td>1.163083</td>\n",
       "    </tr>\n",
       "    <tr>\n",
       "      <th>1</th>\n",
       "      <td>18.099131</td>\n",
       "      <td>10.430956</td>\n",
       "      <td>-2.913669</td>\n",
       "      <td>0.978227</td>\n",
       "    </tr>\n",
       "    <tr>\n",
       "      <th>2</th>\n",
       "      <td>34.254251</td>\n",
       "      <td>9.838172</td>\n",
       "      <td>3.596969</td>\n",
       "      <td>-1.213001</td>\n",
       "    </tr>\n",
       "    <tr>\n",
       "      <th>3</th>\n",
       "      <td>26.849804</td>\n",
       "      <td>9.183475</td>\n",
       "      <td>1.283470</td>\n",
       "      <td>-0.367556</td>\n",
       "    </tr>\n",
       "    <tr>\n",
       "      <th>4</th>\n",
       "      <td>41.224188</td>\n",
       "      <td>10.757663</td>\n",
       "      <td>5.101790</td>\n",
       "      <td>-0.596508</td>\n",
       "    </tr>\n",
       "  </tbody>\n",
       "</table>\n",
       "</div>"
      ],
      "text/plain": [
       "           y         x1        x2         u\n",
       "0  43.528986  11.969479  4.475649  1.163083\n",
       "1  18.099131  10.430956 -2.913669  0.978227\n",
       "2  34.254251   9.838172  3.596969 -1.213001\n",
       "3  26.849804   9.183475  1.283470 -0.367556\n",
       "4  41.224188  10.757663  5.101790 -0.596508"
      ]
     },
     "execution_count": 16,
     "metadata": {},
     "output_type": "execute_result"
    }
   ],
   "source": [
    "# Set up the Data Generating Process\n",
    "\n",
    "# Set NumPy Seed. \n",
    "rng = np.random.RandomState(int(2052001))\n",
    "\n",
    "#Declare your betas\n",
    "beta0=5\n",
    "beta1=2\n",
    "beta2=3 \n",
    "\n",
    "# Calculate y, x and u over 1,000,000 values\n",
    "u = rng.normal(loc = 0, scale= 1**0.5, size = 1000000)\n",
    "x1 = rng.normal(loc = 10, scale= 1**0.5, size = 1000000)\n",
    "x2 = rng.normal(loc = 1, scale= 9**0.5, size = 1000000)\n",
    "y = beta0 + beta1 * x1 + beta2 * x2 + u\n",
    "\n",
    "# Store in Pandas DataFrame\n",
    "popdata_reg = pd.DataFrame({'y' : y, 'x1' : x1, 'x2': x2, 'u':u })\n",
    "popdata_reg.head()"
   ]
  },
  {
   "cell_type": "code",
   "execution_count": 17,
   "metadata": {},
   "outputs": [
    {
     "data": {
      "text/html": [
       "<div>\n",
       "<style scoped>\n",
       "    .dataframe tbody tr th:only-of-type {\n",
       "        vertical-align: middle;\n",
       "    }\n",
       "\n",
       "    .dataframe tbody tr th {\n",
       "        vertical-align: top;\n",
       "    }\n",
       "\n",
       "    .dataframe thead th {\n",
       "        text-align: right;\n",
       "    }\n",
       "</style>\n",
       "<table border=\"1\" class=\"dataframe\">\n",
       "  <thead>\n",
       "    <tr style=\"text-align: right;\">\n",
       "      <th></th>\n",
       "      <th>y</th>\n",
       "      <th>x1</th>\n",
       "      <th>x2</th>\n",
       "      <th>u</th>\n",
       "    </tr>\n",
       "  </thead>\n",
       "  <tbody>\n",
       "    <tr>\n",
       "      <th>793095</th>\n",
       "      <td>32.774109</td>\n",
       "      <td>7.803011</td>\n",
       "      <td>4.534036</td>\n",
       "      <td>-1.434022</td>\n",
       "    </tr>\n",
       "    <tr>\n",
       "      <th>363587</th>\n",
       "      <td>19.182923</td>\n",
       "      <td>9.654050</td>\n",
       "      <td>-2.301577</td>\n",
       "      <td>1.779554</td>\n",
       "    </tr>\n",
       "    <tr>\n",
       "      <th>65877</th>\n",
       "      <td>19.955289</td>\n",
       "      <td>9.075996</td>\n",
       "      <td>-1.652494</td>\n",
       "      <td>1.760780</td>\n",
       "    </tr>\n",
       "    <tr>\n",
       "      <th>89396</th>\n",
       "      <td>26.001097</td>\n",
       "      <td>9.552658</td>\n",
       "      <td>1.149602</td>\n",
       "      <td>-1.553027</td>\n",
       "    </tr>\n",
       "    <tr>\n",
       "      <th>447326</th>\n",
       "      <td>24.569589</td>\n",
       "      <td>9.802959</td>\n",
       "      <td>0.133063</td>\n",
       "      <td>-0.435520</td>\n",
       "    </tr>\n",
       "  </tbody>\n",
       "</table>\n",
       "</div>"
      ],
      "text/plain": [
       "                y        x1        x2         u\n",
       "793095  32.774109  7.803011  4.534036 -1.434022\n",
       "363587  19.182923  9.654050 -2.301577  1.779554\n",
       "65877   19.955289  9.075996 -1.652494  1.760780\n",
       "89396   26.001097  9.552658  1.149602 -1.553027\n",
       "447326  24.569589  9.802959  0.133063 -0.435520"
      ]
     },
     "execution_count": 17,
     "metadata": {},
     "output_type": "execute_result"
    }
   ],
   "source": [
    "# Get a sample of 1000 observations\n",
    "sample_df = popdata_reg.sample(n=1000, random_state=int(2052001))\n",
    "sample_df.head()"
   ]
  },
  {
   "cell_type": "markdown",
   "metadata": {},
   "source": [
    "Estimate $\\hat{y}$ from the sample "
   ]
  },
  {
   "cell_type": "code",
   "execution_count": 18,
   "metadata": {},
   "outputs": [
    {
     "data": {
      "text/html": [
       "<table class=\"simpletable\">\n",
       "<caption>OLS Regression Results</caption>\n",
       "<tr>\n",
       "  <th>Dep. Variable:</th>            <td>y</td>        <th>  R-squared:         </th> <td>   0.988</td> \n",
       "</tr>\n",
       "<tr>\n",
       "  <th>Model:</th>                   <td>OLS</td>       <th>  Adj. R-squared:    </th> <td>   0.988</td> \n",
       "</tr>\n",
       "<tr>\n",
       "  <th>Method:</th>             <td>Least Squares</td>  <th>  F-statistic:       </th> <td>3.988e+04</td>\n",
       "</tr>\n",
       "<tr>\n",
       "  <th>Date:</th>             <td>Sat, 01 Oct 2022</td> <th>  Prob (F-statistic):</th>  <td>  0.00</td>  \n",
       "</tr>\n",
       "<tr>\n",
       "  <th>Time:</th>                 <td>21:04:57</td>     <th>  Log-Likelihood:    </th> <td> -1440.1</td> \n",
       "</tr>\n",
       "<tr>\n",
       "  <th>No. Observations:</th>      <td>  1000</td>      <th>  AIC:               </th> <td>   2886.</td> \n",
       "</tr>\n",
       "<tr>\n",
       "  <th>Df Residuals:</th>          <td>   997</td>      <th>  BIC:               </th> <td>   2901.</td> \n",
       "</tr>\n",
       "<tr>\n",
       "  <th>Df Model:</th>              <td>     2</td>      <th>                     </th>     <td> </td>    \n",
       "</tr>\n",
       "<tr>\n",
       "  <th>Covariance Type:</th>      <td>nonrobust</td>    <th>                     </th>     <td> </td>    \n",
       "</tr>\n",
       "</table>\n",
       "<table class=\"simpletable\">\n",
       "<tr>\n",
       "      <td></td>         <th>coef</th>     <th>std err</th>      <th>t</th>      <th>P>|t|</th>  <th>[0.025</th>    <th>0.975]</th>  \n",
       "</tr>\n",
       "<tr>\n",
       "  <th>Intercept</th> <td>    5.0516</td> <td>    0.324</td> <td>   15.606</td> <td> 0.000</td> <td>    4.416</td> <td>    5.687</td>\n",
       "</tr>\n",
       "<tr>\n",
       "  <th>x1</th>        <td>    1.9931</td> <td>    0.032</td> <td>   62.347</td> <td> 0.000</td> <td>    1.930</td> <td>    2.056</td>\n",
       "</tr>\n",
       "<tr>\n",
       "  <th>x2</th>        <td>    2.9772</td> <td>    0.011</td> <td>  276.563</td> <td> 0.000</td> <td>    2.956</td> <td>    2.998</td>\n",
       "</tr>\n",
       "</table>\n",
       "<table class=\"simpletable\">\n",
       "<tr>\n",
       "  <th>Omnibus:</th>       <td> 0.433</td> <th>  Durbin-Watson:     </th> <td>   1.852</td>\n",
       "</tr>\n",
       "<tr>\n",
       "  <th>Prob(Omnibus):</th> <td> 0.805</td> <th>  Jarque-Bera (JB):  </th> <td>   0.522</td>\n",
       "</tr>\n",
       "<tr>\n",
       "  <th>Skew:</th>          <td> 0.014</td> <th>  Prob(JB):          </th> <td>   0.770</td>\n",
       "</tr>\n",
       "<tr>\n",
       "  <th>Kurtosis:</th>      <td> 2.892</td> <th>  Cond. No.          </th> <td>    103.</td>\n",
       "</tr>\n",
       "</table><br/><br/>Notes:<br/>[1] Standard Errors assume that the covariance matrix of the errors is correctly specified."
      ],
      "text/plain": [
       "<class 'statsmodels.iolib.summary.Summary'>\n",
       "\"\"\"\n",
       "                            OLS Regression Results                            \n",
       "==============================================================================\n",
       "Dep. Variable:                      y   R-squared:                       0.988\n",
       "Model:                            OLS   Adj. R-squared:                  0.988\n",
       "Method:                 Least Squares   F-statistic:                 3.988e+04\n",
       "Date:                Sat, 01 Oct 2022   Prob (F-statistic):               0.00\n",
       "Time:                        21:04:57   Log-Likelihood:                -1440.1\n",
       "No. Observations:                1000   AIC:                             2886.\n",
       "Df Residuals:                     997   BIC:                             2901.\n",
       "Df Model:                           2                                         \n",
       "Covariance Type:            nonrobust                                         \n",
       "==============================================================================\n",
       "                 coef    std err          t      P>|t|      [0.025      0.975]\n",
       "------------------------------------------------------------------------------\n",
       "Intercept      5.0516      0.324     15.606      0.000       4.416       5.687\n",
       "x1             1.9931      0.032     62.347      0.000       1.930       2.056\n",
       "x2             2.9772      0.011    276.563      0.000       2.956       2.998\n",
       "==============================================================================\n",
       "Omnibus:                        0.433   Durbin-Watson:                   1.852\n",
       "Prob(Omnibus):                  0.805   Jarque-Bera (JB):                0.522\n",
       "Skew:                           0.014   Prob(JB):                        0.770\n",
       "Kurtosis:                       2.892   Cond. No.                         103.\n",
       "==============================================================================\n",
       "\n",
       "Notes:\n",
       "[1] Standard Errors assume that the covariance matrix of the errors is correctly specified.\n",
       "\"\"\""
      ]
     },
     "execution_count": 18,
     "metadata": {},
     "output_type": "execute_result"
    }
   ],
   "source": [
    "mod = smf.ols(formula='y ~ x1 + x2', data=sample_df)\n",
    "res = mod.fit()\n",
    "res.summary()"
   ]
  },
  {
   "cell_type": "markdown",
   "metadata": {},
   "source": [
    "### Partialling  out $\\beta_1$ <a class = anchor id = anchor4></a>\n",
    "Expressing $x_1$ as a function of $x_2$\n",
    "\n",
    "- run a regression of $x_2$ on $x_1$ using the sample data save the results in object res12\n",
    "- store the parameters from this regression and use them to predict $\\hat{x_1}$ and the residuals and save those into your sample_df dataframe\n",
    "- look at the data using `.head()`"
   ]
  },
  {
   "cell_type": "code",
   "execution_count": 19,
   "metadata": {},
   "outputs": [
    {
     "data": {
      "text/html": [
       "<div>\n",
       "<style scoped>\n",
       "    .dataframe tbody tr th:only-of-type {\n",
       "        vertical-align: middle;\n",
       "    }\n",
       "\n",
       "    .dataframe tbody tr th {\n",
       "        vertical-align: top;\n",
       "    }\n",
       "\n",
       "    .dataframe thead th {\n",
       "        text-align: right;\n",
       "    }\n",
       "</style>\n",
       "<table border=\"1\" class=\"dataframe\">\n",
       "  <thead>\n",
       "    <tr style=\"text-align: right;\">\n",
       "      <th></th>\n",
       "      <th>y</th>\n",
       "      <th>x1</th>\n",
       "      <th>x2</th>\n",
       "      <th>u</th>\n",
       "      <th>x1_hat</th>\n",
       "      <th>x1_resid</th>\n",
       "    </tr>\n",
       "  </thead>\n",
       "  <tbody>\n",
       "    <tr>\n",
       "      <th>793095</th>\n",
       "      <td>32.774109</td>\n",
       "      <td>7.803011</td>\n",
       "      <td>4.534036</td>\n",
       "      <td>-1.434022</td>\n",
       "      <td>10.040637</td>\n",
       "      <td>-2.237626</td>\n",
       "    </tr>\n",
       "    <tr>\n",
       "      <th>363587</th>\n",
       "      <td>19.182923</td>\n",
       "      <td>9.654050</td>\n",
       "      <td>-2.301577</td>\n",
       "      <td>1.779554</td>\n",
       "      <td>10.084191</td>\n",
       "      <td>-0.430141</td>\n",
       "    </tr>\n",
       "    <tr>\n",
       "      <th>65877</th>\n",
       "      <td>19.955289</td>\n",
       "      <td>9.075996</td>\n",
       "      <td>-1.652494</td>\n",
       "      <td>1.760780</td>\n",
       "      <td>10.080055</td>\n",
       "      <td>-1.004059</td>\n",
       "    </tr>\n",
       "    <tr>\n",
       "      <th>89396</th>\n",
       "      <td>26.001097</td>\n",
       "      <td>9.552658</td>\n",
       "      <td>1.149602</td>\n",
       "      <td>-1.553027</td>\n",
       "      <td>10.062201</td>\n",
       "      <td>-0.509543</td>\n",
       "    </tr>\n",
       "    <tr>\n",
       "      <th>447326</th>\n",
       "      <td>24.569589</td>\n",
       "      <td>9.802959</td>\n",
       "      <td>0.133063</td>\n",
       "      <td>-0.435520</td>\n",
       "      <td>10.068678</td>\n",
       "      <td>-0.265719</td>\n",
       "    </tr>\n",
       "  </tbody>\n",
       "</table>\n",
       "</div>"
      ],
      "text/plain": [
       "                y        x1        x2         u     x1_hat  x1_resid\n",
       "793095  32.774109  7.803011  4.534036 -1.434022  10.040637 -2.237626\n",
       "363587  19.182923  9.654050 -2.301577  1.779554  10.084191 -0.430141\n",
       "65877   19.955289  9.075996 -1.652494  1.760780  10.080055 -1.004059\n",
       "89396   26.001097  9.552658  1.149602 -1.553027  10.062201 -0.509543\n",
       "447326  24.569589  9.802959  0.133063 -0.435520  10.068678 -0.265719"
      ]
     },
     "execution_count": 19,
     "metadata": {},
     "output_type": "execute_result"
    }
   ],
   "source": [
    "mod12 = smf.ols(formula='x1 ~ x2', data=sample_df)\n",
    "res12 = mod12.fit()\n",
    "\n",
    "# Create the variable in df\n",
    "x1x2_beta1 = res12.params[1]\n",
    "x1x2_beta0 = res12.params[0]\n",
    "\n",
    "sample_df['x1_hat'] = res12.predict()\n",
    "#sample_df['x1_hat'] = x1x2_beta0 + x1x2_beta1*sample_df['x2']\n",
    "sample_df['x1_resid'] = sample_df['x1'] - sample_df['x1_hat']\n",
    "sample_df.head()"
   ]
  },
  {
   "cell_type": "markdown",
   "metadata": {},
   "source": [
    "### Fitting the Residual to y<a class = anchor id = anchor5></a>\n",
    "\n",
    "- Run a regression of $x_1residuals$ on $y$"
   ]
  },
  {
   "cell_type": "code",
   "execution_count": 20,
   "metadata": {},
   "outputs": [
    {
     "data": {
      "text/plain": [
       "Intercept    27.89\n",
       "x1_resid      1.99\n",
       "dtype: float64"
      ]
     },
     "execution_count": 20,
     "metadata": {},
     "output_type": "execute_result"
    }
   ],
   "source": [
    "mody1 = smf.ols(formula = \"y ~ x1_resid\", data = sample_df)\n",
    "resy1 = mody1.fit()\n",
    "\n",
    "resy1.params.round(2)"
   ]
  },
  {
   "cell_type": "markdown",
   "metadata": {},
   "source": [
    "Compare with estimated $\\beta_1$ from our original regression results "
   ]
  },
  {
   "cell_type": "code",
   "execution_count": 21,
   "metadata": {},
   "outputs": [
    {
     "data": {
      "text/plain": [
       "1.99"
      ]
     },
     "execution_count": 21,
     "metadata": {},
     "output_type": "execute_result"
    }
   ],
   "source": [
    "res.params[1].round(2)"
   ]
  },
  {
   "cell_type": "markdown",
   "metadata": {},
   "source": [
    "**We get the same $\\beta_1$ as in the original regression equation**\n",
    "\n",
    "### Partialling  out $\\beta_2$ <a class = anchor id = anchor6></a>\n",
    "Expressing $x_2$ as a function of $x_1$\n",
    "\n",
    "- run a regression of $x_1$ on $x_2$ using the sample data save the results in object res12\n",
    "- store the parameters from this regression and use them to predict $\\hat{x_2}$ and the residuals and save those into your sample_df dataframe\n",
    "- look at the data using `.head()`"
   ]
  },
  {
   "cell_type": "code",
   "execution_count": 25,
   "metadata": {},
   "outputs": [
    {
     "data": {
      "text/html": [
       "<div>\n",
       "<style scoped>\n",
       "    .dataframe tbody tr th:only-of-type {\n",
       "        vertical-align: middle;\n",
       "    }\n",
       "\n",
       "    .dataframe tbody tr th {\n",
       "        vertical-align: top;\n",
       "    }\n",
       "\n",
       "    .dataframe thead th {\n",
       "        text-align: right;\n",
       "    }\n",
       "</style>\n",
       "<table border=\"1\" class=\"dataframe\">\n",
       "  <thead>\n",
       "    <tr style=\"text-align: right;\">\n",
       "      <th></th>\n",
       "      <th>y</th>\n",
       "      <th>x1</th>\n",
       "      <th>x2</th>\n",
       "      <th>u</th>\n",
       "      <th>x1_hat</th>\n",
       "      <th>x1_resid</th>\n",
       "      <th>x2_hat</th>\n",
       "      <th>x2_resid</th>\n",
       "    </tr>\n",
       "  </thead>\n",
       "  <tbody>\n",
       "    <tr>\n",
       "      <th>793095</th>\n",
       "      <td>32.774109</td>\n",
       "      <td>7.803011</td>\n",
       "      <td>4.534036</td>\n",
       "      <td>-1.434022</td>\n",
       "      <td>10.040637</td>\n",
       "      <td>-2.237626</td>\n",
       "      <td>1.059407</td>\n",
       "      <td>3.474629</td>\n",
       "    </tr>\n",
       "    <tr>\n",
       "      <th>363587</th>\n",
       "      <td>19.182923</td>\n",
       "      <td>9.654050</td>\n",
       "      <td>-2.301577</td>\n",
       "      <td>1.779554</td>\n",
       "      <td>10.084191</td>\n",
       "      <td>-0.430141</td>\n",
       "      <td>0.955397</td>\n",
       "      <td>-3.256974</td>\n",
       "    </tr>\n",
       "    <tr>\n",
       "      <th>65877</th>\n",
       "      <td>19.955289</td>\n",
       "      <td>9.075996</td>\n",
       "      <td>-1.652494</td>\n",
       "      <td>1.760780</td>\n",
       "      <td>10.080055</td>\n",
       "      <td>-1.004059</td>\n",
       "      <td>0.987878</td>\n",
       "      <td>-2.640372</td>\n",
       "    </tr>\n",
       "    <tr>\n",
       "      <th>89396</th>\n",
       "      <td>26.001097</td>\n",
       "      <td>9.552658</td>\n",
       "      <td>1.149602</td>\n",
       "      <td>-1.553027</td>\n",
       "      <td>10.062201</td>\n",
       "      <td>-0.509543</td>\n",
       "      <td>0.961094</td>\n",
       "      <td>0.188508</td>\n",
       "    </tr>\n",
       "    <tr>\n",
       "      <th>447326</th>\n",
       "      <td>24.569589</td>\n",
       "      <td>9.802959</td>\n",
       "      <td>0.133063</td>\n",
       "      <td>-0.435520</td>\n",
       "      <td>10.068678</td>\n",
       "      <td>-0.265719</td>\n",
       "      <td>0.947030</td>\n",
       "      <td>-0.813966</td>\n",
       "    </tr>\n",
       "  </tbody>\n",
       "</table>\n",
       "</div>"
      ],
      "text/plain": [
       "                y        x1        x2         u     x1_hat  x1_resid  \\\n",
       "793095  32.774109  7.803011  4.534036 -1.434022  10.040637 -2.237626   \n",
       "363587  19.182923  9.654050 -2.301577  1.779554  10.084191 -0.430141   \n",
       "65877   19.955289  9.075996 -1.652494  1.760780  10.080055 -1.004059   \n",
       "89396   26.001097  9.552658  1.149602 -1.553027  10.062201 -0.509543   \n",
       "447326  24.569589  9.802959  0.133063 -0.435520  10.068678 -0.265719   \n",
       "\n",
       "          x2_hat  x2_resid  \n",
       "793095  1.059407  3.474629  \n",
       "363587  0.955397 -3.256974  \n",
       "65877   0.987878 -2.640372  \n",
       "89396   0.961094  0.188508  \n",
       "447326  0.947030 -0.813966  "
      ]
     },
     "execution_count": 25,
     "metadata": {},
     "output_type": "execute_result"
    }
   ],
   "source": [
    "mod21 = smf.ols(formula='x2 ~ x1', data=sample_df)\n",
    "res21 = mod21.fit()\n",
    "\n",
    "# Create the variable in df\n",
    "x2x1_beta1 = res21.params[1]\n",
    "x2x1_beta0 = res21.params[0]\n",
    "\n",
    "sample_df['x2_hat'] = res21.fittedvalues\n",
    "sample_df['x2_resid'] = res21.resid\n",
    "#sample_df['x2_resid'] = sample_df['x2'] - sample_df['x2_hat']\n",
    "sample_df.head()"
   ]
  },
  {
   "cell_type": "markdown",
   "metadata": {},
   "source": [
    "### Fitting the Residual to y<a class = anchor id = anchor7></a>"
   ]
  },
  {
   "cell_type": "code",
   "execution_count": 24,
   "metadata": {},
   "outputs": [
    {
     "data": {
      "text/plain": [
       "Intercept    27.89\n",
       "x2_resid      2.98\n",
       "dtype: float64"
      ]
     },
     "execution_count": 24,
     "metadata": {},
     "output_type": "execute_result"
    }
   ],
   "source": [
    "mody2 = smf.ols(formula = \"y ~ x2_resid\", data = sample_df)\n",
    "resy2 = mody2.fit()\n",
    "\n",
    "resy2.params.round(2)"
   ]
  },
  {
   "cell_type": "markdown",
   "metadata": {},
   "source": [
    "Compare with estimated $\\beta_2$ from our original regression results "
   ]
  },
  {
   "cell_type": "code",
   "execution_count": 26,
   "metadata": {},
   "outputs": [
    {
     "data": {
      "text/plain": [
       "2.98"
      ]
     },
     "execution_count": 26,
     "metadata": {},
     "output_type": "execute_result"
    }
   ],
   "source": [
    "res.params[2].round(2)"
   ]
  },
  {
   "cell_type": "markdown",
   "metadata": {},
   "source": [
    "**We get the same $\\beta_2$ as in the original regression equation**"
   ]
  },
  {
   "cell_type": "markdown",
   "metadata": {},
   "source": [
    "\n",
    "&nbsp;\n",
    "<hr />\n",
    "<p style=\"font-family:palatino; text-align: center;font-size: 15px\">ECON320 Python Programming Laboratory</a></p>\n",
    "<p style=\"font-family:palatino; text-align: center;font-size: 15px\">Professor <em> Paloma Lopez de mesa Moyano</em></a></p>\n",
    "<p style=\"font-family:palatino; text-align: center;font-size: 15px\"><span style=\"color: #6666FF;\"><em>paloma.moyano@emory.edu</em></span></p>\n",
    "\n",
    "<p style=\"font-family:palatino; text-align: center;font-size: 15px\">Department of Economics</a></p>\n",
    "<p style=\"font-family:palatino; text-align: center; color: #012169;font-size: 15px\">Emory University</a></p>\n",
    "\n",
    "&nbsp;"
   ]
  }
 ],
 "metadata": {
  "kernelspec": {
   "display_name": "Python 3 (ipykernel)",
   "language": "python",
   "name": "python3"
  },
  "language_info": {
   "codemirror_mode": {
    "name": "ipython",
    "version": 3
   },
   "file_extension": ".py",
   "mimetype": "text/x-python",
   "name": "python",
   "nbconvert_exporter": "python",
   "pygments_lexer": "ipython3",
   "version": "3.9.7"
  },
  "toc": {
   "base_numbering": 1,
   "nav_menu": {},
   "number_sections": false,
   "sideBar": true,
   "skip_h1_title": true,
   "title_cell": "Table of Contents",
   "title_sidebar": "Contents",
   "toc_cell": false,
   "toc_position": {},
   "toc_section_display": true,
   "toc_window_display": false
  }
 },
 "nbformat": 4,
 "nbformat_minor": 4
}
