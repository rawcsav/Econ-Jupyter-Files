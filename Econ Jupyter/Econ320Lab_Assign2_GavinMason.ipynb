{
 "cells": [
  {
   "cell_type": "markdown",
   "metadata": {},
   "source": [
    "    \n",
    "<h1 style=\"text-align: center; color: purple;\" markdown=\"1\">Econ 320: Python Assignment 2 </h1>\n",
    "\n",
    "<h2 style=\"text-align: center; color: #012169\" markdown=\"1\">Gavin Mason</h2>\n"
   ]
  },
  {
   "cell_type": "markdown",
   "metadata": {},
   "source": [
    "## Package setup"
   ]
  },
  {
   "cell_type": "code",
   "execution_count": 1,
   "metadata": {
    "code_folding": [
     0
    ]
   },
   "outputs": [],
   "source": [
    "# Import necessary packages here\n",
    "\n",
    "import numpy as np\n",
    "import pandas as pd\n",
    "import matplotlib.pyplot as plt\n",
    "import seaborn as sns\n",
    "import wooldridge as woo\n",
    "import statsmodels.formula.api as smf\n",
    "import scipy.stats as stats\n",
    "from IPython.core.display import HTML\n"
   ]
  },
  {
   "cell_type": "markdown",
   "metadata": {},
   "source": [
    "Use the dataset ATTEND for this exercise, and the handouts to work on these questions \n",
    "\n",
    "## (i)\tObtain the minimum, maximum, and average values for the variables `atndrte`, `priGPA`, and `ACT`.  Do it these two ways to practice."
   ]
  },
  {
   "cell_type": "code",
   "execution_count": 2,
   "metadata": {
    "code_folding": [
     0
    ]
   },
   "outputs": [
    {
     "data": {
      "text/html": [
       "<div>\n",
       "<style scoped>\n",
       "    .dataframe tbody tr th:only-of-type {\n",
       "        vertical-align: middle;\n",
       "    }\n",
       "\n",
       "    .dataframe tbody tr th {\n",
       "        vertical-align: top;\n",
       "    }\n",
       "\n",
       "    .dataframe thead th {\n",
       "        text-align: right;\n",
       "    }\n",
       "</style>\n",
       "<table border=\"1\" class=\"dataframe\">\n",
       "  <thead>\n",
       "    <tr style=\"text-align: right;\">\n",
       "      <th></th>\n",
       "      <th>atndrte</th>\n",
       "      <th>priGPA</th>\n",
       "      <th>ACT</th>\n",
       "    </tr>\n",
       "  </thead>\n",
       "  <tbody>\n",
       "    <tr>\n",
       "      <th>mean</th>\n",
       "      <td>81.71</td>\n",
       "      <td>2.587</td>\n",
       "      <td>22.51</td>\n",
       "    </tr>\n",
       "    <tr>\n",
       "      <th>min</th>\n",
       "      <td>6.25</td>\n",
       "      <td>0.857</td>\n",
       "      <td>13.00</td>\n",
       "    </tr>\n",
       "    <tr>\n",
       "      <th>max</th>\n",
       "      <td>100.00</td>\n",
       "      <td>3.930</td>\n",
       "      <td>32.00</td>\n",
       "    </tr>\n",
       "  </tbody>\n",
       "</table>\n",
       "</div>"
      ],
      "text/plain": [
       "      atndrte  priGPA    ACT\n",
       "mean    81.71   2.587  22.51\n",
       "min      6.25   0.857  13.00\n",
       "max    100.00   3.930  32.00"
      ]
     },
     "execution_count": 2,
     "metadata": {},
     "output_type": "execute_result"
    }
   ],
   "source": [
    "# Load dataset attend from wooldridge\n",
    "\n",
    "attend = woo.dataWoo('attend')\n",
    "# use .agg to calculate the those stats\n",
    "tablestats = attend[[\"atndrte\", \"priGPA\", \"ACT\"]].agg(['mean', 'min', 'max'])\n",
    "round(tablestats,3)"
   ]
  },
  {
   "cell_type": "markdown",
   "metadata": {},
   "source": [
    "**Another way of doing it using .describe() this will show more stats **"
   ]
  },
  {
   "cell_type": "code",
   "execution_count": 3,
   "metadata": {},
   "outputs": [
    {
     "data": {
      "text/html": [
       "<div>\n",
       "<style scoped>\n",
       "    .dataframe tbody tr th:only-of-type {\n",
       "        vertical-align: middle;\n",
       "    }\n",
       "\n",
       "    .dataframe tbody tr th {\n",
       "        vertical-align: top;\n",
       "    }\n",
       "\n",
       "    .dataframe thead th {\n",
       "        text-align: right;\n",
       "    }\n",
       "</style>\n",
       "<table border=\"1\" class=\"dataframe\">\n",
       "  <thead>\n",
       "    <tr style=\"text-align: right;\">\n",
       "      <th></th>\n",
       "      <th>atndrte</th>\n",
       "      <th>priGPA</th>\n",
       "      <th>ACT</th>\n",
       "    </tr>\n",
       "  </thead>\n",
       "  <tbody>\n",
       "    <tr>\n",
       "      <th>count</th>\n",
       "      <td>680.000</td>\n",
       "      <td>680.000</td>\n",
       "      <td>680.000</td>\n",
       "    </tr>\n",
       "    <tr>\n",
       "      <th>mean</th>\n",
       "      <td>81.710</td>\n",
       "      <td>2.587</td>\n",
       "      <td>22.510</td>\n",
       "    </tr>\n",
       "    <tr>\n",
       "      <th>std</th>\n",
       "      <td>17.047</td>\n",
       "      <td>0.545</td>\n",
       "      <td>3.491</td>\n",
       "    </tr>\n",
       "    <tr>\n",
       "      <th>min</th>\n",
       "      <td>6.250</td>\n",
       "      <td>0.857</td>\n",
       "      <td>13.000</td>\n",
       "    </tr>\n",
       "    <tr>\n",
       "      <th>25%</th>\n",
       "      <td>75.000</td>\n",
       "      <td>2.190</td>\n",
       "      <td>20.000</td>\n",
       "    </tr>\n",
       "    <tr>\n",
       "      <th>50%</th>\n",
       "      <td>87.500</td>\n",
       "      <td>2.560</td>\n",
       "      <td>22.000</td>\n",
       "    </tr>\n",
       "    <tr>\n",
       "      <th>75%</th>\n",
       "      <td>93.750</td>\n",
       "      <td>2.943</td>\n",
       "      <td>25.000</td>\n",
       "    </tr>\n",
       "    <tr>\n",
       "      <th>max</th>\n",
       "      <td>100.000</td>\n",
       "      <td>3.930</td>\n",
       "      <td>32.000</td>\n",
       "    </tr>\n",
       "  </tbody>\n",
       "</table>\n",
       "</div>"
      ],
      "text/plain": [
       "       atndrte   priGPA      ACT\n",
       "count  680.000  680.000  680.000\n",
       "mean    81.710    2.587   22.510\n",
       "std     17.047    0.545    3.491\n",
       "min      6.250    0.857   13.000\n",
       "25%     75.000    2.190   20.000\n",
       "50%     87.500    2.560   22.000\n",
       "75%     93.750    2.943   25.000\n",
       "max    100.000    3.930   32.000"
      ]
     },
     "execution_count": 3,
     "metadata": {},
     "output_type": "execute_result"
    }
   ],
   "source": [
    "# you code for describe here \n",
    "attend[[\"atndrte\", \"priGPA\", \"ACT\"]].describe().round(3)"
   ]
  },
  {
   "cell_type": "markdown",
   "metadata": {},
   "source": [
    "## (ii) Estimate the model\n",
    "\n",
    "$$atndrte = \\beta_0 + \\beta_1 priGPA + \\beta_2 ACT + u$$ \n",
    "\n",
    "To make it easier, create an object with the model and then show the summary. "
   ]
  },
  {
   "cell_type": "code",
   "execution_count": 4,
   "metadata": {},
   "outputs": [
    {
     "name": "stdout",
     "output_type": "stream",
     "text": [
      "results.summary(): \n",
      "                            OLS Regression Results                            \n",
      "==============================================================================\n",
      "Dep. Variable:                atndrte   R-squared:                       0.291\n",
      "Model:                            OLS   Adj. R-squared:                  0.288\n",
      "Method:                 Least Squares   F-statistic:                     138.7\n",
      "Date:                Wed, 12 Oct 2022   Prob (F-statistic):           3.39e-51\n",
      "Time:                        19:16:48   Log-Likelihood:                -2776.1\n",
      "No. Observations:                 680   AIC:                             5558.\n",
      "Df Residuals:                     677   BIC:                             5572.\n",
      "Df Model:                           2                                         \n",
      "Covariance Type:            nonrobust                                         \n",
      "==============================================================================\n",
      "                 coef    std err          t      P>|t|      [0.025      0.975]\n",
      "------------------------------------------------------------------------------\n",
      "Intercept     75.7004      3.884     19.490      0.000      68.074      83.327\n",
      "priGPA        17.2606      1.083     15.936      0.000      15.134      19.387\n",
      "ACT           -1.7166      0.169    -10.156      0.000      -2.048      -1.385\n",
      "==============================================================================\n",
      "Omnibus:                      126.367   Durbin-Watson:                   2.011\n",
      "Prob(Omnibus):                  0.000   Jarque-Bera (JB):              237.444\n",
      "Skew:                          -1.079   Prob(JB):                     2.75e-52\n",
      "Kurtosis:                       4.929   Cond. No.                         163.\n",
      "==============================================================================\n",
      "\n",
      "Notes:\n",
      "[1] Standard Errors assume that the covariance matrix of the errors is correctly specified.\n",
      "\n"
     ]
    }
   ],
   "source": [
    "# estimate log-level model:\n",
    "mc4 = smf.ols(formula='atndrte ~ priGPA + ACT', data=attend)\n",
    "mc4 = mc4.fit()\n",
    "\n",
    "# print results using summary:\n",
    "print(f'results.summary(): \\n{mc4.summary()}\\n')\n"
   ]
  },
  {
   "cell_type": "markdown",
   "metadata": {},
   "source": [
    "## (iii) Calculate the predicted atndrte ( $\\hat{atndrte}$ ) for all values and the mean of this predicted value. Also, calculate the predicted value of `atndrte` for the average values of the independent variables. Compare results.  \n",
    "\n",
    "> Note that these two are different coding-wise. The first method is the mean of the prediction, and the second is the prediction of the mean "
   ]
  },
  {
   "cell_type": "code",
   "execution_count": 5,
   "metadata": {},
   "outputs": [
    {
     "name": "stdout",
     "output_type": "stream",
     "text": [
      "Model1 \n",
      " Average predicted attendance rate is \n",
      " mean of yhat= 81.70956\n",
      "Model1 \n",
      " Predicted attendance rate for average GPA and ACT is \n",
      " yhat of mean x=  81.70956\n"
     ]
    }
   ],
   "source": [
    "# find the mean of the prediction\n",
    "print('Model1 \\n Average predicted attendance rate is \\n mean of yhat=', round(np.mean(mc4.fittedvalues),5))\n",
    "\n",
    "#find the prediction of the mean\n",
    "means = attend[[\"priGPA\", \"ACT\"]].mean()\n",
    "\n",
    "print('Model1 \\n Predicted attendance rate for average GPA and ACT is \\n yhat of mean x= ',\n",
    "      round(mc4.predict(means)[0],5))\n",
    "                      "
   ]
  },
  {
   "cell_type": "markdown",
   "metadata": {},
   "source": [
    "## (iv)\tWhat is the predicted `atndrte` if `priGPA`= 3.65 and `ACT`= 20? What is the predicted difference in attendance rates between this and the the average $\\hat{atndrte}$  above? \n",
    "<br>\n",
    "In this case, do not use the `.predict()` function for your code. Instead, retrieve the coeffients and calculate the equation. \n",
    "<br> \n",
    "$$atndrte = \\hat\\beta_0 + \\hat\\beta_1 3.65 + \\hat\\beta_2 20 + u$$"
   ]
  },
  {
   "cell_type": "code",
   "execution_count": 6,
   "metadata": {},
   "outputs": [
    {
     "name": "stdout",
     "output_type": "stream",
     "text": [
      "yhat =  104.371\n",
      "Difference =  22.661\n"
     ]
    }
   ],
   "source": [
    "# calculate predicted atndrte for 3.65 GPA and 20 ACT using the above equation\n",
    "yhat = mc4.params[0] + mc4.params[1]*3.65 + mc4.params[2]*20\n",
    "\n",
    "\n",
    "print('yhat = ', round(yhat,3))\n",
    "print(\"Difference = \", round(yhat,3)-round(np.mean(mc4.fittedvalues),3))\n",
    "\n"
   ]
  },
  {
   "cell_type": "markdown",
   "metadata": {},
   "source": [
    "## (v) Run two more models: one only for freshmen and another only for sophomores. Save the results in objects `mfre` and `msoph` respectively <br>\n",
    "Freshmen : `attend['frosh']==1` <br>\n",
    "Sophomores : `attend['soph']==1`"
   ]
  },
  {
   "cell_type": "code",
   "execution_count": 7,
   "metadata": {},
   "outputs": [],
   "source": [
    "# compute OLS only for freshmen\n",
    "mfre = smf.ols(formula = 'atndrte ~ priGPA + ACT', data = attend[attend['frosh']==1]).fit()\n",
    "\n",
    "# compute OLS only for sophomores\n",
    "msoph= smf.ols(formula = 'atndrte ~ priGPA + ACT', data = attend[attend['soph']==1]).fit()"
   ]
  },
  {
   "cell_type": "markdown",
   "metadata": {},
   "source": [
    "## (vi) You know how to extract the parameters from the regression results, $R^2$ and the number of observations\n",
    "\n",
    "Create one table comparing the parameters from the three models and another table comparing  $R^2$ and the number of observations,\n",
    "\n",
    "The table below compares $\\beta's$"
   ]
  },
  {
   "cell_type": "code",
   "execution_count": 8,
   "metadata": {
    "code_folding": []
   },
   "outputs": [
    {
     "data": {
      "text/html": [
       "<style type=\"text/css\">\n",
       "</style>\n",
       "<table id=\"T_4a072_\">\n",
       "  <thead>\n",
       "    <tr>\n",
       "      <th class=\"blank level0\" >&nbsp;</th>\n",
       "      <th class=\"col_heading level0 col0\" >All</th>\n",
       "      <th class=\"col_heading level0 col1\" >Freshmen</th>\n",
       "      <th class=\"col_heading level0 col2\" >Soph</th>\n",
       "    </tr>\n",
       "  </thead>\n",
       "  <tbody>\n",
       "    <tr>\n",
       "      <th id=\"T_4a072_level0_row0\" class=\"row_heading level0 row0\" >Intercept</th>\n",
       "      <td id=\"T_4a072_row0_col0\" class=\"data row0 col0\" >75.700</td>\n",
       "      <td id=\"T_4a072_row0_col1\" class=\"data row0 col1\" >76.507</td>\n",
       "      <td id=\"T_4a072_row0_col2\" class=\"data row0 col2\" >74.887</td>\n",
       "    </tr>\n",
       "    <tr>\n",
       "      <th id=\"T_4a072_level0_row1\" class=\"row_heading level0 row1\" >priGPA</th>\n",
       "      <td id=\"T_4a072_row1_col0\" class=\"data row1 col0\" >17.261</td>\n",
       "      <td id=\"T_4a072_row1_col1\" class=\"data row1 col1\" >16.062</td>\n",
       "      <td id=\"T_4a072_row1_col2\" class=\"data row1 col2\" >18.869</td>\n",
       "    </tr>\n",
       "    <tr>\n",
       "      <th id=\"T_4a072_level0_row2\" class=\"row_heading level0 row2\" >ACT</th>\n",
       "      <td id=\"T_4a072_row2_col0\" class=\"data row2 col0\" >-1.717</td>\n",
       "      <td id=\"T_4a072_row2_col1\" class=\"data row2 col1\" >-1.487</td>\n",
       "      <td id=\"T_4a072_row2_col2\" class=\"data row2 col2\" >-1.898</td>\n",
       "    </tr>\n",
       "  </tbody>\n",
       "</table>\n"
      ],
      "text/plain": [
       "<pandas.io.formats.style.Styler at 0x7ffa73b94b50>"
      ]
     },
     "execution_count": 8,
     "metadata": {},
     "output_type": "execute_result"
    }
   ],
   "source": [
    "# create a table to examine the parameters \n",
    "table = pd.DataFrame({'All': round(mc4.params, 4),\n",
    "                      'Freshmen': round(mfre.params, 4),\n",
    "                      'Soph': round(msoph.params, 4)})\n",
    "table.style.format('{:,.3f}'.format)\n",
    "\n",
    "# mc4.params, mc4.rsquared, mc4.nobs], axis=0)\n",
    "# freshman = np.append(mfre.params.values[0:3], [mfre.rsquared, mfre.nobs])\n",
    "# sophomore = np.append(msoph.params.values[0:3], [msoph.rsquared, msoph.nobs])\n",
    "# Results = ['Intercept', 'priGPA', 'ACT', 'R2', 'nobs']\n",
    "# table = [[all1, freshman, sophomore]]"
   ]
  },
  {
   "cell_type": "markdown",
   "metadata": {},
   "source": [
    "The table below compares the $R^2$ and observations for the models estimated. "
   ]
  },
  {
   "cell_type": "code",
   "execution_count": 9,
   "metadata": {},
   "outputs": [
    {
     "data": {
      "text/html": [
       "<style type=\"text/css\">\n",
       "</style>\n",
       "<table id=\"T_1dc79_\">\n",
       "  <thead>\n",
       "    <tr>\n",
       "      <th class=\"blank level0\" >&nbsp;</th>\n",
       "      <th class=\"col_heading level0 col0\" >All</th>\n",
       "      <th class=\"col_heading level0 col1\" >Freshmen</th>\n",
       "      <th class=\"col_heading level0 col2\" >Soph</th>\n",
       "    </tr>\n",
       "  </thead>\n",
       "  <tbody>\n",
       "    <tr>\n",
       "      <th id=\"T_1dc79_level0_row0\" class=\"row_heading level0 row0\" >R2</th>\n",
       "      <td id=\"T_1dc79_row0_col0\" class=\"data row0 col0\" >0.291</td>\n",
       "      <td id=\"T_1dc79_row0_col1\" class=\"data row0 col1\" >0.286</td>\n",
       "      <td id=\"T_1dc79_row0_col2\" class=\"data row0 col2\" >0.320</td>\n",
       "    </tr>\n",
       "    <tr>\n",
       "      <th id=\"T_1dc79_level0_row1\" class=\"row_heading level0 row1\" >obs</th>\n",
       "      <td id=\"T_1dc79_row1_col0\" class=\"data row1 col0\" >680.000</td>\n",
       "      <td id=\"T_1dc79_row1_col1\" class=\"data row1 col1\" >158.000</td>\n",
       "      <td id=\"T_1dc79_row1_col2\" class=\"data row1 col2\" >392.000</td>\n",
       "    </tr>\n",
       "  </tbody>\n",
       "</table>\n"
      ],
      "text/plain": [
       "<pandas.io.formats.style.Styler at 0x7ffa741ebb20>"
      ]
     },
     "execution_count": 9,
     "metadata": {},
     "output_type": "execute_result"
    }
   ],
   "source": [
    "#create a table to examine the \n",
    "table = pd.DataFrame({'All': [round(mc4.rsquared, 4), round(mc4.nobs, 4)],\n",
    "                      'Freshmen': [round(mfre.rsquared, 4), round(mfre.nobs, 4)],\n",
    "                      'Soph': [round(msoph.rsquared, 4), round(msoph.nobs, 4)]}, index = ['R2', 'obs'])\n",
    "table.style.format('{:,.3f}'.format)"
   ]
  },
  {
   "cell_type": "markdown",
   "metadata": {},
   "source": [
    "## (vii) Calculate the correlation between the residuals and the `priGPA` for the first model. "
   ]
  },
  {
   "cell_type": "code",
   "execution_count": 10,
   "metadata": {},
   "outputs": [
    {
     "name": "stdout",
     "output_type": "stream",
     "text": [
      "Corr GPA and residuals:  \n",
      " 0.0\n"
     ]
    }
   ],
   "source": [
    "u_hat = mc4.resid\n",
    "corrx_u_hat = round(np.corrcoef(attend['priGPA'], u_hat)[1,0],3)\n",
    "# remember this accesses the first element of the correlation matrix\n",
    "\n",
    "print(f'Corr GPA and residuals:  \\n', abs(corrx_u_hat))\n",
    "# this number approximates to zero from the left hand side \n",
    "# so we use the absolute value so that it doesn't have a negative sign "
   ]
  },
  {
   "cell_type": "markdown",
   "metadata": {},
   "source": [
    "# From Computer Exercise 10 \n",
    "\n",
    "Use the data in Wooldridge's HTV to answer this question. The data set includes information on wages, education, parents’ education, and several other variables for 1,230 working men in 1991. \n",
    "\n",
    "## (i)  Investigate some descriptive statistics\n",
    "\n",
    "* What is the range of the `educ` variable in the sample?"
   ]
  },
  {
   "cell_type": "code",
   "execution_count": 11,
   "metadata": {},
   "outputs": [
    {
     "name": "stdout",
     "output_type": "stream",
     "text": [
      "count    1230.000000\n",
      "mean       13.037398\n",
      "std         2.354346\n",
      "min         6.000000\n",
      "25%        12.000000\n",
      "50%        12.000000\n",
      "75%        15.000000\n",
      "max        20.000000\n",
      "Name: educ, dtype: float64\n"
     ]
    }
   ],
   "source": [
    "# load the dataset\n",
    "htv = woo.dataWoo('htv')\n",
    "\n",
    "# find some descriptive statistics of the education variable\n",
    "# summary provides the mean and max of the variable - therefore the range\n",
    "print(htv['educ'].describe())\n"
   ]
  },
  {
   "cell_type": "markdown",
   "metadata": {},
   "source": [
    "* What percentage of men completed twelveth grade but no higher grade? \n",
    "    > Hint: use a logical expression and calculate the mean\n",
    "* Do the men or their parents have, on average, higher levels of education?"
   ]
  },
  {
   "cell_type": "code",
   "execution_count": 12,
   "metadata": {},
   "outputs": [
    {
     "name": "stdout",
     "output_type": "stream",
     "text": [
      "Percentage of men with HS=  0.416\n"
     ]
    }
   ],
   "source": [
    "#calculate the percentage of men that did not complete more than high school\n",
    "print(\"Percentage of men with HS= \", round(htv[htv['educ']==12]['educ'].count() /1230, 3))"
   ]
  },
  {
   "cell_type": "code",
   "execution_count": 13,
   "metadata": {},
   "outputs": [
    {
     "data": {
      "text/html": [
       "<div>\n",
       "<style scoped>\n",
       "    .dataframe tbody tr th:only-of-type {\n",
       "        vertical-align: middle;\n",
       "    }\n",
       "\n",
       "    .dataframe tbody tr th {\n",
       "        vertical-align: top;\n",
       "    }\n",
       "\n",
       "    .dataframe thead th {\n",
       "        text-align: right;\n",
       "    }\n",
       "</style>\n",
       "<table border=\"1\" class=\"dataframe\">\n",
       "  <thead>\n",
       "    <tr style=\"text-align: right;\">\n",
       "      <th></th>\n",
       "      <th>Averages</th>\n",
       "    </tr>\n",
       "  </thead>\n",
       "  <tbody>\n",
       "    <tr>\n",
       "      <th>educ</th>\n",
       "      <td>13.037</td>\n",
       "    </tr>\n",
       "    <tr>\n",
       "      <th>motheduc</th>\n",
       "      <td>12.178</td>\n",
       "    </tr>\n",
       "    <tr>\n",
       "      <th>fatheduc</th>\n",
       "      <td>12.447</td>\n",
       "    </tr>\n",
       "  </tbody>\n",
       "</table>\n",
       "</div>"
      ],
      "text/plain": [
       "          Averages\n",
       "educ        13.037\n",
       "motheduc    12.178\n",
       "fatheduc    12.447"
      ]
     },
     "execution_count": 13,
     "metadata": {},
     "output_type": "execute_result"
    }
   ],
   "source": [
    "#Men have higher avg level of education\n",
    "p = htv[[\"educ\", \"motheduc\", \"fatheduc\"]].mean()\n",
    "pd.DataFrame(round(p,3), columns=[\"Averages\"])"
   ]
  },
  {
   "cell_type": "markdown",
   "metadata": {},
   "source": [
    "## (ii)  Estimate the regression model <br>\n",
    "$$educ = \\beta_0 + \\beta_1motheduc + \\beta_2fatheduc + u$$ <br>\n",
    "by OLS and report the results in the usual form. \n",
    "\n",
    "How much sample variation in `educ` is explained by parents’ education? Think about the interpretation of the coefficient on `motheduc`."
   ]
  },
  {
   "cell_type": "code",
   "execution_count": 14,
   "metadata": {},
   "outputs": [
    {
     "name": "stdout",
     "output_type": "stream",
     "text": [
      "results.summary(): \n",
      "                            OLS Regression Results                            \n",
      "==============================================================================\n",
      "Dep. Variable:                   educ   R-squared:                       0.249\n",
      "Model:                            OLS   Adj. R-squared:                  0.248\n",
      "Method:                 Least Squares   F-statistic:                     203.7\n",
      "Date:                Wed, 12 Oct 2022   Prob (F-statistic):           4.13e-77\n",
      "Time:                        19:19:17   Log-Likelihood:                -2621.7\n",
      "No. Observations:                1230   AIC:                             5249.\n",
      "Df Residuals:                    1227   BIC:                             5265.\n",
      "Df Model:                           2                                         \n",
      "Covariance Type:            nonrobust                                         \n",
      "==============================================================================\n",
      "                 coef    std err          t      P>|t|      [0.025      0.975]\n",
      "------------------------------------------------------------------------------\n",
      "Intercept      6.9644      0.320     21.776      0.000       6.337       7.592\n",
      "motheduc       0.3042      0.032      9.528      0.000       0.242       0.367\n",
      "fatheduc       0.1903      0.022      8.539      0.000       0.147       0.234\n",
      "==============================================================================\n",
      "Omnibus:                       60.519   Durbin-Watson:                   1.748\n",
      "Prob(Omnibus):                  0.000   Jarque-Bera (JB):               82.103\n",
      "Skew:                           0.455   Prob(JB):                     1.48e-18\n",
      "Kurtosis:                       3.879   Cond. No.                         98.0\n",
      "==============================================================================\n",
      "\n",
      "Notes:\n",
      "[1] Standard Errors assume that the covariance matrix of the errors is correctly specified.\n",
      "\n"
     ]
    }
   ],
   "source": [
    "#Sample variation in educ explained by motheduc and fatheduc\n",
    "#Motheduc and fatheduc exlain 24.9% of sample variation - R^2 = 24.9%. \n",
    "mc5 = smf.ols(formula='educ ~ motheduc + fatheduc', data=htv)\n",
    "mc5 = mc5.fit()\n",
    "\n",
    "# print results using summary:\n",
    "print(f'results.summary(): \\n{mc5.summary()}\\n')"
   ]
  },
  {
   "cell_type": "markdown",
   "metadata": {},
   "source": [
    "## (iii)  Add the variable `abil` (a measure of cognitive ability) to the regression from part (ii), and report the results in equation form. Does “ability” help to explain variations in education, even after controlling for parents’ education? Explain."
   ]
  },
  {
   "cell_type": "code",
   "execution_count": 15,
   "metadata": {},
   "outputs": [
    {
     "name": "stdout",
     "output_type": "stream",
     "text": [
      "results.summary(): \n",
      "                            OLS Regression Results                            \n",
      "==============================================================================\n",
      "Dep. Variable:                   educ   R-squared:                       0.428\n",
      "Model:                            OLS   Adj. R-squared:                  0.426\n",
      "Method:                 Least Squares   F-statistic:                     305.2\n",
      "Date:                Wed, 12 Oct 2022   Prob (F-statistic):          5.95e-148\n",
      "Time:                        19:19:36   Log-Likelihood:                -2455.0\n",
      "No. Observations:                1230   AIC:                             4918.\n",
      "Df Residuals:                    1226   BIC:                             4938.\n",
      "Df Model:                           3                                         \n",
      "Covariance Type:            nonrobust                                         \n",
      "==============================================================================\n",
      "                 coef    std err          t      P>|t|      [0.025      0.975]\n",
      "------------------------------------------------------------------------------\n",
      "Intercept      8.4487      0.290     29.180      0.000       7.881       9.017\n",
      "motheduc       0.1891      0.029      6.635      0.000       0.133       0.245\n",
      "fatheduc       0.1111      0.020      5.586      0.000       0.072       0.150\n",
      "abil           0.5025      0.026     19.538      0.000       0.452       0.553\n",
      "==============================================================================\n",
      "Omnibus:                       52.055   Durbin-Watson:                   1.821\n",
      "Prob(Omnibus):                  0.000   Jarque-Bera (JB):               61.086\n",
      "Skew:                           0.465   Prob(JB):                     5.44e-14\n",
      "Kurtosis:                       3.570   Cond. No.                         102.\n",
      "==============================================================================\n",
      "\n",
      "Notes:\n",
      "[1] Standard Errors assume that the covariance matrix of the errors is correctly specified.\n",
      "\n"
     ]
    }
   ],
   "source": [
    "#Abil helps explain the variation in education as we see the R^2 jump from 24.9% to 42.8% \n",
    "#once it is taken out of residual. Coefficients for motheduc and fatheduc also decrease, \n",
    "#displaying abil as another explanation of variation in educ. \n",
    "mc6 = smf.ols(formula='educ ~ motheduc + fatheduc + abil', data=htv)\n",
    "mc6 = mc6.fit()\n",
    "\n",
    "# print results using summary:\n",
    "print(f'results.summary(): \\n{mc6.summary()}\\n')"
   ]
  },
  {
   "cell_type": "markdown",
   "metadata": {},
   "source": [
    "## (iv) Now estimate an equation where `abil` appears in quadratic form"
   ]
  },
  {
   "cell_type": "code",
   "execution_count": 16,
   "metadata": {},
   "outputs": [
    {
     "data": {
      "text/html": [
       "<table class=\"simpletable\">\n",
       "<caption>OLS Regression Results</caption>\n",
       "<tr>\n",
       "  <th>Dep. Variable:</th>          <td>educ</td>       <th>  R-squared:         </th> <td>   0.444</td> \n",
       "</tr>\n",
       "<tr>\n",
       "  <th>Model:</th>                   <td>OLS</td>       <th>  Adj. R-squared:    </th> <td>   0.443</td> \n",
       "</tr>\n",
       "<tr>\n",
       "  <th>Method:</th>             <td>Least Squares</td>  <th>  F-statistic:       </th> <td>   244.9</td> \n",
       "</tr>\n",
       "<tr>\n",
       "  <th>Date:</th>             <td>Wed, 12 Oct 2022</td> <th>  Prob (F-statistic):</th> <td>1.34e-154</td>\n",
       "</tr>\n",
       "<tr>\n",
       "  <th>Time:</th>                 <td>19:19:59</td>     <th>  Log-Likelihood:    </th> <td> -2436.6</td> \n",
       "</tr>\n",
       "<tr>\n",
       "  <th>No. Observations:</th>      <td>  1230</td>      <th>  AIC:               </th> <td>   4883.</td> \n",
       "</tr>\n",
       "<tr>\n",
       "  <th>Df Residuals:</th>          <td>  1225</td>      <th>  BIC:               </th> <td>   4909.</td> \n",
       "</tr>\n",
       "<tr>\n",
       "  <th>Df Model:</th>              <td>     4</td>      <th>                     </th>     <td> </td>    \n",
       "</tr>\n",
       "<tr>\n",
       "  <th>Covariance Type:</th>      <td>nonrobust</td>    <th>                     </th>     <td> </td>    \n",
       "</tr>\n",
       "</table>\n",
       "<table class=\"simpletable\">\n",
       "<tr>\n",
       "          <td></td>             <th>coef</th>     <th>std err</th>      <th>t</th>      <th>P>|t|</th>  <th>[0.025</th>    <th>0.975]</th>  \n",
       "</tr>\n",
       "<tr>\n",
       "  <th>Intercept</th>         <td>    8.2402</td> <td>    0.287</td> <td>   28.671</td> <td> 0.000</td> <td>    7.676</td> <td>    8.804</td>\n",
       "</tr>\n",
       "<tr>\n",
       "  <th>motheduc</th>          <td>    0.1901</td> <td>    0.028</td> <td>    6.767</td> <td> 0.000</td> <td>    0.135</td> <td>    0.245</td>\n",
       "</tr>\n",
       "<tr>\n",
       "  <th>fatheduc</th>          <td>    0.1089</td> <td>    0.020</td> <td>    5.558</td> <td> 0.000</td> <td>    0.070</td> <td>    0.147</td>\n",
       "</tr>\n",
       "<tr>\n",
       "  <th>abil</th>              <td>    0.4015</td> <td>    0.030</td> <td>   13.255</td> <td> 0.000</td> <td>    0.342</td> <td>    0.461</td>\n",
       "</tr>\n",
       "<tr>\n",
       "  <th>np.power(abil, 2)</th> <td>    0.0506</td> <td>    0.008</td> <td>    6.093</td> <td> 0.000</td> <td>    0.034</td> <td>    0.067</td>\n",
       "</tr>\n",
       "</table>\n",
       "<table class=\"simpletable\">\n",
       "<tr>\n",
       "  <th>Omnibus:</th>       <td>45.933</td> <th>  Durbin-Watson:     </th> <td>   1.820</td>\n",
       "</tr>\n",
       "<tr>\n",
       "  <th>Prob(Omnibus):</th> <td> 0.000</td> <th>  Jarque-Bera (JB):  </th> <td>  56.769</td>\n",
       "</tr>\n",
       "<tr>\n",
       "  <th>Skew:</th>          <td> 0.404</td> <th>  Prob(JB):          </th> <td>4.71e-13</td>\n",
       "</tr>\n",
       "<tr>\n",
       "  <th>Kurtosis:</th>      <td> 3.674</td> <th>  Cond. No.          </th> <td>    115.</td>\n",
       "</tr>\n",
       "</table><br/><br/>Notes:<br/>[1] Standard Errors assume that the covariance matrix of the errors is correctly specified."
      ],
      "text/plain": [
       "<class 'statsmodels.iolib.summary.Summary'>\n",
       "\"\"\"\n",
       "                            OLS Regression Results                            \n",
       "==============================================================================\n",
       "Dep. Variable:                   educ   R-squared:                       0.444\n",
       "Model:                            OLS   Adj. R-squared:                  0.443\n",
       "Method:                 Least Squares   F-statistic:                     244.9\n",
       "Date:                Wed, 12 Oct 2022   Prob (F-statistic):          1.34e-154\n",
       "Time:                        19:19:59   Log-Likelihood:                -2436.6\n",
       "No. Observations:                1230   AIC:                             4883.\n",
       "Df Residuals:                    1225   BIC:                             4909.\n",
       "Df Model:                           4                                         \n",
       "Covariance Type:            nonrobust                                         \n",
       "=====================================================================================\n",
       "                        coef    std err          t      P>|t|      [0.025      0.975]\n",
       "-------------------------------------------------------------------------------------\n",
       "Intercept             8.2402      0.287     28.671      0.000       7.676       8.804\n",
       "motheduc              0.1901      0.028      6.767      0.000       0.135       0.245\n",
       "fatheduc              0.1089      0.020      5.558      0.000       0.070       0.147\n",
       "abil                  0.4015      0.030     13.255      0.000       0.342       0.461\n",
       "np.power(abil, 2)     0.0506      0.008      6.093      0.000       0.034       0.067\n",
       "==============================================================================\n",
       "Omnibus:                       45.933   Durbin-Watson:                   1.820\n",
       "Prob(Omnibus):                  0.000   Jarque-Bera (JB):               56.769\n",
       "Skew:                           0.404   Prob(JB):                     4.71e-13\n",
       "Kurtosis:                       3.674   Cond. No.                         115.\n",
       "==============================================================================\n",
       "\n",
       "Notes:\n",
       "[1] Standard Errors assume that the covariance matrix of the errors is correctly specified.\n",
       "\"\"\""
      ]
     },
     "execution_count": 16,
     "metadata": {},
     "output_type": "execute_result"
    }
   ],
   "source": [
    "# add in abil squared using numpy\n",
    "m3 = smf.ols(formula='educ ~ motheduc + fatheduc + abil + np.power(abil,2)', data=htv).fit()\n",
    "\n",
    "#print the regression results\n",
    "m3.summary()"
   ]
  },
  {
   "cell_type": "markdown",
   "metadata": {},
   "source": [
    "## (v) Use the estimates in part (iv) to graph the relationship between the predicted `education` and `abil`. Set `motheduc` and `fatheduc` at their average values in the sample, 12.18 and 12.45, respectively. See handout for more. \n"
   ]
  },
  {
   "cell_type": "code",
   "execution_count": 17,
   "metadata": {},
   "outputs": [
    {
     "data": {
      "text/plain": [
       "Intercept            8.240226\n",
       "motheduc             0.190126\n",
       "fatheduc             0.108939\n",
       "abil                 0.401462\n",
       "np.power(abil, 2)    0.050599\n",
       "dtype: float64"
      ]
     },
     "execution_count": 17,
     "metadata": {},
     "output_type": "execute_result"
    }
   ],
   "source": [
    "# look at the coeficients \n",
    "m3.params\n"
   ]
  },
  {
   "cell_type": "code",
   "execution_count": 18,
   "metadata": {},
   "outputs": [
    {
     "data": {
      "image/png": "[encoded data removed]",
      "text/plain": [
       "<Figure size 864x576 with 1 Axes>"
      ]
     },
     "metadata": {
      "needs_background": "light"
     },
     "output_type": "display_data"
    }
   ],
   "source": [
    "# set the proper variables \n",
    "htv['yhat'] = m3.fittedvalues\n",
    "htv['resid'] = m3.resid\n",
    "# Create a variable 'yaveduc' in your data set that is the estimated y for the average values for education but that still changes with aability. \n",
    "# Hint retrieve all the parameters and set the linear model equation \n",
    "htv['yaveduc'] = m3.params[0] + m3.params[1] * 12.18  + m3.params[2] * 12.45  + m3.params[3] * htv['abil'] + m3.params[4] * np.power(htv['abil'], 2)\n",
    "\n",
    "# You need to sort the values by abil so that the line plots nicely. Try not doing it and see what happens\n",
    "htv.sort_values(by=['abil'], inplace=True)\n",
    "\n",
    "plt.figure(figsize=(12, 8))\n",
    "# this does the scatter of the abil vs predicted education function\n",
    "sns.regplot(x='abil', y='yhat',scatter_kws={\"color\": \"blue\", 'alpha': 0.3}, fit_reg=False,\n",
    "            data=htv).set_title(\"log(Salary) vs log(Sales)\")\n",
    "# this adds the line that shows the quadratic relation between this two.\n",
    "plt.plot(htv['abil'], htv['yaveduc'], color='purple', linewidth=4, label=\"Pop. Reg Line\")\n",
    "plt.title(\"A graph of {x,y}, the population regression function, and the sample regression function\" )\n",
    "plt.legend(loc='upper left')\n",
    "plt.show()\n",
    "\n"
   ]
  },
  {
   "cell_type": "markdown",
   "metadata": {},
   "source": [
    "&nbsp;\n",
    "<hr />\n",
    "<p style=\"font-family:palatino; text-align: center;font-size: 15px\">ECON320 Python Programming Laboratory</a></p>\n",
    "<p style=\"font-family:palatino; text-align: center;font-size: 15px\">Professor <em> Paloma Lopez de mesa Moyano</em></a></p>\n",
    "<p style=\"font-family:palatino; text-align: center;font-size: 15px\"><span style=\"color: #6666FF;\"><em>paloma.moyano@emory.edu</em></span></p>\n",
    "\n",
    "<p style=\"font-family:palatino; text-align: center;font-size: 15px\">Department of Economics</a></p>\n",
    "<p style=\"font-family:palatino; text-align: center; color: #012169;font-size: 15px\">Emory University</a></p>\n",
    "\n",
    "&nbsp;"
   ]
  },
  {
   "cell_type": "code",
   "execution_count": null,
   "metadata": {},
   "outputs": [],
   "source": []
  }
 ],
 "metadata": {
  "kernelspec": {
   "display_name": "Python 3 (ipykernel)",
   "language": "python",
   "name": "python3"
  },
  "language_info": {
   "codemirror_mode": {
    "name": "ipython",
    "version": 3
   },
   "file_extension": ".py",
   "mimetype": "text/x-python",
   "name": "python",
   "nbconvert_exporter": "python",
   "pygments_lexer": "ipython3",
   "version": "3.9.7"
  },
  "varInspector": {
   "cols": {
    "lenName": 16,
    "lenType": 16,
    "lenVar": 40
   },
   "kernels_config": {
    "python": {
     "delete_cmd_postfix": "",
     "delete_cmd_prefix": "del ",
     "library": "var_list.py",
     "varRefreshCmd": "print(var_dic_list())"
    },
    "r": {
     "delete_cmd_postfix": ") ",
     "delete_cmd_prefix": "rm(",
     "library": "var_list.r",
     "varRefreshCmd": "cat(var_dic_list()) "
    }
   },
   "types_to_exclude": [
    "module",
    "function",
    "builtin_function_or_method",
    "instance",
    "_Feature"
   ],
   "window_display": false
  }
 },
 "nbformat": 4,
 "nbformat_minor": 4
}
