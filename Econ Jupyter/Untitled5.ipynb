{
 "cells": [
  {
   "cell_type": "code",
   "execution_count": 2,
   "id": "0ed06f7f",
   "metadata": {},
   "outputs": [
    {
     "name": "stdout",
     "output_type": "stream",
     "text": [
      "Requirement already satisfied: revChatGPT in ./opt/anaconda3/lib/python3.9/site-packages (0.0.44)\n",
      "Requirement already satisfied: playwright in ./opt/anaconda3/lib/python3.9/site-packages (from revChatGPT) (1.28.0)\n",
      "Requirement already satisfied: httpx in ./opt/anaconda3/lib/python3.9/site-packages (from revChatGPT) (0.23.1)\n",
      "Requirement already satisfied: nest-asyncio in ./opt/anaconda3/lib/python3.9/site-packages (from revChatGPT) (1.5.1)\n",
      "Requirement already satisfied: cf-clearance2>=0.28.3 in ./opt/anaconda3/lib/python3.9/site-packages (from revChatGPT) (0.28.3)\n",
      "Requirement already satisfied: OpenAIAuth>=0.0.6 in ./opt/anaconda3/lib/python3.9/site-packages (from revChatGPT) (0.0.6)\n",
      "Requirement already satisfied: tls-client in ./opt/anaconda3/lib/python3.9/site-packages (from OpenAIAuth>=0.0.6->revChatGPT) (0.1.5)\n",
      "Requirement already satisfied: sniffio in ./opt/anaconda3/lib/python3.9/site-packages (from httpx->revChatGPT) (1.2.0)\n",
      "Requirement already satisfied: certifi in ./opt/anaconda3/lib/python3.9/site-packages (from httpx->revChatGPT) (2021.10.8)\n",
      "Requirement already satisfied: rfc3986[idna2008]<2,>=1.3 in ./opt/anaconda3/lib/python3.9/site-packages (from httpx->revChatGPT) (1.5.0)\n",
      "Requirement already satisfied: httpcore<0.17.0,>=0.15.0 in ./opt/anaconda3/lib/python3.9/site-packages (from httpx->revChatGPT) (0.16.2)\n",
      "Requirement already satisfied: h11<0.15,>=0.13 in ./opt/anaconda3/lib/python3.9/site-packages (from httpcore<0.17.0,>=0.15.0->httpx->revChatGPT) (0.14.0)\n",
      "Requirement already satisfied: anyio<5.0,>=3.0 in ./opt/anaconda3/lib/python3.9/site-packages (from httpcore<0.17.0,>=0.15.0->httpx->revChatGPT) (3.6.2)\n",
      "Requirement already satisfied: idna>=2.8 in ./opt/anaconda3/lib/python3.9/site-packages (from anyio<5.0,>=3.0->httpcore<0.17.0,>=0.15.0->httpx->revChatGPT) (3.2)\n",
      "Requirement already satisfied: pyee==9.0.4 in ./opt/anaconda3/lib/python3.9/site-packages (from playwright->revChatGPT) (9.0.4)\n",
      "Requirement already satisfied: greenlet==2.0.1 in ./opt/anaconda3/lib/python3.9/site-packages (from playwright->revChatGPT) (2.0.1)\n",
      "Requirement already satisfied: typing-extensions in ./opt/anaconda3/lib/python3.9/site-packages (from pyee==9.0.4->playwright->revChatGPT) (3.10.0.2)\n"
     ]
    }
   ],
   "source": [
    "!pip3 install --upgrade revChatGPT"
   ]
  },
  {
   "cell_type": "code",
   "execution_count": 3,
   "id": "00dd83b8",
   "metadata": {},
   "outputs": [],
   "source": [
    "!python3 -m playwright install"
   ]
  },
  {
   "cell_type": "code",
   "execution_count": 1,
   "id": "05397603",
   "metadata": {},
   "outputs": [],
   "source": [
    "import playwright\n",
    "import os"
   ]
  },
  {
   "cell_type": "code",
   "execution_count": 2,
   "id": "59e908ff",
   "metadata": {},
   "outputs": [
    {
     "name": "stdout",
     "output_type": "stream",
     "text": [
      "\n",
      "        ChatGPT - A command-line interface to OpenAI's ChatGPT (https://chat.openai.com/chat)\n",
      "        Repo: github.com/acheong08/ChatGPT\n",
      "        Run with --debug to enable debugging\n",
      "        \n",
      "Type '!help' to show commands\n",
      "Press enter twice to submit your question.\n",
      "\n",
      "No config file found.\n",
      "Logging in...\n",
      "\n",
      "You:\n",
      "^C\n",
      "\n",
      "Goodbye!\n"
     ]
    }
   ],
   "source": [
    "!python3 -m revChatGPT"
   ]
  },
  {
   "cell_type": "code",
   "execution_count": 7,
   "id": "ec3b5164",
   "metadata": {},
   "outputs": [
    {
     "name": "stdout",
     "output_type": "stream",
     "text": [
      "Requirement already satisfied: cf-clearance==0.28.2 in ./opt/anaconda3/lib/python3.9/site-packages (0.28.2)\r\n",
      "Requirement already satisfied: playwright in ./opt/anaconda3/lib/python3.9/site-packages (from cf-clearance==0.28.2) (1.28.0)\r\n",
      "Requirement already satisfied: greenlet==2.0.1 in ./opt/anaconda3/lib/python3.9/site-packages (from playwright->cf-clearance==0.28.2) (2.0.1)\r\n",
      "Requirement already satisfied: pyee==9.0.4 in ./opt/anaconda3/lib/python3.9/site-packages (from playwright->cf-clearance==0.28.2) (9.0.4)\r\n",
      "Requirement already satisfied: typing-extensions in ./opt/anaconda3/lib/python3.9/site-packages (from pyee==9.0.4->playwright->cf-clearance==0.28.2) (3.10.0.2)\r\n"
     ]
    }
   ],
   "source": [
    "!pip install cf-clearance==0.28.2"
   ]
  },
  {
   "cell_type": "code",
   "execution_count": null,
   "id": "33d46292",
   "metadata": {},
   "outputs": [
    {
     "name": "stdout",
     "output_type": "stream",
     "text": [
      "\n",
      "        ChatGPT - A command-line interface to OpenAI's ChatGPT (https://chat.openai.com/chat)\n",
      "        Repo: github.com/acheong08/ChatGPT\n",
      "        Run with --debug to enable debugging\n",
      "        \n",
      "Type '!help' to show commands\n",
      "Press enter twice to submit your question.\n",
      "\n",
      "Logging in...\n",
      "\n",
      "You:\n"
     ]
    }
   ],
   "source": [
    "!python3 -m revChatGPT"
   ]
  },
  {
   "cell_type": "code",
   "execution_count": null,
   "id": "4aa5e4d6",
   "metadata": {},
   "outputs": [],
   "source": []
  },
  {
   "cell_type": "code",
   "execution_count": null,
   "id": "2187ec58",
   "metadata": {},
   "outputs": [],
   "source": []
  },
  {
   "cell_type": "code",
   "execution_count": null,
   "id": "cf3c1e57",
   "metadata": {},
   "outputs": [],
   "source": []
  }
 ],
 "metadata": {
  "kernelspec": {
   "display_name": "Python 3 (ipykernel)",
   "language": "python",
   "name": "python3"
  },
  "language_info": {
   "codemirror_mode": {
    "name": "ipython",
    "version": 3
   },
   "file_extension": ".py",
   "mimetype": "text/x-python",
   "name": "python",
   "nbconvert_exporter": "python",
   "pygments_lexer": "ipython3",
   "version": "3.9.7"
  }
 },
 "nbformat": 4,
 "nbformat_minor": 5
}
