{
 "cells": [
  {
   "cell_type": "code",
   "execution_count": 8,
   "id": "c9c8dde2",
   "metadata": {},
   "outputs": [],
   "source": [
    "# Script Name: Assignment 7 \n",
    "# Purpose of script: Complete Assignment 7 for Econ 320\n",
    "# Author: Gavin Mason\n",
    "# Date Created: 10/23/2022\n",
    "# Notes:\n",
    "\n",
    "# Packages\n",
    "import os\n",
    "import numpy as np\n",
    "import math\n",
    "import matplotlib.pyplot as plt\n",
    "import statistics\n",
    "import pandas as pd\n",
    "import seaborn as sns\n",
    "import statsmodels.formula.api as smf"
   ]
  },
  {
   "cell_type": "code",
   "execution_count": 9,
   "id": "d35b390f",
   "metadata": {},
   "outputs": [],
   "source": [
    "n = 100000\n",
    "x = np.random.normal(10,10**0.5,n)\n",
    "u = np.random.normal(0,5**0.5,n)\n",
    "y = 2.5 + (1.5*x) + u\n",
    "popdata = pd.DataFrame({'y':y, 'x':x})"
   ]
  },
  {
   "cell_type": "code",
   "execution_count": 10,
   "id": "f9bd2bea",
   "metadata": {
    "scrolled": true
   },
   "outputs": [
    {
     "data": {
      "text/html": [
       "<table class=\"simpletable\">\n",
       "<caption>OLS Regression Results</caption>\n",
       "<tr>\n",
       "  <th>Dep. Variable:</th>            <td>y</td>        <th>  R-squared:         </th> <td>   0.805</td>\n",
       "</tr>\n",
       "<tr>\n",
       "  <th>Model:</th>                   <td>OLS</td>       <th>  Adj. R-squared:    </th> <td>   0.805</td>\n",
       "</tr>\n",
       "<tr>\n",
       "  <th>Method:</th>             <td>Least Squares</td>  <th>  F-statistic:       </th> <td>   4119.</td>\n",
       "</tr>\n",
       "<tr>\n",
       "  <th>Date:</th>             <td>Sun, 23 Oct 2022</td> <th>  Prob (F-statistic):</th>  <td>  0.00</td> \n",
       "</tr>\n",
       "<tr>\n",
       "  <th>Time:</th>                 <td>21:37:37</td>     <th>  Log-Likelihood:    </th> <td> -2259.2</td>\n",
       "</tr>\n",
       "<tr>\n",
       "  <th>No. Observations:</th>      <td>  1000</td>      <th>  AIC:               </th> <td>   4522.</td>\n",
       "</tr>\n",
       "<tr>\n",
       "  <th>Df Residuals:</th>          <td>   998</td>      <th>  BIC:               </th> <td>   4532.</td>\n",
       "</tr>\n",
       "<tr>\n",
       "  <th>Df Model:</th>              <td>     1</td>      <th>                     </th>     <td> </td>   \n",
       "</tr>\n",
       "<tr>\n",
       "  <th>Covariance Type:</th>      <td>nonrobust</td>    <th>                     </th>     <td> </td>   \n",
       "</tr>\n",
       "</table>\n",
       "<table class=\"simpletable\">\n",
       "<tr>\n",
       "      <td></td>         <th>coef</th>     <th>std err</th>      <th>t</th>      <th>P>|t|</th>  <th>[0.025</th>    <th>0.975]</th>  \n",
       "</tr>\n",
       "<tr>\n",
       "  <th>Intercept</th> <td>    2.6366</td> <td>    0.240</td> <td>   10.964</td> <td> 0.000</td> <td>    2.165</td> <td>    3.108</td>\n",
       "</tr>\n",
       "<tr>\n",
       "  <th>x</th>         <td>    1.4822</td> <td>    0.023</td> <td>   64.180</td> <td> 0.000</td> <td>    1.437</td> <td>    1.528</td>\n",
       "</tr>\n",
       "</table>\n",
       "<table class=\"simpletable\">\n",
       "<tr>\n",
       "  <th>Omnibus:</th>       <td> 1.368</td> <th>  Durbin-Watson:     </th> <td>   2.047</td>\n",
       "</tr>\n",
       "<tr>\n",
       "  <th>Prob(Omnibus):</th> <td> 0.504</td> <th>  Jarque-Bera (JB):  </th> <td>   1.282</td>\n",
       "</tr>\n",
       "<tr>\n",
       "  <th>Skew:</th>          <td> 0.012</td> <th>  Prob(JB):          </th> <td>   0.527</td>\n",
       "</tr>\n",
       "<tr>\n",
       "  <th>Kurtosis:</th>      <td> 3.174</td> <th>  Cond. No.          </th> <td>    34.4</td>\n",
       "</tr>\n",
       "</table><br/><br/>Notes:<br/>[1] Standard Errors assume that the covariance matrix of the errors is correctly specified."
      ],
      "text/plain": [
       "<class 'statsmodels.iolib.summary.Summary'>\n",
       "\"\"\"\n",
       "                            OLS Regression Results                            \n",
       "==============================================================================\n",
       "Dep. Variable:                      y   R-squared:                       0.805\n",
       "Model:                            OLS   Adj. R-squared:                  0.805\n",
       "Method:                 Least Squares   F-statistic:                     4119.\n",
       "Date:                Sun, 23 Oct 2022   Prob (F-statistic):               0.00\n",
       "Time:                        21:37:37   Log-Likelihood:                -2259.2\n",
       "No. Observations:                1000   AIC:                             4522.\n",
       "Df Residuals:                     998   BIC:                             4532.\n",
       "Df Model:                           1                                         \n",
       "Covariance Type:            nonrobust                                         \n",
       "==============================================================================\n",
       "                 coef    std err          t      P>|t|      [0.025      0.975]\n",
       "------------------------------------------------------------------------------\n",
       "Intercept      2.6366      0.240     10.964      0.000       2.165       3.108\n",
       "x              1.4822      0.023     64.180      0.000       1.437       1.528\n",
       "==============================================================================\n",
       "Omnibus:                        1.368   Durbin-Watson:                   2.047\n",
       "Prob(Omnibus):                  0.504   Jarque-Bera (JB):                1.282\n",
       "Skew:                           0.012   Prob(JB):                        0.527\n",
       "Kurtosis:                       3.174   Cond. No.                         34.4\n",
       "==============================================================================\n",
       "\n",
       "Notes:\n",
       "[1] Standard Errors assume that the covariance matrix of the errors is correctly specified.\n",
       "\"\"\""
      ]
     },
     "execution_count": 10,
     "metadata": {},
     "output_type": "execute_result"
    }
   ],
   "source": [
    "sampdata = popdata.sample(1000)\n",
    "reg = smf.ols('y ~ x', data = sampdata).fit()\n",
    "reg.summary()"
   ]
  },
  {
   "cell_type": "code",
   "execution_count": 11,
   "id": "2b482c76",
   "metadata": {},
   "outputs": [],
   "source": [
    "rep = 1000\n",
    "b1r = []\n",
    "b2r = []\n",
    "for i in range(rep):\n",
    "    sample = popdata.sample(1000)\n",
    "    beta1, beta2 = smf.ols('y~x',data=sample).fit().params\n",
    "    b1r.append(beta1)\n",
    "    b2r.append(beta2)"
   ]
  },
  {
   "cell_type": "code",
   "execution_count": 12,
   "id": "72c8fdae",
   "metadata": {},
   "outputs": [
    {
     "data": {
      "image/png": "[encoded data removed]",
      "text/plain": [
       "<Figure size 432x288 with 1 Axes>"
      ]
     },
     "metadata": {
      "needs_background": "light"
     },
     "output_type": "display_data"
    }
   ],
   "source": [
    "b1, b2 = np.array(b1r), np.array(b2r)\n",
    "\n",
    "fig1, axes = plt.subplots(1,1)\n",
    "axes.hist(b1)\n",
    "plt.title('Sample Dist of Estimates of b0')\n",
    "plt.show(fig1)"
   ]
  },
  {
   "cell_type": "code",
   "execution_count": 13,
   "id": "5af1daf8",
   "metadata": {},
   "outputs": [
    {
     "data": {
      "image/png": "[encoded data removed]",
      "text/plain": [
       "<Figure size 432x288 with 1 Axes>"
      ]
     },
     "metadata": {
      "needs_background": "light"
     },
     "output_type": "display_data"
    }
   ],
   "source": [
    "fig2, axes = plt.subplots(1,1)\n",
    "axes.hist(b2)\n",
    "plt.title('Sample Dist of Estimates of b1')\n",
    "plt.show(fig2)"
   ]
  },
  {
   "cell_type": "code",
   "execution_count": 14,
   "id": "029c2d94",
   "metadata": {},
   "outputs": [
    {
     "data": {
      "image/png": "[encoded data removed]",
      "text/plain": [
       "<Figure size 432x288 with 1 Axes>"
      ]
     },
     "metadata": {
      "needs_background": "light"
     },
     "output_type": "display_data"
    }
   ],
   "source": [
    "#u(0,1)\n",
    "u = np.random.normal(0,1,n)\n",
    "y = 2.5 + (1.5*x) + u\n",
    "population = pd.DataFrame({'y':y, 'x':x})\n",
    "\n",
    "rep = 1000\n",
    "bb = []\n",
    "for i in range(rep):\n",
    "    sample = popdata.sample(rep)\n",
    "    beta1, beta2 = smf.ols('y~x',data=sample).fit().params\n",
    "    bb.append(beta2)\n",
    "    \n",
    "b = np.array(bb)\n",
    "fig3, axes = plt.subplots(1,1)\n",
    "axes.hist(b)\n",
    "plt.title('Estimates of b1 if u ~ n(0,1)')\n",
    "plt.show(fig3)"
   ]
  },
  {
   "cell_type": "code",
   "execution_count": 15,
   "id": "b52bc2a7",
   "metadata": {},
   "outputs": [
    {
     "data": {
      "image/png": "[encoded data removed]",
      "text/plain": [
       "<Figure size 432x288 with 1 Axes>"
      ]
     },
     "metadata": {
      "needs_background": "light"
     },
     "output_type": "display_data"
    }
   ],
   "source": [
    "# u(0,50)\n",
    "u = np.random.normal(0,50,n)\n",
    "y = 2.5 + (1.5*x) + u\n",
    "population = pd.DataFrame({'y':y, 'x':x})\n",
    "\n",
    "rep = 1000\n",
    "bb = []\n",
    "for i in range(rep):\n",
    "    sample = popdata.sample(rep)\n",
    "    beta1, beta2 = smf.ols('y~x',data=sample).fit().params\n",
    "    bb.append(beta2)\n",
    "    \n",
    "b = np.array(bb)\n",
    "fig4, axes = plt.subplots(1,1)\n",
    "axes.hist(b)\n",
    "plt.title('Estimate of b1 of u ~ n(0,50)')\n",
    "plt.show(fig4)"
   ]
  }
 ],
 "metadata": {
  "kernelspec": {
   "display_name": "Python 3 (ipykernel)",
   "language": "python",
   "name": "python3"
  },
  "language_info": {
   "codemirror_mode": {
    "name": "ipython",
    "version": 3
   },
   "file_extension": ".py",
   "mimetype": "text/x-python",
   "name": "python",
   "nbconvert_exporter": "python",
   "pygments_lexer": "ipython3",
   "version": "3.9.7"
  }
 },
 "nbformat": 4,
 "nbformat_minor": 5
}
