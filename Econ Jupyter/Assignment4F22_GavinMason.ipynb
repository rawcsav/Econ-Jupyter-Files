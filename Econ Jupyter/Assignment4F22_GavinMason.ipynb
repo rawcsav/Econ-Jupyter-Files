{
 "cells": [
  {
   "cell_type": "markdown",
   "metadata": {},
   "source": [
    "<h1 style=\"text-align: center; color: purple;\" markdown=\"1\">Econ 320 Lab Assignment 4 </h1>\n",
    "<h2 style=\"text-align: center; color: purple;\" markdown=\"1\">Name: Gavin Mason </h2>"
   ]
  },
  {
   "cell_type": "markdown",
   "metadata": {},
   "source": [
    "### Labor markets and returns to schooling\n",
    "For this problem you will use the dataset supplied via Canvas, filename: “Card_Returns.dta”, which is taken from Card, David (1995) “Using Geographic Variation in College Proximity to Estimate the Returns to Schooling,\" in Aspects of Labour Market Behavior: Essays in Honour of John Vanderkamp, ed. L. H. Christophides, E. K. Grand, and R. Swidinsky. Toronto: University of Toronto Press: 201-222. The data measure a variety of characteristics of individuals and include data on the proximity of two- and four-year colleges.\n",
    "\n",
    "Familiarize yourself with the data based on the accompanying PDF of Card’s working paper. Note where the data are originally from, what kind of sampling was involved, and the units of observation.\n",
    "\n",
    "Pay particular attention to the following variables and ensure you know what they measure and in what units: wage, educ, exper, exper2. You may have to infer the units of measurement from the variable distributions. \n",
    "\n",
    "For your writeup, present a table that shows sample means, standard deviations, and minimum/maximum values for the wage, educ, exper variables (call this Table 1). In a note to this table, say how many observations are in the dataset and how many variables there are. Also present a scatter plot of wage by education in a way you think makes sense. Call this Figure 5.\n",
    "\n",
    "Run the following regressions:\n",
    "\n",
    "Specification 1: $ln⁡(wage)=\\beta_0+\\beta_1 (educ)+u_i$ \n",
    "\n",
    "Specification 2: $ln⁡(wage)=\\beta_0+\\beta_1 (educ)+\\beta_2 (exper)+u_i$\n",
    "\n",
    "Specification 3: $ln⁡(wage)=\\beta_0+\\beta_1 (educ)+\\beta_2 (exper)+\\beta_3 (expersq)+u_i$\n",
    "\n",
    "Specification 4: $ln⁡(wage)=\\beta_0+\\beta_1 (educ)+ \\beta_2 (exper)+ \\beta_3 (expersq)+\\beta_4 (married)+u_i$\n",
    "\n",
    "Specification 5: $ln⁡(wage)=\\beta_0+\\beta_1 (educ)+ \\beta_2 (exper)+ \\beta_3 (expersq)+\\beta_4 (married)+\\beta_5(black)+u_i$ \n",
    "\n",
    "* For the married variable show two different ways of creating a dummy variable to incorporate in your regression. \n",
    "\n",
    "* Present a regression output table (Table 2). Below the set of tables, provide discussion of the parameter estimates for Specification 5 (interpret the fitted values for $\\beta_0$,$\\beta_1$,$\\beta_2$,$\\beta_3$,$\\beta_4$,$\\beta_5$). Comment on any major changes you see between Specification 5 and Specification 2.\n",
    "\n",
    "* When a worker gains one more year of experience, by how much is the wage expected to increase, on average? Discuss differences in the parameter estimates in specifications 2 and 3. (Hint: Take the derivative of each with respect to experience.)\n",
    "\n",
    "* State the first two algebraic properties of the OLS estimator. Verify that these properties hold in Specification 1 and Specification 5. *(Hint: You will be able to do this by predicting the residuals into the data, and then using the “sum” function on the variables.)*\n",
    "\n"
   ]
  },
  {
   "cell_type": "code",
   "execution_count": 67,
   "metadata": {},
   "outputs": [],
   "source": [
    "import os\n",
    "import wooldridge as woo\n",
    "import numpy as np\n",
    "import pandas as pd\n",
    "import matplotlib.pyplot as plt\n",
    "import seaborn as sns\n",
    "import statsmodels.formula.api as smf\n",
    "import scipy.stats as stats\n",
    "from stargazer.stargazer import Stargazer\n",
    "from IPython.core.display import HTML\n",
    "from scipy.optimize import minimize"
   ]
  },
  {
   "cell_type": "code",
   "execution_count": 68,
   "metadata": {},
   "outputs": [],
   "source": [
    "card = pd.read_stata(\"/Users/gavinmason/Desktop/card.dta\")"
   ]
  },
  {
   "cell_type": "code",
   "execution_count": 69,
   "metadata": {},
   "outputs": [
    {
     "data": {
      "text/html": [
       "<div>\n",
       "<style scoped>\n",
       "    .dataframe tbody tr th:only-of-type {\n",
       "        vertical-align: middle;\n",
       "    }\n",
       "\n",
       "    .dataframe tbody tr th {\n",
       "        vertical-align: top;\n",
       "    }\n",
       "\n",
       "    .dataframe thead th {\n",
       "        text-align: right;\n",
       "    }\n",
       "</style>\n",
       "<table border=\"1\" class=\"dataframe\">\n",
       "  <thead>\n",
       "    <tr style=\"text-align: right;\">\n",
       "      <th></th>\n",
       "      <th>wage</th>\n",
       "      <th>educ</th>\n",
       "      <th>exper</th>\n",
       "    </tr>\n",
       "  </thead>\n",
       "  <tbody>\n",
       "    <tr>\n",
       "      <th>count</th>\n",
       "      <td>3010.000000</td>\n",
       "      <td>3010.000000</td>\n",
       "      <td>3010.000000</td>\n",
       "    </tr>\n",
       "    <tr>\n",
       "      <th>mean</th>\n",
       "      <td>577.282392</td>\n",
       "      <td>13.263455</td>\n",
       "      <td>8.856146</td>\n",
       "    </tr>\n",
       "    <tr>\n",
       "      <th>std</th>\n",
       "      <td>262.958302</td>\n",
       "      <td>2.676913</td>\n",
       "      <td>4.141672</td>\n",
       "    </tr>\n",
       "    <tr>\n",
       "      <th>min</th>\n",
       "      <td>100.000000</td>\n",
       "      <td>1.000000</td>\n",
       "      <td>0.000000</td>\n",
       "    </tr>\n",
       "    <tr>\n",
       "      <th>25%</th>\n",
       "      <td>394.250000</td>\n",
       "      <td>12.000000</td>\n",
       "      <td>6.000000</td>\n",
       "    </tr>\n",
       "    <tr>\n",
       "      <th>50%</th>\n",
       "      <td>537.500000</td>\n",
       "      <td>13.000000</td>\n",
       "      <td>8.000000</td>\n",
       "    </tr>\n",
       "    <tr>\n",
       "      <th>75%</th>\n",
       "      <td>708.750000</td>\n",
       "      <td>16.000000</td>\n",
       "      <td>11.000000</td>\n",
       "    </tr>\n",
       "    <tr>\n",
       "      <th>max</th>\n",
       "      <td>2404.000000</td>\n",
       "      <td>18.000000</td>\n",
       "      <td>23.000000</td>\n",
       "    </tr>\n",
       "  </tbody>\n",
       "</table>\n",
       "</div>"
      ],
      "text/plain": [
       "              wage         educ        exper\n",
       "count  3010.000000  3010.000000  3010.000000\n",
       "mean    577.282392    13.263455     8.856146\n",
       "std     262.958302     2.676913     4.141672\n",
       "min     100.000000     1.000000     0.000000\n",
       "25%     394.250000    12.000000     6.000000\n",
       "50%     537.500000    13.000000     8.000000\n",
       "75%     708.750000    16.000000    11.000000\n",
       "max    2404.000000    18.000000    23.000000"
      ]
     },
     "execution_count": 69,
     "metadata": {},
     "output_type": "execute_result"
    }
   ],
   "source": [
    "#Table 1\n",
    "#Dataset: 3010 observations of 34 variables\n",
    "tablestats = card[[\"wage\", \"educ\", \"exper\"]]\n",
    "tablestats.describe()"
   ]
  },
  {
   "cell_type": "code",
   "execution_count": 70,
   "metadata": {},
   "outputs": [
    {
     "data": {
      "image/png": "[encoded data removed]",
      "text/plain": [
       "<Figure size 432x288 with 1 Axes>"
      ]
     },
     "metadata": {
      "needs_background": "light"
     },
     "output_type": "display_data"
    }
   ],
   "source": [
    "#Figure 5\n",
    "sns.regplot(x= \"educ\", y= \"wage\", data=card,line_kws= {'color':'blue'},marker='o',\n",
    "           scatter_kws={'color':'red', 's':5, 'alpha':0.3}, x_jitter = 0.2).set(title= 'Wages vs Education',\n",
    "                                                  xlabel=\"Education\", ylabel = \"Wages\");"
   ]
  },
  {
   "cell_type": "code",
   "execution_count": 71,
   "metadata": {},
   "outputs": [],
   "source": [
    "reg1 = smf.ols(formula='np.log(wage) ~ educ', data=card).fit()\n",
    "reg2 = smf.ols(formula='np.log(wage) ~ educ + exper', data=card).fit()\n",
    "reg3 = smf.ols(formula='np.log(wage) ~ educ + exper + expersq', data=card).fit()\n",
    "reg4 = smf.ols(formula='np.log(wage) ~ educ + exper + expersq + married', data=card).fit()\n",
    "reg5 = smf.ols(formula='np.log(wage) ~ educ + exper + expersq + married + black', data=card).fit()"
   ]
  },
  {
   "cell_type": "code",
   "execution_count": 72,
   "metadata": {},
   "outputs": [],
   "source": [
    "m1 = smf.ols(formula='np.log(wage) ~ educ + exper + expersq + C(married)', data=card)"
   ]
  },
  {
   "cell_type": "code",
   "execution_count": 73,
   "metadata": {},
   "outputs": [
    {
     "data": {
      "text/plain": [
       "True     3003\n",
       "False       7\n",
       "Name: ismarried, dtype: int64"
      ]
     },
     "execution_count": 73,
     "metadata": {},
     "output_type": "execute_result"
    }
   ],
   "source": [
    "card['ismarried'] = (card['married'] >= 1)\n",
    "\n",
    "card['ismarried'].value_counts()"
   ]
  },
  {
   "cell_type": "code",
   "execution_count": 74,
   "metadata": {},
   "outputs": [
    {
     "data": {
      "text/html": [
       "<table style=\"text-align:center\"><tr><td colspan=\"6\" style=\"border-bottom: 1px solid black\"></td></tr><tr><td style=\"text-align:left\"></td><td colspan=\"5\"><em>Dependent variable:np.log(wage)</em></td></tr><tr><td style=\"text-align:left\"></td><tr><td style=\"text-align:left\"></td><td>(1)</td><td>(2)</td><td>(3)</td><td>(4)</td><td>(5)</td></tr><tr><td colspan=\"6\" style=\"border-bottom: 1px solid black\"></td></tr><tr><td style=\"text-align:left\">Intercept</td><td>5.571<sup>***</sup></td><td>4.666<sup>***</sup></td><td>4.469<sup>***</sup></td><td>4.667<sup>***</sup></td><td>4.838<sup>***</sup></td></tr><tr><td style=\"text-align:left\"></td><td>(0.039)</td><td>(0.064)</td><td>(0.069)</td><td>(0.071)</td><td>(0.070)</td></tr><tr><td style=\"text-align:left\">black</td><td></td><td></td><td></td><td></td><td>-0.215<sup>***</sup></td></tr><tr><td style=\"text-align:left\"></td><td></td><td></td><td></td><td></td><td>(0.017)</td></tr><tr><td style=\"text-align:left\">educ</td><td>0.052<sup>***</sup></td><td>0.093<sup>***</sup></td><td>0.093<sup>***</sup></td><td>0.090<sup>***</sup></td><td>0.080<sup>***</sup></td></tr><tr><td style=\"text-align:left\"></td><td>(0.003)</td><td>(0.004)</td><td>(0.004)</td><td>(0.004)</td><td>(0.004)</td></tr><tr><td style=\"text-align:left\">exper</td><td></td><td>0.041<sup>***</sup></td><td>0.090<sup>***</sup></td><td>0.078<sup>***</sup></td><td>0.078<sup>***</sup></td></tr><tr><td style=\"text-align:left\"></td><td></td><td>(0.002)</td><td>(0.007)</td><td>(0.007)</td><td>(0.007)</td></tr><tr><td style=\"text-align:left\">expersq</td><td></td><td></td><td>-0.002<sup>***</sup></td><td>-0.002<sup>***</sup></td><td>-0.002<sup>***</sup></td></tr><tr><td style=\"text-align:left\"></td><td></td><td></td><td>(0.000)</td><td>(0.000)</td><td>(0.000)</td></tr><tr><td style=\"text-align:left\">married</td><td></td><td></td><td></td><td>-0.035<sup>***</sup></td><td>-0.030<sup>***</sup></td></tr><tr><td style=\"text-align:left\"></td><td></td><td></td><td></td><td>(0.004)</td><td>(0.004)</td></tr><td colspan=\"6\" style=\"border-bottom: 1px solid black\"></td></tr><tr><td style=\"text-align: left\">Observations</td><td>3,010</td><td>3,010</td><td>3,010</td><td>3,003</td><td>3,003</td></tr><tr><td style=\"text-align: left\">R<sup>2</sup></td><td>0.099</td><td>0.181</td><td>0.196</td><td>0.221</td><td>0.259</td></tr><tr><td style=\"text-align: left\">Adjusted R<sup>2</sup></td><td>0.098</td><td>0.181</td><td>0.195</td><td>0.220</td><td>0.258</td></tr><tr><td style=\"text-align: left\">Residual Std. Error</td><td>0.421 (df=3008)</td><td>0.402 (df=3007)</td><td>0.398 (df=3006)</td><td>0.392 (df=2998)</td><td>0.382 (df=2997)</td></tr><tr><td style=\"text-align: left\">F Statistic</td><td>329.537<sup>***</sup> (df=1; 3008)</td><td>332.998<sup>***</sup> (df=2; 3007)</td><td>243.986<sup>***</sup> (df=3; 3006)</td><td>212.567<sup>***</sup> (df=4; 2998)</td><td>209.571<sup>***</sup> (df=5; 2997)</td></tr><tr><td colspan=\"6\" style=\"border-bottom: 1px solid black\"></td></tr><tr><td style=\"text-align: left\">Note:</td>\n",
       " <td colspan=\"5\" style=\"text-align: right\">\n",
       "  <sup>*</sup>p&lt;0.1;\n",
       "  <sup>**</sup>p&lt;0.05;\n",
       "  <sup>***</sup>p&lt;0.01\n",
       " </td></tr></table>"
      ],
      "text/plain": [
       "<IPython.core.display.HTML object>"
      ]
     },
     "execution_count": 74,
     "metadata": {},
     "output_type": "execute_result"
    }
   ],
   "source": [
    "stargazer = Stargazer([reg1, reg2, reg3, reg4, reg5])\n",
    "HTML(stargazer.render_html())"
   ]
  },
  {
   "cell_type": "code",
   "execution_count": 75,
   "metadata": {},
   "outputs": [
    {
     "data": {
      "text/html": [
       "<div>\n",
       "<style scoped>\n",
       "    .dataframe tbody tr th:only-of-type {\n",
       "        vertical-align: middle;\n",
       "    }\n",
       "\n",
       "    .dataframe tbody tr th {\n",
       "        vertical-align: top;\n",
       "    }\n",
       "\n",
       "    .dataframe thead th {\n",
       "        text-align: right;\n",
       "    }\n",
       "</style>\n",
       "<table border=\"1\" class=\"dataframe\">\n",
       "  <thead>\n",
       "    <tr style=\"text-align: right;\">\n",
       "      <th></th>\n",
       "      <th>Betasm1</th>\n",
       "      <th>Betasm2</th>\n",
       "      <th>Betasm3</th>\n",
       "      <th>Betasm4</th>\n",
       "      <th>Betasm5</th>\n",
       "    </tr>\n",
       "  </thead>\n",
       "  <tbody>\n",
       "    <tr>\n",
       "      <th>Intercept</th>\n",
       "      <td>5.5709</td>\n",
       "      <td>4.6660</td>\n",
       "      <td>4.4685</td>\n",
       "      <td>4.6672</td>\n",
       "      <td>4.8379</td>\n",
       "    </tr>\n",
       "    <tr>\n",
       "      <th>black</th>\n",
       "      <td>NaN</td>\n",
       "      <td>NaN</td>\n",
       "      <td>NaN</td>\n",
       "      <td>NaN</td>\n",
       "      <td>-0.2147</td>\n",
       "    </tr>\n",
       "    <tr>\n",
       "      <th>educ</th>\n",
       "      <td>0.0521</td>\n",
       "      <td>0.0932</td>\n",
       "      <td>0.0932</td>\n",
       "      <td>0.0898</td>\n",
       "      <td>0.0799</td>\n",
       "    </tr>\n",
       "    <tr>\n",
       "      <th>exper</th>\n",
       "      <td>NaN</td>\n",
       "      <td>0.0407</td>\n",
       "      <td>0.0898</td>\n",
       "      <td>0.0775</td>\n",
       "      <td>0.0780</td>\n",
       "    </tr>\n",
       "    <tr>\n",
       "      <th>expersq</th>\n",
       "      <td>NaN</td>\n",
       "      <td>NaN</td>\n",
       "      <td>-0.0025</td>\n",
       "      <td>-0.0021</td>\n",
       "      <td>-0.0022</td>\n",
       "    </tr>\n",
       "    <tr>\n",
       "      <th>married</th>\n",
       "      <td>NaN</td>\n",
       "      <td>NaN</td>\n",
       "      <td>NaN</td>\n",
       "      <td>-0.0351</td>\n",
       "      <td>-0.0296</td>\n",
       "    </tr>\n",
       "  </tbody>\n",
       "</table>\n",
       "</div>"
      ],
      "text/plain": [
       "           Betasm1  Betasm2  Betasm3  Betasm4  Betasm5\n",
       "Intercept   5.5709   4.6660   4.4685   4.6672   4.8379\n",
       "black          NaN      NaN      NaN      NaN  -0.2147\n",
       "educ        0.0521   0.0932   0.0932   0.0898   0.0799\n",
       "exper          NaN   0.0407   0.0898   0.0775   0.0780\n",
       "expersq        NaN      NaN  -0.0025  -0.0021  -0.0022\n",
       "married        NaN      NaN      NaN  -0.0351  -0.0296"
      ]
     },
     "execution_count": 75,
     "metadata": {},
     "output_type": "execute_result"
    }
   ],
   "source": [
    "table = pd.DataFrame({'Betasm1': round(reg1.params, 4),\n",
    "                      'Betasm2': round(reg2.params, 4),\n",
    "                      'Betasm3': round(reg3.params, 4),\n",
    "                      'Betasm4': round(reg4.params, 4),\n",
    "                      'Betasm5': round(reg5.params, 4)})\n",
    "table"
   ]
  },
  {
   "cell_type": "code",
   "execution_count": 76,
   "metadata": {},
   "outputs": [
    {
     "data": {
      "text/plain": [
       "0.04065736313964427"
      ]
     },
     "execution_count": 76,
     "metadata": {},
     "output_type": "execute_result"
    }
   ],
   "source": [
    "#A 1 year change in experience will see an average increase in wage of 4.06%\n",
    "reg2.params[2]"
   ]
  },
  {
   "cell_type": "code",
   "execution_count": 77,
   "metadata": {},
   "outputs": [
    {
     "data": {
      "text/plain": [
       "0.08481092582338778"
      ]
     },
     "execution_count": 77,
     "metadata": {},
     "output_type": "execute_result"
    }
   ],
   "source": [
    "#A 1 year change in experience will see an average increase in wage of 8.48%\n",
    "#Increase of 4.42% between Model 2 and Model 3 is explained by experience's quadratic relationship with wage\n",
    "#When accounting for the quadratic, we see that it is not an entirely linear relationship as shown in Model 2\n",
    "reg3.params[2] + 2*reg3.params[3]"
   ]
  },
  {
   "cell_type": "code",
   "execution_count": 78,
   "metadata": {},
   "outputs": [
    {
     "data": {
      "text/plain": [
       "0.07324729932653706"
      ]
     },
     "execution_count": 78,
     "metadata": {},
     "output_type": "execute_result"
    }
   ],
   "source": [
    "#A 1 year change in experience will see an average increase in wage of 7.32%\n",
    "reg4.params[2] + 2*reg4.params[3] "
   ]
  },
  {
   "cell_type": "code",
   "execution_count": 79,
   "metadata": {},
   "outputs": [
    {
     "data": {
      "text/plain": [
       "0.07359582874098544"
      ]
     },
     "execution_count": 79,
     "metadata": {},
     "output_type": "execute_result"
    }
   ],
   "source": [
    "#A 1 year change in experience will see an average increase in wage of 7.36%\n",
    "reg5.params[2] + 2*reg5.params[3]"
   ]
  },
  {
   "cell_type": "code",
   "execution_count": 80,
   "metadata": {},
   "outputs": [],
   "source": [
    "#The first algebraic property says the predicted sum of the residuals should be equal to 0.\n",
    "#Second algebraic property says the covariance between u-hat and x variables should equal 0."
   ]
  },
  {
   "cell_type": "code",
   "execution_count": 81,
   "metadata": {},
   "outputs": [
    {
     "data": {
      "text/plain": [
       "1.2647660696529783e-12"
      ]
     },
     "execution_count": 81,
     "metadata": {},
     "output_type": "execute_result"
    }
   ],
   "source": [
    "#Specification 1 - Algebraic Rules 1 & 2\n",
    "yhat1 = card[\"educ\"]*reg1.params[1]+reg1.params[0]\n",
    "res1 = np.log(card['wage'])-yhat1\n",
    "np.sum(res1)"
   ]
  },
  {
   "cell_type": "code",
   "execution_count": 82,
   "metadata": {},
   "outputs": [
    {
     "data": {
      "text/plain": [
       "1.8189894035458565e-11"
      ]
     },
     "execution_count": 82,
     "metadata": {},
     "output_type": "execute_result"
    }
   ],
   "source": [
    "np.sum(res1*card[\"educ\"])"
   ]
  },
  {
   "cell_type": "code",
   "execution_count": 83,
   "metadata": {},
   "outputs": [],
   "source": [
    "#Specification 5 - Algebraic Rules 1 & 2"
   ]
  },
  {
   "cell_type": "code",
   "execution_count": 84,
   "metadata": {},
   "outputs": [
    {
     "data": {
      "text/plain": [
       "9.466845085626119e-10"
      ]
     },
     "execution_count": 84,
     "metadata": {},
     "output_type": "execute_result"
    }
   ],
   "source": [
    "yhat5=reg5.params[0]+card['educ']*reg5.params[1]+card['exper']*reg5.params[2]+card['expersq']*reg5.params[3]+card['married']*reg5.params[4]+card['black']*reg5.params[5]\n",
    "res5=np.log(card['wage'])-yhat5\n",
    "np.sum(res5)"
   ]
  },
  {
   "cell_type": "code",
   "execution_count": 85,
   "metadata": {},
   "outputs": [
    {
     "name": "stdout",
     "output_type": "stream",
     "text": [
      "1.1094243745901622e-08\n",
      "1.1823885870398954e-08\n",
      "1.631542545510456e-07\n",
      "1.821206296881428e-09\n",
      "2.6971136435349763e-10\n"
     ]
    }
   ],
   "source": [
    "print(np.sum(res5*card['educ']))\n",
    "print(np.sum(res5*card['exper']))\n",
    "print(np.sum(res5*card['expersq']))\n",
    "print(np.sum(res5*card['married']))\n",
    "print(np.sum(res5*card['black']))"
   ]
  },
  {
   "cell_type": "code",
   "execution_count": null,
   "metadata": {},
   "outputs": [],
   "source": []
  }
 ],
 "metadata": {
  "kernelspec": {
   "display_name": "Python 3 (ipykernel)",
   "language": "python",
   "name": "python3"
  },
  "language_info": {
   "codemirror_mode": {
    "name": "ipython",
    "version": 3
   },
   "file_extension": ".py",
   "mimetype": "text/x-python",
   "name": "python",
   "nbconvert_exporter": "python",
   "pygments_lexer": "ipython3",
   "version": "3.9.7"
  },
  "vscode": {
   "interpreter": {
    "hash": "8554a3936f0b466d8c1a61d3b0247baa55577fbe9ea0b6dbff7f2ea427caff97"
   }
  }
 },
 "nbformat": 4,
 "nbformat_minor": 2
}
